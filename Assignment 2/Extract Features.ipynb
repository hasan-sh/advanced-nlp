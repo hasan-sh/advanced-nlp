{
 "cells": [
  {
   "cell_type": "code",
   "execution_count": 1,
   "id": "fb48f5b1-dc74-4e1e-befa-429b46560e95",
   "metadata": {},
   "outputs": [],
   "source": [
    "# !python -m spacy download en_core_web_md"
   ]
  },
  {
   "cell_type": "code",
   "execution_count": 2,
   "id": "2ea78999-1d7a-42e7-b184-2ad5d768643a",
   "metadata": {},
   "outputs": [
    {
     "name": "stderr",
     "output_type": "stream",
     "text": [
      "/home/hasan-sh/.virtualenvs/tm/lib/python3.10/site-packages/tqdm/auto.py:22: TqdmWarning: IProgress not found. Please update jupyter and ipywidgets. See https://ipywidgets.readthedocs.io/en/stable/user_install.html\n",
      "  from .autonotebook import tqdm as notebook_tqdm\n",
      "2023-02-24 14:43:32 INFO: Checking for updates to resources.json in case models have been updated.  Note: this behavior can be turned off with download_method=None or download_method=DownloadMethod.REUSE_RESOURCES\n",
      "Downloading https://raw.githubusercontent.com/stanfordnlp/stanza-resources/main/resources_1.4.1.json: 193kB [00:00, 15.6MB/s]\n",
      "2023-02-24 14:43:33 INFO: Loading these models for language: en (English):\n",
      "============================\n",
      "| Processor    | Package   |\n",
      "----------------------------\n",
      "| tokenize     | combined  |\n",
      "| pos          | combined  |\n",
      "| lemma        | combined  |\n",
      "| depparse     | combined  |\n",
      "| constituency | wsj       |\n",
      "| ner          | ontonotes |\n",
      "============================\n",
      "\n",
      "2023-02-24 14:43:33 INFO: Use device: cpu\n",
      "2023-02-24 14:43:33 INFO: Loading: tokenize\n",
      "2023-02-24 14:43:33 INFO: Loading: pos\n",
      "2023-02-24 14:43:34 INFO: Loading: lemma\n",
      "2023-02-24 14:43:34 INFO: Loading: depparse\n",
      "2023-02-24 14:43:34 INFO: Loading: constituency\n",
      "2023-02-24 14:43:34 INFO: Loading: ner\n",
      "2023-02-24 14:43:35 INFO: Done loading processors!\n"
     ]
    }
   ],
   "source": [
    "import pandas as pd\n",
    "from features import extract_dependency_features, extract_features\n",
    "from utils import recombine_sentences"
   ]
  },
  {
   "cell_type": "code",
   "execution_count": null,
   "id": "5b0a2b2f-ad71-46a0-a52a-1fafca618251",
   "metadata": {},
   "outputs": [],
   "source": [
    "\n",
    "train_file = '../data/en_ewt-up-train.conllu'\n",
    "test_file = '../data/en_ewt-up-test.conllu'\n",
    "\n",
    "def create_sentences(file_name):\n",
    "    # Open and read the input file\n",
    "    with open(file_name, 'r', encoding='utf-8') as f:\n",
    "        content = f.read()\n",
    "\n",
    "    # Split the file into individual documents, each separated by a blank line\n",
    "    sentences = {}\n",
    "    for doc_i, doc in enumerate(content.split('\\n\\n')):\n",
    "        doc = doc.split('\\n')\n",
    "        sentence = []\n",
    "        for line in doc:\n",
    "            # Skip lines starting with '#' (comment lines)\n",
    "            if line and line[0] != '#':\n",
    "                line = line.split('\\t')\n",
    "                sentence.append(line[1])\n",
    "        sentences[doc_i] = ' '.join(sentence)\n",
    "    return sentences"
   ]
  },
  {
   "cell_type": "code",
   "execution_count": 89,
   "id": "bcad3a94-c8f3-4158-99c5-4cf4a64fa3c3",
   "metadata": {},
   "outputs": [],
   "source": [
    "\n",
    "def extract_features(sentence, sent_id):\n",
    "    \"\"\"\n",
    "    Extracts various linguistic features from a given sentence using the Stanza library.\n",
    "\n",
    "    Args:\n",
    "        sentence (str): The input sentence to extract features from.\n",
    "\n",
    "    Returns:\n",
    "        pandas.DataFrame: A DataFrame of features extracted from the sentence, with the following columns:\n",
    "            - token (str): The original form of each token in the sentence.\n",
    "            - pos (str): The part-of-speech tag for each token.\n",
    "            - lemma (str): The lemma of each token.\n",
    "            - ner (str): The named entity label for each token (if any).\n",
    "            - stemming (str): The stemmed form of each token (using the Snowball stemmer).\n",
    "            - pos_bigram (str): A string representing the part-of-speech bigram for each token and its successor.\n",
    "            - token_bigram (str): A string representing the token bigram for each token and its successor.\n",
    "    \"\"\"\n",
    "    # Load the English model\n",
    "    # nlp = stanza.Pipeline('en', processors='tokenize,pos,lemma,ner')\n",
    "    \n",
    "    # Process the sentence\n",
    "    doc = nlp(sentence)\n",
    "    \n",
    "    # Initialize lists to store the feature values\n",
    "    tokens = []\n",
    "    ner_tags = []\n",
    "    pos_bigrams = []\n",
    "    token_bigrams = []\n",
    "    \n",
    "    # Extract features for each token in the sentence\n",
    "    for i, sent in enumerate(doc.sentences):\n",
    "        ne = get_named_entities(sentences[sent_id])\n",
    "            \n",
    "        for j, word in enumerate(sent.words):\n",
    "            # Add token to list\n",
    "            tokens.append(word.text)\n",
    "            \n",
    "            # Add named entity label to list if it exists, otherwise add an empty string\n",
    "            named_entity = list(filter(lambda x: x[0] == word.text, ne))\n",
    "            if named_entity:\n",
    "                ner_tags.append(named_entity[0][1])\n",
    "            else:\n",
    "                ner_tags.append('_')\n",
    "            \n",
    "            \n",
    "            # Add part-of-speech bigram to list\n",
    "            if j < len(sent.words) - 1:\n",
    "                pos_bigrams.append(f\"{word.upos}_{sent.words[j+1].upos}\")\n",
    "            else:\n",
    "                pos_bigrams.append('')\n",
    "                \n",
    "            # Add token bigram to list\n",
    "            if j < len(sent.words) - 1:\n",
    "                token_bigrams.append(f\"{word.text}_{sent.words[j+1].text}\")\n",
    "            else:\n",
    "                token_bigrams.append('')\n",
    "    \n",
    "    return {\n",
    "        'token': tokens,\n",
    "        'ner': ner_tags,\n",
    "        'pos_bigram': pos_bigrams,\n",
    "        'token_bigram': token_bigrams\n",
    "    }\n"
   ]
  },
  {
   "cell_type": "code",
   "execution_count": null,
   "id": "e0c8d313-21ce-40fe-af5f-114289dd9576",
   "metadata": {},
   "outputs": [],
   "source": [
    "result = [extract_features(sent, i) for i, sent in sentences.items()]"
   ]
  },
  {
   "cell_type": "code",
   "execution_count": null,
   "id": "8fb0197f-ee98-4c4d-bc93-85229a2edd76",
   "metadata": {},
   "outputs": [],
   "source": [
    "df_train = pd.DataFrame(result).explode(list(result[0].keys()))"
   ]
  },
  {
   "cell_type": "code",
   "execution_count": null,
   "id": "81fe77f3-ff3e-4b3a-8699-7ae0f1fef718",
   "metadata": {},
   "outputs": [],
   "source": [
    "train_file = '../data/train.tsv'\n",
    "test_file = '../data/test.tsv'\n",
    "\n",
    "df_train_1 = pd.read_csv(train_file, delimiter='\\t')"
   ]
  },
  {
   "cell_type": "code",
   "execution_count": null,
   "id": "1a3a1415-cc9a-4a4c-860a-ae11105f6f08",
   "metadata": {},
   "outputs": [],
   "source": [
    "sentences = create_sentences('../data/en_ewt-up-test.conllu')"
   ]
  },
  {
   "cell_type": "code",
   "execution_count": null,
   "id": "fd7b2683-f894-4cf4-ab56-343520809b71",
   "metadata": {},
   "outputs": [],
   "source": [
    "result = [extract_features(sent, i) for i, sent in sentences.items()]"
   ]
  },
  {
   "cell_type": "code",
   "execution_count": null,
   "id": "20d6ced4-5c7b-4fb1-96cd-f54e25141cb6",
   "metadata": {},
   "outputs": [],
   "source": [
    "df_test = pd.DataFrame(result).explode(list(result[0].keys()))"
   ]
  },
  {
   "cell_type": "code",
   "execution_count": null,
   "id": "f7366cca-7478-45cb-aa0d-8e4606998ce3",
   "metadata": {},
   "outputs": [],
   "source": [
    "df_train.to_csv('../data/"
   ]
  },
  {
   "cell_type": "code",
   "execution_count": null,
   "id": "0c8cdfd5-05bc-4ce5-8e35-8e484e0c3804",
   "metadata": {},
   "outputs": [],
   "source": [
    "for t in nlp('How does it work?'):\n",
    "    print(t.ner)"
   ]
  },
  {
   "cell_type": "code",
   "execution_count": null,
   "id": "6ef38b92-14af-409e-aabc-382c16d77800",
   "metadata": {},
   "outputs": [],
   "source": [
    "\n",
    "# all_fe = pd.concat([basic_fe, dependency_fe], axis=1)\n",
    "df = pd.DataFrame([])\n",
    "\n",
    "for i, s in sentences.items():\n",
    "    basic_fe = extract_features(s)\n",
    "    dependency_fe = extract_dependency_features(s)\n",
    "    \n",
    "    df = pd.concat([df, pd.concat([basic_fe, dependency_fe], axis=1)])\n",
    "    print(basic_fe)\n",
    "    break"
   ]
  },
  {
   "cell_type": "code",
   "execution_count": null,
   "id": "4d36cb06-67e1-4d9c-9ba0-23bdf969d3f0",
   "metadata": {},
   "outputs": [],
   "source": [
    "0881122112 # gza health care"
   ]
  },
  {
   "cell_type": "code",
   "execution_count": null,
   "id": "4ee54492-4f7d-4fd1-bf09-0d35e27931fa",
   "metadata": {},
   "outputs": [],
   "source": [
    "df"
   ]
  }
 ],
 "metadata": {
  "kernelspec": {
   "display_name": "Python 3 (ipykernel)",
   "language": "python",
   "name": "python3"
  },
  "language_info": {
   "codemirror_mode": {
    "name": "ipython",
    "version": 3
   },
   "file_extension": ".py",
   "mimetype": "text/x-python",
   "name": "python",
   "nbconvert_exporter": "python",
   "pygments_lexer": "ipython3",
   "version": "3.10.6"
  }
 },
 "nbformat": 4,
 "nbformat_minor": 5
}
