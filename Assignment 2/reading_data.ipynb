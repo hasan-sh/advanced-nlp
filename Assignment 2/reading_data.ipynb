{
 "cells": [
  {
   "cell_type": "code",
   "execution_count": 1,
   "id": "7cbab12f-d279-4b4e-af94-637cce6ff0cb",
   "metadata": {},
   "outputs": [],
   "source": [
    "import pandas as pd"
   ]
  },
  {
   "cell_type": "code",
   "execution_count": 2,
   "id": "4139308a-d774-4d55-adda-75aca9cd5713",
   "metadata": {},
   "outputs": [],
   "source": [
    "train_file = '../data/en_ewt-up-train.conllu'\n",
    "test_file = '../data/en_ewt-up-test.conllu'"
   ]
  },
  {
   "cell_type": "code",
   "execution_count": 9,
   "id": "11c19708-f841-4b42-8ba3-2bd7a733ba61",
   "metadata": {},
   "outputs": [],
   "source": [
    "def read_data(file_path, save_to_csv = False):\n",
    "    with open(file_path, 'r', encoding='utf-8') as f:\n",
    "        train_data = f.read()\n",
    "    data = []\n",
    "    for doc_i, doc in enumerate(train_data.split('\\n\\n')):\n",
    "        doc = doc.split('\\n')\n",
    "        sentences = ''\n",
    "        for line in doc:\n",
    "            if line and line[0] != '#':\n",
    "                line = line.split('\\t')\n",
    "                line.insert(0, str(doc_i))\n",
    "                sentences += '\\t'.join(line) + '\\n'\n",
    "        data.append(sentences)\n",
    "    train_df = pd.DataFrame([x.split('\\t') for sent in data for x in sent.split('\\n') if x])\n",
    "    train_df = train_df.rename(columns={0:'sent_id', 1: 'token_id', 2: 'token', 3: 'lemma', 4: 'POS', 5: 'uni_POS',\n",
    "                                   6: 'morph_type', 7: 'distance_head', 8: 'dep_label', 9: 'dep_rel', 10: 'space', 11: 'probbank'})\n",
    "    df = train_df.melt(id_vars=[i for i in train_df.columns[:12]], \n",
    "        var_name=\"notneeded\", \n",
    "        value_name=\"target\")\n",
    "    df.drop(['notneeded'], axis=1, inplace=True)\n",
    "    df = df[df['target'].notna()]\n",
    "    if save_to_csv:\n",
    "        df.to_csv('../data/test.tsv', sep='\\t', index=False)\n",
    "    return df "
   ]
  },
  {
   "cell_type": "code",
   "execution_count": 10,
   "id": "d5d4a042-df70-46a3-9c3e-0fe29f747d4b",
   "metadata": {},
   "outputs": [],
   "source": [
    "x = read_data(test_file, save_to_csv=True)"
   ]
  },
  {
   "cell_type": "code",
   "execution_count": 8,
   "id": "2caa01d3",
   "metadata": {},
   "outputs": [],
   "source": [
    "# pd.set_option('display.max_columns', 50)\n",
    "# pd.set_option('display.min_rows', 200)\n",
    "# pd.set_option('display.max_rows', 200)"
   ]
  }
 ],
 "metadata": {
  "kernelspec": {
   "display_name": "Python 3 (ipykernel)",
   "language": "python",
   "name": "python3"
  },
  "language_info": {
   "codemirror_mode": {
    "name": "ipython",
    "version": 3
   },
   "file_extension": ".py",
   "mimetype": "text/x-python",
   "name": "python",
   "nbconvert_exporter": "python",
   "pygments_lexer": "ipython3",
   "version": "3.10.7"
  }
 },
 "nbformat": 4,
 "nbformat_minor": 5
}
