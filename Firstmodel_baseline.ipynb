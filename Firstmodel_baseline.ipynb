{
  "cells": [
    {
      "cell_type": "markdown",
      "metadata": {
        "id": "view-in-github",
        "colab_type": "text"
      },
      "source": [
        "<a href=\"https://colab.research.google.com/github/hasan-sh/advanced-nlp/blob/main/Firstmodel_baseline.ipynb\" target=\"_parent\"><img src=\"https://colab.research.google.com/assets/colab-badge.svg\" alt=\"Open In Colab\"/></a>"
      ]
    },
    {
      "cell_type": "code",
      "execution_count": null,
      "id": "7cbab12f-d279-4b4e-af94-637cce6ff0cb",
      "metadata": {
        "id": "7cbab12f-d279-4b4e-af94-637cce6ff0cb"
      },
      "outputs": [],
      "source": []
    },
    {
      "cell_type": "code",
      "source": [
        "import pandas as pd\n",
        "from sklearn.feature_extraction.text import CountVectorizer\n",
        "from sklearn.preprocessing import OneHotEncoder\n",
        "from sklearn.preprocessing import LabelEncoder\n",
        "from sklearn.linear_model import LogisticRegression\n",
        "from sklearn.compose import ColumnTransformer\n",
        "\n",
        "from sklearn.metrics import *\n",
        "import matplotlib.pyplot as plt\n",
        "import seaborn as sns\n"
      ],
      "metadata": {
        "id": "EuJPshDtoHqb"
      },
      "id": "EuJPshDtoHqb",
      "execution_count": 45,
      "outputs": []
    },
    {
      "cell_type": "code",
      "source": [
        "!git clone https://github.com/hasan-sh/advanced-nlp.git"
      ],
      "metadata": {
        "colab": {
          "base_uri": "https://localhost:8080/"
        },
        "id": "WScyFUAFDrGl",
        "outputId": "882f6447-96bd-4f84-b1a2-6a9d21858e32"
      },
      "id": "WScyFUAFDrGl",
      "execution_count": 34,
      "outputs": [
        {
          "output_type": "stream",
          "name": "stdout",
          "text": [
            "fatal: destination path 'advanced-nlp' already exists and is not an empty directory.\n"
          ]
        }
      ]
    },
    {
      "cell_type": "code",
      "source": [
        "!pwd"
      ],
      "metadata": {
        "colab": {
          "base_uri": "https://localhost:8080/"
        },
        "id": "4I0iZzGdD2i6",
        "outputId": "26852444-08f4-4c4c-87f2-72c11727e77b"
      },
      "id": "4I0iZzGdD2i6",
      "execution_count": 35,
      "outputs": [
        {
          "output_type": "stream",
          "name": "stdout",
          "text": [
            "/content\n"
          ]
        }
      ]
    },
    {
      "cell_type": "code",
      "execution_count": 36,
      "id": "4139308a-d774-4d55-adda-75aca9cd5713",
      "metadata": {
        "id": "4139308a-d774-4d55-adda-75aca9cd5713"
      },
      "outputs": [],
      "source": [
        "train_file = '/content/advanced-nlp/data/en_ewt-up-train.conllu'\n",
        "test_file = '/content/advanced-nlp/data/en_ewt-up-test.conllu'"
      ]
    },
    {
      "cell_type": "code",
      "execution_count": 37,
      "id": "11c19708-f841-4b42-8ba3-2bd7a733ba61",
      "metadata": {
        "id": "11c19708-f841-4b42-8ba3-2bd7a733ba61"
      },
      "outputs": [],
      "source": [
        "def read_data(file_path, save_to_csv=False):\n",
        "    \"\"\"\n",
        "    This function reads a CoNLL-U format file and converts it into a pandas DataFrame.\n",
        "    Each row in the DataFrame corresponds to a token in the file, and columns\n",
        "    correspond to different features of the token, such as the token itself, its lemma, \n",
        "    part-of-speech tag, and syntactic dependency information.\n",
        "    \n",
        "    Parameters:\n",
        "    file_path (str): The path to the input CoNLL-U format file.\n",
        "    save_to_csv (bool): A boolean flag indicating whether to save the resulting DataFrame \n",
        "                        to a CSV file. Default is False.\n",
        "                        \n",
        "    Returns:\n",
        "    df (pandas.DataFrame): A pandas DataFrame containing the token-level information from\n",
        "                           the input file.\n",
        "    \"\"\"\n",
        "    \n",
        "    # Open and read the input file\n",
        "    with open(file_path, 'r', encoding='utf-8') as f:\n",
        "        train_data = f.read()\n",
        "    \n",
        "    # Split the file into individual documents, each separated by a blank line\n",
        "    data = []\n",
        "    for doc_i, doc in enumerate(train_data.split('\\n\\n')):\n",
        "        doc = doc.split('\\n')\n",
        "        sentences = ''\n",
        "        for line in doc:\n",
        "            # Skip lines starting with '#' (comment lines)\n",
        "            if line and line[0] != '#':\n",
        "                line = line.split('\\t')\n",
        "                line.insert(0, str(doc_i))\n",
        "                sentences += '\\t'.join(line) + '\\n'\n",
        "        data.append(sentences)\n",
        "    \n",
        "    # Create a pandas DataFrame from the token-level data\n",
        "    train_df = pd.DataFrame([x.split('\\t') for sent in data for x in sent.split('\\n') if x])\n",
        "    \n",
        "    # Rename the columns of the DataFrame\n",
        "    train_df = train_df.rename(columns={\n",
        "        0:'sent_id', \n",
        "        1:'token_id', \n",
        "        2:'token', \n",
        "        3:'lemma', \n",
        "        4:'POS', \n",
        "        5:'uni_POS',\n",
        "        6:'morph_type', \n",
        "        7:'distance_head', \n",
        "        8:'dep_label', \n",
        "        9:'dep_rel', \n",
        "        10:'space', \n",
        "        11:'probbank'\n",
        "    })\n",
        "    \n",
        "    # Convert the DataFrame from wide to long format\n",
        "    df = train_df.melt(\n",
        "        id_vars=[i for i in train_df.columns[:12]], \n",
        "        var_name=\"notneeded\", \n",
        "        value_name=\"target\"\n",
        "    )\n",
        "    \n",
        "    # Drop the 'notneeded' column and any rows that contain missing values\n",
        "    #df[\"sent_id\"]=df['sent_id'].str.cat((df['notneeded'].astype(int)-12).astype(str) , sep=\"_\" )\n",
        "    df[\"repetion_id\"]=df[\"notneeded\"]-12\n",
        "    df.drop(['notneeded'], axis=1, inplace=True)\n",
        "    df = df[df['target'].notna()]\n",
        "    \n",
        "    # Optionally save the resulting DataFrame to a CSV file\n",
        "    if save_to_csv:\n",
        "        df.to_csv('/content/advanced-nlp/data/test.tsv', sep='\\t', index=False)\n",
        "    \n",
        "    # Return the resulting DataFrame\n",
        "\n",
        "    return df"
      ]
    },
    {
      "cell_type": "code",
      "execution_count": 38,
      "id": "d5d4a042-df70-46a3-9c3e-0fe29f747d4b",
      "metadata": {
        "id": "d5d4a042-df70-46a3-9c3e-0fe29f747d4b"
      },
      "outputs": [],
      "source": [
        "train = read_data(train_file,save_to_csv=True)\n",
        "test = read_data(test_file, save_to_csv=True)"
      ]
    },
    {
      "cell_type": "code",
      "source": [
        "def make_binary_label(df):\n",
        "  df = df.assign(label=[0 if target==\"_\" or target==\"V\" else 1 for target in df['target']])\n",
        "  df= df.drop('target', axis=1)\n",
        "  return df\n",
        "\n",
        "#clean column\n",
        "def columns_cleaning(df): #political choices inside\n",
        "  \"\"\"This function perform a preprocessing steps that consists of:\n",
        "  - in removing rows with missinvg value for distance head feature\n",
        "  - cast numerical features to int \n",
        "  - drop token_id (I belive is useless)\n",
        "  \n",
        "\n",
        "  \"\"\"\n",
        "  df=df[df[\"distance_head\"]!=\"_\"]#like this\n",
        "  df[\"distance_head\"]=df[\"distance_head\"].astype(int) #WARNING IS FROM HERE\n",
        "  \n",
        "  df[\"sent_id\"]=df[\"sent_id\"].astype(int) #WARNING IS FROM HERE\n",
        "\n",
        "  df= df.drop('token_id', axis=1) #or this\n",
        "  df=df[['sent_id', 'repetion_id','token', 'lemma', 'POS', 'uni_POS', 'morph_type',\n",
        "        'distance_head', 'dep_label', 'dep_rel', 'space', 'probbank' ,'label']]\n",
        "\n",
        "  return df\n",
        "\n",
        "\n",
        "def make_NER(df):\n",
        "  return df\n",
        "\n",
        "\n",
        "\"\"\"cols_to_encode=[ 'token', 'lemma', 'POS', 'uni_POS',\n",
        "       'morph_type', 'dep_label', 'dep_rel', 'space',\n",
        "       'probbank']\"\"\"\n",
        "\n",
        "cols_to_encode=[ 'POS', 'uni_POS',\n",
        "       'morph_type', 'dep_label', 'dep_rel', 'space',\n",
        "       'probbank']\n",
        "\n",
        "def create_encoding(df,cols_to_encode):\n",
        "  \"\"\"This function creates a label encoding (just assign number to every value) for all columns in the list cols_to_encode \"\"\"\n",
        "  # create a LabelEncoder objec\n",
        "  le = LabelEncoder()\n",
        "  # iterate over the columns to encode\n",
        "  for col in cols_to_encode:\n",
        "      df[col] = le.fit_transform(df[col])\n",
        "      \n",
        "  return df\n",
        "\n",
        "\n"
      ],
      "metadata": {
        "id": "T_1k9SPRri2Y"
      },
      "id": "T_1k9SPRri2Y",
      "execution_count": 39,
      "outputs": []
    },
    {
      "cell_type": "markdown",
      "source": [
        "##BASELINE WITH ONLY TOKEN"
      ],
      "metadata": {
        "id": "fdE6rrG-mgRD"
      },
      "id": "fdE6rrG-mgRD"
    },
    {
      "cell_type": "code",
      "source": [
        "def prepare_token_data(tokens_train,tokens_test):\n",
        "  vectorizer = CountVectorizer()\n",
        "  X_train = vectorizer.fit_transform(tokens_train['token'])\n",
        "  X_test = vectorizer.transform(tokens_test['token'])\n",
        "  y_train=tokens_train['label']\n",
        "  y_test=tokens_test['label']\n",
        "\n",
        "  return X_train,X_test,y_train,y_test\n"
      ],
      "metadata": {
        "id": "wiWehoZrEiV5"
      },
      "execution_count": 40,
      "outputs": [],
      "id": "wiWehoZrEiV5"
    },
    {
      "cell_type": "code",
      "source": [
        "def logistic_reg(X_train,X_test,y_train,y_test):\n",
        "  #instantiate the model\n",
        "  log_regression = LogisticRegression(penalty='l2')\n",
        "\n",
        "  #fit the model using the training data\n",
        "  log_regression.fit(X_train,y_train)\n",
        "\n",
        "  #use model to make predictions on test data\n",
        "  y_pred = log_regression.predict(X_test)\n",
        "  return y_pred"
      ],
      "metadata": {
        "id": "-zNTlLupFcnm"
      },
      "id": "-zNTlLupFcnm",
      "execution_count": 41,
      "outputs": []
    },
    {
      "cell_type": "code",
      "source": [
        "def confusion_mtrx(y_test,y_pred):\n",
        "\n",
        "  cm = confusion_matrix(y_test, y_pred)\n",
        "  ax= plt.subplot()\n",
        "  sns.heatmap(cm, annot=True, fmt='g', ax=ax,cmap='Blues');  #annot=True to annotate cells, ftm='g' to disable scientific notation\n",
        "  sns.color_palette(\"tab10\")\n",
        "\n",
        "  # labels, title and ticks\n",
        "  ax.set_xlabel('Predicted labels');ax.set_ylabel('True labels'); \n",
        "  ax.set_title('Confusion Matrix'); \n",
        "  ax.xaxis.set_ticklabels(['non_arg', 'arg']); ax.yaxis.set_ticklabels(['non_arg', 'arg']);\n",
        "  return 0"
      ],
      "metadata": {
        "id": "IlP1AbJ9cZQZ"
      },
      "id": "IlP1AbJ9cZQZ",
      "execution_count": 46,
      "outputs": []
    },
    {
      "cell_type": "code",
      "source": [
        "tokens_train=train[[\"token\",\"target\"]]\n",
        "tokens_test=test[[\"token\",\"target\"]]\n",
        "tokens_train=make_binary_label(tokens_train)\n",
        "tokens_test=make_binary_label(tokens_test)\n",
        "X_train,X_test,y_train,y_test=prepare_token_data(tokens_train,tokens_test)\n",
        "y_pred=logistic_reg(X_train,X_test,y_train,y_test)\n",
        "f1 = f1_score(y_test,y_pred)\n",
        "print(f\"{f1=}\")\n"
      ],
      "metadata": {
        "id": "4PZnvYkrn43V",
        "colab": {
          "base_uri": "https://localhost:8080/"
        },
        "outputId": "f086d9a0-f18d-4bc7-ad23-48aef36ea154"
      },
      "id": "4PZnvYkrn43V",
      "execution_count": 43,
      "outputs": [
        {
          "output_type": "stream",
          "name": "stdout",
          "text": [
            "f1=0.02061855670103093\n"
          ]
        },
        {
          "output_type": "stream",
          "name": "stderr",
          "text": [
            "/usr/local/lib/python3.8/dist-packages/sklearn/linear_model/_logistic.py:814: ConvergenceWarning: lbfgs failed to converge (status=1):\n",
            "STOP: TOTAL NO. of ITERATIONS REACHED LIMIT.\n",
            "\n",
            "Increase the number of iterations (max_iter) or scale the data as shown in:\n",
            "    https://scikit-learn.org/stable/modules/preprocessing.html\n",
            "Please also refer to the documentation for alternative solver options:\n",
            "    https://scikit-learn.org/stable/modules/linear_model.html#logistic-regression\n",
            "  n_iter_i = _check_optimize_result(\n"
          ]
        }
      ]
    },
    {
      "cell_type": "code",
      "source": [],
      "metadata": {
        "id": "lq3P2p9Ut-Zz"
      },
      "id": "lq3P2p9Ut-Zz",
      "execution_count": null,
      "outputs": []
    },
    {
      "cell_type": "code",
      "source": [
        "confusion_mtrx(y_test,y_pred)"
      ],
      "metadata": {
        "colab": {
          "base_uri": "https://localhost:8080/",
          "height": 312
        },
        "id": "q4aAhhootGs0",
        "outputId": "f280b5bb-4185-458e-d267-9fa07dfef519"
      },
      "id": "q4aAhhootGs0",
      "execution_count": 47,
      "outputs": [
        {
          "output_type": "execute_result",
          "data": {
            "text/plain": [
              "0"
            ]
          },
          "metadata": {},
          "execution_count": 47
        },
        {
          "output_type": "display_data",
          "data": {
            "text/plain": [
              "<Figure size 432x288 with 2 Axes>"
            ],
            "image/png": "[encoded data removed]"
          },
          "metadata": {
            "needs_background": "light"
          }
        }
      ]
    },
    {
      "cell_type": "code",
      "source": [],
      "metadata": {
        "id": "UEWnGCyJyFsc"
      },
      "id": "UEWnGCyJyFsc",
      "execution_count": null,
      "outputs": []
    },
    {
      "cell_type": "markdown",
      "source": [
        "LETS DOWN SAMPLE "
      ],
      "metadata": {
        "id": "yD24Bc6DyGL0"
      },
      "id": "yD24Bc6DyGL0"
    },
    {
      "cell_type": "markdown",
      "source": [
        "first the first N rows are considered"
      ],
      "metadata": {
        "id": "h7P44KhwyQ2s"
      },
      "id": "h7P44KhwyQ2s"
    },
    {
      "cell_type": "code",
      "source": [
        "sample_size = [x for x in range(10000,100000,10000)] + [x for x in range(100000,train.shape[0],100000)] + [train.shape[0]]\n",
        "sample_size"
      ],
      "metadata": {
        "colab": {
          "base_uri": "https://localhost:8080/"
        },
        "id": "lSHfOcrGykPB",
        "outputId": "44b468b0-e0ec-4a08-a5c7-3f63840ee2b5"
      },
      "id": "lSHfOcrGykPB",
      "execution_count": 66,
      "outputs": [
        {
          "output_type": "execute_result",
          "data": {
            "text/plain": [
              "[10000,\n",
              " 20000,\n",
              " 30000,\n",
              " 40000,\n",
              " 50000,\n",
              " 60000,\n",
              " 70000,\n",
              " 80000,\n",
              " 90000,\n",
              " 100000,\n",
              " 200000,\n",
              " 300000,\n",
              " 400000,\n",
              " 500000,\n",
              " 600000,\n",
              " 700000,\n",
              " 800000,\n",
              " 900000,\n",
              " 1000000,\n",
              " 1035928]"
            ]
          },
          "metadata": {},
          "execution_count": 66
        }
      ]
    },
    {
      "cell_type": "code",
      "source": [
        "f1_scores=[]\n",
        "true_predicts=[]\n",
        "for x in sample_size:\n",
        "  print(f\"{x=}\")\n",
        "  tokens_train=train[[\"token\",\"target\"]][:x]\n",
        "  tokens_test=test[[\"token\",\"target\"]]\n",
        "  tokens_train=make_binary_label(tokens_train)\n",
        "  tokens_test=make_binary_label(tokens_test)\n",
        "  X_train,X_test,y_train,y_test=prepare_token_data(tokens_train,tokens_test)\n",
        "  y_pred=logistic_reg(X_train,X_test,y_train,y_test)\n",
        "  predicted_true=y_pred.sum()\n",
        "  true_predicts.append(predicted_true)\n",
        "  print(f\"{predicted_true=}\")\n",
        "  f1 = f1_score(y_test,y_pred)\n",
        "  f1_scores.append(f1)\n",
        "  print(f\"{f1=}\")\n",
        "  print(\"=====\\n\")"
      ],
      "metadata": {
        "colab": {
          "base_uri": "https://localhost:8080/"
        },
        "id": "KS7v7HMIyM1j",
        "outputId": "0d085429-0f52-4f66-e135-72d4b7f49c73"
      },
      "id": "KS7v7HMIyM1j",
      "execution_count": 62,
      "outputs": [
        {
          "output_type": "stream",
          "name": "stdout",
          "text": [
            "x=10000\n",
            "predicted_true=65\n",
            "f1=0.004654369936217893\n",
            "=====\n",
            "\n",
            "x=20000\n",
            "predicted_true=84\n",
            "f1=0.005507271319163584\n",
            "=====\n",
            "\n",
            "x=30000\n",
            "predicted_true=130\n",
            "f1=0.007371217965200995\n",
            "=====\n",
            "\n",
            "x=40000\n",
            "predicted_true=286\n",
            "f1=0.019622769178719444\n",
            "=====\n",
            "\n",
            "x=50000\n"
          ]
        },
        {
          "output_type": "stream",
          "name": "stderr",
          "text": [
            "/usr/local/lib/python3.8/dist-packages/sklearn/linear_model/_logistic.py:814: ConvergenceWarning: lbfgs failed to converge (status=1):\n",
            "STOP: TOTAL NO. of ITERATIONS REACHED LIMIT.\n",
            "\n",
            "Increase the number of iterations (max_iter) or scale the data as shown in:\n",
            "    https://scikit-learn.org/stable/modules/preprocessing.html\n",
            "Please also refer to the documentation for alternative solver options:\n",
            "    https://scikit-learn.org/stable/modules/linear_model.html#logistic-regression\n",
            "  n_iter_i = _check_optimize_result(\n"
          ]
        },
        {
          "output_type": "stream",
          "name": "stdout",
          "text": [
            "predicted_true=659\n",
            "f1=0.03820924893407675\n",
            "=====\n",
            "\n",
            "x=60000\n"
          ]
        },
        {
          "output_type": "stream",
          "name": "stderr",
          "text": [
            "/usr/local/lib/python3.8/dist-packages/sklearn/linear_model/_logistic.py:814: ConvergenceWarning: lbfgs failed to converge (status=1):\n",
            "STOP: TOTAL NO. of ITERATIONS REACHED LIMIT.\n",
            "\n",
            "Increase the number of iterations (max_iter) or scale the data as shown in:\n",
            "    https://scikit-learn.org/stable/modules/preprocessing.html\n",
            "Please also refer to the documentation for alternative solver options:\n",
            "    https://scikit-learn.org/stable/modules/linear_model.html#logistic-regression\n",
            "  n_iter_i = _check_optimize_result(\n"
          ]
        },
        {
          "output_type": "stream",
          "name": "stdout",
          "text": [
            "predicted_true=791\n",
            "f1=0.04558728098637249\n",
            "=====\n",
            "\n",
            "x=70000\n"
          ]
        },
        {
          "output_type": "stream",
          "name": "stderr",
          "text": [
            "/usr/local/lib/python3.8/dist-packages/sklearn/linear_model/_logistic.py:814: ConvergenceWarning: lbfgs failed to converge (status=1):\n",
            "STOP: TOTAL NO. of ITERATIONS REACHED LIMIT.\n",
            "\n",
            "Increase the number of iterations (max_iter) or scale the data as shown in:\n",
            "    https://scikit-learn.org/stable/modules/preprocessing.html\n",
            "Please also refer to the documentation for alternative solver options:\n",
            "    https://scikit-learn.org/stable/modules/linear_model.html#logistic-regression\n",
            "  n_iter_i = _check_optimize_result(\n"
          ]
        },
        {
          "output_type": "stream",
          "name": "stdout",
          "text": [
            "predicted_true=725\n",
            "f1=0.04730060349045832\n",
            "=====\n",
            "\n",
            "x=80000\n"
          ]
        },
        {
          "output_type": "stream",
          "name": "stderr",
          "text": [
            "/usr/local/lib/python3.8/dist-packages/sklearn/linear_model/_logistic.py:814: ConvergenceWarning: lbfgs failed to converge (status=1):\n",
            "STOP: TOTAL NO. of ITERATIONS REACHED LIMIT.\n",
            "\n",
            "Increase the number of iterations (max_iter) or scale the data as shown in:\n",
            "    https://scikit-learn.org/stable/modules/preprocessing.html\n",
            "Please also refer to the documentation for alternative solver options:\n",
            "    https://scikit-learn.org/stable/modules/linear_model.html#logistic-regression\n",
            "  n_iter_i = _check_optimize_result(\n"
          ]
        },
        {
          "output_type": "stream",
          "name": "stdout",
          "text": [
            "predicted_true=795\n",
            "f1=0.05108660395718457\n",
            "=====\n",
            "\n",
            "x=90000\n"
          ]
        },
        {
          "output_type": "stream",
          "name": "stderr",
          "text": [
            "/usr/local/lib/python3.8/dist-packages/sklearn/linear_model/_logistic.py:814: ConvergenceWarning: lbfgs failed to converge (status=1):\n",
            "STOP: TOTAL NO. of ITERATIONS REACHED LIMIT.\n",
            "\n",
            "Increase the number of iterations (max_iter) or scale the data as shown in:\n",
            "    https://scikit-learn.org/stable/modules/preprocessing.html\n",
            "Please also refer to the documentation for alternative solver options:\n",
            "    https://scikit-learn.org/stable/modules/linear_model.html#logistic-regression\n",
            "  n_iter_i = _check_optimize_result(\n"
          ]
        },
        {
          "output_type": "stream",
          "name": "stdout",
          "text": [
            "predicted_true=802\n",
            "f1=0.0513817975524759\n",
            "=====\n",
            "\n",
            "x=100000\n"
          ]
        },
        {
          "output_type": "stream",
          "name": "stderr",
          "text": [
            "/usr/local/lib/python3.8/dist-packages/sklearn/linear_model/_logistic.py:814: ConvergenceWarning: lbfgs failed to converge (status=1):\n",
            "STOP: TOTAL NO. of ITERATIONS REACHED LIMIT.\n",
            "\n",
            "Increase the number of iterations (max_iter) or scale the data as shown in:\n",
            "    https://scikit-learn.org/stable/modules/preprocessing.html\n",
            "Please also refer to the documentation for alternative solver options:\n",
            "    https://scikit-learn.org/stable/modules/linear_model.html#logistic-regression\n",
            "  n_iter_i = _check_optimize_result(\n"
          ]
        },
        {
          "output_type": "stream",
          "name": "stdout",
          "text": [
            "predicted_true=817\n",
            "f1=0.053100210458151206\n",
            "=====\n",
            "\n",
            "x=200000\n"
          ]
        },
        {
          "output_type": "stream",
          "name": "stderr",
          "text": [
            "/usr/local/lib/python3.8/dist-packages/sklearn/linear_model/_logistic.py:814: ConvergenceWarning: lbfgs failed to converge (status=1):\n",
            "STOP: TOTAL NO. of ITERATIONS REACHED LIMIT.\n",
            "\n",
            "Increase the number of iterations (max_iter) or scale the data as shown in:\n",
            "    https://scikit-learn.org/stable/modules/preprocessing.html\n",
            "Please also refer to the documentation for alternative solver options:\n",
            "    https://scikit-learn.org/stable/modules/linear_model.html#logistic-regression\n",
            "  n_iter_i = _check_optimize_result(\n"
          ]
        },
        {
          "output_type": "stream",
          "name": "stdout",
          "text": [
            "predicted_true=733\n",
            "f1=0.048573757131214354\n",
            "=====\n",
            "\n",
            "x=300000\n"
          ]
        },
        {
          "output_type": "stream",
          "name": "stderr",
          "text": [
            "/usr/local/lib/python3.8/dist-packages/sklearn/linear_model/_logistic.py:814: ConvergenceWarning: lbfgs failed to converge (status=1):\n",
            "STOP: TOTAL NO. of ITERATIONS REACHED LIMIT.\n",
            "\n",
            "Increase the number of iterations (max_iter) or scale the data as shown in:\n",
            "    https://scikit-learn.org/stable/modules/preprocessing.html\n",
            "Please also refer to the documentation for alternative solver options:\n",
            "    https://scikit-learn.org/stable/modules/linear_model.html#logistic-regression\n",
            "  n_iter_i = _check_optimize_result(\n"
          ]
        },
        {
          "output_type": "stream",
          "name": "stdout",
          "text": [
            "predicted_true=308\n",
            "f1=0.029886027859856484\n",
            "=====\n",
            "\n",
            "x=400000\n"
          ]
        },
        {
          "output_type": "stream",
          "name": "stderr",
          "text": [
            "/usr/local/lib/python3.8/dist-packages/sklearn/linear_model/_logistic.py:814: ConvergenceWarning: lbfgs failed to converge (status=1):\n",
            "STOP: TOTAL NO. of ITERATIONS REACHED LIMIT.\n",
            "\n",
            "Increase the number of iterations (max_iter) or scale the data as shown in:\n",
            "    https://scikit-learn.org/stable/modules/preprocessing.html\n",
            "Please also refer to the documentation for alternative solver options:\n",
            "    https://scikit-learn.org/stable/modules/linear_model.html#logistic-regression\n",
            "  n_iter_i = _check_optimize_result(\n"
          ]
        },
        {
          "output_type": "stream",
          "name": "stdout",
          "text": [
            "predicted_true=261\n",
            "f1=0.02542803865061875\n",
            "=====\n",
            "\n",
            "x=500000\n"
          ]
        },
        {
          "output_type": "stream",
          "name": "stderr",
          "text": [
            "/usr/local/lib/python3.8/dist-packages/sklearn/linear_model/_logistic.py:814: ConvergenceWarning: lbfgs failed to converge (status=1):\n",
            "STOP: TOTAL NO. of ITERATIONS REACHED LIMIT.\n",
            "\n",
            "Increase the number of iterations (max_iter) or scale the data as shown in:\n",
            "    https://scikit-learn.org/stable/modules/preprocessing.html\n",
            "Please also refer to the documentation for alternative solver options:\n",
            "    https://scikit-learn.org/stable/modules/linear_model.html#logistic-regression\n",
            "  n_iter_i = _check_optimize_result(\n"
          ]
        },
        {
          "output_type": "stream",
          "name": "stdout",
          "text": [
            "predicted_true=246\n",
            "f1=0.024102520580497326\n",
            "=====\n",
            "\n",
            "x=600000\n"
          ]
        },
        {
          "output_type": "stream",
          "name": "stderr",
          "text": [
            "/usr/local/lib/python3.8/dist-packages/sklearn/linear_model/_logistic.py:814: ConvergenceWarning: lbfgs failed to converge (status=1):\n",
            "STOP: TOTAL NO. of ITERATIONS REACHED LIMIT.\n",
            "\n",
            "Increase the number of iterations (max_iter) or scale the data as shown in:\n",
            "    https://scikit-learn.org/stable/modules/preprocessing.html\n",
            "Please also refer to the documentation for alternative solver options:\n",
            "    https://scikit-learn.org/stable/modules/linear_model.html#logistic-regression\n",
            "  n_iter_i = _check_optimize_result(\n"
          ]
        },
        {
          "output_type": "stream",
          "name": "stdout",
          "text": [
            "predicted_true=266\n",
            "f1=0.025756163687198172\n",
            "=====\n",
            "\n",
            "x=700000\n"
          ]
        },
        {
          "output_type": "stream",
          "name": "stderr",
          "text": [
            "/usr/local/lib/python3.8/dist-packages/sklearn/linear_model/_logistic.py:814: ConvergenceWarning: lbfgs failed to converge (status=1):\n",
            "STOP: TOTAL NO. of ITERATIONS REACHED LIMIT.\n",
            "\n",
            "Increase the number of iterations (max_iter) or scale the data as shown in:\n",
            "    https://scikit-learn.org/stable/modules/preprocessing.html\n",
            "Please also refer to the documentation for alternative solver options:\n",
            "    https://scikit-learn.org/stable/modules/linear_model.html#logistic-regression\n",
            "  n_iter_i = _check_optimize_result(\n"
          ]
        },
        {
          "output_type": "stream",
          "name": "stdout",
          "text": [
            "predicted_true=246\n",
            "f1=0.023932784520071287\n",
            "=====\n",
            "\n",
            "x=800000\n"
          ]
        },
        {
          "output_type": "stream",
          "name": "stderr",
          "text": [
            "/usr/local/lib/python3.8/dist-packages/sklearn/linear_model/_logistic.py:814: ConvergenceWarning: lbfgs failed to converge (status=1):\n",
            "STOP: TOTAL NO. of ITERATIONS REACHED LIMIT.\n",
            "\n",
            "Increase the number of iterations (max_iter) or scale the data as shown in:\n",
            "    https://scikit-learn.org/stable/modules/preprocessing.html\n",
            "Please also refer to the documentation for alternative solver options:\n",
            "    https://scikit-learn.org/stable/modules/linear_model.html#logistic-regression\n",
            "  n_iter_i = _check_optimize_result(\n"
          ]
        },
        {
          "output_type": "stream",
          "name": "stdout",
          "text": [
            "predicted_true=218\n",
            "f1=0.021437686091025098\n",
            "=====\n",
            "\n",
            "x=900000\n"
          ]
        },
        {
          "output_type": "stream",
          "name": "stderr",
          "text": [
            "/usr/local/lib/python3.8/dist-packages/sklearn/linear_model/_logistic.py:814: ConvergenceWarning: lbfgs failed to converge (status=1):\n",
            "STOP: TOTAL NO. of ITERATIONS REACHED LIMIT.\n",
            "\n",
            "Increase the number of iterations (max_iter) or scale the data as shown in:\n",
            "    https://scikit-learn.org/stable/modules/preprocessing.html\n",
            "Please also refer to the documentation for alternative solver options:\n",
            "    https://scikit-learn.org/stable/modules/linear_model.html#logistic-regression\n",
            "  n_iter_i = _check_optimize_result(\n"
          ]
        },
        {
          "output_type": "stream",
          "name": "stdout",
          "text": [
            "predicted_true=209\n",
            "f1=0.020943299846756344\n",
            "=====\n",
            "\n",
            "x=1000000\n"
          ]
        },
        {
          "output_type": "stream",
          "name": "stderr",
          "text": [
            "/usr/local/lib/python3.8/dist-packages/sklearn/linear_model/_logistic.py:814: ConvergenceWarning: lbfgs failed to converge (status=1):\n",
            "STOP: TOTAL NO. of ITERATIONS REACHED LIMIT.\n",
            "\n",
            "Increase the number of iterations (max_iter) or scale the data as shown in:\n",
            "    https://scikit-learn.org/stable/modules/preprocessing.html\n",
            "Please also refer to the documentation for alternative solver options:\n",
            "    https://scikit-learn.org/stable/modules/linear_model.html#logistic-regression\n",
            "  n_iter_i = _check_optimize_result(\n"
          ]
        },
        {
          "output_type": "stream",
          "name": "stdout",
          "text": [
            "predicted_true=195\n",
            "f1=0.019434026593931134\n",
            "=====\n",
            "\n",
            "x=1035928\n",
            "predicted_true=200\n",
            "f1=0.02061855670103093\n",
            "=====\n",
            "\n"
          ]
        },
        {
          "output_type": "stream",
          "name": "stderr",
          "text": [
            "/usr/local/lib/python3.8/dist-packages/sklearn/linear_model/_logistic.py:814: ConvergenceWarning: lbfgs failed to converge (status=1):\n",
            "STOP: TOTAL NO. of ITERATIONS REACHED LIMIT.\n",
            "\n",
            "Increase the number of iterations (max_iter) or scale the data as shown in:\n",
            "    https://scikit-learn.org/stable/modules/preprocessing.html\n",
            "Please also refer to the documentation for alternative solver options:\n",
            "    https://scikit-learn.org/stable/modules/linear_model.html#logistic-regression\n",
            "  n_iter_i = _check_optimize_result(\n"
          ]
        }
      ]
    },
    {
      "cell_type": "code",
      "source": [
        "sample_size,f1_scores,true_predicts"
      ],
      "metadata": {
        "colab": {
          "base_uri": "https://localhost:8080/"
        },
        "id": "dlZw8yNDy6en",
        "outputId": "63bf256c-3353-477a-b8df-b77b60682f25"
      },
      "id": "dlZw8yNDy6en",
      "execution_count": 67,
      "outputs": [
        {
          "output_type": "execute_result",
          "data": {
            "text/plain": [
              "([10000,\n",
              "  20000,\n",
              "  30000,\n",
              "  40000,\n",
              "  50000,\n",
              "  60000,\n",
              "  70000,\n",
              "  80000,\n",
              "  90000,\n",
              "  100000,\n",
              "  200000,\n",
              "  300000,\n",
              "  400000,\n",
              "  500000,\n",
              "  600000,\n",
              "  700000,\n",
              "  800000,\n",
              "  900000,\n",
              "  1000000,\n",
              "  1035928],\n",
              " [0.004654369936217893,\n",
              "  0.005507271319163584,\n",
              "  0.007371217965200995,\n",
              "  0.019622769178719444,\n",
              "  0.03820924893407675,\n",
              "  0.04558728098637249,\n",
              "  0.04730060349045832,\n",
              "  0.05108660395718457,\n",
              "  0.0513817975524759,\n",
              "  0.053100210458151206,\n",
              "  0.048573757131214354,\n",
              "  0.029886027859856484,\n",
              "  0.02542803865061875,\n",
              "  0.024102520580497326,\n",
              "  0.025756163687198172,\n",
              "  0.023932784520071287,\n",
              "  0.021437686091025098,\n",
              "  0.020943299846756344,\n",
              "  0.019434026593931134,\n",
              "  0.02061855670103093],\n",
              " [65,\n",
              "  84,\n",
              "  130,\n",
              "  286,\n",
              "  659,\n",
              "  791,\n",
              "  725,\n",
              "  795,\n",
              "  802,\n",
              "  817,\n",
              "  733,\n",
              "  308,\n",
              "  261,\n",
              "  246,\n",
              "  266,\n",
              "  246,\n",
              "  218,\n",
              "  209,\n",
              "  195,\n",
              "  200])"
            ]
          },
          "metadata": {},
          "execution_count": 67
        }
      ]
    },
    {
      "cell_type": "code",
      "source": [
        "plt.plot(sample_size,f1_scores)"
      ],
      "metadata": {
        "colab": {
          "base_uri": "https://localhost:8080/",
          "height": 295
        },
        "id": "--5foGhh2YSL",
        "outputId": "f4f0c2e8-bce8-4818-b5c5-809b142d45c7"
      },
      "id": "--5foGhh2YSL",
      "execution_count": 69,
      "outputs": [
        {
          "output_type": "execute_result",
          "data": {
            "text/plain": [
              "[<matplotlib.lines.Line2D at 0x7fee53466760>]"
            ]
          },
          "metadata": {},
          "execution_count": 69
        },
        {
          "output_type": "display_data",
          "data": {
            "text/plain": [
              "<Figure size 432x288 with 1 Axes>"
            ],
            "image/png": "[encoded data removed]"
          },
          "metadata": {
            "needs_background": "light"
          }
        }
      ]
    },
    {
      "cell_type": "code",
      "source": [
        "plt.plot(sample_size,true_predicts)"
      ],
      "metadata": {
        "colab": {
          "base_uri": "https://localhost:8080/",
          "height": 295
        },
        "id": "E15iCNd2y6iO",
        "outputId": "dcfe16f9-494c-4c45-e907-84d5e66550f5"
      },
      "id": "E15iCNd2y6iO",
      "execution_count": 70,
      "outputs": [
        {
          "output_type": "execute_result",
          "data": {
            "text/plain": [
              "[<matplotlib.lines.Line2D at 0x7fee4435caf0>]"
            ]
          },
          "metadata": {},
          "execution_count": 70
        },
        {
          "output_type": "display_data",
          "data": {
            "text/plain": [
              "<Figure size 432x288 with 1 Axes>"
            ],
            "image/png": "[encoded data removed]"
          },
          "metadata": {
            "needs_background": "light"
          }
        }
      ]
    },
    {
      "cell_type": "markdown",
      "source": [
        "Now lets down sample the negative class same proportion"
      ],
      "metadata": {
        "id": "mfOXD0kBy8C3"
      },
      "id": "mfOXD0kBy8C3"
    },
    {
      "cell_type": "code",
      "source": [
        "down_sample_size =  [x for x in range(700000,900000,10000)] \n",
        "\n",
        "down_sample_size"
      ],
      "metadata": {
        "id": "1p8Yi_myzFY_"
      },
      "execution_count": null,
      "outputs": [],
      "id": "1p8Yi_myzFY_"
    },
    {
      "cell_type": "code",
      "source": [
        "f1_scores=[]\n",
        "true_predicts=[]\n",
        "n_samples=[]\n",
        "for x in down_sample_size:\n",
        "  print(f\"{x=}\")\n",
        "  tokens_train=train[[\"token\",\"target\"]]\n",
        "  tokens_test=test[[\"token\",\"target\"]]\n",
        "  tokens_train=make_binary_label(tokens_train)\n",
        "  tokens_test=make_binary_label(tokens_test)\n",
        "\n",
        "  tokens_train = tokens_train.drop(tokens_train[tokens_train['label']==0].sample(n=x).index)\n",
        "  n_samples.append(tokens_train.shape[0])\n",
        "  print(tokens_train.shape[0])\n",
        "  X_train,X_test,y_train,y_test=prepare_token_data(tokens_train,tokens_test)\n",
        "  y_pred=logistic_reg(X_train,X_test,y_train,y_test)\n",
        "  \n",
        "  predicted_true=y_pred.sum()\n",
        "  true_predicts.append(predicted_true)\n",
        "  print(f\"{predicted_true=}\")\n",
        "\n",
        "  f1 = f1_score(y_test,y_pred)\n",
        "  f1_scores.append(f1)\n",
        "  print(f\"{f1=}\")\n",
        "  print(\"=====\\n\")"
      ],
      "metadata": {
        "colab": {
          "base_uri": "https://localhost:8080/"
        },
        "outputId": "5d70d1e0-7ddd-48f6-b8fb-fad434e7f832",
        "id": "pShOZGOizFZA"
      },
      "execution_count": 74,
      "outputs": [
        {
          "output_type": "stream",
          "name": "stdout",
          "text": [
            "x=700000\n",
            "335928\n"
          ]
        },
        {
          "output_type": "stream",
          "name": "stderr",
          "text": [
            "/usr/local/lib/python3.8/dist-packages/sklearn/linear_model/_logistic.py:814: ConvergenceWarning: lbfgs failed to converge (status=1):\n",
            "STOP: TOTAL NO. of ITERATIONS REACHED LIMIT.\n",
            "\n",
            "Increase the number of iterations (max_iter) or scale the data as shown in:\n",
            "    https://scikit-learn.org/stable/modules/preprocessing.html\n",
            "Please also refer to the documentation for alternative solver options:\n",
            "    https://scikit-learn.org/stable/modules/linear_model.html#logistic-regression\n",
            "  n_iter_i = _check_optimize_result(\n"
          ]
        },
        {
          "output_type": "stream",
          "name": "stdout",
          "text": [
            "predicted_true=9448\n",
            "f1=0.24627114605670716\n",
            "=====\n",
            "\n",
            "x=710000\n",
            "325928\n"
          ]
        },
        {
          "output_type": "stream",
          "name": "stderr",
          "text": [
            "/usr/local/lib/python3.8/dist-packages/sklearn/linear_model/_logistic.py:814: ConvergenceWarning: lbfgs failed to converge (status=1):\n",
            "STOP: TOTAL NO. of ITERATIONS REACHED LIMIT.\n",
            "\n",
            "Increase the number of iterations (max_iter) or scale the data as shown in:\n",
            "    https://scikit-learn.org/stable/modules/preprocessing.html\n",
            "Please also refer to the documentation for alternative solver options:\n",
            "    https://scikit-learn.org/stable/modules/linear_model.html#logistic-regression\n",
            "  n_iter_i = _check_optimize_result(\n"
          ]
        },
        {
          "output_type": "stream",
          "name": "stdout",
          "text": [
            "predicted_true=9641\n",
            "f1=0.2477098876192275\n",
            "=====\n",
            "\n",
            "x=720000\n",
            "315928\n"
          ]
        },
        {
          "output_type": "stream",
          "name": "stderr",
          "text": [
            "/usr/local/lib/python3.8/dist-packages/sklearn/linear_model/_logistic.py:814: ConvergenceWarning: lbfgs failed to converge (status=1):\n",
            "STOP: TOTAL NO. of ITERATIONS REACHED LIMIT.\n",
            "\n",
            "Increase the number of iterations (max_iter) or scale the data as shown in:\n",
            "    https://scikit-learn.org/stable/modules/preprocessing.html\n",
            "Please also refer to the documentation for alternative solver options:\n",
            "    https://scikit-learn.org/stable/modules/linear_model.html#logistic-regression\n",
            "  n_iter_i = _check_optimize_result(\n"
          ]
        },
        {
          "output_type": "stream",
          "name": "stdout",
          "text": [
            "predicted_true=11072\n",
            "f1=0.26157724799858467\n",
            "=====\n",
            "\n",
            "x=730000\n",
            "305928\n"
          ]
        },
        {
          "output_type": "stream",
          "name": "stderr",
          "text": [
            "/usr/local/lib/python3.8/dist-packages/sklearn/linear_model/_logistic.py:814: ConvergenceWarning: lbfgs failed to converge (status=1):\n",
            "STOP: TOTAL NO. of ITERATIONS REACHED LIMIT.\n",
            "\n",
            "Increase the number of iterations (max_iter) or scale the data as shown in:\n",
            "    https://scikit-learn.org/stable/modules/preprocessing.html\n",
            "Please also refer to the documentation for alternative solver options:\n",
            "    https://scikit-learn.org/stable/modules/linear_model.html#logistic-regression\n",
            "  n_iter_i = _check_optimize_result(\n"
          ]
        },
        {
          "output_type": "stream",
          "name": "stdout",
          "text": [
            "predicted_true=13126\n",
            "f1=0.27993350362891783\n",
            "=====\n",
            "\n",
            "x=740000\n",
            "295928\n"
          ]
        },
        {
          "output_type": "stream",
          "name": "stderr",
          "text": [
            "/usr/local/lib/python3.8/dist-packages/sklearn/linear_model/_logistic.py:814: ConvergenceWarning: lbfgs failed to converge (status=1):\n",
            "STOP: TOTAL NO. of ITERATIONS REACHED LIMIT.\n",
            "\n",
            "Increase the number of iterations (max_iter) or scale the data as shown in:\n",
            "    https://scikit-learn.org/stable/modules/preprocessing.html\n",
            "Please also refer to the documentation for alternative solver options:\n",
            "    https://scikit-learn.org/stable/modules/linear_model.html#logistic-regression\n",
            "  n_iter_i = _check_optimize_result(\n"
          ]
        },
        {
          "output_type": "stream",
          "name": "stdout",
          "text": [
            "predicted_true=13807\n",
            "f1=0.28172348484848486\n",
            "=====\n",
            "\n",
            "x=750000\n",
            "285928\n"
          ]
        },
        {
          "output_type": "stream",
          "name": "stderr",
          "text": [
            "/usr/local/lib/python3.8/dist-packages/sklearn/linear_model/_logistic.py:814: ConvergenceWarning: lbfgs failed to converge (status=1):\n",
            "STOP: TOTAL NO. of ITERATIONS REACHED LIMIT.\n",
            "\n",
            "Increase the number of iterations (max_iter) or scale the data as shown in:\n",
            "    https://scikit-learn.org/stable/modules/preprocessing.html\n",
            "Please also refer to the documentation for alternative solver options:\n",
            "    https://scikit-learn.org/stable/modules/linear_model.html#logistic-regression\n",
            "  n_iter_i = _check_optimize_result(\n"
          ]
        },
        {
          "output_type": "stream",
          "name": "stdout",
          "text": [
            "predicted_true=15456\n",
            "f1=0.28918608528136924\n",
            "=====\n",
            "\n",
            "x=760000\n",
            "275928\n"
          ]
        },
        {
          "output_type": "stream",
          "name": "stderr",
          "text": [
            "/usr/local/lib/python3.8/dist-packages/sklearn/linear_model/_logistic.py:814: ConvergenceWarning: lbfgs failed to converge (status=1):\n",
            "STOP: TOTAL NO. of ITERATIONS REACHED LIMIT.\n",
            "\n",
            "Increase the number of iterations (max_iter) or scale the data as shown in:\n",
            "    https://scikit-learn.org/stable/modules/preprocessing.html\n",
            "Please also refer to the documentation for alternative solver options:\n",
            "    https://scikit-learn.org/stable/modules/linear_model.html#logistic-regression\n",
            "  n_iter_i = _check_optimize_result(\n"
          ]
        },
        {
          "output_type": "stream",
          "name": "stdout",
          "text": [
            "predicted_true=16858\n",
            "f1=0.29589716499383695\n",
            "=====\n",
            "\n",
            "x=770000\n",
            "265928\n"
          ]
        },
        {
          "output_type": "stream",
          "name": "stderr",
          "text": [
            "/usr/local/lib/python3.8/dist-packages/sklearn/linear_model/_logistic.py:814: ConvergenceWarning: lbfgs failed to converge (status=1):\n",
            "STOP: TOTAL NO. of ITERATIONS REACHED LIMIT.\n",
            "\n",
            "Increase the number of iterations (max_iter) or scale the data as shown in:\n",
            "    https://scikit-learn.org/stable/modules/preprocessing.html\n",
            "Please also refer to the documentation for alternative solver options:\n",
            "    https://scikit-learn.org/stable/modules/linear_model.html#logistic-regression\n",
            "  n_iter_i = _check_optimize_result(\n"
          ]
        },
        {
          "output_type": "stream",
          "name": "stdout",
          "text": [
            "predicted_true=18732\n",
            "f1=0.2982589447950048\n",
            "=====\n",
            "\n",
            "x=780000\n",
            "255928\n"
          ]
        },
        {
          "output_type": "stream",
          "name": "stderr",
          "text": [
            "/usr/local/lib/python3.8/dist-packages/sklearn/linear_model/_logistic.py:814: ConvergenceWarning: lbfgs failed to converge (status=1):\n",
            "STOP: TOTAL NO. of ITERATIONS REACHED LIMIT.\n",
            "\n",
            "Increase the number of iterations (max_iter) or scale the data as shown in:\n",
            "    https://scikit-learn.org/stable/modules/preprocessing.html\n",
            "Please also refer to the documentation for alternative solver options:\n",
            "    https://scikit-learn.org/stable/modules/linear_model.html#logistic-regression\n",
            "  n_iter_i = _check_optimize_result(\n"
          ]
        },
        {
          "output_type": "stream",
          "name": "stdout",
          "text": [
            "predicted_true=20810\n",
            "f1=0.30834389587906147\n",
            "=====\n",
            "\n",
            "x=790000\n",
            "245928\n"
          ]
        },
        {
          "output_type": "stream",
          "name": "stderr",
          "text": [
            "/usr/local/lib/python3.8/dist-packages/sklearn/linear_model/_logistic.py:814: ConvergenceWarning: lbfgs failed to converge (status=1):\n",
            "STOP: TOTAL NO. of ITERATIONS REACHED LIMIT.\n",
            "\n",
            "Increase the number of iterations (max_iter) or scale the data as shown in:\n",
            "    https://scikit-learn.org/stable/modules/preprocessing.html\n",
            "Please also refer to the documentation for alternative solver options:\n",
            "    https://scikit-learn.org/stable/modules/linear_model.html#logistic-regression\n",
            "  n_iter_i = _check_optimize_result(\n"
          ]
        },
        {
          "output_type": "stream",
          "name": "stdout",
          "text": [
            "predicted_true=22520\n",
            "f1=0.3099509645594151\n",
            "=====\n",
            "\n",
            "x=800000\n",
            "235928\n"
          ]
        },
        {
          "output_type": "stream",
          "name": "stderr",
          "text": [
            "/usr/local/lib/python3.8/dist-packages/sklearn/linear_model/_logistic.py:814: ConvergenceWarning: lbfgs failed to converge (status=1):\n",
            "STOP: TOTAL NO. of ITERATIONS REACHED LIMIT.\n",
            "\n",
            "Increase the number of iterations (max_iter) or scale the data as shown in:\n",
            "    https://scikit-learn.org/stable/modules/preprocessing.html\n",
            "Please also refer to the documentation for alternative solver options:\n",
            "    https://scikit-learn.org/stable/modules/linear_model.html#logistic-regression\n",
            "  n_iter_i = _check_optimize_result(\n"
          ]
        },
        {
          "output_type": "stream",
          "name": "stdout",
          "text": [
            "predicted_true=23213\n",
            "f1=0.31027338129496407\n",
            "=====\n",
            "\n",
            "x=810000\n",
            "225928\n"
          ]
        },
        {
          "output_type": "stream",
          "name": "stderr",
          "text": [
            "/usr/local/lib/python3.8/dist-packages/sklearn/linear_model/_logistic.py:814: ConvergenceWarning: lbfgs failed to converge (status=1):\n",
            "STOP: TOTAL NO. of ITERATIONS REACHED LIMIT.\n",
            "\n",
            "Increase the number of iterations (max_iter) or scale the data as shown in:\n",
            "    https://scikit-learn.org/stable/modules/preprocessing.html\n",
            "Please also refer to the documentation for alternative solver options:\n",
            "    https://scikit-learn.org/stable/modules/linear_model.html#logistic-regression\n",
            "  n_iter_i = _check_optimize_result(\n"
          ]
        },
        {
          "output_type": "stream",
          "name": "stdout",
          "text": [
            "predicted_true=25718\n",
            "f1=0.31126023352570126\n",
            "=====\n",
            "\n",
            "x=820000\n",
            "215928\n"
          ]
        },
        {
          "output_type": "stream",
          "name": "stderr",
          "text": [
            "/usr/local/lib/python3.8/dist-packages/sklearn/linear_model/_logistic.py:814: ConvergenceWarning: lbfgs failed to converge (status=1):\n",
            "STOP: TOTAL NO. of ITERATIONS REACHED LIMIT.\n",
            "\n",
            "Increase the number of iterations (max_iter) or scale the data as shown in:\n",
            "    https://scikit-learn.org/stable/modules/preprocessing.html\n",
            "Please also refer to the documentation for alternative solver options:\n",
            "    https://scikit-learn.org/stable/modules/linear_model.html#logistic-regression\n",
            "  n_iter_i = _check_optimize_result(\n"
          ]
        },
        {
          "output_type": "stream",
          "name": "stdout",
          "text": [
            "predicted_true=27661\n",
            "f1=0.31154650747487117\n",
            "=====\n",
            "\n",
            "x=830000\n",
            "205928\n"
          ]
        },
        {
          "output_type": "stream",
          "name": "stderr",
          "text": [
            "/usr/local/lib/python3.8/dist-packages/sklearn/linear_model/_logistic.py:814: ConvergenceWarning: lbfgs failed to converge (status=1):\n",
            "STOP: TOTAL NO. of ITERATIONS REACHED LIMIT.\n",
            "\n",
            "Increase the number of iterations (max_iter) or scale the data as shown in:\n",
            "    https://scikit-learn.org/stable/modules/preprocessing.html\n",
            "Please also refer to the documentation for alternative solver options:\n",
            "    https://scikit-learn.org/stable/modules/linear_model.html#logistic-regression\n",
            "  n_iter_i = _check_optimize_result(\n"
          ]
        },
        {
          "output_type": "stream",
          "name": "stdout",
          "text": [
            "predicted_true=30406\n",
            "f1=0.3147128245476003\n",
            "=====\n",
            "\n",
            "x=840000\n",
            "195928\n"
          ]
        },
        {
          "output_type": "stream",
          "name": "stderr",
          "text": [
            "/usr/local/lib/python3.8/dist-packages/sklearn/linear_model/_logistic.py:814: ConvergenceWarning: lbfgs failed to converge (status=1):\n",
            "STOP: TOTAL NO. of ITERATIONS REACHED LIMIT.\n",
            "\n",
            "Increase the number of iterations (max_iter) or scale the data as shown in:\n",
            "    https://scikit-learn.org/stable/modules/preprocessing.html\n",
            "Please also refer to the documentation for alternative solver options:\n",
            "    https://scikit-learn.org/stable/modules/linear_model.html#logistic-regression\n",
            "  n_iter_i = _check_optimize_result(\n"
          ]
        },
        {
          "output_type": "stream",
          "name": "stdout",
          "text": [
            "predicted_true=31901\n",
            "f1=0.31175468483816016\n",
            "=====\n",
            "\n",
            "x=850000\n",
            "185928\n"
          ]
        },
        {
          "output_type": "stream",
          "name": "stderr",
          "text": [
            "/usr/local/lib/python3.8/dist-packages/sklearn/linear_model/_logistic.py:814: ConvergenceWarning: lbfgs failed to converge (status=1):\n",
            "STOP: TOTAL NO. of ITERATIONS REACHED LIMIT.\n",
            "\n",
            "Increase the number of iterations (max_iter) or scale the data as shown in:\n",
            "    https://scikit-learn.org/stable/modules/preprocessing.html\n",
            "Please also refer to the documentation for alternative solver options:\n",
            "    https://scikit-learn.org/stable/modules/linear_model.html#logistic-regression\n",
            "  n_iter_i = _check_optimize_result(\n"
          ]
        },
        {
          "output_type": "stream",
          "name": "stdout",
          "text": [
            "predicted_true=34073\n",
            "f1=0.3098881824161368\n",
            "=====\n",
            "\n",
            "x=860000\n",
            "175928\n"
          ]
        },
        {
          "output_type": "stream",
          "name": "stderr",
          "text": [
            "/usr/local/lib/python3.8/dist-packages/sklearn/linear_model/_logistic.py:814: ConvergenceWarning: lbfgs failed to converge (status=1):\n",
            "STOP: TOTAL NO. of ITERATIONS REACHED LIMIT.\n",
            "\n",
            "Increase the number of iterations (max_iter) or scale the data as shown in:\n",
            "    https://scikit-learn.org/stable/modules/preprocessing.html\n",
            "Please also refer to the documentation for alternative solver options:\n",
            "    https://scikit-learn.org/stable/modules/linear_model.html#logistic-regression\n",
            "  n_iter_i = _check_optimize_result(\n"
          ]
        },
        {
          "output_type": "stream",
          "name": "stdout",
          "text": [
            "predicted_true=36095\n",
            "f1=0.3073563990594558\n",
            "=====\n",
            "\n",
            "x=870000\n",
            "165928\n"
          ]
        },
        {
          "output_type": "stream",
          "name": "stderr",
          "text": [
            "/usr/local/lib/python3.8/dist-packages/sklearn/linear_model/_logistic.py:814: ConvergenceWarning: lbfgs failed to converge (status=1):\n",
            "STOP: TOTAL NO. of ITERATIONS REACHED LIMIT.\n",
            "\n",
            "Increase the number of iterations (max_iter) or scale the data as shown in:\n",
            "    https://scikit-learn.org/stable/modules/preprocessing.html\n",
            "Please also refer to the documentation for alternative solver options:\n",
            "    https://scikit-learn.org/stable/modules/linear_model.html#logistic-regression\n",
            "  n_iter_i = _check_optimize_result(\n"
          ]
        },
        {
          "output_type": "stream",
          "name": "stdout",
          "text": [
            "predicted_true=63478\n",
            "f1=0.2728520962474172\n",
            "=====\n",
            "\n",
            "x=880000\n",
            "155928\n"
          ]
        },
        {
          "output_type": "stream",
          "name": "stderr",
          "text": [
            "/usr/local/lib/python3.8/dist-packages/sklearn/linear_model/_logistic.py:814: ConvergenceWarning: lbfgs failed to converge (status=1):\n",
            "STOP: TOTAL NO. of ITERATIONS REACHED LIMIT.\n",
            "\n",
            "Increase the number of iterations (max_iter) or scale the data as shown in:\n",
            "    https://scikit-learn.org/stable/modules/preprocessing.html\n",
            "Please also refer to the documentation for alternative solver options:\n",
            "    https://scikit-learn.org/stable/modules/linear_model.html#logistic-regression\n",
            "  n_iter_i = _check_optimize_result(\n"
          ]
        },
        {
          "output_type": "stream",
          "name": "stdout",
          "text": [
            "predicted_true=66998\n",
            "f1=0.2683898898580251\n",
            "=====\n",
            "\n",
            "x=890000\n",
            "145928\n",
            "predicted_true=68897\n",
            "f1=0.266156103140463\n",
            "=====\n",
            "\n"
          ]
        },
        {
          "output_type": "stream",
          "name": "stderr",
          "text": [
            "/usr/local/lib/python3.8/dist-packages/sklearn/linear_model/_logistic.py:814: ConvergenceWarning: lbfgs failed to converge (status=1):\n",
            "STOP: TOTAL NO. of ITERATIONS REACHED LIMIT.\n",
            "\n",
            "Increase the number of iterations (max_iter) or scale the data as shown in:\n",
            "    https://scikit-learn.org/stable/modules/preprocessing.html\n",
            "Please also refer to the documentation for alternative solver options:\n",
            "    https://scikit-learn.org/stable/modules/linear_model.html#logistic-regression\n",
            "  n_iter_i = _check_optimize_result(\n"
          ]
        }
      ],
      "id": "pShOZGOizFZA"
    },
    {
      "cell_type": "code",
      "source": [
        "plt.plot(n_samples,f1_scores)"
      ],
      "metadata": {
        "colab": {
          "base_uri": "https://localhost:8080/",
          "height": 282
        },
        "id": "Y8sxnCbmox21",
        "outputId": "b11da050-4daa-4c07-825d-adff12aab421"
      },
      "id": "Y8sxnCbmox21",
      "execution_count": 75,
      "outputs": [
        {
          "output_type": "execute_result",
          "data": {
            "text/plain": [
              "[<matplotlib.lines.Line2D at 0x7fee430a9b50>]"
            ]
          },
          "metadata": {},
          "execution_count": 75
        },
        {
          "output_type": "display_data",
          "data": {
            "text/plain": [
              "<Figure size 432x288 with 1 Axes>"
            ],
            "image/png": "[encoded data removed]"
          },
          "metadata": {
            "needs_background": "light"
          }
        }
      ]
    },
    {
      "cell_type": "code",
      "source": [],
      "metadata": {
        "id": "gKj5kVMD7gKv"
      },
      "id": "gKj5kVMD7gKv",
      "execution_count": null,
      "outputs": []
    },
    {
      "cell_type": "markdown",
      "source": [
        "##WITH BASIC FEATURES"
      ],
      "metadata": {
        "id": "HoGHIdlTnosD"
      },
      "id": "HoGHIdlTnosD"
    },
    {
      "cell_type": "code",
      "source": [
        "\n",
        "##WRAPPER FUNCTION\n",
        "def process_dataset(df):\n",
        "  \n",
        "  df=make_binary_label(df)\n",
        "\n",
        "  df=columns_cleaning(df)\n",
        "\n",
        "  df=make_NER(df)\n",
        "\n",
        "  cols_to_encode=[ 'token', 'lemma', 'POS', 'uni_POS', 'morph_type', 'dep_label', 'dep_rel', 'space', 'probbank']\n",
        "  df=create_encoding(df,cols_to_encode)\n",
        "\n",
        "  return df"
      ],
      "metadata": {
        "id": "33GTzbx8N9io"
      },
      "id": "33GTzbx8N9io",
      "execution_count": null,
      "outputs": []
    },
    {
      "cell_type": "code",
      "source": [
        "df_train=process_dataset(train)\n",
        "df_test=process_dataset(test)\n"
      ],
      "metadata": {
        "id": "Mj7g4oGe9g24"
      },
      "id": "Mj7g4oGe9g24",
      "execution_count": null,
      "outputs": []
    },
    {
      "cell_type": "code",
      "source": [
        "X_train=df_train\n",
        "y_train=X_train.pop('label')\n",
        "\n",
        "\n",
        "X_test=df_test\n",
        "y_test=X_test.pop('label')\n"
      ],
      "metadata": {
        "id": "RcxXwE99BAS_"
      },
      "id": "RcxXwE99BAS_",
      "execution_count": null,
      "outputs": []
    },
    {
      "cell_type": "markdown",
      "source": [
        "THE MODEL\n"
      ],
      "metadata": {
        "id": "qEWihzAMChpe"
      },
      "id": "qEWihzAMChpe"
    },
    {
      "cell_type": "code",
      "source": [
        "#instantiate the model\n",
        "log_regression = LogisticRegression(penalty='l2')\n",
        "\n",
        "#fit the model using the training data\n",
        "log_regression.fit(X_train,y_train)\n",
        "\n",
        "#use model to make predictions on test data\n",
        "y_pred = log_regression.predict(X_test)\n",
        "\n",
        "f1 = f1_score(y_test,y_pred)\n",
        "prec = precision_score(y_test,y_pred)\n",
        "print(f\"{f1=}\")\n",
        "print(f\"{prec=}\")\n"
      ],
      "metadata": {
        "id": "0gE8I6aaCk4a"
      },
      "id": "0gE8I6aaCk4a",
      "execution_count": null,
      "outputs": []
    },
    {
      "cell_type": "code",
      "source": [
        "y_pred.sum()"
      ],
      "metadata": {
        "id": "Mv24xobnD-dV"
      },
      "id": "Mv24xobnD-dV",
      "execution_count": null,
      "outputs": []
    },
    {
      "cell_type": "code",
      "source": [],
      "metadata": {
        "id": "kuI77PH0Ck65"
      },
      "id": "kuI77PH0Ck65",
      "execution_count": null,
      "outputs": []
    },
    {
      "cell_type": "markdown",
      "source": [
        "SOoo the issue is that keeps crashing if we put countvector or onehotvector along with other feature"
      ],
      "metadata": {
        "id": "WxRPXETRg6ec"
      },
      "id": "WxRPXETRg6ec"
    },
    {
      "cell_type": "markdown",
      "source": [
        "##ONLY CATHEGORICAL FEATURES"
      ],
      "metadata": {
        "id": "dwtocEY5W47H"
      },
      "id": "dwtocEY5W47H"
    },
    {
      "cell_type": "code",
      "source": [
        "train.columns"
      ],
      "metadata": {
        "colab": {
          "base_uri": "https://localhost:8080/"
        },
        "id": "2GdcSIprcrNv",
        "outputId": "4b7c6670-ad7a-4221-96b4-2ffbae30ddca"
      },
      "id": "2GdcSIprcrNv",
      "execution_count": null,
      "outputs": [
        {
          "output_type": "execute_result",
          "data": {
            "text/plain": [
              "Index(['sent_id', 'token_id', 'token', 'lemma', 'POS', 'uni_POS', 'morph_type',\n",
              "       'distance_head', 'dep_label', 'dep_rel', 'space', 'probbank', 'target',\n",
              "       'repetion_id'],\n",
              "      dtype='object')"
            ]
          },
          "metadata": {},
          "execution_count": 26
        }
      ]
    },
    {
      "cell_type": "code",
      "source": [
        "col=['sent_id', 'token_id', 'POS', 'uni_POS', 'morph_type',\n",
        "       'distance_head', 'dep_label', 'dep_rel', 'space', 'probbank', 'target',\n",
        "       'repetion_id']"
      ],
      "metadata": {
        "id": "R-7fIPCqXCr4"
      },
      "id": "R-7fIPCqXCr4",
      "execution_count": null,
      "outputs": []
    },
    {
      "cell_type": "code",
      "source": [
        "ttrain=train[col]\n",
        "ttest=test[col]"
      ],
      "metadata": {
        "id": "3gK5UMwkZtcc"
      },
      "id": "3gK5UMwkZtcc",
      "execution_count": null,
      "outputs": []
    },
    {
      "cell_type": "code",
      "source": [
        "def columns_cleaning(df): #political choices inside\n",
        "  df=df[df[\"distance_head\"]!=\"_\"]#like this\n",
        "  df[\"distance_head\"]=df[\"distance_head\"].astype(int) #WARNING IS FROM HERE\n",
        "  \n",
        "  df[\"sent_id\"]=df[\"sent_id\"].astype(int) #WARNING IS FROM HERE\n",
        "\n",
        "  df= df.drop('token_id', axis=1) #or this\n",
        "  df=df[['sent_id', 'repetion_id','POS', 'uni_POS', 'morph_type',\n",
        "        'distance_head', 'dep_label', 'dep_rel', 'space', 'probbank' ,'label']]\n",
        "\n",
        "  return df"
      ],
      "metadata": {
        "id": "8EzBU9YRe6xs"
      },
      "id": "8EzBU9YRe6xs",
      "execution_count": null,
      "outputs": []
    },
    {
      "cell_type": "code",
      "source": [
        "\n",
        "\n",
        "def create_encoding(df,cols_to_encode):\n",
        "  # create a LabelEncoder objec\n",
        "  le = LabelEncoder()\n",
        "\n",
        "  # iterate over the columns to encode\n",
        "  for col in cols_to_encode:\n",
        "      df[col] = le.fit_transform(df[col])\n",
        "  return df\n"
      ],
      "metadata": {
        "id": "6daNSvRLfaK7"
      },
      "id": "6daNSvRLfaK7",
      "execution_count": null,
      "outputs": []
    },
    {
      "cell_type": "code",
      "source": [
        "ttrain=make_binary_label(ttrain)\n",
        "ttest=make_binary_label(ttest)\n",
        "\n",
        "ttrain=columns_cleaning(ttrain)\n",
        "ttest=columns_cleaning(ttest)\n",
        "\n",
        "col=[ 'POS', 'uni_POS',\n",
        "       'morph_type', 'dep_label', 'dep_rel', 'space',\n",
        "       'probbank']\n",
        "\n",
        "ttrain=create_encoding(ttrain,col)\n",
        "ttest=create_encoding(ttest,col)"
      ],
      "metadata": {
        "colab": {
          "base_uri": "https://localhost:8080/"
        },
        "id": "arnsCzvldWQB",
        "outputId": "706ef169-4c2d-476c-f55f-1d5ead82b853"
      },
      "id": "arnsCzvldWQB",
      "execution_count": null,
      "outputs": [
        {
          "output_type": "stream",
          "name": "stderr",
          "text": [
            "<ipython-input-29-2295377dbcc6>:3: SettingWithCopyWarning: \n",
            "A value is trying to be set on a copy of a slice from a DataFrame.\n",
            "Try using .loc[row_indexer,col_indexer] = value instead\n",
            "\n",
            "See the caveats in the documentation: https://pandas.pydata.org/pandas-docs/stable/user_guide/indexing.html#returning-a-view-versus-a-copy\n",
            "  df[\"distance_head\"]=df[\"distance_head\"].astype(int) #WARNING IS FROM HERE\n",
            "<ipython-input-29-2295377dbcc6>:5: SettingWithCopyWarning: \n",
            "A value is trying to be set on a copy of a slice from a DataFrame.\n",
            "Try using .loc[row_indexer,col_indexer] = value instead\n",
            "\n",
            "See the caveats in the documentation: https://pandas.pydata.org/pandas-docs/stable/user_guide/indexing.html#returning-a-view-versus-a-copy\n",
            "  df[\"sent_id\"]=df[\"sent_id\"].astype(int) #WARNING IS FROM HERE\n"
          ]
        }
      ]
    },
    {
      "cell_type": "code",
      "source": [],
      "metadata": {
        "id": "RUOIc2HzeE-K",
        "colab": {
          "base_uri": "https://localhost:8080/",
          "height": 424
        },
        "outputId": "c4019195-7396-4ed5-a7ca-b7f0d4b95a90"
      },
      "id": "RUOIc2HzeE-K",
      "execution_count": null,
      "outputs": [
        {
          "output_type": "execute_result",
          "data": {
            "text/plain": [
              "         sent_id repetion_id  POS  uni_POS  morph_type  distance_head  \\\n",
              "0              0           0   11       24          74              0   \n",
              "1              0           0   12       15         100              1   \n",
              "2              0           0   11       24          74              1   \n",
              "3              0           0   12        6         100              1   \n",
              "4              0           0    0       17          41              6   \n",
              "...          ...         ...  ...      ...         ...            ...   \n",
              "7077906     7506          34   15       41          90            123   \n",
              "7077907     7506          34    4        9         100            134   \n",
              "7077908     7506          34   10       29          36            134   \n",
              "7077909     7506          34   15       42          63              4   \n",
              "7077910     7506          34    7       23          74            134   \n",
              "\n",
              "         dep_label  dep_rel  space  probbank  label  \n",
              "0               46        0     30         1      0  \n",
              "1               44     3130     30         1      0  \n",
              "2               25     2995     31         1      0  \n",
              "3               44     3130     31         1      0  \n",
              "4                4     9101     31         1      0  \n",
              "...            ...      ...    ...       ...    ...  \n",
              "7077906          2      756     31      1238      0  \n",
              "7077907          9     1097     31         1      0  \n",
              "7077908         35     1098     31         1      1  \n",
              "7077909         14     7504     31      1300      0  \n",
              "7077910         38     1099     31         1      1  \n",
              "\n",
              "[1035904 rows x 11 columns]"
            ],
            "text/html": [
              "\n",
              "  <div id=\"df-abe5317a-a498-46b8-9a2d-7e3256b236eb\">\n",
              "    <div class=\"colab-df-container\">\n",
              "      <div>\n",
              "<style scoped>\n",
              "    .dataframe tbody tr th:only-of-type {\n",
              "        vertical-align: middle;\n",
              "    }\n",
              "\n",
              "    .dataframe tbody tr th {\n",
              "        vertical-align: top;\n",
              "    }\n",
              "\n",
              "    .dataframe thead th {\n",
              "        text-align: right;\n",
              "    }\n",
              "</style>\n",
              "<table border=\"1\" class=\"dataframe\">\n",
              "  <thead>\n",
              "    <tr style=\"text-align: right;\">\n",
              "      <th></th>\n",
              "      <th>sent_id</th>\n",
              "      <th>repetion_id</th>\n",
              "      <th>POS</th>\n",
              "      <th>uni_POS</th>\n",
              "      <th>morph_type</th>\n",
              "      <th>distance_head</th>\n",
              "      <th>dep_label</th>\n",
              "      <th>dep_rel</th>\n",
              "      <th>space</th>\n",
              "      <th>probbank</th>\n",
              "      <th>label</th>\n",
              "    </tr>\n",
              "  </thead>\n",
              "  <tbody>\n",
              "    <tr>\n",
              "      <th>0</th>\n",
              "      <td>0</td>\n",
              "      <td>0</td>\n",
              "      <td>11</td>\n",
              "      <td>24</td>\n",
              "      <td>74</td>\n",
              "      <td>0</td>\n",
              "      <td>46</td>\n",
              "      <td>0</td>\n",
              "      <td>30</td>\n",
              "      <td>1</td>\n",
              "      <td>0</td>\n",
              "    </tr>\n",
              "    <tr>\n",
              "      <th>1</th>\n",
              "      <td>0</td>\n",
              "      <td>0</td>\n",
              "      <td>12</td>\n",
              "      <td>15</td>\n",
              "      <td>100</td>\n",
              "      <td>1</td>\n",
              "      <td>44</td>\n",
              "      <td>3130</td>\n",
              "      <td>30</td>\n",
              "      <td>1</td>\n",
              "      <td>0</td>\n",
              "    </tr>\n",
              "    <tr>\n",
              "      <th>2</th>\n",
              "      <td>0</td>\n",
              "      <td>0</td>\n",
              "      <td>11</td>\n",
              "      <td>24</td>\n",
              "      <td>74</td>\n",
              "      <td>1</td>\n",
              "      <td>25</td>\n",
              "      <td>2995</td>\n",
              "      <td>31</td>\n",
              "      <td>1</td>\n",
              "      <td>0</td>\n",
              "    </tr>\n",
              "    <tr>\n",
              "      <th>3</th>\n",
              "      <td>0</td>\n",
              "      <td>0</td>\n",
              "      <td>12</td>\n",
              "      <td>6</td>\n",
              "      <td>100</td>\n",
              "      <td>1</td>\n",
              "      <td>44</td>\n",
              "      <td>3130</td>\n",
              "      <td>31</td>\n",
              "      <td>1</td>\n",
              "      <td>0</td>\n",
              "    </tr>\n",
              "    <tr>\n",
              "      <th>4</th>\n",
              "      <td>0</td>\n",
              "      <td>0</td>\n",
              "      <td>0</td>\n",
              "      <td>17</td>\n",
              "      <td>41</td>\n",
              "      <td>6</td>\n",
              "      <td>4</td>\n",
              "      <td>9101</td>\n",
              "      <td>31</td>\n",
              "      <td>1</td>\n",
              "      <td>0</td>\n",
              "    </tr>\n",
              "    <tr>\n",
              "      <th>...</th>\n",
              "      <td>...</td>\n",
              "      <td>...</td>\n",
              "      <td>...</td>\n",
              "      <td>...</td>\n",
              "      <td>...</td>\n",
              "      <td>...</td>\n",
              "      <td>...</td>\n",
              "      <td>...</td>\n",
              "      <td>...</td>\n",
              "      <td>...</td>\n",
              "      <td>...</td>\n",
              "    </tr>\n",
              "    <tr>\n",
              "      <th>7077906</th>\n",
              "      <td>7506</td>\n",
              "      <td>34</td>\n",
              "      <td>15</td>\n",
              "      <td>41</td>\n",
              "      <td>90</td>\n",
              "      <td>123</td>\n",
              "      <td>2</td>\n",
              "      <td>756</td>\n",
              "      <td>31</td>\n",
              "      <td>1238</td>\n",
              "      <td>0</td>\n",
              "    </tr>\n",
              "    <tr>\n",
              "      <th>7077907</th>\n",
              "      <td>7506</td>\n",
              "      <td>34</td>\n",
              "      <td>4</td>\n",
              "      <td>9</td>\n",
              "      <td>100</td>\n",
              "      <td>134</td>\n",
              "      <td>9</td>\n",
              "      <td>1097</td>\n",
              "      <td>31</td>\n",
              "      <td>1</td>\n",
              "      <td>0</td>\n",
              "    </tr>\n",
              "    <tr>\n",
              "      <th>7077908</th>\n",
              "      <td>7506</td>\n",
              "      <td>34</td>\n",
              "      <td>10</td>\n",
              "      <td>29</td>\n",
              "      <td>36</td>\n",
              "      <td>134</td>\n",
              "      <td>35</td>\n",
              "      <td>1098</td>\n",
              "      <td>31</td>\n",
              "      <td>1</td>\n",
              "      <td>1</td>\n",
              "    </tr>\n",
              "    <tr>\n",
              "      <th>7077909</th>\n",
              "      <td>7506</td>\n",
              "      <td>34</td>\n",
              "      <td>15</td>\n",
              "      <td>42</td>\n",
              "      <td>63</td>\n",
              "      <td>4</td>\n",
              "      <td>14</td>\n",
              "      <td>7504</td>\n",
              "      <td>31</td>\n",
              "      <td>1300</td>\n",
              "      <td>0</td>\n",
              "    </tr>\n",
              "    <tr>\n",
              "      <th>7077910</th>\n",
              "      <td>7506</td>\n",
              "      <td>34</td>\n",
              "      <td>7</td>\n",
              "      <td>23</td>\n",
              "      <td>74</td>\n",
              "      <td>134</td>\n",
              "      <td>38</td>\n",
              "      <td>1099</td>\n",
              "      <td>31</td>\n",
              "      <td>1</td>\n",
              "      <td>1</td>\n",
              "    </tr>\n",
              "  </tbody>\n",
              "</table>\n",
              "<p>1035904 rows × 11 columns</p>\n",
              "</div>\n",
              "      <button class=\"colab-df-convert\" onclick=\"convertToInteractive('df-abe5317a-a498-46b8-9a2d-7e3256b236eb')\"\n",
              "              title=\"Convert this dataframe to an interactive table.\"\n",
              "              style=\"display:none;\">\n",
              "        \n",
              "  <svg xmlns=\"http://www.w3.org/2000/svg\" height=\"24px\"viewBox=\"0 0 24 24\"\n",
              "       width=\"24px\">\n",
              "    <path d=\"M0 0h24v24H0V0z\" fill=\"none\"/>\n",
              "    <path d=\"M18.56 5.44l.94 2.06.94-2.06 2.06-.94-2.06-.94-.94-2.06-.94 2.06-2.06.94zm-11 1L8.5 8.5l.94-2.06 2.06-.94-2.06-.94L8.5 2.5l-.94 2.06-2.06.94zm10 10l.94 2.06.94-2.06 2.06-.94-2.06-.94-.94-2.06-.94 2.06-2.06.94z\"/><path d=\"M17.41 7.96l-1.37-1.37c-.4-.4-.92-.59-1.43-.59-.52 0-1.04.2-1.43.59L10.3 9.45l-7.72 7.72c-.78.78-.78 2.05 0 2.83L4 21.41c.39.39.9.59 1.41.59.51 0 1.02-.2 1.41-.59l7.78-7.78 2.81-2.81c.8-.78.8-2.07 0-2.86zM5.41 20L4 18.59l7.72-7.72 1.47 1.35L5.41 20z\"/>\n",
              "  </svg>\n",
              "      </button>\n",
              "      \n",
              "  <style>\n",
              "    .colab-df-container {\n",
              "      display:flex;\n",
              "      flex-wrap:wrap;\n",
              "      gap: 12px;\n",
              "    }\n",
              "\n",
              "    .colab-df-convert {\n",
              "      background-color: #E8F0FE;\n",
              "      border: none;\n",
              "      border-radius: 50%;\n",
              "      cursor: pointer;\n",
              "      display: none;\n",
              "      fill: #1967D2;\n",
              "      height: 32px;\n",
              "      padding: 0 0 0 0;\n",
              "      width: 32px;\n",
              "    }\n",
              "\n",
              "    .colab-df-convert:hover {\n",
              "      background-color: #E2EBFA;\n",
              "      box-shadow: 0px 1px 2px rgba(60, 64, 67, 0.3), 0px 1px 3px 1px rgba(60, 64, 67, 0.15);\n",
              "      fill: #174EA6;\n",
              "    }\n",
              "\n",
              "    [theme=dark] .colab-df-convert {\n",
              "      background-color: #3B4455;\n",
              "      fill: #D2E3FC;\n",
              "    }\n",
              "\n",
              "    [theme=dark] .colab-df-convert:hover {\n",
              "      background-color: #434B5C;\n",
              "      box-shadow: 0px 1px 3px 1px rgba(0, 0, 0, 0.15);\n",
              "      filter: drop-shadow(0px 1px 2px rgba(0, 0, 0, 0.3));\n",
              "      fill: #FFFFFF;\n",
              "    }\n",
              "  </style>\n",
              "\n",
              "      <script>\n",
              "        const buttonEl =\n",
              "          document.querySelector('#df-abe5317a-a498-46b8-9a2d-7e3256b236eb button.colab-df-convert');\n",
              "        buttonEl.style.display =\n",
              "          google.colab.kernel.accessAllowed ? 'block' : 'none';\n",
              "\n",
              "        async function convertToInteractive(key) {\n",
              "          const element = document.querySelector('#df-abe5317a-a498-46b8-9a2d-7e3256b236eb');\n",
              "          const dataTable =\n",
              "            await google.colab.kernel.invokeFunction('convertToInteractive',\n",
              "                                                     [key], {});\n",
              "          if (!dataTable) return;\n",
              "\n",
              "          const docLinkHtml = 'Like what you see? Visit the ' +\n",
              "            '<a target=\"_blank\" href=https://colab.research.google.com/notebooks/data_table.ipynb>data table notebook</a>'\n",
              "            + ' to learn more about interactive tables.';\n",
              "          element.innerHTML = '';\n",
              "          dataTable['output_type'] = 'display_data';\n",
              "          await google.colab.output.renderOutput(dataTable, element);\n",
              "          const docLink = document.createElement('div');\n",
              "          docLink.innerHTML = docLinkHtml;\n",
              "          element.appendChild(docLink);\n",
              "        }\n",
              "      </script>\n",
              "    </div>\n",
              "  </div>\n",
              "  "
            ]
          },
          "metadata": {},
          "execution_count": 32
        }
      ]
    },
    {
      "cell_type": "code",
      "source": [
        "ttrain['POS'].corr(ttrain['label'])"
      ],
      "metadata": {
        "colab": {
          "base_uri": "https://localhost:8080/"
        },
        "id": "WRW5sMtWgBlE",
        "outputId": "af2ac9b1-f940-4ace-c50b-2d61efe3b3f8"
      },
      "id": "WRW5sMtWgBlE",
      "execution_count": null,
      "outputs": [
        {
          "output_type": "execute_result",
          "data": {
            "text/plain": [
              "0.01904687298490898"
            ]
          },
          "metadata": {},
          "execution_count": 39
        }
      ]
    },
    {
      "cell_type": "code",
      "source": [
        "X_train=ttrain\n",
        "y_train=X_train.pop('label')\n",
        "\n",
        "\n",
        "X_test=ttest\n",
        "y_test=X_test.pop('label')\n"
      ],
      "metadata": {
        "id": "eMxhoo7AfJwH"
      },
      "execution_count": null,
      "outputs": [],
      "id": "eMxhoo7AfJwH"
    },
    {
      "cell_type": "code",
      "source": [
        "ttrain"
      ],
      "metadata": {
        "colab": {
          "base_uri": "https://localhost:8080/",
          "height": 424
        },
        "id": "miJZWphhfOfZ",
        "outputId": "9a1d27fc-99a3-42ed-d0fd-f6c081049846"
      },
      "id": "miJZWphhfOfZ",
      "execution_count": null,
      "outputs": [
        {
          "output_type": "execute_result",
          "data": {
            "text/plain": [
              "         sent_id repetion_id  POS  uni_POS  morph_type  distance_head  \\\n",
              "0              0           0   11       24          74              0   \n",
              "1              0           0   12       15         100              1   \n",
              "2              0           0   11       24          74              1   \n",
              "3              0           0   12        6         100              1   \n",
              "4              0           0    0       17          41              6   \n",
              "...          ...         ...  ...      ...         ...            ...   \n",
              "7077906     7506          34   15       41          90            123   \n",
              "7077907     7506          34    4        9         100            134   \n",
              "7077908     7506          34   10       29          36            134   \n",
              "7077909     7506          34   15       42          63              4   \n",
              "7077910     7506          34    7       23          74            134   \n",
              "\n",
              "         dep_label  dep_rel  space  probbank  \n",
              "0               46        0     30         1  \n",
              "1               44     3130     30         1  \n",
              "2               25     2995     31         1  \n",
              "3               44     3130     31         1  \n",
              "4                4     9101     31         1  \n",
              "...            ...      ...    ...       ...  \n",
              "7077906          2      756     31      1238  \n",
              "7077907          9     1097     31         1  \n",
              "7077908         35     1098     31         1  \n",
              "7077909         14     7504     31      1300  \n",
              "7077910         38     1099     31         1  \n",
              "\n",
              "[1035904 rows x 10 columns]"
            ],
            "text/html": [
              "\n",
              "  <div id=\"df-5e54ef88-ad24-4561-9cb6-10cffad9a09b\">\n",
              "    <div class=\"colab-df-container\">\n",
              "      <div>\n",
              "<style scoped>\n",
              "    .dataframe tbody tr th:only-of-type {\n",
              "        vertical-align: middle;\n",
              "    }\n",
              "\n",
              "    .dataframe tbody tr th {\n",
              "        vertical-align: top;\n",
              "    }\n",
              "\n",
              "    .dataframe thead th {\n",
              "        text-align: right;\n",
              "    }\n",
              "</style>\n",
              "<table border=\"1\" class=\"dataframe\">\n",
              "  <thead>\n",
              "    <tr style=\"text-align: right;\">\n",
              "      <th></th>\n",
              "      <th>sent_id</th>\n",
              "      <th>repetion_id</th>\n",
              "      <th>POS</th>\n",
              "      <th>uni_POS</th>\n",
              "      <th>morph_type</th>\n",
              "      <th>distance_head</th>\n",
              "      <th>dep_label</th>\n",
              "      <th>dep_rel</th>\n",
              "      <th>space</th>\n",
              "      <th>probbank</th>\n",
              "    </tr>\n",
              "  </thead>\n",
              "  <tbody>\n",
              "    <tr>\n",
              "      <th>0</th>\n",
              "      <td>0</td>\n",
              "      <td>0</td>\n",
              "      <td>11</td>\n",
              "      <td>24</td>\n",
              "      <td>74</td>\n",
              "      <td>0</td>\n",
              "      <td>46</td>\n",
              "      <td>0</td>\n",
              "      <td>30</td>\n",
              "      <td>1</td>\n",
              "    </tr>\n",
              "    <tr>\n",
              "      <th>1</th>\n",
              "      <td>0</td>\n",
              "      <td>0</td>\n",
              "      <td>12</td>\n",
              "      <td>15</td>\n",
              "      <td>100</td>\n",
              "      <td>1</td>\n",
              "      <td>44</td>\n",
              "      <td>3130</td>\n",
              "      <td>30</td>\n",
              "      <td>1</td>\n",
              "    </tr>\n",
              "    <tr>\n",
              "      <th>2</th>\n",
              "      <td>0</td>\n",
              "      <td>0</td>\n",
              "      <td>11</td>\n",
              "      <td>24</td>\n",
              "      <td>74</td>\n",
              "      <td>1</td>\n",
              "      <td>25</td>\n",
              "      <td>2995</td>\n",
              "      <td>31</td>\n",
              "      <td>1</td>\n",
              "    </tr>\n",
              "    <tr>\n",
              "      <th>3</th>\n",
              "      <td>0</td>\n",
              "      <td>0</td>\n",
              "      <td>12</td>\n",
              "      <td>6</td>\n",
              "      <td>100</td>\n",
              "      <td>1</td>\n",
              "      <td>44</td>\n",
              "      <td>3130</td>\n",
              "      <td>31</td>\n",
              "      <td>1</td>\n",
              "    </tr>\n",
              "    <tr>\n",
              "      <th>4</th>\n",
              "      <td>0</td>\n",
              "      <td>0</td>\n",
              "      <td>0</td>\n",
              "      <td>17</td>\n",
              "      <td>41</td>\n",
              "      <td>6</td>\n",
              "      <td>4</td>\n",
              "      <td>9101</td>\n",
              "      <td>31</td>\n",
              "      <td>1</td>\n",
              "    </tr>\n",
              "    <tr>\n",
              "      <th>...</th>\n",
              "      <td>...</td>\n",
              "      <td>...</td>\n",
              "      <td>...</td>\n",
              "      <td>...</td>\n",
              "      <td>...</td>\n",
              "      <td>...</td>\n",
              "      <td>...</td>\n",
              "      <td>...</td>\n",
              "      <td>...</td>\n",
              "      <td>...</td>\n",
              "    </tr>\n",
              "    <tr>\n",
              "      <th>7077906</th>\n",
              "      <td>7506</td>\n",
              "      <td>34</td>\n",
              "      <td>15</td>\n",
              "      <td>41</td>\n",
              "      <td>90</td>\n",
              "      <td>123</td>\n",
              "      <td>2</td>\n",
              "      <td>756</td>\n",
              "      <td>31</td>\n",
              "      <td>1238</td>\n",
              "    </tr>\n",
              "    <tr>\n",
              "      <th>7077907</th>\n",
              "      <td>7506</td>\n",
              "      <td>34</td>\n",
              "      <td>4</td>\n",
              "      <td>9</td>\n",
              "      <td>100</td>\n",
              "      <td>134</td>\n",
              "      <td>9</td>\n",
              "      <td>1097</td>\n",
              "      <td>31</td>\n",
              "      <td>1</td>\n",
              "    </tr>\n",
              "    <tr>\n",
              "      <th>7077908</th>\n",
              "      <td>7506</td>\n",
              "      <td>34</td>\n",
              "      <td>10</td>\n",
              "      <td>29</td>\n",
              "      <td>36</td>\n",
              "      <td>134</td>\n",
              "      <td>35</td>\n",
              "      <td>1098</td>\n",
              "      <td>31</td>\n",
              "      <td>1</td>\n",
              "    </tr>\n",
              "    <tr>\n",
              "      <th>7077909</th>\n",
              "      <td>7506</td>\n",
              "      <td>34</td>\n",
              "      <td>15</td>\n",
              "      <td>42</td>\n",
              "      <td>63</td>\n",
              "      <td>4</td>\n",
              "      <td>14</td>\n",
              "      <td>7504</td>\n",
              "      <td>31</td>\n",
              "      <td>1300</td>\n",
              "    </tr>\n",
              "    <tr>\n",
              "      <th>7077910</th>\n",
              "      <td>7506</td>\n",
              "      <td>34</td>\n",
              "      <td>7</td>\n",
              "      <td>23</td>\n",
              "      <td>74</td>\n",
              "      <td>134</td>\n",
              "      <td>38</td>\n",
              "      <td>1099</td>\n",
              "      <td>31</td>\n",
              "      <td>1</td>\n",
              "    </tr>\n",
              "  </tbody>\n",
              "</table>\n",
              "<p>1035904 rows × 10 columns</p>\n",
              "</div>\n",
              "      <button class=\"colab-df-convert\" onclick=\"convertToInteractive('df-5e54ef88-ad24-4561-9cb6-10cffad9a09b')\"\n",
              "              title=\"Convert this dataframe to an interactive table.\"\n",
              "              style=\"display:none;\">\n",
              "        \n",
              "  <svg xmlns=\"http://www.w3.org/2000/svg\" height=\"24px\"viewBox=\"0 0 24 24\"\n",
              "       width=\"24px\">\n",
              "    <path d=\"M0 0h24v24H0V0z\" fill=\"none\"/>\n",
              "    <path d=\"M18.56 5.44l.94 2.06.94-2.06 2.06-.94-2.06-.94-.94-2.06-.94 2.06-2.06.94zm-11 1L8.5 8.5l.94-2.06 2.06-.94-2.06-.94L8.5 2.5l-.94 2.06-2.06.94zm10 10l.94 2.06.94-2.06 2.06-.94-2.06-.94-.94-2.06-.94 2.06-2.06.94z\"/><path d=\"M17.41 7.96l-1.37-1.37c-.4-.4-.92-.59-1.43-.59-.52 0-1.04.2-1.43.59L10.3 9.45l-7.72 7.72c-.78.78-.78 2.05 0 2.83L4 21.41c.39.39.9.59 1.41.59.51 0 1.02-.2 1.41-.59l7.78-7.78 2.81-2.81c.8-.78.8-2.07 0-2.86zM5.41 20L4 18.59l7.72-7.72 1.47 1.35L5.41 20z\"/>\n",
              "  </svg>\n",
              "      </button>\n",
              "      \n",
              "  <style>\n",
              "    .colab-df-container {\n",
              "      display:flex;\n",
              "      flex-wrap:wrap;\n",
              "      gap: 12px;\n",
              "    }\n",
              "\n",
              "    .colab-df-convert {\n",
              "      background-color: #E8F0FE;\n",
              "      border: none;\n",
              "      border-radius: 50%;\n",
              "      cursor: pointer;\n",
              "      display: none;\n",
              "      fill: #1967D2;\n",
              "      height: 32px;\n",
              "      padding: 0 0 0 0;\n",
              "      width: 32px;\n",
              "    }\n",
              "\n",
              "    .colab-df-convert:hover {\n",
              "      background-color: #E2EBFA;\n",
              "      box-shadow: 0px 1px 2px rgba(60, 64, 67, 0.3), 0px 1px 3px 1px rgba(60, 64, 67, 0.15);\n",
              "      fill: #174EA6;\n",
              "    }\n",
              "\n",
              "    [theme=dark] .colab-df-convert {\n",
              "      background-color: #3B4455;\n",
              "      fill: #D2E3FC;\n",
              "    }\n",
              "\n",
              "    [theme=dark] .colab-df-convert:hover {\n",
              "      background-color: #434B5C;\n",
              "      box-shadow: 0px 1px 3px 1px rgba(0, 0, 0, 0.15);\n",
              "      filter: drop-shadow(0px 1px 2px rgba(0, 0, 0, 0.3));\n",
              "      fill: #FFFFFF;\n",
              "    }\n",
              "  </style>\n",
              "\n",
              "      <script>\n",
              "        const buttonEl =\n",
              "          document.querySelector('#df-5e54ef88-ad24-4561-9cb6-10cffad9a09b button.colab-df-convert');\n",
              "        buttonEl.style.display =\n",
              "          google.colab.kernel.accessAllowed ? 'block' : 'none';\n",
              "\n",
              "        async function convertToInteractive(key) {\n",
              "          const element = document.querySelector('#df-5e54ef88-ad24-4561-9cb6-10cffad9a09b');\n",
              "          const dataTable =\n",
              "            await google.colab.kernel.invokeFunction('convertToInteractive',\n",
              "                                                     [key], {});\n",
              "          if (!dataTable) return;\n",
              "\n",
              "          const docLinkHtml = 'Like what you see? Visit the ' +\n",
              "            '<a target=\"_blank\" href=https://colab.research.google.com/notebooks/data_table.ipynb>data table notebook</a>'\n",
              "            + ' to learn more about interactive tables.';\n",
              "          element.innerHTML = '';\n",
              "          dataTable['output_type'] = 'display_data';\n",
              "          await google.colab.output.renderOutput(dataTable, element);\n",
              "          const docLink = document.createElement('div');\n",
              "          docLink.innerHTML = docLinkHtml;\n",
              "          element.appendChild(docLink);\n",
              "        }\n",
              "      </script>\n",
              "    </div>\n",
              "  </div>\n",
              "  "
            ]
          },
          "metadata": {},
          "execution_count": 36
        }
      ]
    },
    {
      "cell_type": "markdown",
      "source": [
        "THE MODEL\n"
      ],
      "metadata": {
        "id": "bMTwc5n_fJwP"
      },
      "id": "bMTwc5n_fJwP"
    },
    {
      "cell_type": "code",
      "source": [
        "#instantiate the model\n",
        "log_regression = LogisticRegression(penalty='l2')\n",
        "\n",
        "#fit the model using the training data\n",
        "log_regression.fit(X_train,y_train)\n",
        "\n",
        "#use model to make predictions on test data\n",
        "y_pred = log_regression.predict(X_test)\n",
        "\n",
        "f1 = f1_score(y_test,y_pred)\n",
        "prec = precision_score(y_test,y_pred)\n",
        "print(f\"{f1=}\")\n",
        "print(f\"{prec=}\")\n"
      ],
      "metadata": {
        "colab": {
          "base_uri": "https://localhost:8080/"
        },
        "id": "WsAlu4QHfJwU",
        "outputId": "66bd48c6-1674-41ab-fe00-743d61114b00"
      },
      "execution_count": null,
      "outputs": [
        {
          "output_type": "stream",
          "name": "stderr",
          "text": [
            "/usr/local/lib/python3.8/dist-packages/sklearn/linear_model/_logistic.py:814: ConvergenceWarning: lbfgs failed to converge (status=1):\n",
            "STOP: TOTAL NO. of ITERATIONS REACHED LIMIT.\n",
            "\n",
            "Increase the number of iterations (max_iter) or scale the data as shown in:\n",
            "    https://scikit-learn.org/stable/modules/preprocessing.html\n",
            "Please also refer to the documentation for alternative solver options:\n",
            "    https://scikit-learn.org/stable/modules/linear_model.html#logistic-regression\n",
            "  n_iter_i = _check_optimize_result(\n"
          ]
        },
        {
          "output_type": "stream",
          "name": "stdout",
          "text": [
            "f1=0.0\n",
            "prec=0.0\n"
          ]
        }
      ],
      "id": "WsAlu4QHfJwU"
    },
    {
      "cell_type": "code",
      "source": [
        "y_pred.sum()"
      ],
      "metadata": {
        "colab": {
          "base_uri": "https://localhost:8080/"
        },
        "id": "jLAh4H1nfzwZ",
        "outputId": "529b8181-1ddd-4fae-a8cb-0e890c86cb2f"
      },
      "id": "jLAh4H1nfzwZ",
      "execution_count": null,
      "outputs": [
        {
          "output_type": "execute_result",
          "data": {
            "text/plain": [
              "3"
            ]
          },
          "metadata": {},
          "execution_count": 42
        }
      ]
    },
    {
      "cell_type": "code",
      "source": [],
      "metadata": {
        "id": "F94ZS3CMgwO6"
      },
      "id": "F94ZS3CMgwO6",
      "execution_count": null,
      "outputs": []
    },
    {
      "cell_type": "markdown",
      "source": [
        "##COLUMNT TRANSFORMER ATTEMPT (ignore)"
      ],
      "metadata": {
        "id": "xIjLhGYzgw35"
      },
      "id": "xIjLhGYzgw35"
    },
    {
      "cell_type": "code",
      "source": [
        "ct = ColumnTransformer([(\"token_vec\", OneHotEncoder(), [\"token\"])], remainder=\"passthrough\",sparse_threshold=0)"
      ],
      "metadata": {
        "id": "HkFZRud7Xyhy"
      },
      "id": "HkFZRud7Xyhy",
      "execution_count": null,
      "outputs": []
    },
    {
      "cell_type": "code",
      "source": [
        "dataset = ct.fit_transform(ttrain)"
      ],
      "metadata": {
        "id": "f83epUUxZ9iU"
      },
      "id": "f83epUUxZ9iU",
      "execution_count": null,
      "outputs": []
    },
    {
      "cell_type": "code",
      "source": [
        "dataset.shape"
      ],
      "metadata": {
        "colab": {
          "base_uri": "https://localhost:8080/"
        },
        "id": "Z4l3BM69a09Q",
        "outputId": "e4ef6bcf-08d3-443c-b1be-79a814a8d221"
      },
      "id": "Z4l3BM69a09Q",
      "execution_count": null,
      "outputs": [
        {
          "output_type": "execute_result",
          "data": {
            "text/plain": [
              "(103246, 4880)"
            ]
          },
          "metadata": {},
          "execution_count": 43
        }
      ]
    },
    {
      "cell_type": "code",
      "source": [
        "dataset.shape"
      ],
      "metadata": {
        "colab": {
          "base_uri": "https://localhost:8080/"
        },
        "id": "fH6ylYHRbRXh",
        "outputId": "290f214a-4763-4713-94c9-1ac8451f861f"
      },
      "id": "fH6ylYHRbRXh",
      "execution_count": null,
      "outputs": [
        {
          "output_type": "execute_result",
          "data": {
            "text/plain": [
              "(103246, 4881)"
            ]
          },
          "metadata": {},
          "execution_count": 46
        }
      ]
    }
  ],
  "metadata": {
    "kernelspec": {
      "display_name": "Python 3 (ipykernel)",
      "language": "python",
      "name": "python3"
    },
    "language_info": {
      "codemirror_mode": {
        "name": "ipython",
        "version": 3
      },
      "file_extension": ".py",
      "mimetype": "text/x-python",
      "name": "python",
      "nbconvert_exporter": "python",
      "pygments_lexer": "ipython3",
      "version": "3.10.7"
    },
    "colab": {
      "provenance": [],
      "collapsed_sections": [
        "dwtocEY5W47H",
        "xIjLhGYzgw35"
      ],
      "include_colab_link": true
    }
  },
  "nbformat": 4,
  "nbformat_minor": 5
}