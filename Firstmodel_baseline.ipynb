{
  "cells": [
    {
      "cell_type": "markdown",
      "metadata": {
        "id": "view-in-github",
        "colab_type": "text"
      },
      "source": [
        "<a href=\"https://colab.research.google.com/github/hasan-sh/advanced-nlp/blob/main/Firstmodel_baseline.ipynb\" target=\"_parent\"><img src=\"https://colab.research.google.com/assets/colab-badge.svg\" alt=\"Open In Colab\"/></a>"
      ]
    },
    {
      "cell_type": "markdown",
      "source": [
        "THINGS TO DO:\n",
        "deal with NER ,\n",
        " add model1 as feature, \n",
        " use weighted average,\n",
        " morphtype (could extract feature ahhh thats what hisha, was saying)"
      ],
      "metadata": {
        "id": "u2cSMGSS7e1C"
      },
      "id": "u2cSMGSS7e1C"
    },
    {
      "cell_type": "code",
      "source": [
        "import pandas as pd\n",
        "import numpy as np\n",
        "from sklearn.feature_extraction.text import CountVectorizer\n",
        "from sklearn.preprocessing import OneHotEncoder\n",
        "from sklearn.preprocessing import LabelEncoder\n",
        "from sklearn.linear_model import LogisticRegression\n",
        "from sklearn.compose import ColumnTransformer\n",
        "from sklearn.preprocessing import OrdinalEncoder\n",
        "from sklearn.feature_extraction.text import TfidfVectorizer\n",
        "from sklearn.pipeline import Pipeline\n",
        "from sklearn.metrics import *\n",
        "import matplotlib.pyplot as plt\n",
        "import seaborn as sns\n",
        "from sklearn.feature_extraction import FeatureHasher\n",
        "\n",
        "from warnings import simplefilter\n",
        "from sklearn.exceptions import ConvergenceWarning\n",
        "simplefilter(\"ignore\", category=ConvergenceWarning)"
      ],
      "metadata": {
        "id": "EuJPshDtoHqb"
      },
      "id": "EuJPshDtoHqb",
      "execution_count": 42,
      "outputs": []
    },
    {
      "cell_type": "code",
      "source": [
        "!git clone https://github.com/hasan-sh/advanced-nlp.git"
      ],
      "metadata": {
        "colab": {
          "base_uri": "https://localhost:8080/"
        },
        "id": "WScyFUAFDrGl",
        "outputId": "26be8e6e-79b5-4729-d95b-3d435e350f23"
      },
      "id": "WScyFUAFDrGl",
      "execution_count": 43,
      "outputs": [
        {
          "output_type": "stream",
          "name": "stdout",
          "text": [
            "fatal: destination path 'advanced-nlp' already exists and is not an empty directory.\n"
          ]
        }
      ]
    },
    {
      "cell_type": "code",
      "source": [
        "!pwd"
      ],
      "metadata": {
        "colab": {
          "base_uri": "https://localhost:8080/"
        },
        "id": "4I0iZzGdD2i6",
        "outputId": "d1a149a6-b48a-4c92-fdcf-0a72d7a084e4"
      },
      "id": "4I0iZzGdD2i6",
      "execution_count": 44,
      "outputs": [
        {
          "output_type": "stream",
          "name": "stdout",
          "text": [
            "/content\n"
          ]
        }
      ]
    },
    {
      "cell_type": "code",
      "execution_count": 45,
      "id": "4139308a-d774-4d55-adda-75aca9cd5713",
      "metadata": {
        "id": "4139308a-d774-4d55-adda-75aca9cd5713"
      },
      "outputs": [],
      "source": [
        "train_file = '/content/advanced-nlp/data/en_ewt-up-train.conllu'\n",
        "test_file = '/content/advanced-nlp/data/en_ewt-up-test.conllu'"
      ]
    },
    {
      "cell_type": "code",
      "execution_count": 46,
      "id": "11c19708-f841-4b42-8ba3-2bd7a733ba61",
      "metadata": {
        "id": "11c19708-f841-4b42-8ba3-2bd7a733ba61"
      },
      "outputs": [],
      "source": [
        "def read_data(file_path, save_to_csv=False):\n",
        "    \"\"\"\n",
        "    This function reads a CoNLL-U format file and converts it into a pandas DataFrame.\n",
        "    Each row in the DataFrame corresponds to a token in the file, and columns\n",
        "    correspond to different features of the token, such as the token itself, its lemma, \n",
        "    part-of-speech tag, and syntactic dependency information.\n",
        "    \n",
        "    Parameters:\n",
        "    file_path (str): The path to the input CoNLL-U format file.\n",
        "    save_to_csv (bool): A boolean flag indicating whether to save the resulting DataFrame \n",
        "                        to a CSV file. Default is False.\n",
        "                        \n",
        "    Returns:\n",
        "    df (pandas.DataFrame): A pandas DataFrame containing the token-level information from\n",
        "                           the input file.\n",
        "    \"\"\"\n",
        "    \n",
        "    # Open and read the input file\n",
        "    with open(file_path, 'r', encoding='utf-8') as f:\n",
        "        train_data = f.read()\n",
        "    \n",
        "    # Split the file into individual documents, each separated by a blank line\n",
        "    data = []\n",
        "    for doc_i, doc in enumerate(train_data.split('\\n\\n')):\n",
        "        doc = doc.split('\\n')\n",
        "        sentences = ''\n",
        "        for line in doc:\n",
        "            # Skip lines starting with '#' (comment lines)\n",
        "            if line and line[0] != '#':\n",
        "                line = line.split('\\t')\n",
        "                line.insert(0, str(doc_i))\n",
        "                sentences += '\\t'.join(line) + '\\n'\n",
        "        data.append(sentences)\n",
        "    \n",
        "    # Create a pandas DataFrame from the token-level data\n",
        "    train_df = pd.DataFrame([x.split('\\t') for sent in data for x in sent.split('\\n') if x])\n",
        "    \n",
        "    # Rename the columns of the DataFrame\n",
        "    train_df = train_df.rename(columns={\n",
        "        0:'sent_id', \n",
        "        1:'token_id', \n",
        "        2:'token', \n",
        "        3:'lemma', \n",
        "        4:'POS', \n",
        "        5:'uni_POS',\n",
        "        6:'morph_type', \n",
        "        7:'distance_head', \n",
        "        8:'dep_label', \n",
        "        9:'dep_rel', \n",
        "        10:'space', \n",
        "        11:'probbank'\n",
        "    })\n",
        "    \n",
        "    # Convert the DataFrame from wide to long format\n",
        "    df = train_df.melt(\n",
        "        id_vars=[i for i in train_df.columns[:12]], \n",
        "        var_name=\"notneeded\", \n",
        "        value_name=\"target\"\n",
        "    )\n",
        "    \n",
        "    # Drop the 'notneeded' column and any rows that contain missing values\n",
        "    #df[\"sent_id\"]=df['sent_id'].str.cat((df['notneeded'].astype(int)-12).astype(str) , sep=\"_\" )\n",
        "    df[\"repetion_id\"]=df[\"notneeded\"]-12\n",
        "    df.drop(['notneeded'], axis=1, inplace=True)\n",
        "    df = df[df['target'].notna()]\n",
        "    \n",
        "    # Optionally save the resulting DataFrame to a CSV file\n",
        "    if save_to_csv:\n",
        "        df.to_csv('/content/advanced-nlp/data/test.tsv', sep='\\t', index=False)\n",
        "    \n",
        "    # Return the resulting DataFrame\n",
        "\n",
        "    return df"
      ]
    },
    {
      "cell_type": "code",
      "execution_count": 126,
      "id": "d5d4a042-df70-46a3-9c3e-0fe29f747d4b",
      "metadata": {
        "id": "d5d4a042-df70-46a3-9c3e-0fe29f747d4b"
      },
      "outputs": [],
      "source": [
        "train = read_data(train_file,save_to_csv=True)\n",
        "test = read_data(test_file, save_to_csv=True)\n",
        "train.reset_index(inplace=True)\n",
        "test.reset_index(inplace=True)"
      ]
    },
    {
      "cell_type": "code",
      "source": [
        "def make_binary_label(df):\n",
        "  df = df.assign(label=[0 if target==\"_\" or target==\"V\" else 1 for target in df['target']])\n",
        "  df= df.drop('target', axis=1)\n",
        "  return df\n",
        "\n",
        "\n",
        "\n",
        "def numerical_features(df,cols):\n",
        "  \"\"\"This function perform a preprocessing steps that consists of:\n",
        "    - cast numerical features to int\"\"\"\n",
        "\n",
        "  num_features = df[cols]\n",
        "  num_features = num_features.astype(int)\n",
        "\n",
        "  return num_features\n",
        "\n",
        "\n",
        "def create_ORD_encoding(train_df,test_df,cols_to_encode):\n",
        "  \"\"\"This function creates a ordinal encoding (just assign number to every value) for all columns in the list cols_to_encode \"\"\"\n",
        "  # create a Encoder objec\n",
        "  oe = OrdinalEncoder(handle_unknown='use_encoded_value',unknown_value=-1)\n",
        "  \n",
        "  # iterate over the columns to encode\n",
        "  for col in cols_to_encode:\n",
        "      train_df[col] = oe.fit_transform(train_df[col])\n",
        "      test_df[col] = oe.transform(test_df[col])\n",
        "\n",
        "  return train_df,test_df\n",
        "\n",
        "\n",
        "def create_OneHot_encoding(train_df,test_df,cols_to_encode):\n",
        "  \"\"\"This function creates a label encoding (just assign number to every value) for all columns in the list cols_to_encode \"\"\"\n",
        "  # create a LabelEncoder objec\n",
        "  enc = OneHotEncoder(handle_unknown='ignore')\n",
        "  #train_df = oe.fit_transform(df_train[cols_to_encode])\n",
        "  #test_df = oe.transform(df_test[cols_to_encode])\n",
        "  #print(oe.categories_)\n",
        "  # iterate over the columns to encode\n",
        "  for col in cols_to_encode:\n",
        "      train_df[col] = enc.fit_transform(train_df[col.values])\n",
        "      test_df[col] = enc.transform(test_df[col].values)\n",
        "\n",
        "  return train_df,test_df\n",
        "\n",
        "\n",
        "\n",
        "\n",
        "def vectorize_Count_token(tokens_train,tokens_test):\n",
        "    vectorizer = CountVectorizer()\n",
        "    X_train = vectorizer.fit_transform(tokens_train['token'])\n",
        "    X_test = vectorizer.transform(tokens_test['token'])\n",
        "    return X_train,X_test\n",
        "\n",
        "    \n",
        "def vectorize_tfidf_token(tokens_train,tokens_test):\n",
        "    vectorizer = TfidfVectorizer()\n",
        "\n",
        "    X_train = vectorizer.fit_transform(tokens_train['token'])\n",
        "    X_test = vectorizer.transform(tokens_test['token'])\n",
        "    return X_train,X_test\n",
        "\n",
        "\n",
        "N=820000\n",
        "    \n",
        "def downsample(tokens_train,N):\n",
        "  return tokens_train.drop(tokens_train[tokens_train['target']==\"_\"].sample(n=N).index)\n",
        "\n"
      ],
      "metadata": {
        "id": "T_1k9SPRri2Y"
      },
      "id": "T_1k9SPRri2Y",
      "execution_count": 233,
      "outputs": []
    },
    {
      "cell_type": "code",
      "source": [
        "def get_helper1(train_df,test_df,N_outfeature=50):\n",
        "  \"\"\"this function takes both train and test because the model that gives the information is the samerained on the training as well.\n",
        "  It is adviced to use this at the end of preproessin for the first model to benefit from all the foruth future \"\"\"\n",
        "\n",
        "  #THIS DROPS THE TARGET CLASS AS WELL\n",
        "  X_train= make_binary_label(train_df)\n",
        "  X_test = make_binary_label(test_df)\n",
        "\n",
        "\n",
        "  y_train=X_train.pop('label')\n",
        "  y_test=X_test.pop('label')\n",
        "  \n",
        "  #print(X_train.shape,X_test.shape)\n",
        "  \n",
        "  log_regression = LogisticRegression(penalty='l2')\n",
        "  #fit the model using the training data\n",
        "  log_regression.fit(X_train,y_train)\n",
        "\n",
        "  #use model to make predictions on test data\n",
        "  helper1_train = log_regression.predict(X_train)\n",
        "\n",
        "  helper1_test = log_regression.predict(X_test)\n",
        "\n",
        "  return helper1_train,helper1_test\n",
        "\n",
        "def vectorize_hash_token(train_tokens,test_tokens,N_outfeature=65):\n",
        "\n",
        "  hasher = FeatureHasher(n_features=N_outfeature,input_type='string')\n",
        "  X_train = hasher.fit_transform(train_tokens)\n",
        "  X_test = hasher.transform(test_tokens)\n",
        "  # Convert the resulting sparse matrix to a dense matrix and concatenate with the numerical features\n",
        "  X_train  = pd.DataFrame(X_train.toarray(),columns=[\"tok_\"+str(i) for i in range(0,N_outfeature)])\n",
        "  X_test  = pd.DataFrame(X_test.toarray(),columns=[\"tok_\"+str(i) for i in range(0,N_outfeature)])\n",
        "\n",
        "  return X_train,X_test\n",
        "\n",
        "  \n",
        "\n",
        "def make_cat_label(train_target,test_target):\n",
        "  \n",
        "  encoder = LabelEncoder() \n",
        "  y_all = np.concatenate([train_target, test_target], axis=0)\n",
        "  # Fit the label encoder to the targets\n",
        "  encoder.fit(y_all.astype(str))\n",
        "\n",
        "  \n",
        "  y_train = encoder.transform(train_target.astype(str))\n",
        "  y_test = encoder.transform(test_target.astype(str))\n",
        "\n",
        "  return y_train,y_test\n",
        "\n"
      ],
      "metadata": {
        "id": "HO8lfPXVlnWd"
      },
      "execution_count": 257,
      "outputs": [],
      "id": "HO8lfPXVlnWd"
    },
    {
      "cell_type": "code",
      "source": [
        "def logistic_reg(X_train,X_test,y_train,y_test):\n",
        "  #instantiate the model\n",
        "  log_regression = LogisticRegression(penalty='l2')\n",
        "\n",
        "  #fit the model using the training data\n",
        "  log_regression.fit(X_train,y_train)\n",
        "\n",
        "  #use model to make predictions on test data\n",
        "  y_pred = log_regression.predict(X_test)\n",
        "  return y_pred"
      ],
      "metadata": {
        "id": "-zNTlLupFcnm"
      },
      "id": "-zNTlLupFcnm",
      "execution_count": 235,
      "outputs": []
    },
    {
      "cell_type": "code",
      "source": [
        "def confusion_mtrx_binary(y_test,y_pred):\n",
        "\n",
        "  cm = confusion_matrix(y_test, y_pred)\n",
        "  ax= plt.subplot()\n",
        "  sns.heatmap(cm, annot=True, fmt='g', ax=ax,cmap='Blues');  #annot=True to annotate cells, ftm='g' to disable scientific notation\n",
        "  sns.color_palette(\"tab10\")\n",
        "\n",
        "  # labels, title and ticks\n",
        "  ax.set_xlabel('Predicted labels');ax.set_ylabel('True labels'); \n",
        "  ax.set_title('Confusion Matrix'); \n",
        "  ax.xaxis.set_ticklabels(['non_arg', 'arg']); ax.yaxis.set_ticklabels(['non_arg', 'arg']);\n",
        "  return 0"
      ],
      "metadata": {
        "id": "IlP1AbJ9cZQZ"
      },
      "id": "IlP1AbJ9cZQZ",
      "execution_count": 236,
      "outputs": []
    },
    {
      "cell_type": "code",
      "source": [
        "def downsampling_study(train,test,start=100000,end=900000,step=50000):\n",
        "\n",
        "  down_sample_size =  [x for x in range(start,end,step)]\n",
        "  down_sample_size.reverse() #this is because theese represents how many rows it will remove, dus to have an increasing remaining size of train test we reverse it\n",
        "\n",
        "  f1_scores=[]\n",
        "  true_predicts=[]\n",
        "  n_samples=[]\n",
        "  for x in down_sample_size:\n",
        "    print(f\"{x=}\")\n",
        "    strain=train.copy()\n",
        "    stest=test.copy()\n",
        "    strain=downsample(strain,x)\n",
        "\n",
        "    train_size=strain.shape[0]\n",
        "    n_samples.append(train_size)\n",
        "    print(f\"{train_size=}\")\n",
        "\n",
        "\n",
        "    X_train=strain\n",
        "    y_train=X_train.pop('label')\n",
        "    X_test=stest\n",
        "    y_test=X_test.pop('label')\n",
        "\n",
        "    y_pred = logistic_reg(X_train,X_test,y_train,y_test)\n",
        "    \n",
        "    npred=y_pred.sum()\n",
        "    true_predicts.append(npred)\n",
        "    print(f\"{npred=}\")\n",
        "\n",
        "    f1 = f1_score(y_test,y_pred, average='weighted')\n",
        "    f1_scores.append(f1)\n",
        "    print(f\"{f1=}\")\n",
        "    print(\"-------------------X----------------\")\n",
        "\n",
        "  return n_samples,f1_scores,true_predicts\n",
        "\n",
        "def plot_downsampling_study(n_sample,var,var_type):\n",
        "  plt.plot(n_samples,var)\n",
        "  plt.xlabel(\"Nr of instances\")\n",
        "  plt.ylabel(var_type)\n",
        "  plt.title(var_type+\" on nr of training intances\")\n",
        "  plt.xticks([x for x in range(100000,1000000, 200000)])\n",
        "  plt.rcParams['figure.figsize'] = [3.8,3.8]\n",
        "  #plt.xlim(0, 100e+4)\n",
        "\n",
        "  # set the grid on\n",
        "  plt.grid('on')\n",
        "\n",
        "  "
      ],
      "metadata": {
        "id": "C_j2_owtly4U"
      },
      "id": "C_j2_owtly4U",
      "execution_count": 237,
      "outputs": []
    },
    {
      "cell_type": "markdown",
      "source": [
        "##BASELINE ONLY TOKEN with countVectorizer\n",
        "\n",
        "\n",
        "\n"
      ],
      "metadata": {
        "id": "fdE6rrG-mgRD"
      },
      "id": "fdE6rrG-mgRD"
    },
    {
      "cell_type": "code",
      "source": [
        "def prepare_token_data(tokens_train,tokens_test):\n",
        "  vectorizer = CountVectorizer()\n",
        "  X_train = vectorizer.fit_transform(tokens_train['token'])\n",
        "  X_test = vectorizer.transform(tokens_test['token'])\n",
        "  y_train=tokens_train['label']\n",
        "  y_test=tokens_test['label']\n",
        "\n",
        "  return X_train,X_test,y_train,y_test\n"
      ],
      "metadata": {
        "id": "wiWehoZrEiV5"
      },
      "execution_count": 52,
      "outputs": [],
      "id": "wiWehoZrEiV5"
    },
    {
      "cell_type": "code",
      "source": [
        "tokens_train=train[[\"token\",\"target\"]]\n",
        "tokens_test=test[[\"token\",\"target\"]]\n",
        "tokens_train=make_binary_label(tokens_train)\n",
        "tokens_test=make_binary_label(tokens_test)\n",
        "X_train,X_test,y_train,y_test=prepare_token_data(tokens_train,tokens_test)\n",
        "y_pred=logistic_reg(X_train,X_test,y_train,y_test)\n",
        "f1 = f1_score(y_test,y_pred)\n",
        "print(f\"{f1=}\")\n"
      ],
      "metadata": {
        "id": "4PZnvYkrn43V",
        "colab": {
          "base_uri": "https://localhost:8080/"
        },
        "outputId": "f086d9a0-f18d-4bc7-ad23-48aef36ea154"
      },
      "id": "4PZnvYkrn43V",
      "execution_count": null,
      "outputs": [
        {
          "output_type": "stream",
          "name": "stdout",
          "text": [
            "f1=0.02061855670103093\n"
          ]
        },
        {
          "output_type": "stream",
          "name": "stderr",
          "text": [
            "/usr/local/lib/python3.8/dist-packages/sklearn/linear_model/_logistic.py:814: ConvergenceWarning: lbfgs failed to converge (status=1):\n",
            "STOP: TOTAL NO. of ITERATIONS REACHED LIMIT.\n",
            "\n",
            "Increase the number of iterations (max_iter) or scale the data as shown in:\n",
            "    https://scikit-learn.org/stable/modules/preprocessing.html\n",
            "Please also refer to the documentation for alternative solver options:\n",
            "    https://scikit-learn.org/stable/modules/linear_model.html#logistic-regression\n",
            "  n_iter_i = _check_optimize_result(\n"
          ]
        }
      ]
    },
    {
      "cell_type": "code",
      "source": [],
      "metadata": {
        "id": "lq3P2p9Ut-Zz"
      },
      "id": "lq3P2p9Ut-Zz",
      "execution_count": null,
      "outputs": []
    },
    {
      "cell_type": "code",
      "source": [
        "confusion_mtrx(y_test,y_pred)"
      ],
      "metadata": {
        "colab": {
          "base_uri": "https://localhost:8080/",
          "height": 312
        },
        "id": "q4aAhhootGs0",
        "outputId": "f280b5bb-4185-458e-d267-9fa07dfef519"
      },
      "id": "q4aAhhootGs0",
      "execution_count": null,
      "outputs": [
        {
          "output_type": "execute_result",
          "data": {
            "text/plain": [
              "0"
            ]
          },
          "metadata": {},
          "execution_count": 47
        },
        {
          "output_type": "display_data",
          "data": {
            "text/plain": [
              "<Figure size 432x288 with 2 Axes>"
            ],
            "image/png": "[encoded data removed]"
          },
          "metadata": {
            "needs_background": "light"
          }
        }
      ]
    },
    {
      "cell_type": "markdown",
      "source": [
        "##BASELINE ONLY TOKEN WITH ENCODED TOKENS [spoiler, it sucks]"
      ],
      "metadata": {
        "id": "NVmsD7ZFlFss"
      },
      "id": "NVmsD7ZFlFss"
    },
    {
      "cell_type": "code",
      "source": [
        "tokens_train=train[[\"token\",\"target\"]]\n",
        "tokens_test=test[[\"token\",\"target\"]]\n",
        "tokens_train=make_binary_label(tokens_train)\n",
        "tokens_test=make_binary_label(tokens_test)\n"
      ],
      "metadata": {
        "id": "UEWnGCyJyFsc"
      },
      "id": "UEWnGCyJyFsc",
      "execution_count": null,
      "outputs": []
    },
    {
      "cell_type": "code",
      "source": [
        "tokens_train = tokens_train.drop(tokens_train[tokens_train['label']==0].sample(n=820000).index)\n"
      ],
      "metadata": {
        "id": "Eh4W9eGgtBQ5"
      },
      "id": "Eh4W9eGgtBQ5",
      "execution_count": null,
      "outputs": []
    },
    {
      "cell_type": "code",
      "source": [
        "le = LabelEncoder()\n",
        "y_all = np.concatenate([tokens_train['token'], tokens_test['token']], axis=0)\n",
        "\n",
        "# Fit the label encoder to the targets\n",
        "le.fit(y_all)\n",
        "\n",
        "\n",
        "# Encode training data x & y\n",
        "X_train =pd.DataFrame( le.transform(tokens_train['token']),columns=['token'])\n",
        "X_test =pd.DataFrame(le.transform( tokens_test['token']),columns=['token'])\n",
        "y_train = tokens_train['label']\n",
        "y_test = tokens_test['label']\n"
      ],
      "metadata": {
        "id": "ye0cRXPonxMA"
      },
      "id": "ye0cRXPonxMA",
      "execution_count": null,
      "outputs": []
    },
    {
      "cell_type": "code",
      "source": [
        "pred = logistic_reg(X_train,X_test,y_train,y_test)"
      ],
      "metadata": {
        "id": "lcc2t4S5rPYd"
      },
      "id": "lcc2t4S5rPYd",
      "execution_count": null,
      "outputs": []
    },
    {
      "cell_type": "code",
      "source": [
        "f1 = f1_score(y_test,pred)\n",
        "print(f\"{f1=}\")"
      ],
      "metadata": {
        "colab": {
          "base_uri": "https://localhost:8080/"
        },
        "id": "KMR9NFTbshVQ",
        "outputId": "c0592fcf-de62-4e52-b369-42fdeae63921"
      },
      "id": "KMR9NFTbshVQ",
      "execution_count": null,
      "outputs": [
        {
          "output_type": "stream",
          "name": "stdout",
          "text": [
            "f1=0.0\n"
          ]
        }
      ]
    },
    {
      "cell_type": "code",
      "source": [
        "pred.sum()"
      ],
      "metadata": {
        "colab": {
          "base_uri": "https://localhost:8080/"
        },
        "id": "sOyeHnbtsfRA",
        "outputId": "14e67994-7964-4680-f21d-4b33f8fb0485"
      },
      "id": "sOyeHnbtsfRA",
      "execution_count": null,
      "outputs": [
        {
          "output_type": "execute_result",
          "data": {
            "text/plain": [
              "0"
            ]
          },
          "metadata": {},
          "execution_count": 286
        }
      ]
    },
    {
      "cell_type": "markdown",
      "source": [
        "##LETS DOWN SAMPLE "
      ],
      "metadata": {
        "id": "yD24Bc6DyGL0"
      },
      "id": "yD24Bc6DyGL0"
    },
    {
      "cell_type": "markdown",
      "source": [
        "first the first N rows are considered"
      ],
      "metadata": {
        "id": "h7P44KhwyQ2s"
      },
      "id": "h7P44KhwyQ2s"
    },
    {
      "cell_type": "code",
      "source": [
        "sample_size =  [x for x in range(50000,250000,10000)] +[300000,400000,500000,700000,1035928]\n",
        "sample_size"
      ],
      "metadata": {
        "colab": {
          "base_uri": "https://localhost:8080/"
        },
        "id": "lSHfOcrGykPB",
        "outputId": "77ccaa4f-15c1-4b2c-fa9b-6445cc0898b9"
      },
      "id": "lSHfOcrGykPB",
      "execution_count": null,
      "outputs": [
        {
          "output_type": "execute_result",
          "data": {
            "text/plain": [
              "[50000,\n",
              " 60000,\n",
              " 70000,\n",
              " 80000,\n",
              " 90000,\n",
              " 100000,\n",
              " 110000,\n",
              " 120000,\n",
              " 130000,\n",
              " 140000,\n",
              " 150000,\n",
              " 160000,\n",
              " 170000,\n",
              " 180000,\n",
              " 190000,\n",
              " 200000,\n",
              " 210000,\n",
              " 220000,\n",
              " 230000,\n",
              " 240000,\n",
              " 300000,\n",
              " 400000,\n",
              " 500000,\n",
              " 700000,\n",
              " 1035928]"
            ]
          },
          "metadata": {},
          "execution_count": 330
        }
      ]
    },
    {
      "cell_type": "code",
      "source": [
        "f1_scores=[]\n",
        "true_predicts=[]\n",
        "for x in sample_size:\n",
        "  print(f\"{x=}\")\n",
        "  tokens_train=train[[\"token\",\"target\"]][:x]\n",
        "  tokens_test=test[[\"token\",\"target\"]]\n",
        "  tokens_train=make_binary_label(tokens_train)\n",
        "  tokens_test=make_binary_label(tokens_test)\n",
        "  X_train,X_test,y_train,y_test=prepare_token_data(tokens_train,tokens_test)\n",
        "  y_pred=logistic_reg(X_train,X_test,y_train,y_test)\n",
        "  predicted_true=y_pred.sum()\n",
        "  true_predicts.append(predicted_true)\n",
        "  print(f\"{predicted_true=}\")\n",
        "  f1 = f1_score(y_test,y_pred)\n",
        "  f1_scores.append(f1)\n",
        "  print(f\"{f1=}\")\n",
        "  print(\"=====\\n\")"
      ],
      "metadata": {
        "colab": {
          "base_uri": "https://localhost:8080/"
        },
        "id": "KS7v7HMIyM1j",
        "outputId": "9853fb56-c470-4716-c598-5a1f00927061"
      },
      "id": "KS7v7HMIyM1j",
      "execution_count": null,
      "outputs": [
        {
          "output_type": "stream",
          "name": "stdout",
          "text": [
            "x=50000\n"
          ]
        },
        {
          "output_type": "stream",
          "name": "stderr",
          "text": [
            "/usr/local/lib/python3.8/dist-packages/sklearn/linear_model/_logistic.py:814: ConvergenceWarning: lbfgs failed to converge (status=1):\n",
            "STOP: TOTAL NO. of ITERATIONS REACHED LIMIT.\n",
            "\n",
            "Increase the number of iterations (max_iter) or scale the data as shown in:\n",
            "    https://scikit-learn.org/stable/modules/preprocessing.html\n",
            "Please also refer to the documentation for alternative solver options:\n",
            "    https://scikit-learn.org/stable/modules/linear_model.html#logistic-regression\n",
            "  n_iter_i = _check_optimize_result(\n"
          ]
        },
        {
          "output_type": "stream",
          "name": "stdout",
          "text": [
            "predicted_true=659\n",
            "f1=0.03820924893407675\n",
            "=====\n",
            "\n",
            "x=60000\n"
          ]
        },
        {
          "output_type": "stream",
          "name": "stderr",
          "text": [
            "/usr/local/lib/python3.8/dist-packages/sklearn/linear_model/_logistic.py:814: ConvergenceWarning: lbfgs failed to converge (status=1):\n",
            "STOP: TOTAL NO. of ITERATIONS REACHED LIMIT.\n",
            "\n",
            "Increase the number of iterations (max_iter) or scale the data as shown in:\n",
            "    https://scikit-learn.org/stable/modules/preprocessing.html\n",
            "Please also refer to the documentation for alternative solver options:\n",
            "    https://scikit-learn.org/stable/modules/linear_model.html#logistic-regression\n",
            "  n_iter_i = _check_optimize_result(\n"
          ]
        },
        {
          "output_type": "stream",
          "name": "stdout",
          "text": [
            "predicted_true=791\n",
            "f1=0.04558728098637249\n",
            "=====\n",
            "\n",
            "x=70000\n"
          ]
        },
        {
          "output_type": "stream",
          "name": "stderr",
          "text": [
            "/usr/local/lib/python3.8/dist-packages/sklearn/linear_model/_logistic.py:814: ConvergenceWarning: lbfgs failed to converge (status=1):\n",
            "STOP: TOTAL NO. of ITERATIONS REACHED LIMIT.\n",
            "\n",
            "Increase the number of iterations (max_iter) or scale the data as shown in:\n",
            "    https://scikit-learn.org/stable/modules/preprocessing.html\n",
            "Please also refer to the documentation for alternative solver options:\n",
            "    https://scikit-learn.org/stable/modules/linear_model.html#logistic-regression\n",
            "  n_iter_i = _check_optimize_result(\n"
          ]
        },
        {
          "output_type": "stream",
          "name": "stdout",
          "text": [
            "predicted_true=725\n",
            "f1=0.04730060349045832\n",
            "=====\n",
            "\n",
            "x=80000\n"
          ]
        },
        {
          "output_type": "stream",
          "name": "stderr",
          "text": [
            "/usr/local/lib/python3.8/dist-packages/sklearn/linear_model/_logistic.py:814: ConvergenceWarning: lbfgs failed to converge (status=1):\n",
            "STOP: TOTAL NO. of ITERATIONS REACHED LIMIT.\n",
            "\n",
            "Increase the number of iterations (max_iter) or scale the data as shown in:\n",
            "    https://scikit-learn.org/stable/modules/preprocessing.html\n",
            "Please also refer to the documentation for alternative solver options:\n",
            "    https://scikit-learn.org/stable/modules/linear_model.html#logistic-regression\n",
            "  n_iter_i = _check_optimize_result(\n"
          ]
        },
        {
          "output_type": "stream",
          "name": "stdout",
          "text": [
            "predicted_true=795\n",
            "f1=0.05108660395718457\n",
            "=====\n",
            "\n",
            "x=90000\n"
          ]
        },
        {
          "output_type": "stream",
          "name": "stderr",
          "text": [
            "/usr/local/lib/python3.8/dist-packages/sklearn/linear_model/_logistic.py:814: ConvergenceWarning: lbfgs failed to converge (status=1):\n",
            "STOP: TOTAL NO. of ITERATIONS REACHED LIMIT.\n",
            "\n",
            "Increase the number of iterations (max_iter) or scale the data as shown in:\n",
            "    https://scikit-learn.org/stable/modules/preprocessing.html\n",
            "Please also refer to the documentation for alternative solver options:\n",
            "    https://scikit-learn.org/stable/modules/linear_model.html#logistic-regression\n",
            "  n_iter_i = _check_optimize_result(\n"
          ]
        },
        {
          "output_type": "stream",
          "name": "stdout",
          "text": [
            "predicted_true=802\n",
            "f1=0.0513817975524759\n",
            "=====\n",
            "\n",
            "x=100000\n"
          ]
        },
        {
          "output_type": "stream",
          "name": "stderr",
          "text": [
            "/usr/local/lib/python3.8/dist-packages/sklearn/linear_model/_logistic.py:814: ConvergenceWarning: lbfgs failed to converge (status=1):\n",
            "STOP: TOTAL NO. of ITERATIONS REACHED LIMIT.\n",
            "\n",
            "Increase the number of iterations (max_iter) or scale the data as shown in:\n",
            "    https://scikit-learn.org/stable/modules/preprocessing.html\n",
            "Please also refer to the documentation for alternative solver options:\n",
            "    https://scikit-learn.org/stable/modules/linear_model.html#logistic-regression\n",
            "  n_iter_i = _check_optimize_result(\n"
          ]
        },
        {
          "output_type": "stream",
          "name": "stdout",
          "text": [
            "predicted_true=817\n",
            "f1=0.053100210458151206\n",
            "=====\n",
            "\n",
            "x=110000\n"
          ]
        },
        {
          "output_type": "stream",
          "name": "stderr",
          "text": [
            "/usr/local/lib/python3.8/dist-packages/sklearn/linear_model/_logistic.py:814: ConvergenceWarning: lbfgs failed to converge (status=1):\n",
            "STOP: TOTAL NO. of ITERATIONS REACHED LIMIT.\n",
            "\n",
            "Increase the number of iterations (max_iter) or scale the data as shown in:\n",
            "    https://scikit-learn.org/stable/modules/preprocessing.html\n",
            "Please also refer to the documentation for alternative solver options:\n",
            "    https://scikit-learn.org/stable/modules/linear_model.html#logistic-regression\n",
            "  n_iter_i = _check_optimize_result(\n"
          ]
        },
        {
          "output_type": "stream",
          "name": "stdout",
          "text": [
            "predicted_true=827\n",
            "f1=0.05435134260757037\n",
            "=====\n",
            "\n",
            "x=120000\n"
          ]
        },
        {
          "output_type": "stream",
          "name": "stderr",
          "text": [
            "/usr/local/lib/python3.8/dist-packages/sklearn/linear_model/_logistic.py:814: ConvergenceWarning: lbfgs failed to converge (status=1):\n",
            "STOP: TOTAL NO. of ITERATIONS REACHED LIMIT.\n",
            "\n",
            "Increase the number of iterations (max_iter) or scale the data as shown in:\n",
            "    https://scikit-learn.org/stable/modules/preprocessing.html\n",
            "Please also refer to the documentation for alternative solver options:\n",
            "    https://scikit-learn.org/stable/modules/linear_model.html#logistic-regression\n",
            "  n_iter_i = _check_optimize_result(\n"
          ]
        },
        {
          "output_type": "stream",
          "name": "stdout",
          "text": [
            "predicted_true=769\n",
            "f1=0.05103201690232407\n",
            "=====\n",
            "\n",
            "x=130000\n"
          ]
        },
        {
          "output_type": "stream",
          "name": "stderr",
          "text": [
            "/usr/local/lib/python3.8/dist-packages/sklearn/linear_model/_logistic.py:814: ConvergenceWarning: lbfgs failed to converge (status=1):\n",
            "STOP: TOTAL NO. of ITERATIONS REACHED LIMIT.\n",
            "\n",
            "Increase the number of iterations (max_iter) or scale the data as shown in:\n",
            "    https://scikit-learn.org/stable/modules/preprocessing.html\n",
            "Please also refer to the documentation for alternative solver options:\n",
            "    https://scikit-learn.org/stable/modules/linear_model.html#logistic-regression\n",
            "  n_iter_i = _check_optimize_result(\n"
          ]
        },
        {
          "output_type": "stream",
          "name": "stdout",
          "text": [
            "predicted_true=734\n",
            "f1=0.04938472822100889\n",
            "=====\n",
            "\n",
            "x=140000\n"
          ]
        },
        {
          "output_type": "stream",
          "name": "stderr",
          "text": [
            "/usr/local/lib/python3.8/dist-packages/sklearn/linear_model/_logistic.py:814: ConvergenceWarning: lbfgs failed to converge (status=1):\n",
            "STOP: TOTAL NO. of ITERATIONS REACHED LIMIT.\n",
            "\n",
            "Increase the number of iterations (max_iter) or scale the data as shown in:\n",
            "    https://scikit-learn.org/stable/modules/preprocessing.html\n",
            "Please also refer to the documentation for alternative solver options:\n",
            "    https://scikit-learn.org/stable/modules/linear_model.html#logistic-regression\n",
            "  n_iter_i = _check_optimize_result(\n"
          ]
        },
        {
          "output_type": "stream",
          "name": "stdout",
          "text": [
            "predicted_true=801\n",
            "f1=0.05008915545469282\n",
            "=====\n",
            "\n",
            "x=150000\n"
          ]
        },
        {
          "output_type": "stream",
          "name": "stderr",
          "text": [
            "/usr/local/lib/python3.8/dist-packages/sklearn/linear_model/_logistic.py:814: ConvergenceWarning: lbfgs failed to converge (status=1):\n",
            "STOP: TOTAL NO. of ITERATIONS REACHED LIMIT.\n",
            "\n",
            "Increase the number of iterations (max_iter) or scale the data as shown in:\n",
            "    https://scikit-learn.org/stable/modules/preprocessing.html\n",
            "Please also refer to the documentation for alternative solver options:\n",
            "    https://scikit-learn.org/stable/modules/linear_model.html#logistic-regression\n",
            "  n_iter_i = _check_optimize_result(\n"
          ]
        },
        {
          "output_type": "stream",
          "name": "stdout",
          "text": [
            "predicted_true=769\n",
            "f1=0.051682106289614824\n",
            "=====\n",
            "\n",
            "x=160000\n"
          ]
        },
        {
          "output_type": "stream",
          "name": "stderr",
          "text": [
            "/usr/local/lib/python3.8/dist-packages/sklearn/linear_model/_logistic.py:814: ConvergenceWarning: lbfgs failed to converge (status=1):\n",
            "STOP: TOTAL NO. of ITERATIONS REACHED LIMIT.\n",
            "\n",
            "Increase the number of iterations (max_iter) or scale the data as shown in:\n",
            "    https://scikit-learn.org/stable/modules/preprocessing.html\n",
            "Please also refer to the documentation for alternative solver options:\n",
            "    https://scikit-learn.org/stable/modules/linear_model.html#logistic-regression\n",
            "  n_iter_i = _check_optimize_result(\n"
          ]
        },
        {
          "output_type": "stream",
          "name": "stdout",
          "text": [
            "predicted_true=763\n",
            "f1=0.05138211382113821\n",
            "=====\n",
            "\n",
            "x=170000\n"
          ]
        },
        {
          "output_type": "stream",
          "name": "stderr",
          "text": [
            "/usr/local/lib/python3.8/dist-packages/sklearn/linear_model/_logistic.py:814: ConvergenceWarning: lbfgs failed to converge (status=1):\n",
            "STOP: TOTAL NO. of ITERATIONS REACHED LIMIT.\n",
            "\n",
            "Increase the number of iterations (max_iter) or scale the data as shown in:\n",
            "    https://scikit-learn.org/stable/modules/preprocessing.html\n",
            "Please also refer to the documentation for alternative solver options:\n",
            "    https://scikit-learn.org/stable/modules/linear_model.html#logistic-regression\n",
            "  n_iter_i = _check_optimize_result(\n"
          ]
        },
        {
          "output_type": "stream",
          "name": "stdout",
          "text": [
            "predicted_true=792\n",
            "f1=0.049314624057101145\n",
            "=====\n",
            "\n",
            "x=180000\n"
          ]
        },
        {
          "output_type": "stream",
          "name": "stderr",
          "text": [
            "/usr/local/lib/python3.8/dist-packages/sklearn/linear_model/_logistic.py:814: ConvergenceWarning: lbfgs failed to converge (status=1):\n",
            "STOP: TOTAL NO. of ITERATIONS REACHED LIMIT.\n",
            "\n",
            "Increase the number of iterations (max_iter) or scale the data as shown in:\n",
            "    https://scikit-learn.org/stable/modules/preprocessing.html\n",
            "Please also refer to the documentation for alternative solver options:\n",
            "    https://scikit-learn.org/stable/modules/linear_model.html#logistic-regression\n",
            "  n_iter_i = _check_optimize_result(\n"
          ]
        },
        {
          "output_type": "stream",
          "name": "stdout",
          "text": [
            "predicted_true=743\n",
            "f1=0.050814332247557\n",
            "=====\n",
            "\n",
            "x=190000\n"
          ]
        },
        {
          "output_type": "stream",
          "name": "stderr",
          "text": [
            "/usr/local/lib/python3.8/dist-packages/sklearn/linear_model/_logistic.py:814: ConvergenceWarning: lbfgs failed to converge (status=1):\n",
            "STOP: TOTAL NO. of ITERATIONS REACHED LIMIT.\n",
            "\n",
            "Increase the number of iterations (max_iter) or scale the data as shown in:\n",
            "    https://scikit-learn.org/stable/modules/preprocessing.html\n",
            "Please also refer to the documentation for alternative solver options:\n",
            "    https://scikit-learn.org/stable/modules/linear_model.html#logistic-regression\n",
            "  n_iter_i = _check_optimize_result(\n"
          ]
        },
        {
          "output_type": "stream",
          "name": "stdout",
          "text": [
            "predicted_true=718\n",
            "f1=0.04863321093431253\n",
            "=====\n",
            "\n",
            "x=200000\n"
          ]
        },
        {
          "output_type": "stream",
          "name": "stderr",
          "text": [
            "/usr/local/lib/python3.8/dist-packages/sklearn/linear_model/_logistic.py:814: ConvergenceWarning: lbfgs failed to converge (status=1):\n",
            "STOP: TOTAL NO. of ITERATIONS REACHED LIMIT.\n",
            "\n",
            "Increase the number of iterations (max_iter) or scale the data as shown in:\n",
            "    https://scikit-learn.org/stable/modules/preprocessing.html\n",
            "Please also refer to the documentation for alternative solver options:\n",
            "    https://scikit-learn.org/stable/modules/linear_model.html#logistic-regression\n",
            "  n_iter_i = _check_optimize_result(\n"
          ]
        },
        {
          "output_type": "stream",
          "name": "stdout",
          "text": [
            "predicted_true=733\n",
            "f1=0.048573757131214354\n",
            "=====\n",
            "\n",
            "x=210000\n"
          ]
        },
        {
          "output_type": "stream",
          "name": "stderr",
          "text": [
            "/usr/local/lib/python3.8/dist-packages/sklearn/linear_model/_logistic.py:814: ConvergenceWarning: lbfgs failed to converge (status=1):\n",
            "STOP: TOTAL NO. of ITERATIONS REACHED LIMIT.\n",
            "\n",
            "Increase the number of iterations (max_iter) or scale the data as shown in:\n",
            "    https://scikit-learn.org/stable/modules/preprocessing.html\n",
            "Please also refer to the documentation for alternative solver options:\n",
            "    https://scikit-learn.org/stable/modules/linear_model.html#logistic-regression\n",
            "  n_iter_i = _check_optimize_result(\n"
          ]
        },
        {
          "output_type": "stream",
          "name": "stdout",
          "text": [
            "predicted_true=605\n",
            "f1=0.043485422500411805\n",
            "=====\n",
            "\n",
            "x=220000\n"
          ]
        },
        {
          "output_type": "stream",
          "name": "stderr",
          "text": [
            "/usr/local/lib/python3.8/dist-packages/sklearn/linear_model/_logistic.py:814: ConvergenceWarning: lbfgs failed to converge (status=1):\n",
            "STOP: TOTAL NO. of ITERATIONS REACHED LIMIT.\n",
            "\n",
            "Increase the number of iterations (max_iter) or scale the data as shown in:\n",
            "    https://scikit-learn.org/stable/modules/preprocessing.html\n",
            "Please also refer to the documentation for alternative solver options:\n",
            "    https://scikit-learn.org/stable/modules/linear_model.html#logistic-regression\n",
            "  n_iter_i = _check_optimize_result(\n"
          ]
        },
        {
          "output_type": "stream",
          "name": "stdout",
          "text": [
            "predicted_true=576\n",
            "f1=0.04391975563444234\n",
            "=====\n",
            "\n",
            "x=230000\n"
          ]
        },
        {
          "output_type": "stream",
          "name": "stderr",
          "text": [
            "/usr/local/lib/python3.8/dist-packages/sklearn/linear_model/_logistic.py:814: ConvergenceWarning: lbfgs failed to converge (status=1):\n",
            "STOP: TOTAL NO. of ITERATIONS REACHED LIMIT.\n",
            "\n",
            "Increase the number of iterations (max_iter) or scale the data as shown in:\n",
            "    https://scikit-learn.org/stable/modules/preprocessing.html\n",
            "Please also refer to the documentation for alternative solver options:\n",
            "    https://scikit-learn.org/stable/modules/linear_model.html#logistic-regression\n",
            "  n_iter_i = _check_optimize_result(\n"
          ]
        },
        {
          "output_type": "stream",
          "name": "stdout",
          "text": [
            "predicted_true=638\n",
            "f1=0.04632443531827515\n",
            "=====\n",
            "\n",
            "x=240000\n"
          ]
        },
        {
          "output_type": "stream",
          "name": "stderr",
          "text": [
            "/usr/local/lib/python3.8/dist-packages/sklearn/linear_model/_logistic.py:814: ConvergenceWarning: lbfgs failed to converge (status=1):\n",
            "STOP: TOTAL NO. of ITERATIONS REACHED LIMIT.\n",
            "\n",
            "Increase the number of iterations (max_iter) or scale the data as shown in:\n",
            "    https://scikit-learn.org/stable/modules/preprocessing.html\n",
            "Please also refer to the documentation for alternative solver options:\n",
            "    https://scikit-learn.org/stable/modules/linear_model.html#logistic-regression\n",
            "  n_iter_i = _check_optimize_result(\n"
          ]
        },
        {
          "output_type": "stream",
          "name": "stdout",
          "text": [
            "predicted_true=545\n",
            "f1=0.04171494785631519\n",
            "=====\n",
            "\n",
            "x=300000\n"
          ]
        },
        {
          "output_type": "stream",
          "name": "stderr",
          "text": [
            "/usr/local/lib/python3.8/dist-packages/sklearn/linear_model/_logistic.py:814: ConvergenceWarning: lbfgs failed to converge (status=1):\n",
            "STOP: TOTAL NO. of ITERATIONS REACHED LIMIT.\n",
            "\n",
            "Increase the number of iterations (max_iter) or scale the data as shown in:\n",
            "    https://scikit-learn.org/stable/modules/preprocessing.html\n",
            "Please also refer to the documentation for alternative solver options:\n",
            "    https://scikit-learn.org/stable/modules/linear_model.html#logistic-regression\n",
            "  n_iter_i = _check_optimize_result(\n"
          ]
        },
        {
          "output_type": "stream",
          "name": "stdout",
          "text": [
            "predicted_true=308\n",
            "f1=0.029886027859856484\n",
            "=====\n",
            "\n",
            "x=400000\n"
          ]
        },
        {
          "output_type": "stream",
          "name": "stderr",
          "text": [
            "/usr/local/lib/python3.8/dist-packages/sklearn/linear_model/_logistic.py:814: ConvergenceWarning: lbfgs failed to converge (status=1):\n",
            "STOP: TOTAL NO. of ITERATIONS REACHED LIMIT.\n",
            "\n",
            "Increase the number of iterations (max_iter) or scale the data as shown in:\n",
            "    https://scikit-learn.org/stable/modules/preprocessing.html\n",
            "Please also refer to the documentation for alternative solver options:\n",
            "    https://scikit-learn.org/stable/modules/linear_model.html#logistic-regression\n",
            "  n_iter_i = _check_optimize_result(\n"
          ]
        },
        {
          "output_type": "stream",
          "name": "stdout",
          "text": [
            "predicted_true=261\n",
            "f1=0.02542803865061875\n",
            "=====\n",
            "\n",
            "x=500000\n"
          ]
        },
        {
          "output_type": "stream",
          "name": "stderr",
          "text": [
            "/usr/local/lib/python3.8/dist-packages/sklearn/linear_model/_logistic.py:814: ConvergenceWarning: lbfgs failed to converge (status=1):\n",
            "STOP: TOTAL NO. of ITERATIONS REACHED LIMIT.\n",
            "\n",
            "Increase the number of iterations (max_iter) or scale the data as shown in:\n",
            "    https://scikit-learn.org/stable/modules/preprocessing.html\n",
            "Please also refer to the documentation for alternative solver options:\n",
            "    https://scikit-learn.org/stable/modules/linear_model.html#logistic-regression\n",
            "  n_iter_i = _check_optimize_result(\n"
          ]
        },
        {
          "output_type": "stream",
          "name": "stdout",
          "text": [
            "predicted_true=246\n",
            "f1=0.024102520580497326\n",
            "=====\n",
            "\n",
            "x=700000\n"
          ]
        },
        {
          "output_type": "stream",
          "name": "stderr",
          "text": [
            "/usr/local/lib/python3.8/dist-packages/sklearn/linear_model/_logistic.py:814: ConvergenceWarning: lbfgs failed to converge (status=1):\n",
            "STOP: TOTAL NO. of ITERATIONS REACHED LIMIT.\n",
            "\n",
            "Increase the number of iterations (max_iter) or scale the data as shown in:\n",
            "    https://scikit-learn.org/stable/modules/preprocessing.html\n",
            "Please also refer to the documentation for alternative solver options:\n",
            "    https://scikit-learn.org/stable/modules/linear_model.html#logistic-regression\n",
            "  n_iter_i = _check_optimize_result(\n"
          ]
        },
        {
          "output_type": "stream",
          "name": "stdout",
          "text": [
            "predicted_true=246\n",
            "f1=0.023932784520071287\n",
            "=====\n",
            "\n",
            "x=1035928\n",
            "predicted_true=200\n",
            "f1=0.02061855670103093\n",
            "=====\n",
            "\n"
          ]
        },
        {
          "output_type": "stream",
          "name": "stderr",
          "text": [
            "/usr/local/lib/python3.8/dist-packages/sklearn/linear_model/_logistic.py:814: ConvergenceWarning: lbfgs failed to converge (status=1):\n",
            "STOP: TOTAL NO. of ITERATIONS REACHED LIMIT.\n",
            "\n",
            "Increase the number of iterations (max_iter) or scale the data as shown in:\n",
            "    https://scikit-learn.org/stable/modules/preprocessing.html\n",
            "Please also refer to the documentation for alternative solver options:\n",
            "    https://scikit-learn.org/stable/modules/linear_model.html#logistic-regression\n",
            "  n_iter_i = _check_optimize_result(\n"
          ]
        }
      ]
    },
    {
      "cell_type": "code",
      "source": [
        "sample_size,f1_scores,true_predicts"
      ],
      "metadata": {
        "colab": {
          "base_uri": "https://localhost:8080/"
        },
        "id": "dlZw8yNDy6en",
        "outputId": "a025288a-b60c-4619-c0aa-7160e4dd0536"
      },
      "id": "dlZw8yNDy6en",
      "execution_count": null,
      "outputs": [
        {
          "output_type": "execute_result",
          "data": {
            "text/plain": [
              "([50000,\n",
              "  60000,\n",
              "  70000,\n",
              "  80000,\n",
              "  90000,\n",
              "  100000,\n",
              "  110000,\n",
              "  120000,\n",
              "  130000,\n",
              "  140000,\n",
              "  150000,\n",
              "  160000,\n",
              "  170000,\n",
              "  180000,\n",
              "  190000,\n",
              "  200000,\n",
              "  210000,\n",
              "  220000,\n",
              "  230000,\n",
              "  240000,\n",
              "  300000,\n",
              "  400000,\n",
              "  500000,\n",
              "  700000,\n",
              "  1035928],\n",
              " [0.03820924893407675,\n",
              "  0.04558728098637249,\n",
              "  0.04730060349045832,\n",
              "  0.05108660395718457,\n",
              "  0.0513817975524759,\n",
              "  0.053100210458151206,\n",
              "  0.05435134260757037,\n",
              "  0.05103201690232407,\n",
              "  0.04938472822100889,\n",
              "  0.05008915545469282,\n",
              "  0.051682106289614824,\n",
              "  0.05138211382113821,\n",
              "  0.049314624057101145,\n",
              "  0.050814332247557,\n",
              "  0.04863321093431253,\n",
              "  0.048573757131214354,\n",
              "  0.043485422500411805,\n",
              "  0.04391975563444234,\n",
              "  0.04632443531827515,\n",
              "  0.04171494785631519,\n",
              "  0.029886027859856484,\n",
              "  0.02542803865061875,\n",
              "  0.024102520580497326,\n",
              "  0.023932784520071287,\n",
              "  0.02061855670103093],\n",
              " [659,\n",
              "  791,\n",
              "  725,\n",
              "  795,\n",
              "  802,\n",
              "  817,\n",
              "  827,\n",
              "  769,\n",
              "  734,\n",
              "  801,\n",
              "  769,\n",
              "  763,\n",
              "  792,\n",
              "  743,\n",
              "  718,\n",
              "  733,\n",
              "  605,\n",
              "  576,\n",
              "  638,\n",
              "  545,\n",
              "  308,\n",
              "  261,\n",
              "  246,\n",
              "  246,\n",
              "  200])"
            ]
          },
          "metadata": {},
          "execution_count": 335
        }
      ]
    },
    {
      "cell_type": "code",
      "source": [
        "plt.plot(sample_size,f1_scores)\n",
        "# set the basic properties\n",
        "plt.xlabel(\"nr of instances\")\n",
        "plt.ylabel(\"F1 score\")\n",
        "plt.title(\"F1 score on nr of training intances\")\n",
        "plt.xticks([100000,250000, 400000,600000,800000,1035928])\n",
        "plt.rcParams['figure.figsize'] = [3.8,3.8]\n",
        "#plt.xlim(0, 100e+4)\n",
        "\n",
        "# set the grid on\n",
        "plt.grid('on')\n"
      ],
      "metadata": {
        "colab": {
          "base_uri": "https://localhost:8080/",
          "height": 284
        },
        "id": "--5foGhh2YSL",
        "outputId": "204062cc-636d-42d8-9cee-97773abdb2b4"
      },
      "id": "--5foGhh2YSL",
      "execution_count": null,
      "outputs": [
        {
          "output_type": "display_data",
          "data": {
            "text/plain": [
              "<Figure size 273.6x273.6 with 1 Axes>"
            ],
            "image/png": "[encoded data removed]"
          },
          "metadata": {
            "needs_background": "light"
          }
        }
      ]
    },
    {
      "cell_type": "code",
      "source": [
        "plt.plot(sample_size,true_predicts)\n",
        "plt.xlabel(\"nr of instances\")\n",
        "plt.ylabel(\"arg predicted\")\n",
        "plt.title(\"Arg predicted on nr of training intances\")\n",
        "plt.xticks([100000,250000, 400000,600000,800000,1035928])\n",
        "plt.rcParams['figure.figsize'] = [3.8,3.8]\n",
        "#plt.xlim(0, 100e+4)\n",
        "\n",
        "# set the grid on\n",
        "plt.grid('on')\n",
        "\n"
      ],
      "metadata": {
        "colab": {
          "base_uri": "https://localhost:8080/",
          "height": 284
        },
        "id": "E15iCNd2y6iO",
        "outputId": "f7d2837d-46b1-476d-967a-e93692b5d37d"
      },
      "id": "E15iCNd2y6iO",
      "execution_count": null,
      "outputs": [
        {
          "output_type": "display_data",
          "data": {
            "text/plain": [
              "<Figure size 273.6x273.6 with 1 Axes>"
            ],
            "image/png": "[encoded data removed]"
          },
          "metadata": {
            "needs_background": "light"
          }
        }
      ]
    },
    {
      "cell_type": "markdown",
      "source": [
        "##Now lets down sample the negative class only"
      ],
      "metadata": {
        "id": "mfOXD0kBy8C3"
      },
      "id": "mfOXD0kBy8C3"
    },
    {
      "cell_type": "code",
      "source": [
        "down_sample_size =  [x for x in range(500000,900000,10000)] \n",
        "\n",
        "down_sample_size"
      ],
      "metadata": {
        "colab": {
          "base_uri": "https://localhost:8080/"
        },
        "id": "1p8Yi_myzFY_",
        "outputId": "ad5e23e1-c440-43d8-917b-b6a70d0e85f5"
      },
      "execution_count": null,
      "outputs": [
        {
          "output_type": "execute_result",
          "data": {
            "text/plain": [
              "[500000,\n",
              " 510000,\n",
              " 520000,\n",
              " 530000,\n",
              " 540000,\n",
              " 550000,\n",
              " 560000,\n",
              " 570000,\n",
              " 580000,\n",
              " 590000,\n",
              " 600000,\n",
              " 610000,\n",
              " 620000,\n",
              " 630000,\n",
              " 640000,\n",
              " 650000,\n",
              " 660000,\n",
              " 670000,\n",
              " 680000,\n",
              " 690000,\n",
              " 700000,\n",
              " 710000,\n",
              " 720000,\n",
              " 730000,\n",
              " 740000,\n",
              " 750000,\n",
              " 760000,\n",
              " 770000,\n",
              " 780000,\n",
              " 790000,\n",
              " 800000,\n",
              " 810000,\n",
              " 820000,\n",
              " 830000,\n",
              " 840000,\n",
              " 850000,\n",
              " 860000,\n",
              " 870000,\n",
              " 880000,\n",
              " 890000]"
            ]
          },
          "metadata": {},
          "execution_count": 400
        }
      ],
      "id": "1p8Yi_myzFY_"
    },
    {
      "cell_type": "code",
      "source": [
        "f1_scores=[]\n",
        "true_predicts=[]\n",
        "n_samples=[]\n",
        "for x in down_sample_size:\n",
        "  print(f\"{x=}\")\n",
        "  tokens_train=train[[\"token\",\"target\"]]\n",
        "  tokens_test=test[[\"token\",\"target\"]]\n",
        "  tokens_train=make_binary_label(tokens_train)\n",
        "  tokens_test=make_binary_label(tokens_test)\n",
        "\n",
        "  tokens_train = tokens_train.drop(tokens_train[tokens_train['label']==0].sample(n=x).index)\n",
        "  n_samples.append(tokens_train.shape[0])\n",
        "  print(tokens_train.shape[0])\n",
        "  X_train,X_test,y_train,y_test=prepare_token_data(tokens_train,tokens_test)\n",
        "  y_pred=logistic_reg(X_train,X_test,y_train,y_test)\n",
        "  \n",
        "  predicted_true=y_pred.sum()\n",
        "  true_predicts.append(predicted_true)\n",
        "  print(f\"{predicted_true=}\")\n",
        "\n",
        "  f1 = f1_score(y_test,y_pred, average='eighted')\n",
        "  f1_scores.append(f1)\n",
        "  print(f\"{f1=}\")\n",
        "  print(\"=====\\n\")"
      ],
      "metadata": {
        "id": "pShOZGOizFZA"
      },
      "execution_count": null,
      "outputs": [],
      "id": "pShOZGOizFZA"
    },
    {
      "cell_type": "code",
      "source": [],
      "metadata": {
        "id": "-BMKkw1kLxVA"
      },
      "id": "-BMKkw1kLxVA",
      "execution_count": null,
      "outputs": []
    },
    {
      "cell_type": "markdown",
      "source": [
        "## PREPARE RESULTS baseline1  to give to baseline2 "
      ],
      "metadata": {
        "id": "Tz1rZ4FcXBbf"
      },
      "id": "Tz1rZ4FcXBbf"
    },
    {
      "cell_type": "code",
      "source": [
        "tokens_train=train[[\"token\",\"target\"]]\n",
        "tokens_test=test[[\"token\",\"target\"]]\n",
        "\n",
        "tokens_train=make_binary_label(tokens_train)\n",
        "tokens_test=make_binary_label(tokens_test)\n"
      ],
      "metadata": {
        "id": "JJwfBMX4XMaH"
      },
      "id": "JJwfBMX4XMaH",
      "execution_count": null,
      "outputs": []
    },
    {
      "cell_type": "code",
      "source": [
        "#x=820000\n",
        "tokens_train = tokens_train.drop(tokens_train[tokens_train['label']==0].sample(n=820000).index)\n"
      ],
      "metadata": {
        "id": "osh_yhIlXulp"
      },
      "id": "osh_yhIlXulp",
      "execution_count": null,
      "outputs": []
    },
    {
      "cell_type": "code",
      "source": [
        "X_train,X_test,y_train,y_test=prepare_token_data(tokens_train,tokens_test)"
      ],
      "metadata": {
        "id": "CN2Rxp8DX-zi"
      },
      "id": "CN2Rxp8DX-zi",
      "execution_count": null,
      "outputs": []
    },
    {
      "cell_type": "code",
      "source": [
        "log_regression = LogisticRegression(penalty='l2')\n",
        "\n",
        "#fit the model using the training data\n",
        "log_regression.fit(X_train,y_train)\n",
        "\n",
        "#use model to make predictions on test data\n",
        "y_train_pred = log_regression.predict(X_train)"
      ],
      "metadata": {
        "colab": {
          "base_uri": "https://localhost:8080/"
        },
        "id": "fGl7LVDPY1ub",
        "outputId": "9b7d95bf-fc76-41b2-f1c6-e5a9e322b150"
      },
      "id": "fGl7LVDPY1ub",
      "execution_count": null,
      "outputs": [
        {
          "output_type": "stream",
          "name": "stderr",
          "text": [
            "/usr/local/lib/python3.8/dist-packages/sklearn/linear_model/_logistic.py:814: ConvergenceWarning: lbfgs failed to converge (status=1):\n",
            "STOP: TOTAL NO. of ITERATIONS REACHED LIMIT.\n",
            "\n",
            "Increase the number of iterations (max_iter) or scale the data as shown in:\n",
            "    https://scikit-learn.org/stable/modules/preprocessing.html\n",
            "Please also refer to the documentation for alternative solver options:\n",
            "    https://scikit-learn.org/stable/modules/linear_model.html#logistic-regression\n",
            "  n_iter_i = _check_optimize_result(\n"
          ]
        }
      ]
    },
    {
      "cell_type": "code",
      "source": [
        "clean_train=pd.concat([tokens_train['token'].reset_index(drop=True),tokens_train['target'].reset_index(drop=True),pd.DataFrame(data=y_train_pred,columns=['predictions'])],axis=1)"
      ],
      "metadata": {
        "id": "3G6EbzBFZPmK"
      },
      "id": "3G6EbzBFZPmK",
      "execution_count": null,
      "outputs": []
    },
    {
      "cell_type": "code",
      "source": [
        "y_pred = log_regression.predict(X_test)"
      ],
      "metadata": {
        "id": "gKj5kVMD7gKv"
      },
      "id": "gKj5kVMD7gKv",
      "execution_count": null,
      "outputs": []
    },
    {
      "cell_type": "code",
      "source": [
        "confusion_mtrx(y_test,y_pred)"
      ],
      "metadata": {
        "colab": {
          "base_uri": "https://localhost:8080/",
          "height": 301
        },
        "id": "ghQYbQgzM6A2",
        "outputId": "7fcbf96f-021a-4f5d-89d4-72f444a56b41"
      },
      "id": "ghQYbQgzM6A2",
      "execution_count": null,
      "outputs": [
        {
          "output_type": "execute_result",
          "data": {
            "text/plain": [
              "0"
            ]
          },
          "metadata": {},
          "execution_count": 416
        },
        {
          "output_type": "display_data",
          "data": {
            "text/plain": [
              "<Figure size 273.6x273.6 with 2 Axes>"
            ],
            "image/png": "[encoded data removed]"
          },
          "metadata": {
            "needs_background": "light"
          }
        }
      ]
    },
    {
      "cell_type": "code",
      "source": [
        "f1_score(y_test,y_pred)"
      ],
      "metadata": {
        "colab": {
          "base_uri": "https://localhost:8080/"
        },
        "id": "bYSlva9DNEzs",
        "outputId": "b1c0f3d7-ef6c-4143-856a-8badb8c1f2d6"
      },
      "id": "bYSlva9DNEzs",
      "execution_count": null,
      "outputs": [
        {
          "output_type": "execute_result",
          "data": {
            "text/plain": [
              "0.3139935275080906"
            ]
          },
          "metadata": {},
          "execution_count": 417
        }
      ]
    },
    {
      "cell_type": "code",
      "source": [],
      "metadata": {
        "id": "IlbZGO4tRcii"
      },
      "id": "IlbZGO4tRcii",
      "execution_count": null,
      "outputs": []
    },
    {
      "cell_type": "markdown",
      "source": [
        "##----------------------------------"
      ],
      "metadata": {
        "id": "dw-3Uc-wRdbE"
      },
      "id": "dw-3Uc-wRdbE"
    },
    {
      "cell_type": "markdown",
      "source": [
        "## investigating baseline with hash tokens"
      ],
      "metadata": {
        "id": "FkBBBbc_JYCE"
      },
      "id": "FkBBBbc_JYCE"
    },
    {
      "cell_type": "code",
      "source": [
        "train_df=make_binary_label(train[['token','target']])\n",
        "test_df=make_binary_label(test[['token','target']])\n",
        "\n",
        "\n",
        "train_df=downsample(train_df,820000)\n"
      ],
      "metadata": {
        "id": "CPw3mMTAJn9g"
      },
      "id": "CPw3mMTAJn9g",
      "execution_count": 202,
      "outputs": []
    },
    {
      "cell_type": "code",
      "source": [
        "train_df"
      ],
      "metadata": {
        "colab": {
          "base_uri": "https://localhost:8080/",
          "height": 424
        },
        "id": "Cbcx8ee9Ncv1",
        "outputId": "b7491d53-035c-4cca-d315-e2d7e59830fa"
      },
      "id": "Cbcx8ee9Ncv1",
      "execution_count": 203,
      "outputs": [
        {
          "output_type": "execute_result",
          "data": {
            "text/plain": [
              "          token target  label\n",
              "3             :      _      0\n",
              "5        forces   ARG0      1\n",
              "7        Shaikh   ARG1      1\n",
              "11          Ani      _      0\n",
              "15           at      _      0\n",
              "...         ...    ...    ...\n",
              "7077889     how      _      0\n",
              "7077901     job      _      0\n",
              "7077903   since      _      0\n",
              "7077908       i   ARG0      1\n",
              "7077910   drama   ARG1      1\n",
              "\n",
              "[215928 rows x 3 columns]"
            ],
            "text/html": [
              "\n",
              "  <div id=\"df-1e86c5f2-3f20-47c1-8cb1-1166c6a210b9\">\n",
              "    <div class=\"colab-df-container\">\n",
              "      <div>\n",
              "<style scoped>\n",
              "    .dataframe tbody tr th:only-of-type {\n",
              "        vertical-align: middle;\n",
              "    }\n",
              "\n",
              "    .dataframe tbody tr th {\n",
              "        vertical-align: top;\n",
              "    }\n",
              "\n",
              "    .dataframe thead th {\n",
              "        text-align: right;\n",
              "    }\n",
              "</style>\n",
              "<table border=\"1\" class=\"dataframe\">\n",
              "  <thead>\n",
              "    <tr style=\"text-align: right;\">\n",
              "      <th></th>\n",
              "      <th>token</th>\n",
              "      <th>target</th>\n",
              "      <th>label</th>\n",
              "    </tr>\n",
              "  </thead>\n",
              "  <tbody>\n",
              "    <tr>\n",
              "      <th>3</th>\n",
              "      <td>:</td>\n",
              "      <td>_</td>\n",
              "      <td>0</td>\n",
              "    </tr>\n",
              "    <tr>\n",
              "      <th>5</th>\n",
              "      <td>forces</td>\n",
              "      <td>ARG0</td>\n",
              "      <td>1</td>\n",
              "    </tr>\n",
              "    <tr>\n",
              "      <th>7</th>\n",
              "      <td>Shaikh</td>\n",
              "      <td>ARG1</td>\n",
              "      <td>1</td>\n",
              "    </tr>\n",
              "    <tr>\n",
              "      <th>11</th>\n",
              "      <td>Ani</td>\n",
              "      <td>_</td>\n",
              "      <td>0</td>\n",
              "    </tr>\n",
              "    <tr>\n",
              "      <th>15</th>\n",
              "      <td>at</td>\n",
              "      <td>_</td>\n",
              "      <td>0</td>\n",
              "    </tr>\n",
              "    <tr>\n",
              "      <th>...</th>\n",
              "      <td>...</td>\n",
              "      <td>...</td>\n",
              "      <td>...</td>\n",
              "    </tr>\n",
              "    <tr>\n",
              "      <th>7077889</th>\n",
              "      <td>how</td>\n",
              "      <td>_</td>\n",
              "      <td>0</td>\n",
              "    </tr>\n",
              "    <tr>\n",
              "      <th>7077901</th>\n",
              "      <td>job</td>\n",
              "      <td>_</td>\n",
              "      <td>0</td>\n",
              "    </tr>\n",
              "    <tr>\n",
              "      <th>7077903</th>\n",
              "      <td>since</td>\n",
              "      <td>_</td>\n",
              "      <td>0</td>\n",
              "    </tr>\n",
              "    <tr>\n",
              "      <th>7077908</th>\n",
              "      <td>i</td>\n",
              "      <td>ARG0</td>\n",
              "      <td>1</td>\n",
              "    </tr>\n",
              "    <tr>\n",
              "      <th>7077910</th>\n",
              "      <td>drama</td>\n",
              "      <td>ARG1</td>\n",
              "      <td>1</td>\n",
              "    </tr>\n",
              "  </tbody>\n",
              "</table>\n",
              "<p>215928 rows × 3 columns</p>\n",
              "</div>\n",
              "      <button class=\"colab-df-convert\" onclick=\"convertToInteractive('df-1e86c5f2-3f20-47c1-8cb1-1166c6a210b9')\"\n",
              "              title=\"Convert this dataframe to an interactive table.\"\n",
              "              style=\"display:none;\">\n",
              "        \n",
              "  <svg xmlns=\"http://www.w3.org/2000/svg\" height=\"24px\"viewBox=\"0 0 24 24\"\n",
              "       width=\"24px\">\n",
              "    <path d=\"M0 0h24v24H0V0z\" fill=\"none\"/>\n",
              "    <path d=\"M18.56 5.44l.94 2.06.94-2.06 2.06-.94-2.06-.94-.94-2.06-.94 2.06-2.06.94zm-11 1L8.5 8.5l.94-2.06 2.06-.94-2.06-.94L8.5 2.5l-.94 2.06-2.06.94zm10 10l.94 2.06.94-2.06 2.06-.94-2.06-.94-.94-2.06-.94 2.06-2.06.94z\"/><path d=\"M17.41 7.96l-1.37-1.37c-.4-.4-.92-.59-1.43-.59-.52 0-1.04.2-1.43.59L10.3 9.45l-7.72 7.72c-.78.78-.78 2.05 0 2.83L4 21.41c.39.39.9.59 1.41.59.51 0 1.02-.2 1.41-.59l7.78-7.78 2.81-2.81c.8-.78.8-2.07 0-2.86zM5.41 20L4 18.59l7.72-7.72 1.47 1.35L5.41 20z\"/>\n",
              "  </svg>\n",
              "      </button>\n",
              "      \n",
              "  <style>\n",
              "    .colab-df-container {\n",
              "      display:flex;\n",
              "      flex-wrap:wrap;\n",
              "      gap: 12px;\n",
              "    }\n",
              "\n",
              "    .colab-df-convert {\n",
              "      background-color: #E8F0FE;\n",
              "      border: none;\n",
              "      border-radius: 50%;\n",
              "      cursor: pointer;\n",
              "      display: none;\n",
              "      fill: #1967D2;\n",
              "      height: 32px;\n",
              "      padding: 0 0 0 0;\n",
              "      width: 32px;\n",
              "    }\n",
              "\n",
              "    .colab-df-convert:hover {\n",
              "      background-color: #E2EBFA;\n",
              "      box-shadow: 0px 1px 2px rgba(60, 64, 67, 0.3), 0px 1px 3px 1px rgba(60, 64, 67, 0.15);\n",
              "      fill: #174EA6;\n",
              "    }\n",
              "\n",
              "    [theme=dark] .colab-df-convert {\n",
              "      background-color: #3B4455;\n",
              "      fill: #D2E3FC;\n",
              "    }\n",
              "\n",
              "    [theme=dark] .colab-df-convert:hover {\n",
              "      background-color: #434B5C;\n",
              "      box-shadow: 0px 1px 3px 1px rgba(0, 0, 0, 0.15);\n",
              "      filter: drop-shadow(0px 1px 2px rgba(0, 0, 0, 0.3));\n",
              "      fill: #FFFFFF;\n",
              "    }\n",
              "  </style>\n",
              "\n",
              "      <script>\n",
              "        const buttonEl =\n",
              "          document.querySelector('#df-1e86c5f2-3f20-47c1-8cb1-1166c6a210b9 button.colab-df-convert');\n",
              "        buttonEl.style.display =\n",
              "          google.colab.kernel.accessAllowed ? 'block' : 'none';\n",
              "\n",
              "        async function convertToInteractive(key) {\n",
              "          const element = document.querySelector('#df-1e86c5f2-3f20-47c1-8cb1-1166c6a210b9');\n",
              "          const dataTable =\n",
              "            await google.colab.kernel.invokeFunction('convertToInteractive',\n",
              "                                                     [key], {});\n",
              "          if (!dataTable) return;\n",
              "\n",
              "          const docLinkHtml = 'Like what you see? Visit the ' +\n",
              "            '<a target=\"_blank\" href=https://colab.research.google.com/notebooks/data_table.ipynb>data table notebook</a>'\n",
              "            + ' to learn more about interactive tables.';\n",
              "          element.innerHTML = '';\n",
              "          dataTable['output_type'] = 'display_data';\n",
              "          await google.colab.output.renderOutput(dataTable, element);\n",
              "          const docLink = document.createElement('div');\n",
              "          docLink.innerHTML = docLinkHtml;\n",
              "          element.appendChild(docLink);\n",
              "        }\n",
              "      </script>\n",
              "    </div>\n",
              "  </div>\n",
              "  "
            ]
          },
          "metadata": {},
          "execution_count": 203
        }
      ]
    },
    {
      "cell_type": "code",
      "source": [],
      "metadata": {
        "id": "Oqc2WWk5KSan"
      },
      "id": "Oqc2WWk5KSan",
      "execution_count": 203,
      "outputs": []
    },
    {
      "cell_type": "code",
      "source": [
        "len(train_df[train_df.label==1])"
      ],
      "metadata": {
        "colab": {
          "base_uri": "https://localhost:8080/"
        },
        "id": "tIGnfQQCKnW4",
        "outputId": "f71236b7-6407-478f-b76c-2e37df7e0589"
      },
      "id": "tIGnfQQCKnW4",
      "execution_count": 204,
      "outputs": [
        {
          "output_type": "execute_result",
          "data": {
            "text/plain": [
              "90243"
            ]
          },
          "metadata": {},
          "execution_count": 204
        }
      ]
    },
    {
      "cell_type": "code",
      "source": [
        "len(train_df[train_df.label==0])"
      ],
      "metadata": {
        "colab": {
          "base_uri": "https://localhost:8080/"
        },
        "id": "SLArSabXOijH",
        "outputId": "36d16a0a-088a-445e-90a3-f42496b72eb2"
      },
      "id": "SLArSabXOijH",
      "execution_count": 205,
      "outputs": [
        {
          "output_type": "execute_result",
          "data": {
            "text/plain": [
              "125685"
            ]
          },
          "metadata": {},
          "execution_count": 205
        }
      ]
    },
    {
      "cell_type": "code",
      "source": [
        "len(test_df[test_df.label==1])"
      ],
      "metadata": {
        "colab": {
          "base_uri": "https://localhost:8080/"
        },
        "id": "mO_iVjFSOo6R",
        "outputId": "cc0f1364-179f-442f-99d1-cbe376f06281"
      },
      "id": "mO_iVjFSOo6R",
      "execution_count": 206,
      "outputs": [
        {
          "output_type": "execute_result",
          "data": {
            "text/plain": [
              "11537"
            ]
          },
          "metadata": {},
          "execution_count": 206
        }
      ]
    },
    {
      "cell_type": "markdown",
      "source": [
        "THiS is to check what is the right amount of column that represents the column token."
      ],
      "metadata": {
        "id": "OvS9sED_fOSj"
      },
      "id": "OvS9sED_fOSj"
    },
    {
      "cell_type": "code",
      "source": [
        "THIS IS TO CHECK TH"
      ],
      "metadata": {
        "colab": {
          "base_uri": "https://localhost:8080/",
          "height": 133
        },
        "id": "4IXgiS09fMyK",
        "outputId": "87e8955c-a3a6-4878-f8e8-a1ae7da067bf"
      },
      "id": "4IXgiS09fMyK",
      "execution_count": 207,
      "outputs": [
        {
          "output_type": "error",
          "ename": "SyntaxError",
          "evalue": "ignored",
          "traceback": [
            "\u001b[0;36m  File \u001b[0;32m\"<ipython-input-207-5bbda8810a66>\"\u001b[0;36m, line \u001b[0;32m1\u001b[0m\n\u001b[0;31m    THIS IS TO CHECK TH\u001b[0m\n\u001b[0m         ^\u001b[0m\n\u001b[0;31mSyntaxError\u001b[0m\u001b[0;31m:\u001b[0m invalid syntax\n"
          ]
        }
      ]
    },
    {
      "cell_type": "code",
      "source": [
        "nr_col=[]\n",
        "f1_ss=[]\n",
        "for i in range(30,70):\n",
        "  nr_col.append(i)\n",
        "  X_train=train_df[['token']]\n",
        "  y_train=train_df['label']\n",
        "\n",
        "  X_test=test_df[['token']]\n",
        "  y_test=test_df['label']\n",
        "  print(\"with \",i,\" colums\")\n",
        "  # Apply the hashing trick to the categorical features\n",
        "  hasher = FeatureHasher(n_features=i, input_type='string')\n",
        "  X_train = hasher.fit_transform(X_train.token)\n",
        "  X_test = hasher.transform(X_test.token)\n",
        "  # Convert the resulting sparse matrix to a dense matrix and concatenate with the numerical features\n",
        "  X_train  = pd.DataFrame(X_train.toarray())\n",
        "  X_test  = pd.DataFrame(X_test.toarray())\n",
        "\n",
        "  y_pred=logistic_reg(X_train,X_test,y_train,y_test)\n",
        "  f1 = f1_score(y_test,y_pred)\n",
        "  print(f\"{f1=}\")\n",
        "  f1_ss.append(f1)\n",
        "\n",
        "  f1_we = f1_score(y_test,y_pred,average=\"weighted\")\n",
        "  print(f\"{f1_we=}\")\n",
        "\n",
        "  npred=y_pred.sum()\n",
        "  print(f\"{npred=}\")\n",
        "\n",
        "\n",
        "  \n"
      ],
      "metadata": {
        "colab": {
          "base_uri": "https://localhost:8080/"
        },
        "id": "AgJ7_j_JEQmR",
        "outputId": "6b9a3cff-26a1-4c56-8024-bd066923c82e"
      },
      "id": "AgJ7_j_JEQmR",
      "execution_count": 208,
      "outputs": [
        {
          "output_type": "stream",
          "name": "stdout",
          "text": [
            "with  30  colums\n",
            "f1=0.21133399855486357\n",
            "f1_we=0.7971235558735568\n",
            "npred=17526\n",
            "with  31  colums\n",
            "f1=0.1996075133165125\n",
            "f1_we=0.7965573295454746\n",
            "npred=16999\n",
            "with  32  colums\n",
            "f1=0.23107893012078273\n",
            "f1_we=0.7886336640723346\n",
            "npred=20504\n",
            "with  33  colums\n",
            "f1=0.1974407171775593\n",
            "f1_we=0.8000401258986267\n",
            "npred=16127\n",
            "with  34  colums\n",
            "f1=0.22192803801765107\n",
            "f1_we=0.7980450186819856\n",
            "npred=17923\n",
            "with  35  colums\n",
            "f1=0.19809745116549274\n",
            "f1_we=0.8007644860474177\n",
            "npred=16005\n",
            "with  36  colums\n",
            "f1=0.24369547029998806\n",
            "f1_we=0.7855436135837828\n",
            "npred=21931\n",
            "with  37  colums\n",
            "f1=0.2313004511832049\n",
            "f1_we=0.7861850305936346\n",
            "npred=21044\n",
            "with  38  colums\n",
            "f1=0.21068209336741558\n",
            "f1_we=0.7938676170424163\n",
            "npred=18195\n",
            "with  39  colums\n",
            "f1=0.24885896850753078\n",
            "f1_we=0.7796320266635494\n",
            "npred=23519\n",
            "with  40  colums\n",
            "f1=0.23714662819607724\n",
            "f1_we=0.7878204061690952\n",
            "npred=21042\n",
            "with  41  colums\n",
            "f1=0.22556579524794684\n",
            "f1_we=0.7877664343161965\n",
            "npred=20365\n",
            "with  42  colums\n",
            "f1=0.21974011263883206\n",
            "f1_we=0.7867282402893644\n",
            "npred=20246\n",
            "with  43  colums\n",
            "f1=0.243657618508431\n",
            "f1_we=0.7891816233816282\n",
            "npred=21140\n",
            "with  44  colums\n",
            "f1=0.2351620867669221\n",
            "f1_we=0.7936735023731833\n",
            "npred=19650\n",
            "with  45  colums\n",
            "f1=0.2346197218393685\n",
            "f1_we=0.7901463267672595\n",
            "npred=20387\n",
            "with  46  colums\n",
            "f1=0.22930988894764676\n",
            "f1_we=0.7963545183463822\n",
            "npred=18719\n",
            "with  47  colums\n",
            "f1=0.23660467685509118\n",
            "f1_we=0.7876372608358719\n",
            "npred=21049\n",
            "with  48  colums\n",
            "f1=0.24127259580621832\n",
            "f1_we=0.7796775367152518\n",
            "npred=23038\n",
            "with  49  colums\n",
            "f1=0.1997290072142674\n",
            "f1_we=0.8022456073036007\n",
            "npred=15770\n",
            "with  50  colums\n",
            "f1=0.2491245622811406\n",
            "f1_we=0.7847067899326723\n",
            "npred=22446\n",
            "with  51  colums\n",
            "f1=0.23585334100336067\n",
            "f1_we=0.7853699892914909\n",
            "npred=21492\n",
            "with  52  colums\n",
            "f1=0.24718701883216865\n",
            "f1_we=0.7851290677453755\n",
            "npred=22235\n",
            "with  53  colums\n",
            "f1=0.22995935230225897\n",
            "f1_we=0.7976251009626121\n",
            "npred=18477\n",
            "with  54  colums\n",
            "f1=0.24121117264627978\n",
            "f1_we=0.7859719046551336\n",
            "npred=21687\n",
            "with  55  colums\n",
            "f1=0.23907536415452818\n",
            "f1_we=0.7929403657668828\n",
            "npred=20043\n",
            "with  56  colums\n",
            "f1=0.24038082532367122\n",
            "f1_we=0.7868638489417482\n",
            "npred=21444\n",
            "with  57  colums\n",
            "f1=0.21408143810431704\n",
            "f1_we=0.7964129289584418\n",
            "npred=17835\n",
            "with  58  colums\n",
            "f1=0.24021648626144884\n",
            "f1_we=0.7838116305595866\n",
            "npred=22091\n",
            "with  59  colums\n",
            "f1=0.24198349136211603\n",
            "f1_we=0.7891197577410178\n",
            "npred=21052\n",
            "with  60  colums\n",
            "f1=0.24484134846726482\n",
            "f1_we=0.7771647089662066\n",
            "npred=23792\n",
            "with  61  colums\n",
            "f1=0.23157504403448595\n",
            "f1_we=0.7872853217653374\n",
            "npred=20824\n",
            "with  62  colums\n",
            "f1=0.2490961576189008\n",
            "f1_we=0.7767620112983834\n",
            "npred=24144\n",
            "with  63  colums\n",
            "f1=0.24250697026022303\n",
            "f1_we=0.7807076525725284\n",
            "npred=22895\n",
            "with  64  colums\n",
            "f1=0.24944717268315098\n",
            "f1_we=0.780903831585321\n",
            "npred=23284\n",
            "with  65  colums\n",
            "f1=0.24827227250383138\n",
            "f1_we=0.781672809479845\n",
            "npred=23046\n",
            "with  66  colums\n",
            "f1=0.25520226402530377\n",
            "f1_we=0.7768834613056383\n",
            "npred=24505\n",
            "with  67  colums\n",
            "f1=0.24319625944131398\n",
            "f1_we=0.7858839892722091\n",
            "npred=21827\n",
            "with  68  colums\n",
            "f1=0.2404395331512292\n",
            "f1_we=0.7904048508166303\n",
            "npred=20679\n",
            "with  69  colums\n",
            "f1=0.24990482883832618\n",
            "f1_we=0.7841623337721084\n",
            "npred=22612\n"
          ]
        }
      ]
    },
    {
      "cell_type": "code",
      "source": [
        "plt.plot(nr_col,f1_ss) #before"
      ],
      "metadata": {
        "colab": {
          "base_uri": "https://localhost:8080/",
          "height": 282
        },
        "id": "tjvKpiR8jJY1",
        "outputId": "9c662686-997a-4ffb-c13b-01f13fac124e"
      },
      "id": "tjvKpiR8jJY1",
      "execution_count": 200,
      "outputs": [
        {
          "output_type": "execute_result",
          "data": {
            "text/plain": [
              "[<matplotlib.lines.Line2D at 0x7fac11eb5100>]"
            ]
          },
          "metadata": {},
          "execution_count": 200
        },
        {
          "output_type": "display_data",
          "data": {
            "text/plain": [
              "<Figure size 432x288 with 1 Axes>"
            ],
            "image/png": "[encoded data removed]"
          },
          "metadata": {
            "needs_background": "light"
          }
        }
      ]
    },
    {
      "cell_type": "code",
      "source": [
        "plt.plot(nr_col,f1_ss)"
      ],
      "metadata": {
        "colab": {
          "base_uri": "https://localhost:8080/",
          "height": 282
        },
        "id": "NTlde27Wlequ",
        "outputId": "3bf45b76-1517-44c0-e65d-8308cfef1c97"
      },
      "id": "NTlde27Wlequ",
      "execution_count": 209,
      "outputs": [
        {
          "output_type": "execute_result",
          "data": {
            "text/plain": [
              "[<matplotlib.lines.Line2D at 0x7fac1b7aba00>]"
            ]
          },
          "metadata": {},
          "execution_count": 209
        },
        {
          "output_type": "display_data",
          "data": {
            "text/plain": [
              "<Figure size 432x288 with 1 Axes>"
            ],
            "image/png": "[encoded data removed]"
          },
          "metadata": {
            "needs_background": "light"
          }
        }
      ]
    },
    {
      "cell_type": "markdown",
      "source": [
        "##LETS KEEP IT 50... **BASELINE**"
      ],
      "metadata": {
        "id": "a78JCKMwgEGR"
      },
      "id": "a78JCKMwgEGR"
    },
    {
      "cell_type": "code",
      "source": [
        "train_df=train[['token','target']] #BECAUSE ITS BASELINE\n",
        "test_df=test[['token','target']]\n",
        "\n",
        "\n",
        "train_df=downsample(train_df,820000)\n",
        "train_df.reset_index(inplace=True) #necessary after the down sample\n",
        "\n",
        "\n",
        "\n",
        "train_tokens,test_tokens = vectorize_hash_token(train_df.token,test_df.token)\n",
        "\n",
        "#here you do all the shit with the other features\n",
        "\n",
        "X_train=pd.concat([train_tokens,train_df['target']],axis=1) #here you concat with all the shit\n",
        "X_test=pd.concat([test_tokens,test_df['target']],axis=1)\n",
        "\n",
        "\n",
        "#this is the last thing to do as you want your helper to have all teh features and make better helping predicitons\n",
        "helper_train,helper_test=get_helper1(X_train,X_test)\n",
        "X_train['helper1']=helper_train\n",
        "X_test['helper1']=helper_test\n",
        "\n"
      ],
      "metadata": {
        "colab": {
          "base_uri": "https://localhost:8080/",
          "height": 383
        },
        "id": "W6s1QHJSKFAY",
        "outputId": "c9d5db82-d2a0-4a7a-b6fb-215e0db853c6"
      },
      "id": "W6s1QHJSKFAY",
      "execution_count": 245,
      "outputs": [
        {
          "output_type": "error",
          "ename": "KeyboardInterrupt",
          "evalue": "ignored",
          "traceback": [
            "\u001b[0;31m---------------------------------------------------------------------------\u001b[0m",
            "\u001b[0;31mKeyboardInterrupt\u001b[0m                         Traceback (most recent call last)",
            "\u001b[0;32m<ipython-input-245-992d2b5a814d>\u001b[0m in \u001b[0;36m<module>\u001b[0;34m\u001b[0m\n\u001b[1;32m      8\u001b[0m \u001b[0;34m\u001b[0m\u001b[0m\n\u001b[1;32m      9\u001b[0m \u001b[0;34m\u001b[0m\u001b[0m\n\u001b[0;32m---> 10\u001b[0;31m \u001b[0mtrain_tokens\u001b[0m\u001b[0;34m,\u001b[0m\u001b[0mtest_tokens\u001b[0m \u001b[0;34m=\u001b[0m \u001b[0mvectorize_hash_token\u001b[0m\u001b[0;34m(\u001b[0m\u001b[0mtrain_df\u001b[0m\u001b[0;34m.\u001b[0m\u001b[0mtoken\u001b[0m\u001b[0;34m,\u001b[0m\u001b[0mtest_df\u001b[0m\u001b[0;34m.\u001b[0m\u001b[0mtoken\u001b[0m\u001b[0;34m)\u001b[0m\u001b[0;34m\u001b[0m\u001b[0;34m\u001b[0m\u001b[0m\n\u001b[0m\u001b[1;32m     11\u001b[0m \u001b[0;34m\u001b[0m\u001b[0m\n\u001b[1;32m     12\u001b[0m \u001b[0;31m#here you do all the shit with the other features\u001b[0m\u001b[0;34m\u001b[0m\u001b[0;34m\u001b[0m\u001b[0;34m\u001b[0m\u001b[0m\n",
            "\u001b[0;32m<ipython-input-234-b5ffd0940a19>\u001b[0m in \u001b[0;36mvectorize_hash_token\u001b[0;34m(train_tokens, test_tokens, N_outfeature)\u001b[0m\n\u001b[1;32m     27\u001b[0m \u001b[0;34m\u001b[0m\u001b[0m\n\u001b[1;32m     28\u001b[0m   \u001b[0mhasher\u001b[0m \u001b[0;34m=\u001b[0m \u001b[0mFeatureHasher\u001b[0m\u001b[0;34m(\u001b[0m\u001b[0mn_features\u001b[0m\u001b[0;34m=\u001b[0m\u001b[0mN_outfeature\u001b[0m\u001b[0;34m,\u001b[0m\u001b[0minput_type\u001b[0m\u001b[0;34m=\u001b[0m\u001b[0;34m'string'\u001b[0m\u001b[0;34m)\u001b[0m\u001b[0;34m\u001b[0m\u001b[0;34m\u001b[0m\u001b[0m\n\u001b[0;32m---> 29\u001b[0;31m   \u001b[0mX_train\u001b[0m \u001b[0;34m=\u001b[0m \u001b[0mhasher\u001b[0m\u001b[0;34m.\u001b[0m\u001b[0mfit_transform\u001b[0m\u001b[0;34m(\u001b[0m\u001b[0mtrain_tokens\u001b[0m\u001b[0;34m)\u001b[0m\u001b[0;34m\u001b[0m\u001b[0;34m\u001b[0m\u001b[0m\n\u001b[0m\u001b[1;32m     30\u001b[0m   \u001b[0mX_test\u001b[0m \u001b[0;34m=\u001b[0m \u001b[0mhasher\u001b[0m\u001b[0;34m.\u001b[0m\u001b[0mtransform\u001b[0m\u001b[0;34m(\u001b[0m\u001b[0mtest_tokens\u001b[0m\u001b[0;34m)\u001b[0m\u001b[0;34m\u001b[0m\u001b[0;34m\u001b[0m\u001b[0m\n\u001b[1;32m     31\u001b[0m   \u001b[0;31m# Convert the resulting sparse matrix to a dense matrix and concatenate with the numerical features\u001b[0m\u001b[0;34m\u001b[0m\u001b[0;34m\u001b[0m\u001b[0;34m\u001b[0m\u001b[0m\n",
            "\u001b[0;32m/usr/local/lib/python3.8/dist-packages/sklearn/base.py\u001b[0m in \u001b[0;36mfit_transform\u001b[0;34m(self, X, y, **fit_params)\u001b[0m\n\u001b[1;32m    850\u001b[0m         \u001b[0;32mif\u001b[0m \u001b[0my\u001b[0m \u001b[0;32mis\u001b[0m \u001b[0;32mNone\u001b[0m\u001b[0;34m:\u001b[0m\u001b[0;34m\u001b[0m\u001b[0;34m\u001b[0m\u001b[0m\n\u001b[1;32m    851\u001b[0m             \u001b[0;31m# fit method of arity 1 (unsupervised transformation)\u001b[0m\u001b[0;34m\u001b[0m\u001b[0;34m\u001b[0m\u001b[0;34m\u001b[0m\u001b[0m\n\u001b[0;32m--> 852\u001b[0;31m             \u001b[0;32mreturn\u001b[0m \u001b[0mself\u001b[0m\u001b[0;34m.\u001b[0m\u001b[0mfit\u001b[0m\u001b[0;34m(\u001b[0m\u001b[0mX\u001b[0m\u001b[0;34m,\u001b[0m \u001b[0;34m**\u001b[0m\u001b[0mfit_params\u001b[0m\u001b[0;34m)\u001b[0m\u001b[0;34m.\u001b[0m\u001b[0mtransform\u001b[0m\u001b[0;34m(\u001b[0m\u001b[0mX\u001b[0m\u001b[0;34m)\u001b[0m\u001b[0;34m\u001b[0m\u001b[0;34m\u001b[0m\u001b[0m\n\u001b[0m\u001b[1;32m    853\u001b[0m         \u001b[0;32melse\u001b[0m\u001b[0;34m:\u001b[0m\u001b[0;34m\u001b[0m\u001b[0;34m\u001b[0m\u001b[0m\n\u001b[1;32m    854\u001b[0m             \u001b[0;31m# fit method of arity 2 (supervised transformation)\u001b[0m\u001b[0;34m\u001b[0m\u001b[0;34m\u001b[0m\u001b[0;34m\u001b[0m\u001b[0m\n",
            "\u001b[0;32m/usr/local/lib/python3.8/dist-packages/sklearn/feature_extraction/_hash.py\u001b[0m in \u001b[0;36mtransform\u001b[0;34m(self, raw_X)\u001b[0m\n\u001b[1;32m    183\u001b[0m             \u001b[0mshape\u001b[0m\u001b[0;34m=\u001b[0m\u001b[0;34m(\u001b[0m\u001b[0mn_samples\u001b[0m\u001b[0;34m,\u001b[0m \u001b[0mself\u001b[0m\u001b[0;34m.\u001b[0m\u001b[0mn_features\u001b[0m\u001b[0;34m)\u001b[0m\u001b[0;34m,\u001b[0m\u001b[0;34m\u001b[0m\u001b[0;34m\u001b[0m\u001b[0m\n\u001b[1;32m    184\u001b[0m         )\n\u001b[0;32m--> 185\u001b[0;31m         \u001b[0mX\u001b[0m\u001b[0;34m.\u001b[0m\u001b[0msum_duplicates\u001b[0m\u001b[0;34m(\u001b[0m\u001b[0;34m)\u001b[0m  \u001b[0;31m# also sorts the indices\u001b[0m\u001b[0;34m\u001b[0m\u001b[0;34m\u001b[0m\u001b[0m\n\u001b[0m\u001b[1;32m    186\u001b[0m \u001b[0;34m\u001b[0m\u001b[0m\n\u001b[1;32m    187\u001b[0m         \u001b[0;32mreturn\u001b[0m \u001b[0mX\u001b[0m\u001b[0;34m\u001b[0m\u001b[0;34m\u001b[0m\u001b[0m\n",
            "\u001b[0;32m/usr/local/lib/python3.8/dist-packages/scipy/sparse/compressed.py\u001b[0m in \u001b[0;36msum_duplicates\u001b[0;34m(self)\u001b[0m\n\u001b[1;32m   1104\u001b[0m         \u001b[0;32mif\u001b[0m \u001b[0mself\u001b[0m\u001b[0;34m.\u001b[0m\u001b[0mhas_canonical_format\u001b[0m\u001b[0;34m:\u001b[0m\u001b[0;34m\u001b[0m\u001b[0;34m\u001b[0m\u001b[0m\n\u001b[1;32m   1105\u001b[0m             \u001b[0;32mreturn\u001b[0m\u001b[0;34m\u001b[0m\u001b[0;34m\u001b[0m\u001b[0m\n\u001b[0;32m-> 1106\u001b[0;31m         \u001b[0mself\u001b[0m\u001b[0;34m.\u001b[0m\u001b[0msort_indices\u001b[0m\u001b[0;34m(\u001b[0m\u001b[0;34m)\u001b[0m\u001b[0;34m\u001b[0m\u001b[0;34m\u001b[0m\u001b[0m\n\u001b[0m\u001b[1;32m   1107\u001b[0m \u001b[0;34m\u001b[0m\u001b[0m\n\u001b[1;32m   1108\u001b[0m         \u001b[0mM\u001b[0m\u001b[0;34m,\u001b[0m \u001b[0mN\u001b[0m \u001b[0;34m=\u001b[0m \u001b[0mself\u001b[0m\u001b[0;34m.\u001b[0m\u001b[0m_swap\u001b[0m\u001b[0;34m(\u001b[0m\u001b[0mself\u001b[0m\u001b[0;34m.\u001b[0m\u001b[0mshape\u001b[0m\u001b[0;34m)\u001b[0m\u001b[0;34m\u001b[0m\u001b[0;34m\u001b[0m\u001b[0m\n",
            "\u001b[0;32m/usr/local/lib/python3.8/dist-packages/scipy/sparse/compressed.py\u001b[0m in \u001b[0;36msort_indices\u001b[0;34m(self)\u001b[0m\n\u001b[1;32m   1150\u001b[0m \u001b[0;34m\u001b[0m\u001b[0m\n\u001b[1;32m   1151\u001b[0m         \u001b[0;32mif\u001b[0m \u001b[0;32mnot\u001b[0m \u001b[0mself\u001b[0m\u001b[0;34m.\u001b[0m\u001b[0mhas_sorted_indices\u001b[0m\u001b[0;34m:\u001b[0m\u001b[0;34m\u001b[0m\u001b[0;34m\u001b[0m\u001b[0m\n\u001b[0;32m-> 1152\u001b[0;31m             _sparsetools.csr_sort_indices(len(self.indptr) - 1, self.indptr,\n\u001b[0m\u001b[1;32m   1153\u001b[0m                                           self.indices, self.data)\n\u001b[1;32m   1154\u001b[0m             \u001b[0mself\u001b[0m\u001b[0;34m.\u001b[0m\u001b[0mhas_sorted_indices\u001b[0m \u001b[0;34m=\u001b[0m \u001b[0;32mTrue\u001b[0m\u001b[0;34m\u001b[0m\u001b[0;34m\u001b[0m\u001b[0m\n",
            "\u001b[0;31mKeyboardInterrupt\u001b[0m: "
          ]
        }
      ]
    },
    {
      "cell_type": "code",
      "source": [
        "y_train,y_test=make_cat_label(X_train.pop('target'),X_test.pop('target'))"
      ],
      "metadata": {
        "id": "cKlQsDdDO94t"
      },
      "id": "cKlQsDdDO94t",
      "execution_count": null,
      "outputs": []
    },
    {
      "cell_type": "code",
      "source": [
        "#instantiate the model\n",
        "log_regression = LogisticRegression(penalty='l2')\n",
        "\n",
        "#fit the model using the training data\n",
        "log_regression.fit(X_train,y_train)\n",
        "\n",
        "#use model to make predictions on test data\n",
        "y_pred = log_regression.predict(X_test)\n"
      ],
      "metadata": {
        "id": "KxPJ9jkwXYL6"
      },
      "id": "KxPJ9jkwXYL6",
      "execution_count": null,
      "outputs": []
    },
    {
      "cell_type": "code",
      "source": [
        "f1 = f1_score(y_test,y_pred, average='weighted')\n",
        "prec = precision_score(y_test,y_pred, average='weighted')\n",
        "rec = recall_score(y_test,y_pred,average='weighted')\n",
        "print(f\"{f1=}\")\n",
        "print(f\"{prec=}\")\n",
        "print(f'{rec=}')"
      ],
      "metadata": {
        "id": "yu2C4JIOYd_8"
      },
      "id": "yu2C4JIOYd_8",
      "execution_count": null,
      "outputs": []
    },
    {
      "cell_type": "code",
      "source": [],
      "metadata": {
        "id": "7gWPFgbeZZai"
      },
      "id": "7gWPFgbeZZai",
      "execution_count": null,
      "outputs": []
    },
    {
      "cell_type": "code",
      "source": [],
      "metadata": {
        "id": "kfmRkExnb2rP"
      },
      "id": "kfmRkExnb2rP",
      "execution_count": null,
      "outputs": []
    },
    {
      "cell_type": "markdown",
      "source": [
        "##THE MODELL"
      ],
      "metadata": {
        "id": "ZjtukUUfb3f6"
      },
      "id": "ZjtukUUfb3f6"
    },
    {
      "cell_type": "code",
      "source": [
        "def categorical_features(df,cols,N_out_feature=12):\n",
        "  cat_features=df[cols]\n",
        "  # Apply the hashing trick to the categorical features\n",
        "  hasher = FeatureHasher(n_features=N_out_feature, input_type='string')\n",
        "  hashed_features = hasher.transform(cat_features.values.astype(str))\n",
        "  hashed_features = pd.DataFrame(hashed_features.toarray(),columns=[\"cat_\"+str(i) for i in range(0,N_out_feature)])\n",
        "  return hashed_features\n",
        "\n"
      ],
      "metadata": {
        "id": "OXoad5MqjAt1"
      },
      "id": "OXoad5MqjAt1",
      "execution_count": 223,
      "outputs": []
    },
    {
      "cell_type": "code",
      "source": [
        "train_df=train[train[\"distance_head\"]!=\"_\"].reset_index(drop=True)#like this reset_index(drop=True)\n",
        "#train_df=downsample(train_df,620000)\n",
        "train_df.reset_index(inplace=True) #necessary after the removing rows\n",
        "test_df=test[test[\"distance_head\"]!=\"_\"].reset_index(drop=True)#like this reset_index(drop=True)\n",
        "\n",
        "\n",
        "#get vectorized tokens\n",
        "train_tokens,test_tokens = vectorize_hash_token(train_df.token,test_df.token)\n",
        "\n",
        "\n",
        "#get numerical features\n",
        "cols_num=['sent_id', 'token_id', 'distance_head']\n",
        "train_num=numerical_features(train_df,cols_num)\n",
        "test_num=numerical_features(test_df,cols_num)\n",
        "\n",
        "\n",
        "#here you do all the shit with the more? features\n",
        "\n",
        "\n",
        "#categorical features\n",
        "cols_cat_features = ['POS', 'uni_POS', 'morph_type',\n",
        "                     'dep_label', 'dep_rel', 'space', 'probbank']\n",
        "\n",
        "train_cat=categorical_features(train_df,cols_cat_features)\n",
        "test_cat=categorical_features(test_df,cols_cat_features)\n",
        "\n",
        "\n",
        "\n",
        "X_train=pd.concat([train_tokens,train_cat,train_num,train_df['target']],axis=1) #here you concat with all the shit\n",
        "X_test=pd.concat([test_tokens,test_cat,test_num,test_df['target']],axis=1)\n",
        "\n",
        "\n",
        "#this is the last thing to do as you want your helper to have all teh features and make better helping predicitons\n",
        "helper_train,helper_test=get_helper1(X_train,X_test)\n",
        "X_train['helper1']=helper_train\n",
        "X_test['helper1']=helper_test\n",
        "y_train,y_test=make_cat_label(X_train.pop('target'),X_test.pop('target'))\n",
        "\n",
        "y_pred=logistic_reg(X_train,X_test,y_train,y_test)\n",
        "f1 = f1_score(y_test,y_pred, average='weighted')\n",
        "prec = precision_score(y_test,y_pred, average='weighted')\n",
        "rec = recall_score(y_test,y_pred,average='weighted')\n",
        "print(f\"{f1=}\")\n",
        "print(f\"{prec=}\")\n",
        "print(f'{rec=}')"
      ],
      "metadata": {
        "id": "NF-qbLNXb5jC"
      },
      "id": "NF-qbLNXb5jC",
      "execution_count": null,
      "outputs": []
    },
    {
      "cell_type": "code",
      "source": [],
      "metadata": {
        "id": "1g9hLeA2srTA"
      },
      "id": "1g9hLeA2srTA",
      "execution_count": null,
      "outputs": []
    }
  ],
  "metadata": {
    "kernelspec": {
      "display_name": "Python 3 (ipykernel)",
      "language": "python",
      "name": "python3"
    },
    "language_info": {
      "codemirror_mode": {
        "name": "ipython",
        "version": 3
      },
      "file_extension": ".py",
      "mimetype": "text/x-python",
      "name": "python",
      "nbconvert_exporter": "python",
      "pygments_lexer": "ipython3",
      "version": "3.10.7"
    },
    "colab": {
      "provenance": [],
      "collapsed_sections": [
        "fdE6rrG-mgRD",
        "NVmsD7ZFlFss",
        "yD24Bc6DyGL0",
        "mfOXD0kBy8C3",
        "Tz1rZ4FcXBbf",
        "dwtocEY5W47H",
        "kHKWgXo7j3cW",
        "FkBBBbc_JYCE"
      ],
      "include_colab_link": true
    }
  },
  "nbformat": 4,
  "nbformat_minor": 5
}