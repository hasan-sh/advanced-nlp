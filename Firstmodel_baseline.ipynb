{
  "cells": [
    {
      "cell_type": "markdown",
      "metadata": {
        "id": "view-in-github",
        "colab_type": "text"
      },
      "source": [
        "<a href=\"https://colab.research.google.com/github/hasan-sh/advanced-nlp/blob/main/Firstmodel_baseline.ipynb\" target=\"_parent\"><img src=\"https://colab.research.google.com/assets/colab-badge.svg\" alt=\"Open In Colab\"/></a>"
      ]
    },
    {
      "cell_type": "code",
      "execution_count": null,
      "id": "7cbab12f-d279-4b4e-af94-637cce6ff0cb",
      "metadata": {
        "id": "7cbab12f-d279-4b4e-af94-637cce6ff0cb"
      },
      "outputs": [],
      "source": []
    },
    {
      "cell_type": "code",
      "source": [
        "import pandas as pd\n",
        "import numpy as np\n",
        "from sklearn.feature_extraction.text import CountVectorizer\n",
        "from sklearn.preprocessing import OneHotEncoder\n",
        "from sklearn.preprocessing import LabelEncoder\n",
        "from sklearn.linear_model import LogisticRegression\n",
        "from sklearn.compose import ColumnTransformer\n",
        "from sklearn.preprocessing import OrdinalEncoder\n",
        "\n",
        "from sklearn.metrics import *\n",
        "import matplotlib.pyplot as plt\n",
        "import seaborn as sns\n"
      ],
      "metadata": {
        "id": "EuJPshDtoHqb"
      },
      "id": "EuJPshDtoHqb",
      "execution_count": 242,
      "outputs": []
    },
    {
      "cell_type": "code",
      "source": [
        "!git clone https://github.com/hasan-sh/advanced-nlp.git"
      ],
      "metadata": {
        "colab": {
          "base_uri": "https://localhost:8080/"
        },
        "id": "WScyFUAFDrGl",
        "outputId": "882f6447-96bd-4f84-b1a2-6a9d21858e32"
      },
      "id": "WScyFUAFDrGl",
      "execution_count": 34,
      "outputs": [
        {
          "output_type": "stream",
          "name": "stdout",
          "text": [
            "fatal: destination path 'advanced-nlp' already exists and is not an empty directory.\n"
          ]
        }
      ]
    },
    {
      "cell_type": "code",
      "source": [
        "!pwd"
      ],
      "metadata": {
        "colab": {
          "base_uri": "https://localhost:8080/"
        },
        "id": "4I0iZzGdD2i6",
        "outputId": "26852444-08f4-4c4c-87f2-72c11727e77b"
      },
      "id": "4I0iZzGdD2i6",
      "execution_count": 35,
      "outputs": [
        {
          "output_type": "stream",
          "name": "stdout",
          "text": [
            "/content\n"
          ]
        }
      ]
    },
    {
      "cell_type": "code",
      "execution_count": 36,
      "id": "4139308a-d774-4d55-adda-75aca9cd5713",
      "metadata": {
        "id": "4139308a-d774-4d55-adda-75aca9cd5713"
      },
      "outputs": [],
      "source": [
        "train_file = '/content/advanced-nlp/data/en_ewt-up-train.conllu'\n",
        "test_file = '/content/advanced-nlp/data/en_ewt-up-test.conllu'"
      ]
    },
    {
      "cell_type": "code",
      "execution_count": 37,
      "id": "11c19708-f841-4b42-8ba3-2bd7a733ba61",
      "metadata": {
        "id": "11c19708-f841-4b42-8ba3-2bd7a733ba61"
      },
      "outputs": [],
      "source": [
        "def read_data(file_path, save_to_csv=False):\n",
        "    \"\"\"\n",
        "    This function reads a CoNLL-U format file and converts it into a pandas DataFrame.\n",
        "    Each row in the DataFrame corresponds to a token in the file, and columns\n",
        "    correspond to different features of the token, such as the token itself, its lemma, \n",
        "    part-of-speech tag, and syntactic dependency information.\n",
        "    \n",
        "    Parameters:\n",
        "    file_path (str): The path to the input CoNLL-U format file.\n",
        "    save_to_csv (bool): A boolean flag indicating whether to save the resulting DataFrame \n",
        "                        to a CSV file. Default is False.\n",
        "                        \n",
        "    Returns:\n",
        "    df (pandas.DataFrame): A pandas DataFrame containing the token-level information from\n",
        "                           the input file.\n",
        "    \"\"\"\n",
        "    \n",
        "    # Open and read the input file\n",
        "    with open(file_path, 'r', encoding='utf-8') as f:\n",
        "        train_data = f.read()\n",
        "    \n",
        "    # Split the file into individual documents, each separated by a blank line\n",
        "    data = []\n",
        "    for doc_i, doc in enumerate(train_data.split('\\n\\n')):\n",
        "        doc = doc.split('\\n')\n",
        "        sentences = ''\n",
        "        for line in doc:\n",
        "            # Skip lines starting with '#' (comment lines)\n",
        "            if line and line[0] != '#':\n",
        "                line = line.split('\\t')\n",
        "                line.insert(0, str(doc_i))\n",
        "                sentences += '\\t'.join(line) + '\\n'\n",
        "        data.append(sentences)\n",
        "    \n",
        "    # Create a pandas DataFrame from the token-level data\n",
        "    train_df = pd.DataFrame([x.split('\\t') for sent in data for x in sent.split('\\n') if x])\n",
        "    \n",
        "    # Rename the columns of the DataFrame\n",
        "    train_df = train_df.rename(columns={\n",
        "        0:'sent_id', \n",
        "        1:'token_id', \n",
        "        2:'token', \n",
        "        3:'lemma', \n",
        "        4:'POS', \n",
        "        5:'uni_POS',\n",
        "        6:'morph_type', \n",
        "        7:'distance_head', \n",
        "        8:'dep_label', \n",
        "        9:'dep_rel', \n",
        "        10:'space', \n",
        "        11:'probbank'\n",
        "    })\n",
        "    \n",
        "    # Convert the DataFrame from wide to long format\n",
        "    df = train_df.melt(\n",
        "        id_vars=[i for i in train_df.columns[:12]], \n",
        "        var_name=\"notneeded\", \n",
        "        value_name=\"target\"\n",
        "    )\n",
        "    \n",
        "    # Drop the 'notneeded' column and any rows that contain missing values\n",
        "    #df[\"sent_id\"]=df['sent_id'].str.cat((df['notneeded'].astype(int)-12).astype(str) , sep=\"_\" )\n",
        "    df[\"repetion_id\"]=df[\"notneeded\"]-12\n",
        "    df.drop(['notneeded'], axis=1, inplace=True)\n",
        "    df = df[df['target'].notna()]\n",
        "    \n",
        "    # Optionally save the resulting DataFrame to a CSV file\n",
        "    if save_to_csv:\n",
        "        df.to_csv('/content/advanced-nlp/data/test.tsv', sep='\\t', index=False)\n",
        "    \n",
        "    # Return the resulting DataFrame\n",
        "\n",
        "    return df"
      ]
    },
    {
      "cell_type": "code",
      "execution_count": 38,
      "id": "d5d4a042-df70-46a3-9c3e-0fe29f747d4b",
      "metadata": {
        "id": "d5d4a042-df70-46a3-9c3e-0fe29f747d4b"
      },
      "outputs": [],
      "source": [
        "train = read_data(train_file,save_to_csv=True)\n",
        "test = read_data(test_file, save_to_csv=True)"
      ]
    },
    {
      "cell_type": "code",
      "source": [
        "def make_binary_label(df):\n",
        "  df = df.assign(label=[0 if target==\"_\" or target==\"V\" else 1 for target in df['target']])\n",
        "  #df= df.drop('target', axis=1)\n",
        "  return df\n",
        "\n",
        "#clean column\n",
        "def columns_cleaning(df): #political choices inside\n",
        "  \"\"\"This function perform a preprocessing steps that consists of:\n",
        "  - in removing rows with missinvg value for distance head feature\n",
        "  - cast numerical features to int \n",
        "  - drop token_id (I belive is useless)\n",
        "  \n",
        "\n",
        "  \"\"\"\n",
        "  df=df[df[\"distance_head\"]!=\"_\"]#like this\n",
        "  df[\"distance_head\"]=df[\"distance_head\"].astype(int) #WARNING IS FROM HERE\n",
        "  \n",
        "  df[\"sent_id\"]=df[\"sent_id\"].astype(int) #WARNING IS FROM HERE\n",
        "\n",
        "  df= df.drop('token_id', axis=1) #or this\n",
        "  df=df[['sent_id', 'repetion_id','token', 'lemma', 'POS', 'uni_POS', 'morph_type',\n",
        "        'distance_head', 'dep_label', 'dep_rel', 'space', 'probbank' ,'label']]\n",
        "\n",
        "  return df\n",
        "\n",
        "\n",
        "def make_NER(df):\n",
        "  return df\n",
        "\n",
        "\n",
        "\"\"\"cols_to_encode=[ 'token', 'lemma', 'POS', 'uni_POS',\n",
        "       'morph_type', 'dep_label', 'dep_rel', 'space',\n",
        "       'probbank']\"\"\"\n",
        "\n",
        "\"\"\"cols_to_encode=[ 'POS', 'uni_POS',\n",
        "       'morph_type', 'dep_label', 'dep_rel', 'space',\n",
        "       'probbank']\"\"\"\n",
        "\n",
        "\n",
        "def create_encoding(train_df,test_df,cols_to_encode):\n",
        "  \"\"\"This function creates a label encoding (just assign number to every value) for all columns in the list cols_to_encode \"\"\"\n",
        "  # create a LabelEncoder objec\n",
        "  oe = OrdinalEncoder(handle_unknown='use_encoded_value',unknown_value=-1)\n",
        "  #train_df = oe.fit_transform(df_train[cols_to_encode])\n",
        "  #test_df = oe.transform(df_test[cols_to_encode])\n",
        "  #print(oe.categories_)\n",
        "  # iterate over the columns to encode\n",
        "  for col in cols_to_encode:\n",
        "      train_df[col] = oe.fit_transform(train_df[col])\n",
        "      test_df[col] = oe.transform(test_df[col])\n",
        "\n",
        "  return train_df,test_df\n",
        "\n",
        "\n",
        "  def vectorize_token(tokens_train,tokens_test):\n",
        "    vectorizer = CountVectorizer()\n",
        "    X_train = vectorizer.fit_transform(tokens_train['token'])\n",
        "    X_test = vectorizer.transform(tokens_test['token'])\n",
        "    return X_train,X_test\n"
      ],
      "metadata": {
        "id": "T_1k9SPRri2Y"
      },
      "id": "T_1k9SPRri2Y",
      "execution_count": 419,
      "outputs": []
    },
    {
      "cell_type": "code",
      "source": [
        "def logistic_reg(X_train,X_test,y_train,y_test):\n",
        "  #instantiate the model\n",
        "  log_regression = LogisticRegression(penalty='l2')\n",
        "\n",
        "  #fit the model using the training data\n",
        "  log_regression.fit(X_train,y_train)\n",
        "\n",
        "  #use model to make predictions on test data\n",
        "  y_pred = log_regression.predict(X_test)\n",
        "  return y_pred"
      ],
      "metadata": {
        "id": "-zNTlLupFcnm"
      },
      "id": "-zNTlLupFcnm",
      "execution_count": 41,
      "outputs": []
    },
    {
      "cell_type": "code",
      "source": [
        "def confusion_mtrx(y_test,y_pred):\n",
        "\n",
        "  cm = confusion_matrix(y_test, y_pred)\n",
        "  ax= plt.subplot()\n",
        "  sns.heatmap(cm, annot=True, fmt='g', ax=ax,cmap='Blues');  #annot=True to annotate cells, ftm='g' to disable scientific notation\n",
        "  sns.color_palette(\"tab10\")\n",
        "\n",
        "  # labels, title and ticks\n",
        "  ax.set_xlabel('Predicted labels');ax.set_ylabel('True labels'); \n",
        "  ax.set_title('Confusion Matrix'); \n",
        "  ax.xaxis.set_ticklabels(['non_arg', 'arg']); ax.yaxis.set_ticklabels(['non_arg', 'arg']);\n",
        "  return 0"
      ],
      "metadata": {
        "id": "IlP1AbJ9cZQZ"
      },
      "id": "IlP1AbJ9cZQZ",
      "execution_count": 46,
      "outputs": []
    },
    {
      "cell_type": "markdown",
      "source": [
        "##BASELINE ONLY TOKEN with countVectorizer\n",
        "\n",
        "\n",
        "\n"
      ],
      "metadata": {
        "id": "fdE6rrG-mgRD"
      },
      "id": "fdE6rrG-mgRD"
    },
    {
      "cell_type": "code",
      "source": [
        "def prepare_token_data(tokens_train,tokens_test):\n",
        "  vectorizer = CountVectorizer()\n",
        "  X_train = vectorizer.fit_transform(tokens_train['token'])\n",
        "  X_test = vectorizer.transform(tokens_test['token'])\n",
        "  y_train=tokens_train['label']\n",
        "  y_test=tokens_test['label']\n",
        "\n",
        "  return X_train,X_test,y_train,y_test\n"
      ],
      "metadata": {
        "id": "wiWehoZrEiV5"
      },
      "execution_count": 40,
      "outputs": [],
      "id": "wiWehoZrEiV5"
    },
    {
      "cell_type": "code",
      "source": [
        "tokens_train=train[[\"token\",\"target\"]]\n",
        "tokens_test=test[[\"token\",\"target\"]]\n",
        "tokens_train=make_binary_label(tokens_train)\n",
        "tokens_test=make_binary_label(tokens_test)\n",
        "X_train,X_test,y_train,y_test=prepare_token_data(tokens_train,tokens_test)\n",
        "y_pred=logistic_reg(X_train,X_test,y_train,y_test)\n",
        "f1 = f1_score(y_test,y_pred)\n",
        "print(f\"{f1=}\")\n"
      ],
      "metadata": {
        "id": "4PZnvYkrn43V",
        "colab": {
          "base_uri": "https://localhost:8080/"
        },
        "outputId": "f086d9a0-f18d-4bc7-ad23-48aef36ea154"
      },
      "id": "4PZnvYkrn43V",
      "execution_count": 43,
      "outputs": [
        {
          "output_type": "stream",
          "name": "stdout",
          "text": [
            "f1=0.02061855670103093\n"
          ]
        },
        {
          "output_type": "stream",
          "name": "stderr",
          "text": [
            "/usr/local/lib/python3.8/dist-packages/sklearn/linear_model/_logistic.py:814: ConvergenceWarning: lbfgs failed to converge (status=1):\n",
            "STOP: TOTAL NO. of ITERATIONS REACHED LIMIT.\n",
            "\n",
            "Increase the number of iterations (max_iter) or scale the data as shown in:\n",
            "    https://scikit-learn.org/stable/modules/preprocessing.html\n",
            "Please also refer to the documentation for alternative solver options:\n",
            "    https://scikit-learn.org/stable/modules/linear_model.html#logistic-regression\n",
            "  n_iter_i = _check_optimize_result(\n"
          ]
        }
      ]
    },
    {
      "cell_type": "code",
      "source": [],
      "metadata": {
        "id": "lq3P2p9Ut-Zz"
      },
      "id": "lq3P2p9Ut-Zz",
      "execution_count": null,
      "outputs": []
    },
    {
      "cell_type": "code",
      "source": [
        "confusion_mtrx(y_test,y_pred)"
      ],
      "metadata": {
        "colab": {
          "base_uri": "https://localhost:8080/",
          "height": 312
        },
        "id": "q4aAhhootGs0",
        "outputId": "f280b5bb-4185-458e-d267-9fa07dfef519"
      },
      "id": "q4aAhhootGs0",
      "execution_count": 47,
      "outputs": [
        {
          "output_type": "execute_result",
          "data": {
            "text/plain": [
              "0"
            ]
          },
          "metadata": {},
          "execution_count": 47
        },
        {
          "output_type": "display_data",
          "data": {
            "text/plain": [
              "<Figure size 432x288 with 2 Axes>"
            ],
            "image/png": "[encoded data removed]"
          },
          "metadata": {
            "needs_background": "light"
          }
        }
      ]
    },
    {
      "cell_type": "markdown",
      "source": [
        "##BASELINE ONLY TOKEN WITH ENCODED TOKENS [spoiler, it sucks]"
      ],
      "metadata": {
        "id": "NVmsD7ZFlFss"
      },
      "id": "NVmsD7ZFlFss"
    },
    {
      "cell_type": "code",
      "source": [
        "tokens_train=train[[\"token\",\"target\"]]\n",
        "tokens_test=test[[\"token\",\"target\"]]\n",
        "tokens_train=make_binary_label(tokens_train)\n",
        "tokens_test=make_binary_label(tokens_test)\n"
      ],
      "metadata": {
        "id": "UEWnGCyJyFsc"
      },
      "id": "UEWnGCyJyFsc",
      "execution_count": 279,
      "outputs": []
    },
    {
      "cell_type": "code",
      "source": [
        "tokens_train = tokens_train.drop(tokens_train[tokens_train['label']==0].sample(n=820000).index)\n"
      ],
      "metadata": {
        "id": "Eh4W9eGgtBQ5"
      },
      "id": "Eh4W9eGgtBQ5",
      "execution_count": 280,
      "outputs": []
    },
    {
      "cell_type": "code",
      "source": [
        "le = LabelEncoder()\n",
        "y_all = np.concatenate([tokens_train['token'], tokens_test['token']], axis=0)\n",
        "\n",
        "# Fit the label encoder to the targets\n",
        "le.fit(y_all)\n",
        "\n",
        "\n",
        "# Encode training data x & y\n",
        "X_train =pd.DataFrame( le.transform(tokens_train['token']),columns=['token'])\n",
        "X_test =pd.DataFrame(le.transform( tokens_test['token']),columns=['token'])\n",
        "y_train = tokens_train['label']\n",
        "y_test = tokens_test['label']\n"
      ],
      "metadata": {
        "id": "ye0cRXPonxMA"
      },
      "id": "ye0cRXPonxMA",
      "execution_count": 281,
      "outputs": []
    },
    {
      "cell_type": "code",
      "source": [
        "pred = logistic_reg(X_train,X_test,y_train,y_test)"
      ],
      "metadata": {
        "id": "lcc2t4S5rPYd"
      },
      "id": "lcc2t4S5rPYd",
      "execution_count": 284,
      "outputs": []
    },
    {
      "cell_type": "code",
      "source": [
        "f1 = f1_score(y_test,pred)\n",
        "print(f\"{f1=}\")"
      ],
      "metadata": {
        "colab": {
          "base_uri": "https://localhost:8080/"
        },
        "id": "KMR9NFTbshVQ",
        "outputId": "c0592fcf-de62-4e52-b369-42fdeae63921"
      },
      "id": "KMR9NFTbshVQ",
      "execution_count": 285,
      "outputs": [
        {
          "output_type": "stream",
          "name": "stdout",
          "text": [
            "f1=0.0\n"
          ]
        }
      ]
    },
    {
      "cell_type": "code",
      "source": [
        "pred.sum()"
      ],
      "metadata": {
        "colab": {
          "base_uri": "https://localhost:8080/"
        },
        "id": "sOyeHnbtsfRA",
        "outputId": "14e67994-7964-4680-f21d-4b33f8fb0485"
      },
      "id": "sOyeHnbtsfRA",
      "execution_count": 286,
      "outputs": [
        {
          "output_type": "execute_result",
          "data": {
            "text/plain": [
              "0"
            ]
          },
          "metadata": {},
          "execution_count": 286
        }
      ]
    },
    {
      "cell_type": "markdown",
      "source": [
        "##LETS DOWN SAMPLE "
      ],
      "metadata": {
        "id": "yD24Bc6DyGL0"
      },
      "id": "yD24Bc6DyGL0"
    },
    {
      "cell_type": "markdown",
      "source": [
        "first the first N rows are considered"
      ],
      "metadata": {
        "id": "h7P44KhwyQ2s"
      },
      "id": "h7P44KhwyQ2s"
    },
    {
      "cell_type": "code",
      "source": [
        "sample_size =  [x for x in range(50000,250000,10000)] +[300000,400000,500000,700000,1035928]\n",
        "sample_size"
      ],
      "metadata": {
        "colab": {
          "base_uri": "https://localhost:8080/"
        },
        "id": "lSHfOcrGykPB",
        "outputId": "77ccaa4f-15c1-4b2c-fa9b-6445cc0898b9"
      },
      "id": "lSHfOcrGykPB",
      "execution_count": 330,
      "outputs": [
        {
          "output_type": "execute_result",
          "data": {
            "text/plain": [
              "[50000,\n",
              " 60000,\n",
              " 70000,\n",
              " 80000,\n",
              " 90000,\n",
              " 100000,\n",
              " 110000,\n",
              " 120000,\n",
              " 130000,\n",
              " 140000,\n",
              " 150000,\n",
              " 160000,\n",
              " 170000,\n",
              " 180000,\n",
              " 190000,\n",
              " 200000,\n",
              " 210000,\n",
              " 220000,\n",
              " 230000,\n",
              " 240000,\n",
              " 300000,\n",
              " 400000,\n",
              " 500000,\n",
              " 700000,\n",
              " 1035928]"
            ]
          },
          "metadata": {},
          "execution_count": 330
        }
      ]
    },
    {
      "cell_type": "code",
      "source": [
        "f1_scores=[]\n",
        "true_predicts=[]\n",
        "for x in sample_size:\n",
        "  print(f\"{x=}\")\n",
        "  tokens_train=train[[\"token\",\"target\"]][:x]\n",
        "  tokens_test=test[[\"token\",\"target\"]]\n",
        "  tokens_train=make_binary_label(tokens_train)\n",
        "  tokens_test=make_binary_label(tokens_test)\n",
        "  X_train,X_test,y_train,y_test=prepare_token_data(tokens_train,tokens_test)\n",
        "  y_pred=logistic_reg(X_train,X_test,y_train,y_test)\n",
        "  predicted_true=y_pred.sum()\n",
        "  true_predicts.append(predicted_true)\n",
        "  print(f\"{predicted_true=}\")\n",
        "  f1 = f1_score(y_test,y_pred)\n",
        "  f1_scores.append(f1)\n",
        "  print(f\"{f1=}\")\n",
        "  print(\"=====\\n\")"
      ],
      "metadata": {
        "colab": {
          "base_uri": "https://localhost:8080/"
        },
        "id": "KS7v7HMIyM1j",
        "outputId": "9853fb56-c470-4716-c598-5a1f00927061"
      },
      "id": "KS7v7HMIyM1j",
      "execution_count": 331,
      "outputs": [
        {
          "output_type": "stream",
          "name": "stdout",
          "text": [
            "x=50000\n"
          ]
        },
        {
          "output_type": "stream",
          "name": "stderr",
          "text": [
            "/usr/local/lib/python3.8/dist-packages/sklearn/linear_model/_logistic.py:814: ConvergenceWarning: lbfgs failed to converge (status=1):\n",
            "STOP: TOTAL NO. of ITERATIONS REACHED LIMIT.\n",
            "\n",
            "Increase the number of iterations (max_iter) or scale the data as shown in:\n",
            "    https://scikit-learn.org/stable/modules/preprocessing.html\n",
            "Please also refer to the documentation for alternative solver options:\n",
            "    https://scikit-learn.org/stable/modules/linear_model.html#logistic-regression\n",
            "  n_iter_i = _check_optimize_result(\n"
          ]
        },
        {
          "output_type": "stream",
          "name": "stdout",
          "text": [
            "predicted_true=659\n",
            "f1=0.03820924893407675\n",
            "=====\n",
            "\n",
            "x=60000\n"
          ]
        },
        {
          "output_type": "stream",
          "name": "stderr",
          "text": [
            "/usr/local/lib/python3.8/dist-packages/sklearn/linear_model/_logistic.py:814: ConvergenceWarning: lbfgs failed to converge (status=1):\n",
            "STOP: TOTAL NO. of ITERATIONS REACHED LIMIT.\n",
            "\n",
            "Increase the number of iterations (max_iter) or scale the data as shown in:\n",
            "    https://scikit-learn.org/stable/modules/preprocessing.html\n",
            "Please also refer to the documentation for alternative solver options:\n",
            "    https://scikit-learn.org/stable/modules/linear_model.html#logistic-regression\n",
            "  n_iter_i = _check_optimize_result(\n"
          ]
        },
        {
          "output_type": "stream",
          "name": "stdout",
          "text": [
            "predicted_true=791\n",
            "f1=0.04558728098637249\n",
            "=====\n",
            "\n",
            "x=70000\n"
          ]
        },
        {
          "output_type": "stream",
          "name": "stderr",
          "text": [
            "/usr/local/lib/python3.8/dist-packages/sklearn/linear_model/_logistic.py:814: ConvergenceWarning: lbfgs failed to converge (status=1):\n",
            "STOP: TOTAL NO. of ITERATIONS REACHED LIMIT.\n",
            "\n",
            "Increase the number of iterations (max_iter) or scale the data as shown in:\n",
            "    https://scikit-learn.org/stable/modules/preprocessing.html\n",
            "Please also refer to the documentation for alternative solver options:\n",
            "    https://scikit-learn.org/stable/modules/linear_model.html#logistic-regression\n",
            "  n_iter_i = _check_optimize_result(\n"
          ]
        },
        {
          "output_type": "stream",
          "name": "stdout",
          "text": [
            "predicted_true=725\n",
            "f1=0.04730060349045832\n",
            "=====\n",
            "\n",
            "x=80000\n"
          ]
        },
        {
          "output_type": "stream",
          "name": "stderr",
          "text": [
            "/usr/local/lib/python3.8/dist-packages/sklearn/linear_model/_logistic.py:814: ConvergenceWarning: lbfgs failed to converge (status=1):\n",
            "STOP: TOTAL NO. of ITERATIONS REACHED LIMIT.\n",
            "\n",
            "Increase the number of iterations (max_iter) or scale the data as shown in:\n",
            "    https://scikit-learn.org/stable/modules/preprocessing.html\n",
            "Please also refer to the documentation for alternative solver options:\n",
            "    https://scikit-learn.org/stable/modules/linear_model.html#logistic-regression\n",
            "  n_iter_i = _check_optimize_result(\n"
          ]
        },
        {
          "output_type": "stream",
          "name": "stdout",
          "text": [
            "predicted_true=795\n",
            "f1=0.05108660395718457\n",
            "=====\n",
            "\n",
            "x=90000\n"
          ]
        },
        {
          "output_type": "stream",
          "name": "stderr",
          "text": [
            "/usr/local/lib/python3.8/dist-packages/sklearn/linear_model/_logistic.py:814: ConvergenceWarning: lbfgs failed to converge (status=1):\n",
            "STOP: TOTAL NO. of ITERATIONS REACHED LIMIT.\n",
            "\n",
            "Increase the number of iterations (max_iter) or scale the data as shown in:\n",
            "    https://scikit-learn.org/stable/modules/preprocessing.html\n",
            "Please also refer to the documentation for alternative solver options:\n",
            "    https://scikit-learn.org/stable/modules/linear_model.html#logistic-regression\n",
            "  n_iter_i = _check_optimize_result(\n"
          ]
        },
        {
          "output_type": "stream",
          "name": "stdout",
          "text": [
            "predicted_true=802\n",
            "f1=0.0513817975524759\n",
            "=====\n",
            "\n",
            "x=100000\n"
          ]
        },
        {
          "output_type": "stream",
          "name": "stderr",
          "text": [
            "/usr/local/lib/python3.8/dist-packages/sklearn/linear_model/_logistic.py:814: ConvergenceWarning: lbfgs failed to converge (status=1):\n",
            "STOP: TOTAL NO. of ITERATIONS REACHED LIMIT.\n",
            "\n",
            "Increase the number of iterations (max_iter) or scale the data as shown in:\n",
            "    https://scikit-learn.org/stable/modules/preprocessing.html\n",
            "Please also refer to the documentation for alternative solver options:\n",
            "    https://scikit-learn.org/stable/modules/linear_model.html#logistic-regression\n",
            "  n_iter_i = _check_optimize_result(\n"
          ]
        },
        {
          "output_type": "stream",
          "name": "stdout",
          "text": [
            "predicted_true=817\n",
            "f1=0.053100210458151206\n",
            "=====\n",
            "\n",
            "x=110000\n"
          ]
        },
        {
          "output_type": "stream",
          "name": "stderr",
          "text": [
            "/usr/local/lib/python3.8/dist-packages/sklearn/linear_model/_logistic.py:814: ConvergenceWarning: lbfgs failed to converge (status=1):\n",
            "STOP: TOTAL NO. of ITERATIONS REACHED LIMIT.\n",
            "\n",
            "Increase the number of iterations (max_iter) or scale the data as shown in:\n",
            "    https://scikit-learn.org/stable/modules/preprocessing.html\n",
            "Please also refer to the documentation for alternative solver options:\n",
            "    https://scikit-learn.org/stable/modules/linear_model.html#logistic-regression\n",
            "  n_iter_i = _check_optimize_result(\n"
          ]
        },
        {
          "output_type": "stream",
          "name": "stdout",
          "text": [
            "predicted_true=827\n",
            "f1=0.05435134260757037\n",
            "=====\n",
            "\n",
            "x=120000\n"
          ]
        },
        {
          "output_type": "stream",
          "name": "stderr",
          "text": [
            "/usr/local/lib/python3.8/dist-packages/sklearn/linear_model/_logistic.py:814: ConvergenceWarning: lbfgs failed to converge (status=1):\n",
            "STOP: TOTAL NO. of ITERATIONS REACHED LIMIT.\n",
            "\n",
            "Increase the number of iterations (max_iter) or scale the data as shown in:\n",
            "    https://scikit-learn.org/stable/modules/preprocessing.html\n",
            "Please also refer to the documentation for alternative solver options:\n",
            "    https://scikit-learn.org/stable/modules/linear_model.html#logistic-regression\n",
            "  n_iter_i = _check_optimize_result(\n"
          ]
        },
        {
          "output_type": "stream",
          "name": "stdout",
          "text": [
            "predicted_true=769\n",
            "f1=0.05103201690232407\n",
            "=====\n",
            "\n",
            "x=130000\n"
          ]
        },
        {
          "output_type": "stream",
          "name": "stderr",
          "text": [
            "/usr/local/lib/python3.8/dist-packages/sklearn/linear_model/_logistic.py:814: ConvergenceWarning: lbfgs failed to converge (status=1):\n",
            "STOP: TOTAL NO. of ITERATIONS REACHED LIMIT.\n",
            "\n",
            "Increase the number of iterations (max_iter) or scale the data as shown in:\n",
            "    https://scikit-learn.org/stable/modules/preprocessing.html\n",
            "Please also refer to the documentation for alternative solver options:\n",
            "    https://scikit-learn.org/stable/modules/linear_model.html#logistic-regression\n",
            "  n_iter_i = _check_optimize_result(\n"
          ]
        },
        {
          "output_type": "stream",
          "name": "stdout",
          "text": [
            "predicted_true=734\n",
            "f1=0.04938472822100889\n",
            "=====\n",
            "\n",
            "x=140000\n"
          ]
        },
        {
          "output_type": "stream",
          "name": "stderr",
          "text": [
            "/usr/local/lib/python3.8/dist-packages/sklearn/linear_model/_logistic.py:814: ConvergenceWarning: lbfgs failed to converge (status=1):\n",
            "STOP: TOTAL NO. of ITERATIONS REACHED LIMIT.\n",
            "\n",
            "Increase the number of iterations (max_iter) or scale the data as shown in:\n",
            "    https://scikit-learn.org/stable/modules/preprocessing.html\n",
            "Please also refer to the documentation for alternative solver options:\n",
            "    https://scikit-learn.org/stable/modules/linear_model.html#logistic-regression\n",
            "  n_iter_i = _check_optimize_result(\n"
          ]
        },
        {
          "output_type": "stream",
          "name": "stdout",
          "text": [
            "predicted_true=801\n",
            "f1=0.05008915545469282\n",
            "=====\n",
            "\n",
            "x=150000\n"
          ]
        },
        {
          "output_type": "stream",
          "name": "stderr",
          "text": [
            "/usr/local/lib/python3.8/dist-packages/sklearn/linear_model/_logistic.py:814: ConvergenceWarning: lbfgs failed to converge (status=1):\n",
            "STOP: TOTAL NO. of ITERATIONS REACHED LIMIT.\n",
            "\n",
            "Increase the number of iterations (max_iter) or scale the data as shown in:\n",
            "    https://scikit-learn.org/stable/modules/preprocessing.html\n",
            "Please also refer to the documentation for alternative solver options:\n",
            "    https://scikit-learn.org/stable/modules/linear_model.html#logistic-regression\n",
            "  n_iter_i = _check_optimize_result(\n"
          ]
        },
        {
          "output_type": "stream",
          "name": "stdout",
          "text": [
            "predicted_true=769\n",
            "f1=0.051682106289614824\n",
            "=====\n",
            "\n",
            "x=160000\n"
          ]
        },
        {
          "output_type": "stream",
          "name": "stderr",
          "text": [
            "/usr/local/lib/python3.8/dist-packages/sklearn/linear_model/_logistic.py:814: ConvergenceWarning: lbfgs failed to converge (status=1):\n",
            "STOP: TOTAL NO. of ITERATIONS REACHED LIMIT.\n",
            "\n",
            "Increase the number of iterations (max_iter) or scale the data as shown in:\n",
            "    https://scikit-learn.org/stable/modules/preprocessing.html\n",
            "Please also refer to the documentation for alternative solver options:\n",
            "    https://scikit-learn.org/stable/modules/linear_model.html#logistic-regression\n",
            "  n_iter_i = _check_optimize_result(\n"
          ]
        },
        {
          "output_type": "stream",
          "name": "stdout",
          "text": [
            "predicted_true=763\n",
            "f1=0.05138211382113821\n",
            "=====\n",
            "\n",
            "x=170000\n"
          ]
        },
        {
          "output_type": "stream",
          "name": "stderr",
          "text": [
            "/usr/local/lib/python3.8/dist-packages/sklearn/linear_model/_logistic.py:814: ConvergenceWarning: lbfgs failed to converge (status=1):\n",
            "STOP: TOTAL NO. of ITERATIONS REACHED LIMIT.\n",
            "\n",
            "Increase the number of iterations (max_iter) or scale the data as shown in:\n",
            "    https://scikit-learn.org/stable/modules/preprocessing.html\n",
            "Please also refer to the documentation for alternative solver options:\n",
            "    https://scikit-learn.org/stable/modules/linear_model.html#logistic-regression\n",
            "  n_iter_i = _check_optimize_result(\n"
          ]
        },
        {
          "output_type": "stream",
          "name": "stdout",
          "text": [
            "predicted_true=792\n",
            "f1=0.049314624057101145\n",
            "=====\n",
            "\n",
            "x=180000\n"
          ]
        },
        {
          "output_type": "stream",
          "name": "stderr",
          "text": [
            "/usr/local/lib/python3.8/dist-packages/sklearn/linear_model/_logistic.py:814: ConvergenceWarning: lbfgs failed to converge (status=1):\n",
            "STOP: TOTAL NO. of ITERATIONS REACHED LIMIT.\n",
            "\n",
            "Increase the number of iterations (max_iter) or scale the data as shown in:\n",
            "    https://scikit-learn.org/stable/modules/preprocessing.html\n",
            "Please also refer to the documentation for alternative solver options:\n",
            "    https://scikit-learn.org/stable/modules/linear_model.html#logistic-regression\n",
            "  n_iter_i = _check_optimize_result(\n"
          ]
        },
        {
          "output_type": "stream",
          "name": "stdout",
          "text": [
            "predicted_true=743\n",
            "f1=0.050814332247557\n",
            "=====\n",
            "\n",
            "x=190000\n"
          ]
        },
        {
          "output_type": "stream",
          "name": "stderr",
          "text": [
            "/usr/local/lib/python3.8/dist-packages/sklearn/linear_model/_logistic.py:814: ConvergenceWarning: lbfgs failed to converge (status=1):\n",
            "STOP: TOTAL NO. of ITERATIONS REACHED LIMIT.\n",
            "\n",
            "Increase the number of iterations (max_iter) or scale the data as shown in:\n",
            "    https://scikit-learn.org/stable/modules/preprocessing.html\n",
            "Please also refer to the documentation for alternative solver options:\n",
            "    https://scikit-learn.org/stable/modules/linear_model.html#logistic-regression\n",
            "  n_iter_i = _check_optimize_result(\n"
          ]
        },
        {
          "output_type": "stream",
          "name": "stdout",
          "text": [
            "predicted_true=718\n",
            "f1=0.04863321093431253\n",
            "=====\n",
            "\n",
            "x=200000\n"
          ]
        },
        {
          "output_type": "stream",
          "name": "stderr",
          "text": [
            "/usr/local/lib/python3.8/dist-packages/sklearn/linear_model/_logistic.py:814: ConvergenceWarning: lbfgs failed to converge (status=1):\n",
            "STOP: TOTAL NO. of ITERATIONS REACHED LIMIT.\n",
            "\n",
            "Increase the number of iterations (max_iter) or scale the data as shown in:\n",
            "    https://scikit-learn.org/stable/modules/preprocessing.html\n",
            "Please also refer to the documentation for alternative solver options:\n",
            "    https://scikit-learn.org/stable/modules/linear_model.html#logistic-regression\n",
            "  n_iter_i = _check_optimize_result(\n"
          ]
        },
        {
          "output_type": "stream",
          "name": "stdout",
          "text": [
            "predicted_true=733\n",
            "f1=0.048573757131214354\n",
            "=====\n",
            "\n",
            "x=210000\n"
          ]
        },
        {
          "output_type": "stream",
          "name": "stderr",
          "text": [
            "/usr/local/lib/python3.8/dist-packages/sklearn/linear_model/_logistic.py:814: ConvergenceWarning: lbfgs failed to converge (status=1):\n",
            "STOP: TOTAL NO. of ITERATIONS REACHED LIMIT.\n",
            "\n",
            "Increase the number of iterations (max_iter) or scale the data as shown in:\n",
            "    https://scikit-learn.org/stable/modules/preprocessing.html\n",
            "Please also refer to the documentation for alternative solver options:\n",
            "    https://scikit-learn.org/stable/modules/linear_model.html#logistic-regression\n",
            "  n_iter_i = _check_optimize_result(\n"
          ]
        },
        {
          "output_type": "stream",
          "name": "stdout",
          "text": [
            "predicted_true=605\n",
            "f1=0.043485422500411805\n",
            "=====\n",
            "\n",
            "x=220000\n"
          ]
        },
        {
          "output_type": "stream",
          "name": "stderr",
          "text": [
            "/usr/local/lib/python3.8/dist-packages/sklearn/linear_model/_logistic.py:814: ConvergenceWarning: lbfgs failed to converge (status=1):\n",
            "STOP: TOTAL NO. of ITERATIONS REACHED LIMIT.\n",
            "\n",
            "Increase the number of iterations (max_iter) or scale the data as shown in:\n",
            "    https://scikit-learn.org/stable/modules/preprocessing.html\n",
            "Please also refer to the documentation for alternative solver options:\n",
            "    https://scikit-learn.org/stable/modules/linear_model.html#logistic-regression\n",
            "  n_iter_i = _check_optimize_result(\n"
          ]
        },
        {
          "output_type": "stream",
          "name": "stdout",
          "text": [
            "predicted_true=576\n",
            "f1=0.04391975563444234\n",
            "=====\n",
            "\n",
            "x=230000\n"
          ]
        },
        {
          "output_type": "stream",
          "name": "stderr",
          "text": [
            "/usr/local/lib/python3.8/dist-packages/sklearn/linear_model/_logistic.py:814: ConvergenceWarning: lbfgs failed to converge (status=1):\n",
            "STOP: TOTAL NO. of ITERATIONS REACHED LIMIT.\n",
            "\n",
            "Increase the number of iterations (max_iter) or scale the data as shown in:\n",
            "    https://scikit-learn.org/stable/modules/preprocessing.html\n",
            "Please also refer to the documentation for alternative solver options:\n",
            "    https://scikit-learn.org/stable/modules/linear_model.html#logistic-regression\n",
            "  n_iter_i = _check_optimize_result(\n"
          ]
        },
        {
          "output_type": "stream",
          "name": "stdout",
          "text": [
            "predicted_true=638\n",
            "f1=0.04632443531827515\n",
            "=====\n",
            "\n",
            "x=240000\n"
          ]
        },
        {
          "output_type": "stream",
          "name": "stderr",
          "text": [
            "/usr/local/lib/python3.8/dist-packages/sklearn/linear_model/_logistic.py:814: ConvergenceWarning: lbfgs failed to converge (status=1):\n",
            "STOP: TOTAL NO. of ITERATIONS REACHED LIMIT.\n",
            "\n",
            "Increase the number of iterations (max_iter) or scale the data as shown in:\n",
            "    https://scikit-learn.org/stable/modules/preprocessing.html\n",
            "Please also refer to the documentation for alternative solver options:\n",
            "    https://scikit-learn.org/stable/modules/linear_model.html#logistic-regression\n",
            "  n_iter_i = _check_optimize_result(\n"
          ]
        },
        {
          "output_type": "stream",
          "name": "stdout",
          "text": [
            "predicted_true=545\n",
            "f1=0.04171494785631519\n",
            "=====\n",
            "\n",
            "x=300000\n"
          ]
        },
        {
          "output_type": "stream",
          "name": "stderr",
          "text": [
            "/usr/local/lib/python3.8/dist-packages/sklearn/linear_model/_logistic.py:814: ConvergenceWarning: lbfgs failed to converge (status=1):\n",
            "STOP: TOTAL NO. of ITERATIONS REACHED LIMIT.\n",
            "\n",
            "Increase the number of iterations (max_iter) or scale the data as shown in:\n",
            "    https://scikit-learn.org/stable/modules/preprocessing.html\n",
            "Please also refer to the documentation for alternative solver options:\n",
            "    https://scikit-learn.org/stable/modules/linear_model.html#logistic-regression\n",
            "  n_iter_i = _check_optimize_result(\n"
          ]
        },
        {
          "output_type": "stream",
          "name": "stdout",
          "text": [
            "predicted_true=308\n",
            "f1=0.029886027859856484\n",
            "=====\n",
            "\n",
            "x=400000\n"
          ]
        },
        {
          "output_type": "stream",
          "name": "stderr",
          "text": [
            "/usr/local/lib/python3.8/dist-packages/sklearn/linear_model/_logistic.py:814: ConvergenceWarning: lbfgs failed to converge (status=1):\n",
            "STOP: TOTAL NO. of ITERATIONS REACHED LIMIT.\n",
            "\n",
            "Increase the number of iterations (max_iter) or scale the data as shown in:\n",
            "    https://scikit-learn.org/stable/modules/preprocessing.html\n",
            "Please also refer to the documentation for alternative solver options:\n",
            "    https://scikit-learn.org/stable/modules/linear_model.html#logistic-regression\n",
            "  n_iter_i = _check_optimize_result(\n"
          ]
        },
        {
          "output_type": "stream",
          "name": "stdout",
          "text": [
            "predicted_true=261\n",
            "f1=0.02542803865061875\n",
            "=====\n",
            "\n",
            "x=500000\n"
          ]
        },
        {
          "output_type": "stream",
          "name": "stderr",
          "text": [
            "/usr/local/lib/python3.8/dist-packages/sklearn/linear_model/_logistic.py:814: ConvergenceWarning: lbfgs failed to converge (status=1):\n",
            "STOP: TOTAL NO. of ITERATIONS REACHED LIMIT.\n",
            "\n",
            "Increase the number of iterations (max_iter) or scale the data as shown in:\n",
            "    https://scikit-learn.org/stable/modules/preprocessing.html\n",
            "Please also refer to the documentation for alternative solver options:\n",
            "    https://scikit-learn.org/stable/modules/linear_model.html#logistic-regression\n",
            "  n_iter_i = _check_optimize_result(\n"
          ]
        },
        {
          "output_type": "stream",
          "name": "stdout",
          "text": [
            "predicted_true=246\n",
            "f1=0.024102520580497326\n",
            "=====\n",
            "\n",
            "x=700000\n"
          ]
        },
        {
          "output_type": "stream",
          "name": "stderr",
          "text": [
            "/usr/local/lib/python3.8/dist-packages/sklearn/linear_model/_logistic.py:814: ConvergenceWarning: lbfgs failed to converge (status=1):\n",
            "STOP: TOTAL NO. of ITERATIONS REACHED LIMIT.\n",
            "\n",
            "Increase the number of iterations (max_iter) or scale the data as shown in:\n",
            "    https://scikit-learn.org/stable/modules/preprocessing.html\n",
            "Please also refer to the documentation for alternative solver options:\n",
            "    https://scikit-learn.org/stable/modules/linear_model.html#logistic-regression\n",
            "  n_iter_i = _check_optimize_result(\n"
          ]
        },
        {
          "output_type": "stream",
          "name": "stdout",
          "text": [
            "predicted_true=246\n",
            "f1=0.023932784520071287\n",
            "=====\n",
            "\n",
            "x=1035928\n",
            "predicted_true=200\n",
            "f1=0.02061855670103093\n",
            "=====\n",
            "\n"
          ]
        },
        {
          "output_type": "stream",
          "name": "stderr",
          "text": [
            "/usr/local/lib/python3.8/dist-packages/sklearn/linear_model/_logistic.py:814: ConvergenceWarning: lbfgs failed to converge (status=1):\n",
            "STOP: TOTAL NO. of ITERATIONS REACHED LIMIT.\n",
            "\n",
            "Increase the number of iterations (max_iter) or scale the data as shown in:\n",
            "    https://scikit-learn.org/stable/modules/preprocessing.html\n",
            "Please also refer to the documentation for alternative solver options:\n",
            "    https://scikit-learn.org/stable/modules/linear_model.html#logistic-regression\n",
            "  n_iter_i = _check_optimize_result(\n"
          ]
        }
      ]
    },
    {
      "cell_type": "code",
      "source": [
        "sample_size,f1_scores,true_predicts"
      ],
      "metadata": {
        "colab": {
          "base_uri": "https://localhost:8080/"
        },
        "id": "dlZw8yNDy6en",
        "outputId": "a025288a-b60c-4619-c0aa-7160e4dd0536"
      },
      "id": "dlZw8yNDy6en",
      "execution_count": 335,
      "outputs": [
        {
          "output_type": "execute_result",
          "data": {
            "text/plain": [
              "([50000,\n",
              "  60000,\n",
              "  70000,\n",
              "  80000,\n",
              "  90000,\n",
              "  100000,\n",
              "  110000,\n",
              "  120000,\n",
              "  130000,\n",
              "  140000,\n",
              "  150000,\n",
              "  160000,\n",
              "  170000,\n",
              "  180000,\n",
              "  190000,\n",
              "  200000,\n",
              "  210000,\n",
              "  220000,\n",
              "  230000,\n",
              "  240000,\n",
              "  300000,\n",
              "  400000,\n",
              "  500000,\n",
              "  700000,\n",
              "  1035928],\n",
              " [0.03820924893407675,\n",
              "  0.04558728098637249,\n",
              "  0.04730060349045832,\n",
              "  0.05108660395718457,\n",
              "  0.0513817975524759,\n",
              "  0.053100210458151206,\n",
              "  0.05435134260757037,\n",
              "  0.05103201690232407,\n",
              "  0.04938472822100889,\n",
              "  0.05008915545469282,\n",
              "  0.051682106289614824,\n",
              "  0.05138211382113821,\n",
              "  0.049314624057101145,\n",
              "  0.050814332247557,\n",
              "  0.04863321093431253,\n",
              "  0.048573757131214354,\n",
              "  0.043485422500411805,\n",
              "  0.04391975563444234,\n",
              "  0.04632443531827515,\n",
              "  0.04171494785631519,\n",
              "  0.029886027859856484,\n",
              "  0.02542803865061875,\n",
              "  0.024102520580497326,\n",
              "  0.023932784520071287,\n",
              "  0.02061855670103093],\n",
              " [659,\n",
              "  791,\n",
              "  725,\n",
              "  795,\n",
              "  802,\n",
              "  817,\n",
              "  827,\n",
              "  769,\n",
              "  734,\n",
              "  801,\n",
              "  769,\n",
              "  763,\n",
              "  792,\n",
              "  743,\n",
              "  718,\n",
              "  733,\n",
              "  605,\n",
              "  576,\n",
              "  638,\n",
              "  545,\n",
              "  308,\n",
              "  261,\n",
              "  246,\n",
              "  246,\n",
              "  200])"
            ]
          },
          "metadata": {},
          "execution_count": 335
        }
      ]
    },
    {
      "cell_type": "code",
      "source": [
        "plt.plot(sample_size,f1_scores)\n",
        "# set the basic properties\n",
        "plt.xlabel(\"nr of instances\")\n",
        "plt.ylabel(\"F1 score\")\n",
        "plt.title(\"F1 score on nr of training intances\")\n",
        "plt.xticks([100000,250000, 400000,600000,800000,1035928])\n",
        "plt.rcParams['figure.figsize'] = [3.8,3.8]\n",
        "#plt.xlim(0, 100e+4)\n",
        "\n",
        "# set the grid on\n",
        "plt.grid('on')\n"
      ],
      "metadata": {
        "colab": {
          "base_uri": "https://localhost:8080/",
          "height": 284
        },
        "id": "--5foGhh2YSL",
        "outputId": "204062cc-636d-42d8-9cee-97773abdb2b4"
      },
      "id": "--5foGhh2YSL",
      "execution_count": 385,
      "outputs": [
        {
          "output_type": "display_data",
          "data": {
            "text/plain": [
              "<Figure size 273.6x273.6 with 1 Axes>"
            ],
            "image/png": "[encoded data removed]"
          },
          "metadata": {
            "needs_background": "light"
          }
        }
      ]
    },
    {
      "cell_type": "code",
      "source": [
        "plt.plot(sample_size,true_predicts)\n",
        "plt.xlabel(\"nr of instances\")\n",
        "plt.ylabel(\"arg predicted\")\n",
        "plt.title(\"Arg predicted on nr of training intances\")\n",
        "plt.xticks([100000,250000, 400000,600000,800000,1035928])\n",
        "plt.rcParams['figure.figsize'] = [3.8,3.8]\n",
        "#plt.xlim(0, 100e+4)\n",
        "\n",
        "# set the grid on\n",
        "plt.grid('on')\n",
        "\n"
      ],
      "metadata": {
        "colab": {
          "base_uri": "https://localhost:8080/",
          "height": 284
        },
        "id": "E15iCNd2y6iO",
        "outputId": "f7d2837d-46b1-476d-967a-e93692b5d37d"
      },
      "id": "E15iCNd2y6iO",
      "execution_count": 388,
      "outputs": [
        {
          "output_type": "display_data",
          "data": {
            "text/plain": [
              "<Figure size 273.6x273.6 with 1 Axes>"
            ],
            "image/png": "[encoded data removed]"
          },
          "metadata": {
            "needs_background": "light"
          }
        }
      ]
    },
    {
      "cell_type": "markdown",
      "source": [
        "##Now lets down sample the negative class only"
      ],
      "metadata": {
        "id": "mfOXD0kBy8C3"
      },
      "id": "mfOXD0kBy8C3"
    },
    {
      "cell_type": "code",
      "source": [
        "down_sample_size =  [x for x in range(500000,900000,10000)] \n",
        "\n",
        "down_sample_size"
      ],
      "metadata": {
        "colab": {
          "base_uri": "https://localhost:8080/"
        },
        "id": "1p8Yi_myzFY_",
        "outputId": "ad5e23e1-c440-43d8-917b-b6a70d0e85f5"
      },
      "execution_count": 400,
      "outputs": [
        {
          "output_type": "execute_result",
          "data": {
            "text/plain": [
              "[500000,\n",
              " 510000,\n",
              " 520000,\n",
              " 530000,\n",
              " 540000,\n",
              " 550000,\n",
              " 560000,\n",
              " 570000,\n",
              " 580000,\n",
              " 590000,\n",
              " 600000,\n",
              " 610000,\n",
              " 620000,\n",
              " 630000,\n",
              " 640000,\n",
              " 650000,\n",
              " 660000,\n",
              " 670000,\n",
              " 680000,\n",
              " 690000,\n",
              " 700000,\n",
              " 710000,\n",
              " 720000,\n",
              " 730000,\n",
              " 740000,\n",
              " 750000,\n",
              " 760000,\n",
              " 770000,\n",
              " 780000,\n",
              " 790000,\n",
              " 800000,\n",
              " 810000,\n",
              " 820000,\n",
              " 830000,\n",
              " 840000,\n",
              " 850000,\n",
              " 860000,\n",
              " 870000,\n",
              " 880000,\n",
              " 890000]"
            ]
          },
          "metadata": {},
          "execution_count": 400
        }
      ],
      "id": "1p8Yi_myzFY_"
    },
    {
      "cell_type": "code",
      "source": [
        "f1_scores=[]\n",
        "true_predicts=[]\n",
        "n_samples=[]\n",
        "for x in down_sample_size:\n",
        "  print(f\"{x=}\")\n",
        "  tokens_train=train[[\"token\",\"target\"]]\n",
        "  tokens_test=test[[\"token\",\"target\"]]\n",
        "  tokens_train=make_binary_label(tokens_train)\n",
        "  tokens_test=make_binary_label(tokens_test)\n",
        "\n",
        "  tokens_train = tokens_train.drop(tokens_train[tokens_train['label']==0].sample(n=x).index)\n",
        "  n_samples.append(tokens_train.shape[0])\n",
        "  print(tokens_train.shape[0])\n",
        "  X_train,X_test,y_train,y_test=prepare_token_data(tokens_train,tokens_test)\n",
        "  y_pred=logistic_reg(X_train,X_test,y_train,y_test)\n",
        "  \n",
        "  predicted_true=y_pred.sum()\n",
        "  true_predicts.append(predicted_true)\n",
        "  print(f\"{predicted_true=}\")\n",
        "\n",
        "  f1 = f1_score(y_test,y_pred)\n",
        "  f1_scores.append(f1)\n",
        "  print(f\"{f1=}\")\n",
        "  print(\"=====\\n\")"
      ],
      "metadata": {
        "id": "pShOZGOizFZA"
      },
      "execution_count": null,
      "outputs": [],
      "id": "pShOZGOizFZA"
    },
    {
      "cell_type": "code",
      "source": [],
      "metadata": {
        "id": "-BMKkw1kLxVA"
      },
      "id": "-BMKkw1kLxVA",
      "execution_count": null,
      "outputs": []
    },
    {
      "cell_type": "markdown",
      "source": [
        "##PLOTS"
      ],
      "metadata": {
        "id": "juNJo7mIRJ4k"
      },
      "id": "juNJo7mIRJ4k"
    },
    {
      "cell_type": "code",
      "source": [
        "plt.plot(n_samples,f1_scores)\n",
        "plt.xlabel(\"Nr of instances\")\n",
        "plt.ylabel(\"F1 scores\")\n",
        "plt.title(\"F1 score on nr of training intances\")\n",
        "plt.xticks([x for x in range(100000,700000, 50000)])\n",
        "plt.rcParams['figure.figsize'] = [3.8,3.8]\n",
        "#plt.xlim(0, 100e+4)\n",
        "\n",
        "# set the grid on\n",
        "plt.grid('on')\n",
        "\n"
      ],
      "metadata": {
        "colab": {
          "base_uri": "https://localhost:8080/",
          "height": 284
        },
        "id": "Y8sxnCbmox21",
        "outputId": "e3665be5-0b59-40d2-ecbf-948a39a652dc"
      },
      "id": "Y8sxnCbmox21",
      "execution_count": 404,
      "outputs": [
        {
          "output_type": "display_data",
          "data": {
            "text/plain": [
              "<Figure size 273.6x273.6 with 1 Axes>"
            ],
            "image/png": "[encoded data removed]"
          },
          "metadata": {
            "needs_background": "light"
          }
        }
      ]
    },
    {
      "cell_type": "code",
      "source": [
        "plt.plot(n_samples,true_predicts)\n",
        "plt.xlabel(\"Nr of instances\")\n",
        "plt.ylabel(\"Arg predicted\")\n",
        "plt.title(\"Arg predicted on nr of training intances\")\n",
        "plt.xticks([x for x in range(100000,400000, 50000)])\n",
        "plt.rcParams['figure.figsize'] = [3.8,3.8]\n",
        "#plt.xlim(0, 100e+4)\n",
        "\n",
        "# set the grid on\n",
        "plt.grid('on')"
      ],
      "metadata": {
        "colab": {
          "base_uri": "https://localhost:8080/",
          "height": 284
        },
        "id": "ondAExjEXBHO",
        "outputId": "c8e613f9-7bb3-4c4e-ee59-abf1af6b75c9"
      },
      "id": "ondAExjEXBHO",
      "execution_count": 405,
      "outputs": [
        {
          "output_type": "display_data",
          "data": {
            "text/plain": [
              "<Figure size 273.6x273.6 with 1 Axes>"
            ],
            "image/png": "[encoded data removed]"
          },
          "metadata": {
            "needs_background": "light"
          }
        }
      ]
    },
    {
      "cell_type": "markdown",
      "source": [
        "## PREPARE RESULTS baseline1  to give to baseline2 "
      ],
      "metadata": {
        "id": "Tz1rZ4FcXBbf"
      },
      "id": "Tz1rZ4FcXBbf"
    },
    {
      "cell_type": "code",
      "source": [
        "tokens_train=train[[\"token\",\"target\"]]\n",
        "tokens_test=test[[\"token\",\"target\"]]\n",
        "\n",
        "tokens_train=make_binary_label(tokens_train)\n",
        "tokens_test=make_binary_label(tokens_test)\n"
      ],
      "metadata": {
        "id": "JJwfBMX4XMaH"
      },
      "id": "JJwfBMX4XMaH",
      "execution_count": 410,
      "outputs": []
    },
    {
      "cell_type": "code",
      "source": [
        "#x=820000\n",
        "tokens_train = tokens_train.drop(tokens_train[tokens_train['label']==0].sample(n=820000).index)\n"
      ],
      "metadata": {
        "id": "osh_yhIlXulp"
      },
      "id": "osh_yhIlXulp",
      "execution_count": 411,
      "outputs": []
    },
    {
      "cell_type": "code",
      "source": [
        "X_train,X_test,y_train,y_test=prepare_token_data(tokens_train,tokens_test)"
      ],
      "metadata": {
        "id": "CN2Rxp8DX-zi"
      },
      "id": "CN2Rxp8DX-zi",
      "execution_count": 412,
      "outputs": []
    },
    {
      "cell_type": "code",
      "source": [
        "log_regression = LogisticRegression(penalty='l2')\n",
        "\n",
        "#fit the model using the training data\n",
        "log_regression.fit(X_train,y_train)\n",
        "\n",
        "#use model to make predictions on test data\n",
        "y_train_pred = log_regression.predict(X_train)"
      ],
      "metadata": {
        "colab": {
          "base_uri": "https://localhost:8080/"
        },
        "id": "fGl7LVDPY1ub",
        "outputId": "9b7d95bf-fc76-41b2-f1c6-e5a9e322b150"
      },
      "id": "fGl7LVDPY1ub",
      "execution_count": 413,
      "outputs": [
        {
          "output_type": "stream",
          "name": "stderr",
          "text": [
            "/usr/local/lib/python3.8/dist-packages/sklearn/linear_model/_logistic.py:814: ConvergenceWarning: lbfgs failed to converge (status=1):\n",
            "STOP: TOTAL NO. of ITERATIONS REACHED LIMIT.\n",
            "\n",
            "Increase the number of iterations (max_iter) or scale the data as shown in:\n",
            "    https://scikit-learn.org/stable/modules/preprocessing.html\n",
            "Please also refer to the documentation for alternative solver options:\n",
            "    https://scikit-learn.org/stable/modules/linear_model.html#logistic-regression\n",
            "  n_iter_i = _check_optimize_result(\n"
          ]
        }
      ]
    },
    {
      "cell_type": "code",
      "source": [
        "clean_train=pd.concat([tokens_train['token'].reset_index(drop=True),tokens_train['target'].reset_index(drop=True),pd.DataFrame(data=y_train_pred,columns=['predictions'])],axis=1)"
      ],
      "metadata": {
        "id": "3G6EbzBFZPmK"
      },
      "id": "3G6EbzBFZPmK",
      "execution_count": 414,
      "outputs": []
    },
    {
      "cell_type": "code",
      "source": [
        "y_pred = log_regression.predict(X_test)"
      ],
      "metadata": {
        "id": "gKj5kVMD7gKv"
      },
      "id": "gKj5kVMD7gKv",
      "execution_count": 415,
      "outputs": []
    },
    {
      "cell_type": "code",
      "source": [
        "confusion_mtrx(y_test,y_pred)"
      ],
      "metadata": {
        "colab": {
          "base_uri": "https://localhost:8080/",
          "height": 301
        },
        "id": "ghQYbQgzM6A2",
        "outputId": "7fcbf96f-021a-4f5d-89d4-72f444a56b41"
      },
      "id": "ghQYbQgzM6A2",
      "execution_count": 416,
      "outputs": [
        {
          "output_type": "execute_result",
          "data": {
            "text/plain": [
              "0"
            ]
          },
          "metadata": {},
          "execution_count": 416
        },
        {
          "output_type": "display_data",
          "data": {
            "text/plain": [
              "<Figure size 273.6x273.6 with 2 Axes>"
            ],
            "image/png": "[encoded data removed]"
          },
          "metadata": {
            "needs_background": "light"
          }
        }
      ]
    },
    {
      "cell_type": "code",
      "source": [
        "f1_score(y_test,y_pred)"
      ],
      "metadata": {
        "colab": {
          "base_uri": "https://localhost:8080/"
        },
        "id": "bYSlva9DNEzs",
        "outputId": "b1c0f3d7-ef6c-4143-856a-8badb8c1f2d6"
      },
      "id": "bYSlva9DNEzs",
      "execution_count": 417,
      "outputs": [
        {
          "output_type": "execute_result",
          "data": {
            "text/plain": [
              "0.3139935275080906"
            ]
          },
          "metadata": {},
          "execution_count": 417
        }
      ]
    },
    {
      "cell_type": "code",
      "source": [],
      "metadata": {
        "id": "IlbZGO4tRcii"
      },
      "id": "IlbZGO4tRcii",
      "execution_count": null,
      "outputs": []
    },
    {
      "cell_type": "markdown",
      "source": [
        "##----------------------------------"
      ],
      "metadata": {
        "id": "dw-3Uc-wRdbE"
      },
      "id": "dw-3Uc-wRdbE"
    },
    {
      "cell_type": "markdown",
      "source": [
        "##WITH BASIC FEATURES"
      ],
      "metadata": {
        "id": "HoGHIdlTnosD"
      },
      "id": "HoGHIdlTnosD"
    },
    {
      "cell_type": "code",
      "source": [
        "\n"
      ],
      "metadata": {
        "id": "HeRMhzyeBdjh"
      },
      "id": "HeRMhzyeBdjh",
      "execution_count": null,
      "outputs": []
    },
    {
      "cell_type": "code",
      "source": [
        "\n",
        "##WRAPPER FUNCTION\n",
        "def process_generic_dataset(df):\n",
        "  \n",
        "  df=make_binary_label(df)\n",
        "\n",
        "  df=columns_cleaning(df)\n",
        "\n",
        "  df=make_NER(df)\n",
        "\n",
        "  return df"
      ],
      "metadata": {
        "id": "33GTzbx8N9io"
      },
      "id": "33GTzbx8N9io",
      "execution_count": 101,
      "outputs": []
    },
    {
      "cell_type": "code",
      "source": [
        "test"
      ],
      "metadata": {
        "colab": {
          "base_uri": "https://localhost:8080/",
          "height": 424
        },
        "id": "x7MVIZV3GMzw",
        "outputId": "67c141cd-60f7-4821-cf46-03159b8ab241"
      },
      "id": "x7MVIZV3GMzw",
      "execution_count": 83,
      "outputs": [
        {
          "output_type": "execute_result",
          "data": {
            "text/plain": [
              "       sent_id token_id     token   lemma    POS uni_POS  \\\n",
              "0            0        1      What    what   PRON      WP   \n",
              "1            0        2        if      if  SCONJ      IN   \n",
              "2            0        3    Google  Google  PROPN     NNP   \n",
              "3            0        4   Morphed   morph   VERB     VBD   \n",
              "4            0        5      Into    into    ADP      IN   \n",
              "...        ...      ...       ...     ...    ...     ...   \n",
              "445063    1463       61  attended  attend   VERB     VBN   \n",
              "445064    1463       62        to      to    ADP      IN   \n",
              "445065    1463       63     RIGHT   right    ADV      RB   \n",
              "445066    1463       64      AWAY    away    ADV      RB   \n",
              "445067    1463       65       !!!     !!!  PUNCT       .   \n",
              "\n",
              "                                 morph_type distance_head dep_label  \\\n",
              "0                              PronType=Int             0      root   \n",
              "1                                         _             4      mark   \n",
              "2                               Number=Sing             4     nsubj   \n",
              "3          Mood=Ind|Tense=Past|VerbForm=Fin             1     advcl   \n",
              "4                                         _             6      case   \n",
              "...                                     ...           ...       ...   \n",
              "445063  Tense=Past|VerbForm=Part|Voice=Pass            58     xcomp   \n",
              "445064                                    _            61       obl   \n",
              "445065                                    _            64    advmod   \n",
              "445066                                    _            61    advmod   \n",
              "445067                                    _            24     punct   \n",
              "\n",
              "           dep_rel          space   probbank    target repetion_id  \n",
              "0           0:root              _          _         _           0  \n",
              "1           4:mark              _          _         _           0  \n",
              "2          4:nsubj              _          _      ARG1           0  \n",
              "3       1:advcl:if              _   morph.01         V           0  \n",
              "4           6:case              _          _         _           0  \n",
              "...            ...            ...        ...       ...         ...  \n",
              "445063    58:xcomp              _  attend.01         V          17  \n",
              "445064      61:obl              _          _    C-ARG1          17  \n",
              "445065   64:advmod              _          _         _          17  \n",
              "445066   61:advmod  SpaceAfter=No          _  ARGM-TMP          17  \n",
              "445067    24:punct              _          _         _          17  \n",
              "\n",
              "[103246 rows x 14 columns]"
            ],
            "text/html": [
              "\n",
              "  <div id=\"df-b3486322-a908-4e76-9202-f59ccfdb9fe8\">\n",
              "    <div class=\"colab-df-container\">\n",
              "      <div>\n",
              "<style scoped>\n",
              "    .dataframe tbody tr th:only-of-type {\n",
              "        vertical-align: middle;\n",
              "    }\n",
              "\n",
              "    .dataframe tbody tr th {\n",
              "        vertical-align: top;\n",
              "    }\n",
              "\n",
              "    .dataframe thead th {\n",
              "        text-align: right;\n",
              "    }\n",
              "</style>\n",
              "<table border=\"1\" class=\"dataframe\">\n",
              "  <thead>\n",
              "    <tr style=\"text-align: right;\">\n",
              "      <th></th>\n",
              "      <th>sent_id</th>\n",
              "      <th>token_id</th>\n",
              "      <th>token</th>\n",
              "      <th>lemma</th>\n",
              "      <th>POS</th>\n",
              "      <th>uni_POS</th>\n",
              "      <th>morph_type</th>\n",
              "      <th>distance_head</th>\n",
              "      <th>dep_label</th>\n",
              "      <th>dep_rel</th>\n",
              "      <th>space</th>\n",
              "      <th>probbank</th>\n",
              "      <th>target</th>\n",
              "      <th>repetion_id</th>\n",
              "    </tr>\n",
              "  </thead>\n",
              "  <tbody>\n",
              "    <tr>\n",
              "      <th>0</th>\n",
              "      <td>0</td>\n",
              "      <td>1</td>\n",
              "      <td>What</td>\n",
              "      <td>what</td>\n",
              "      <td>PRON</td>\n",
              "      <td>WP</td>\n",
              "      <td>PronType=Int</td>\n",
              "      <td>0</td>\n",
              "      <td>root</td>\n",
              "      <td>0:root</td>\n",
              "      <td>_</td>\n",
              "      <td>_</td>\n",
              "      <td>_</td>\n",
              "      <td>0</td>\n",
              "    </tr>\n",
              "    <tr>\n",
              "      <th>1</th>\n",
              "      <td>0</td>\n",
              "      <td>2</td>\n",
              "      <td>if</td>\n",
              "      <td>if</td>\n",
              "      <td>SCONJ</td>\n",
              "      <td>IN</td>\n",
              "      <td>_</td>\n",
              "      <td>4</td>\n",
              "      <td>mark</td>\n",
              "      <td>4:mark</td>\n",
              "      <td>_</td>\n",
              "      <td>_</td>\n",
              "      <td>_</td>\n",
              "      <td>0</td>\n",
              "    </tr>\n",
              "    <tr>\n",
              "      <th>2</th>\n",
              "      <td>0</td>\n",
              "      <td>3</td>\n",
              "      <td>Google</td>\n",
              "      <td>Google</td>\n",
              "      <td>PROPN</td>\n",
              "      <td>NNP</td>\n",
              "      <td>Number=Sing</td>\n",
              "      <td>4</td>\n",
              "      <td>nsubj</td>\n",
              "      <td>4:nsubj</td>\n",
              "      <td>_</td>\n",
              "      <td>_</td>\n",
              "      <td>ARG1</td>\n",
              "      <td>0</td>\n",
              "    </tr>\n",
              "    <tr>\n",
              "      <th>3</th>\n",
              "      <td>0</td>\n",
              "      <td>4</td>\n",
              "      <td>Morphed</td>\n",
              "      <td>morph</td>\n",
              "      <td>VERB</td>\n",
              "      <td>VBD</td>\n",
              "      <td>Mood=Ind|Tense=Past|VerbForm=Fin</td>\n",
              "      <td>1</td>\n",
              "      <td>advcl</td>\n",
              "      <td>1:advcl:if</td>\n",
              "      <td>_</td>\n",
              "      <td>morph.01</td>\n",
              "      <td>V</td>\n",
              "      <td>0</td>\n",
              "    </tr>\n",
              "    <tr>\n",
              "      <th>4</th>\n",
              "      <td>0</td>\n",
              "      <td>5</td>\n",
              "      <td>Into</td>\n",
              "      <td>into</td>\n",
              "      <td>ADP</td>\n",
              "      <td>IN</td>\n",
              "      <td>_</td>\n",
              "      <td>6</td>\n",
              "      <td>case</td>\n",
              "      <td>6:case</td>\n",
              "      <td>_</td>\n",
              "      <td>_</td>\n",
              "      <td>_</td>\n",
              "      <td>0</td>\n",
              "    </tr>\n",
              "    <tr>\n",
              "      <th>...</th>\n",
              "      <td>...</td>\n",
              "      <td>...</td>\n",
              "      <td>...</td>\n",
              "      <td>...</td>\n",
              "      <td>...</td>\n",
              "      <td>...</td>\n",
              "      <td>...</td>\n",
              "      <td>...</td>\n",
              "      <td>...</td>\n",
              "      <td>...</td>\n",
              "      <td>...</td>\n",
              "      <td>...</td>\n",
              "      <td>...</td>\n",
              "      <td>...</td>\n",
              "    </tr>\n",
              "    <tr>\n",
              "      <th>445063</th>\n",
              "      <td>1463</td>\n",
              "      <td>61</td>\n",
              "      <td>attended</td>\n",
              "      <td>attend</td>\n",
              "      <td>VERB</td>\n",
              "      <td>VBN</td>\n",
              "      <td>Tense=Past|VerbForm=Part|Voice=Pass</td>\n",
              "      <td>58</td>\n",
              "      <td>xcomp</td>\n",
              "      <td>58:xcomp</td>\n",
              "      <td>_</td>\n",
              "      <td>attend.01</td>\n",
              "      <td>V</td>\n",
              "      <td>17</td>\n",
              "    </tr>\n",
              "    <tr>\n",
              "      <th>445064</th>\n",
              "      <td>1463</td>\n",
              "      <td>62</td>\n",
              "      <td>to</td>\n",
              "      <td>to</td>\n",
              "      <td>ADP</td>\n",
              "      <td>IN</td>\n",
              "      <td>_</td>\n",
              "      <td>61</td>\n",
              "      <td>obl</td>\n",
              "      <td>61:obl</td>\n",
              "      <td>_</td>\n",
              "      <td>_</td>\n",
              "      <td>C-ARG1</td>\n",
              "      <td>17</td>\n",
              "    </tr>\n",
              "    <tr>\n",
              "      <th>445065</th>\n",
              "      <td>1463</td>\n",
              "      <td>63</td>\n",
              "      <td>RIGHT</td>\n",
              "      <td>right</td>\n",
              "      <td>ADV</td>\n",
              "      <td>RB</td>\n",
              "      <td>_</td>\n",
              "      <td>64</td>\n",
              "      <td>advmod</td>\n",
              "      <td>64:advmod</td>\n",
              "      <td>_</td>\n",
              "      <td>_</td>\n",
              "      <td>_</td>\n",
              "      <td>17</td>\n",
              "    </tr>\n",
              "    <tr>\n",
              "      <th>445066</th>\n",
              "      <td>1463</td>\n",
              "      <td>64</td>\n",
              "      <td>AWAY</td>\n",
              "      <td>away</td>\n",
              "      <td>ADV</td>\n",
              "      <td>RB</td>\n",
              "      <td>_</td>\n",
              "      <td>61</td>\n",
              "      <td>advmod</td>\n",
              "      <td>61:advmod</td>\n",
              "      <td>SpaceAfter=No</td>\n",
              "      <td>_</td>\n",
              "      <td>ARGM-TMP</td>\n",
              "      <td>17</td>\n",
              "    </tr>\n",
              "    <tr>\n",
              "      <th>445067</th>\n",
              "      <td>1463</td>\n",
              "      <td>65</td>\n",
              "      <td>!!!</td>\n",
              "      <td>!!!</td>\n",
              "      <td>PUNCT</td>\n",
              "      <td>.</td>\n",
              "      <td>_</td>\n",
              "      <td>24</td>\n",
              "      <td>punct</td>\n",
              "      <td>24:punct</td>\n",
              "      <td>_</td>\n",
              "      <td>_</td>\n",
              "      <td>_</td>\n",
              "      <td>17</td>\n",
              "    </tr>\n",
              "  </tbody>\n",
              "</table>\n",
              "<p>103246 rows × 14 columns</p>\n",
              "</div>\n",
              "      <button class=\"colab-df-convert\" onclick=\"convertToInteractive('df-b3486322-a908-4e76-9202-f59ccfdb9fe8')\"\n",
              "              title=\"Convert this dataframe to an interactive table.\"\n",
              "              style=\"display:none;\">\n",
              "        \n",
              "  <svg xmlns=\"http://www.w3.org/2000/svg\" height=\"24px\"viewBox=\"0 0 24 24\"\n",
              "       width=\"24px\">\n",
              "    <path d=\"M0 0h24v24H0V0z\" fill=\"none\"/>\n",
              "    <path d=\"M18.56 5.44l.94 2.06.94-2.06 2.06-.94-2.06-.94-.94-2.06-.94 2.06-2.06.94zm-11 1L8.5 8.5l.94-2.06 2.06-.94-2.06-.94L8.5 2.5l-.94 2.06-2.06.94zm10 10l.94 2.06.94-2.06 2.06-.94-2.06-.94-.94-2.06-.94 2.06-2.06.94z\"/><path d=\"M17.41 7.96l-1.37-1.37c-.4-.4-.92-.59-1.43-.59-.52 0-1.04.2-1.43.59L10.3 9.45l-7.72 7.72c-.78.78-.78 2.05 0 2.83L4 21.41c.39.39.9.59 1.41.59.51 0 1.02-.2 1.41-.59l7.78-7.78 2.81-2.81c.8-.78.8-2.07 0-2.86zM5.41 20L4 18.59l7.72-7.72 1.47 1.35L5.41 20z\"/>\n",
              "  </svg>\n",
              "      </button>\n",
              "      \n",
              "  <style>\n",
              "    .colab-df-container {\n",
              "      display:flex;\n",
              "      flex-wrap:wrap;\n",
              "      gap: 12px;\n",
              "    }\n",
              "\n",
              "    .colab-df-convert {\n",
              "      background-color: #E8F0FE;\n",
              "      border: none;\n",
              "      border-radius: 50%;\n",
              "      cursor: pointer;\n",
              "      display: none;\n",
              "      fill: #1967D2;\n",
              "      height: 32px;\n",
              "      padding: 0 0 0 0;\n",
              "      width: 32px;\n",
              "    }\n",
              "\n",
              "    .colab-df-convert:hover {\n",
              "      background-color: #E2EBFA;\n",
              "      box-shadow: 0px 1px 2px rgba(60, 64, 67, 0.3), 0px 1px 3px 1px rgba(60, 64, 67, 0.15);\n",
              "      fill: #174EA6;\n",
              "    }\n",
              "\n",
              "    [theme=dark] .colab-df-convert {\n",
              "      background-color: #3B4455;\n",
              "      fill: #D2E3FC;\n",
              "    }\n",
              "\n",
              "    [theme=dark] .colab-df-convert:hover {\n",
              "      background-color: #434B5C;\n",
              "      box-shadow: 0px 1px 3px 1px rgba(0, 0, 0, 0.15);\n",
              "      filter: drop-shadow(0px 1px 2px rgba(0, 0, 0, 0.3));\n",
              "      fill: #FFFFFF;\n",
              "    }\n",
              "  </style>\n",
              "\n",
              "      <script>\n",
              "        const buttonEl =\n",
              "          document.querySelector('#df-b3486322-a908-4e76-9202-f59ccfdb9fe8 button.colab-df-convert');\n",
              "        buttonEl.style.display =\n",
              "          google.colab.kernel.accessAllowed ? 'block' : 'none';\n",
              "\n",
              "        async function convertToInteractive(key) {\n",
              "          const element = document.querySelector('#df-b3486322-a908-4e76-9202-f59ccfdb9fe8');\n",
              "          const dataTable =\n",
              "            await google.colab.kernel.invokeFunction('convertToInteractive',\n",
              "                                                     [key], {});\n",
              "          if (!dataTable) return;\n",
              "\n",
              "          const docLinkHtml = 'Like what you see? Visit the ' +\n",
              "            '<a target=\"_blank\" href=https://colab.research.google.com/notebooks/data_table.ipynb>data table notebook</a>'\n",
              "            + ' to learn more about interactive tables.';\n",
              "          element.innerHTML = '';\n",
              "          dataTable['output_type'] = 'display_data';\n",
              "          await google.colab.output.renderOutput(dataTable, element);\n",
              "          const docLink = document.createElement('div');\n",
              "          docLink.innerHTML = docLinkHtml;\n",
              "          element.appendChild(docLink);\n",
              "        }\n",
              "      </script>\n",
              "    </div>\n",
              "  </div>\n",
              "  "
            ]
          },
          "metadata": {},
          "execution_count": 83
        }
      ]
    },
    {
      "cell_type": "code",
      "source": [
        "df_train=process_generic_dataset(train)\n",
        "df_test=process_generic_dataset(test)\n",
        "\n"
      ],
      "metadata": {
        "id": "Mj7g4oGe9g24",
        "colab": {
          "base_uri": "https://localhost:8080/"
        },
        "outputId": "297eab4a-3214-4eed-9354-ef4131d054a3"
      },
      "id": "Mj7g4oGe9g24",
      "execution_count": 418,
      "outputs": [
        {
          "output_type": "stream",
          "name": "stderr",
          "text": [
            "<ipython-input-154-c405c3c69b02>:16: SettingWithCopyWarning: \n",
            "A value is trying to be set on a copy of a slice from a DataFrame.\n",
            "Try using .loc[row_indexer,col_indexer] = value instead\n",
            "\n",
            "See the caveats in the documentation: https://pandas.pydata.org/pandas-docs/stable/user_guide/indexing.html#returning-a-view-versus-a-copy\n",
            "  df[\"distance_head\"]=df[\"distance_head\"].astype(int) #WARNING IS FROM HERE\n",
            "<ipython-input-154-c405c3c69b02>:18: SettingWithCopyWarning: \n",
            "A value is trying to be set on a copy of a slice from a DataFrame.\n",
            "Try using .loc[row_indexer,col_indexer] = value instead\n",
            "\n",
            "See the caveats in the documentation: https://pandas.pydata.org/pandas-docs/stable/user_guide/indexing.html#returning-a-view-versus-a-copy\n",
            "  df[\"sent_id\"]=df[\"sent_id\"].astype(int) #WARNING IS FROM HERE\n"
          ]
        }
      ]
    },
    {
      "cell_type": "code",
      "source": [
        "df_train.columns,df_test.columns"
      ],
      "metadata": {
        "colab": {
          "base_uri": "https://localhost:8080/"
        },
        "id": "OZXvgw0RG4de",
        "outputId": "bc0db0a2-be5c-4765-da79-40b68b8fd089"
      },
      "id": "OZXvgw0RG4de",
      "execution_count": 144,
      "outputs": [
        {
          "output_type": "execute_result",
          "data": {
            "text/plain": [
              "(Index(['sent_id', 'repetion_id', 'token', 'lemma', 'POS', 'uni_POS',\n",
              "        'morph_type', 'distance_head', 'dep_label', 'dep_rel', 'space',\n",
              "        'probbank', 'label'],\n",
              "       dtype='object'),\n",
              " Index(['sent_id', 'repetion_id', 'token', 'lemma', 'POS', 'uni_POS',\n",
              "        'morph_type', 'distance_head', 'dep_label', 'dep_rel', 'space',\n",
              "        'probbank', 'label'],\n",
              "       dtype='object'))"
            ]
          },
          "metadata": {},
          "execution_count": 144
        }
      ]
    },
    {
      "cell_type": "code",
      "source": [],
      "metadata": {
        "id": "4FFW1JdhHiCA"
      },
      "id": "4FFW1JdhHiCA",
      "execution_count": null,
      "outputs": []
    },
    {
      "cell_type": "code",
      "source": [
        "cols_to_encode=[ 'POS', 'uni_POS',\n",
        "       'morph_type', 'dep_label', 'dep_rel', 'space',\n",
        "       'probbank']\n",
        "df_train,df_test=create_encoding(df_train,df_test,cols_to_encode)"
      ],
      "metadata": {
        "id": "-bunWFgRG3ja"
      },
      "id": "-bunWFgRG3ja",
      "execution_count": 150,
      "outputs": []
    },
    {
      "cell_type": "code",
      "source": [
        "prepare_token_data()"
      ],
      "metadata": {
        "id": "_WLZwTXYSV9z"
      },
      "id": "_WLZwTXYSV9z",
      "execution_count": null,
      "outputs": []
    },
    {
      "cell_type": "code",
      "source": [
        "X_train=df_train\n",
        "y_train=X_train.pop('label')\n",
        "\n",
        "\n",
        "X_test=df_test\n",
        "y_test=X_test.pop('label')\n"
      ],
      "metadata": {
        "id": "RcxXwE99BAS_"
      },
      "id": "RcxXwE99BAS_",
      "execution_count": null,
      "outputs": []
    },
    {
      "cell_type": "markdown",
      "source": [
        "THE MODEL\n"
      ],
      "metadata": {
        "id": "qEWihzAMChpe"
      },
      "id": "qEWihzAMChpe"
    },
    {
      "cell_type": "code",
      "source": [
        "#instantiate the model\n",
        "log_regression = LogisticRegression(penalty='l2')\n",
        "\n",
        "#fit the model using the training data\n",
        "log_regression.fit(X_train,y_train)\n",
        "\n",
        "#use model to make predictions on test data\n",
        "y_pred = log_regression.predict(X_test)\n",
        "\n",
        "f1 = f1_score(y_test,y_pred)\n",
        "prec = precision_score(y_test,y_pred)\n",
        "print(f\"{f1=}\")\n",
        "print(f\"{prec=}\")\n"
      ],
      "metadata": {
        "id": "0gE8I6aaCk4a"
      },
      "id": "0gE8I6aaCk4a",
      "execution_count": null,
      "outputs": []
    },
    {
      "cell_type": "code",
      "source": [
        "y_pred.sum()"
      ],
      "metadata": {
        "id": "Mv24xobnD-dV"
      },
      "id": "Mv24xobnD-dV",
      "execution_count": null,
      "outputs": []
    },
    {
      "cell_type": "code",
      "source": [],
      "metadata": {
        "id": "kuI77PH0Ck65"
      },
      "id": "kuI77PH0Ck65",
      "execution_count": null,
      "outputs": []
    },
    {
      "cell_type": "markdown",
      "source": [
        "SOoo the issue is that keeps crashing if we put countvector or onehotvector along with other feature"
      ],
      "metadata": {
        "id": "WxRPXETRg6ec"
      },
      "id": "WxRPXETRg6ec"
    },
    {
      "cell_type": "markdown",
      "source": [
        "##ONLY CATHEGORICAL FEATURES"
      ],
      "metadata": {
        "id": "dwtocEY5W47H"
      },
      "id": "dwtocEY5W47H"
    },
    {
      "cell_type": "code",
      "source": [
        "train.columns"
      ],
      "metadata": {
        "colab": {
          "base_uri": "https://localhost:8080/"
        },
        "id": "2GdcSIprcrNv",
        "outputId": "4b7c6670-ad7a-4221-96b4-2ffbae30ddca"
      },
      "id": "2GdcSIprcrNv",
      "execution_count": null,
      "outputs": [
        {
          "output_type": "execute_result",
          "data": {
            "text/plain": [
              "Index(['sent_id', 'token_id', 'token', 'lemma', 'POS', 'uni_POS', 'morph_type',\n",
              "       'distance_head', 'dep_label', 'dep_rel', 'space', 'probbank', 'target',\n",
              "       'repetion_id'],\n",
              "      dtype='object')"
            ]
          },
          "metadata": {},
          "execution_count": 26
        }
      ]
    },
    {
      "cell_type": "code",
      "source": [
        "col=['sent_id', 'token_id', 'POS', 'uni_POS', 'morph_type',\n",
        "       'distance_head', 'dep_label', 'dep_rel', 'space', 'probbank', 'target',\n",
        "       'repetion_id']"
      ],
      "metadata": {
        "id": "R-7fIPCqXCr4"
      },
      "id": "R-7fIPCqXCr4",
      "execution_count": null,
      "outputs": []
    },
    {
      "cell_type": "code",
      "source": [
        "ttrain=train[col]\n",
        "ttest=test[col]"
      ],
      "metadata": {
        "id": "3gK5UMwkZtcc"
      },
      "id": "3gK5UMwkZtcc",
      "execution_count": null,
      "outputs": []
    },
    {
      "cell_type": "code",
      "source": [
        "def columns_cleaning(df): #political choices inside\n",
        "  df=df[df[\"distance_head\"]!=\"_\"]#like this\n",
        "  df[\"distance_head\"]=df[\"distance_head\"].astype(int) #WARNING IS FROM HERE\n",
        "  \n",
        "  df[\"sent_id\"]=df[\"sent_id\"].astype(int) #WARNING IS FROM HERE\n",
        "\n",
        "  df= df.drop('token_id', axis=1) #or this\n",
        "  df=df[['sent_id', 'repetion_id','POS', 'uni_POS', 'morph_type',\n",
        "        'distance_head', 'dep_label', 'dep_rel', 'space', 'probbank' ,'label']]\n",
        "\n",
        "  return df"
      ],
      "metadata": {
        "id": "8EzBU9YRe6xs"
      },
      "id": "8EzBU9YRe6xs",
      "execution_count": null,
      "outputs": []
    },
    {
      "cell_type": "code",
      "source": [
        "\n",
        "\n",
        "def create_encoding(df,cols_to_encode):\n",
        "  # create a LabelEncoder objec\n",
        "  le = LabelEncoder()\n",
        "\n",
        "  # iterate over the columns to encode\n",
        "  for col in cols_to_encode:\n",
        "      df[col] = le.fit_transform(df[col])\n",
        "  return df\n"
      ],
      "metadata": {
        "id": "6daNSvRLfaK7"
      },
      "id": "6daNSvRLfaK7",
      "execution_count": null,
      "outputs": []
    },
    {
      "cell_type": "code",
      "source": [
        "ttrain=make_binary_label(ttrain)\n",
        "ttest=make_binary_label(ttest)\n",
        "\n",
        "ttrain=columns_cleaning(ttrain)\n",
        "ttest=columns_cleaning(ttest)\n",
        "\n",
        "col=[ 'POS', 'uni_POS',\n",
        "       'morph_type', 'dep_label', 'dep_rel', 'space',\n",
        "       'probbank']\n",
        "\n",
        "ttrain=create_encoding(ttrain,col)\n",
        "ttest=create_encoding(ttest,col)"
      ],
      "metadata": {
        "colab": {
          "base_uri": "https://localhost:8080/"
        },
        "id": "arnsCzvldWQB",
        "outputId": "706ef169-4c2d-476c-f55f-1d5ead82b853"
      },
      "id": "arnsCzvldWQB",
      "execution_count": null,
      "outputs": [
        {
          "output_type": "stream",
          "name": "stderr",
          "text": [
            "<ipython-input-29-2295377dbcc6>:3: SettingWithCopyWarning: \n",
            "A value is trying to be set on a copy of a slice from a DataFrame.\n",
            "Try using .loc[row_indexer,col_indexer] = value instead\n",
            "\n",
            "See the caveats in the documentation: https://pandas.pydata.org/pandas-docs/stable/user_guide/indexing.html#returning-a-view-versus-a-copy\n",
            "  df[\"distance_head\"]=df[\"distance_head\"].astype(int) #WARNING IS FROM HERE\n",
            "<ipython-input-29-2295377dbcc6>:5: SettingWithCopyWarning: \n",
            "A value is trying to be set on a copy of a slice from a DataFrame.\n",
            "Try using .loc[row_indexer,col_indexer] = value instead\n",
            "\n",
            "See the caveats in the documentation: https://pandas.pydata.org/pandas-docs/stable/user_guide/indexing.html#returning-a-view-versus-a-copy\n",
            "  df[\"sent_id\"]=df[\"sent_id\"].astype(int) #WARNING IS FROM HERE\n"
          ]
        }
      ]
    },
    {
      "cell_type": "code",
      "source": [],
      "metadata": {
        "id": "RUOIc2HzeE-K",
        "colab": {
          "base_uri": "https://localhost:8080/",
          "height": 424
        },
        "outputId": "c4019195-7396-4ed5-a7ca-b7f0d4b95a90"
      },
      "id": "RUOIc2HzeE-K",
      "execution_count": null,
      "outputs": [
        {
          "output_type": "execute_result",
          "data": {
            "text/plain": [
              "         sent_id repetion_id  POS  uni_POS  morph_type  distance_head  \\\n",
              "0              0           0   11       24          74              0   \n",
              "1              0           0   12       15         100              1   \n",
              "2              0           0   11       24          74              1   \n",
              "3              0           0   12        6         100              1   \n",
              "4              0           0    0       17          41              6   \n",
              "...          ...         ...  ...      ...         ...            ...   \n",
              "7077906     7506          34   15       41          90            123   \n",
              "7077907     7506          34    4        9         100            134   \n",
              "7077908     7506          34   10       29          36            134   \n",
              "7077909     7506          34   15       42          63              4   \n",
              "7077910     7506          34    7       23          74            134   \n",
              "\n",
              "         dep_label  dep_rel  space  probbank  label  \n",
              "0               46        0     30         1      0  \n",
              "1               44     3130     30         1      0  \n",
              "2               25     2995     31         1      0  \n",
              "3               44     3130     31         1      0  \n",
              "4                4     9101     31         1      0  \n",
              "...            ...      ...    ...       ...    ...  \n",
              "7077906          2      756     31      1238      0  \n",
              "7077907          9     1097     31         1      0  \n",
              "7077908         35     1098     31         1      1  \n",
              "7077909         14     7504     31      1300      0  \n",
              "7077910         38     1099     31         1      1  \n",
              "\n",
              "[1035904 rows x 11 columns]"
            ],
            "text/html": [
              "\n",
              "  <div id=\"df-abe5317a-a498-46b8-9a2d-7e3256b236eb\">\n",
              "    <div class=\"colab-df-container\">\n",
              "      <div>\n",
              "<style scoped>\n",
              "    .dataframe tbody tr th:only-of-type {\n",
              "        vertical-align: middle;\n",
              "    }\n",
              "\n",
              "    .dataframe tbody tr th {\n",
              "        vertical-align: top;\n",
              "    }\n",
              "\n",
              "    .dataframe thead th {\n",
              "        text-align: right;\n",
              "    }\n",
              "</style>\n",
              "<table border=\"1\" class=\"dataframe\">\n",
              "  <thead>\n",
              "    <tr style=\"text-align: right;\">\n",
              "      <th></th>\n",
              "      <th>sent_id</th>\n",
              "      <th>repetion_id</th>\n",
              "      <th>POS</th>\n",
              "      <th>uni_POS</th>\n",
              "      <th>morph_type</th>\n",
              "      <th>distance_head</th>\n",
              "      <th>dep_label</th>\n",
              "      <th>dep_rel</th>\n",
              "      <th>space</th>\n",
              "      <th>probbank</th>\n",
              "      <th>label</th>\n",
              "    </tr>\n",
              "  </thead>\n",
              "  <tbody>\n",
              "    <tr>\n",
              "      <th>0</th>\n",
              "      <td>0</td>\n",
              "      <td>0</td>\n",
              "      <td>11</td>\n",
              "      <td>24</td>\n",
              "      <td>74</td>\n",
              "      <td>0</td>\n",
              "      <td>46</td>\n",
              "      <td>0</td>\n",
              "      <td>30</td>\n",
              "      <td>1</td>\n",
              "      <td>0</td>\n",
              "    </tr>\n",
              "    <tr>\n",
              "      <th>1</th>\n",
              "      <td>0</td>\n",
              "      <td>0</td>\n",
              "      <td>12</td>\n",
              "      <td>15</td>\n",
              "      <td>100</td>\n",
              "      <td>1</td>\n",
              "      <td>44</td>\n",
              "      <td>3130</td>\n",
              "      <td>30</td>\n",
              "      <td>1</td>\n",
              "      <td>0</td>\n",
              "    </tr>\n",
              "    <tr>\n",
              "      <th>2</th>\n",
              "      <td>0</td>\n",
              "      <td>0</td>\n",
              "      <td>11</td>\n",
              "      <td>24</td>\n",
              "      <td>74</td>\n",
              "      <td>1</td>\n",
              "      <td>25</td>\n",
              "      <td>2995</td>\n",
              "      <td>31</td>\n",
              "      <td>1</td>\n",
              "      <td>0</td>\n",
              "    </tr>\n",
              "    <tr>\n",
              "      <th>3</th>\n",
              "      <td>0</td>\n",
              "      <td>0</td>\n",
              "      <td>12</td>\n",
              "      <td>6</td>\n",
              "      <td>100</td>\n",
              "      <td>1</td>\n",
              "      <td>44</td>\n",
              "      <td>3130</td>\n",
              "      <td>31</td>\n",
              "      <td>1</td>\n",
              "      <td>0</td>\n",
              "    </tr>\n",
              "    <tr>\n",
              "      <th>4</th>\n",
              "      <td>0</td>\n",
              "      <td>0</td>\n",
              "      <td>0</td>\n",
              "      <td>17</td>\n",
              "      <td>41</td>\n",
              "      <td>6</td>\n",
              "      <td>4</td>\n",
              "      <td>9101</td>\n",
              "      <td>31</td>\n",
              "      <td>1</td>\n",
              "      <td>0</td>\n",
              "    </tr>\n",
              "    <tr>\n",
              "      <th>...</th>\n",
              "      <td>...</td>\n",
              "      <td>...</td>\n",
              "      <td>...</td>\n",
              "      <td>...</td>\n",
              "      <td>...</td>\n",
              "      <td>...</td>\n",
              "      <td>...</td>\n",
              "      <td>...</td>\n",
              "      <td>...</td>\n",
              "      <td>...</td>\n",
              "      <td>...</td>\n",
              "    </tr>\n",
              "    <tr>\n",
              "      <th>7077906</th>\n",
              "      <td>7506</td>\n",
              "      <td>34</td>\n",
              "      <td>15</td>\n",
              "      <td>41</td>\n",
              "      <td>90</td>\n",
              "      <td>123</td>\n",
              "      <td>2</td>\n",
              "      <td>756</td>\n",
              "      <td>31</td>\n",
              "      <td>1238</td>\n",
              "      <td>0</td>\n",
              "    </tr>\n",
              "    <tr>\n",
              "      <th>7077907</th>\n",
              "      <td>7506</td>\n",
              "      <td>34</td>\n",
              "      <td>4</td>\n",
              "      <td>9</td>\n",
              "      <td>100</td>\n",
              "      <td>134</td>\n",
              "      <td>9</td>\n",
              "      <td>1097</td>\n",
              "      <td>31</td>\n",
              "      <td>1</td>\n",
              "      <td>0</td>\n",
              "    </tr>\n",
              "    <tr>\n",
              "      <th>7077908</th>\n",
              "      <td>7506</td>\n",
              "      <td>34</td>\n",
              "      <td>10</td>\n",
              "      <td>29</td>\n",
              "      <td>36</td>\n",
              "      <td>134</td>\n",
              "      <td>35</td>\n",
              "      <td>1098</td>\n",
              "      <td>31</td>\n",
              "      <td>1</td>\n",
              "      <td>1</td>\n",
              "    </tr>\n",
              "    <tr>\n",
              "      <th>7077909</th>\n",
              "      <td>7506</td>\n",
              "      <td>34</td>\n",
              "      <td>15</td>\n",
              "      <td>42</td>\n",
              "      <td>63</td>\n",
              "      <td>4</td>\n",
              "      <td>14</td>\n",
              "      <td>7504</td>\n",
              "      <td>31</td>\n",
              "      <td>1300</td>\n",
              "      <td>0</td>\n",
              "    </tr>\n",
              "    <tr>\n",
              "      <th>7077910</th>\n",
              "      <td>7506</td>\n",
              "      <td>34</td>\n",
              "      <td>7</td>\n",
              "      <td>23</td>\n",
              "      <td>74</td>\n",
              "      <td>134</td>\n",
              "      <td>38</td>\n",
              "      <td>1099</td>\n",
              "      <td>31</td>\n",
              "      <td>1</td>\n",
              "      <td>1</td>\n",
              "    </tr>\n",
              "  </tbody>\n",
              "</table>\n",
              "<p>1035904 rows × 11 columns</p>\n",
              "</div>\n",
              "      <button class=\"colab-df-convert\" onclick=\"convertToInteractive('df-abe5317a-a498-46b8-9a2d-7e3256b236eb')\"\n",
              "              title=\"Convert this dataframe to an interactive table.\"\n",
              "              style=\"display:none;\">\n",
              "        \n",
              "  <svg xmlns=\"http://www.w3.org/2000/svg\" height=\"24px\"viewBox=\"0 0 24 24\"\n",
              "       width=\"24px\">\n",
              "    <path d=\"M0 0h24v24H0V0z\" fill=\"none\"/>\n",
              "    <path d=\"M18.56 5.44l.94 2.06.94-2.06 2.06-.94-2.06-.94-.94-2.06-.94 2.06-2.06.94zm-11 1L8.5 8.5l.94-2.06 2.06-.94-2.06-.94L8.5 2.5l-.94 2.06-2.06.94zm10 10l.94 2.06.94-2.06 2.06-.94-2.06-.94-.94-2.06-.94 2.06-2.06.94z\"/><path d=\"M17.41 7.96l-1.37-1.37c-.4-.4-.92-.59-1.43-.59-.52 0-1.04.2-1.43.59L10.3 9.45l-7.72 7.72c-.78.78-.78 2.05 0 2.83L4 21.41c.39.39.9.59 1.41.59.51 0 1.02-.2 1.41-.59l7.78-7.78 2.81-2.81c.8-.78.8-2.07 0-2.86zM5.41 20L4 18.59l7.72-7.72 1.47 1.35L5.41 20z\"/>\n",
              "  </svg>\n",
              "      </button>\n",
              "      \n",
              "  <style>\n",
              "    .colab-df-container {\n",
              "      display:flex;\n",
              "      flex-wrap:wrap;\n",
              "      gap: 12px;\n",
              "    }\n",
              "\n",
              "    .colab-df-convert {\n",
              "      background-color: #E8F0FE;\n",
              "      border: none;\n",
              "      border-radius: 50%;\n",
              "      cursor: pointer;\n",
              "      display: none;\n",
              "      fill: #1967D2;\n",
              "      height: 32px;\n",
              "      padding: 0 0 0 0;\n",
              "      width: 32px;\n",
              "    }\n",
              "\n",
              "    .colab-df-convert:hover {\n",
              "      background-color: #E2EBFA;\n",
              "      box-shadow: 0px 1px 2px rgba(60, 64, 67, 0.3), 0px 1px 3px 1px rgba(60, 64, 67, 0.15);\n",
              "      fill: #174EA6;\n",
              "    }\n",
              "\n",
              "    [theme=dark] .colab-df-convert {\n",
              "      background-color: #3B4455;\n",
              "      fill: #D2E3FC;\n",
              "    }\n",
              "\n",
              "    [theme=dark] .colab-df-convert:hover {\n",
              "      background-color: #434B5C;\n",
              "      box-shadow: 0px 1px 3px 1px rgba(0, 0, 0, 0.15);\n",
              "      filter: drop-shadow(0px 1px 2px rgba(0, 0, 0, 0.3));\n",
              "      fill: #FFFFFF;\n",
              "    }\n",
              "  </style>\n",
              "\n",
              "      <script>\n",
              "        const buttonEl =\n",
              "          document.querySelector('#df-abe5317a-a498-46b8-9a2d-7e3256b236eb button.colab-df-convert');\n",
              "        buttonEl.style.display =\n",
              "          google.colab.kernel.accessAllowed ? 'block' : 'none';\n",
              "\n",
              "        async function convertToInteractive(key) {\n",
              "          const element = document.querySelector('#df-abe5317a-a498-46b8-9a2d-7e3256b236eb');\n",
              "          const dataTable =\n",
              "            await google.colab.kernel.invokeFunction('convertToInteractive',\n",
              "                                                     [key], {});\n",
              "          if (!dataTable) return;\n",
              "\n",
              "          const docLinkHtml = 'Like what you see? Visit the ' +\n",
              "            '<a target=\"_blank\" href=https://colab.research.google.com/notebooks/data_table.ipynb>data table notebook</a>'\n",
              "            + ' to learn more about interactive tables.';\n",
              "          element.innerHTML = '';\n",
              "          dataTable['output_type'] = 'display_data';\n",
              "          await google.colab.output.renderOutput(dataTable, element);\n",
              "          const docLink = document.createElement('div');\n",
              "          docLink.innerHTML = docLinkHtml;\n",
              "          element.appendChild(docLink);\n",
              "        }\n",
              "      </script>\n",
              "    </div>\n",
              "  </div>\n",
              "  "
            ]
          },
          "metadata": {},
          "execution_count": 32
        }
      ]
    },
    {
      "cell_type": "code",
      "source": [
        "ttrain['POS'].corr(ttrain['label'])"
      ],
      "metadata": {
        "colab": {
          "base_uri": "https://localhost:8080/"
        },
        "id": "WRW5sMtWgBlE",
        "outputId": "af2ac9b1-f940-4ace-c50b-2d61efe3b3f8"
      },
      "id": "WRW5sMtWgBlE",
      "execution_count": null,
      "outputs": [
        {
          "output_type": "execute_result",
          "data": {
            "text/plain": [
              "0.01904687298490898"
            ]
          },
          "metadata": {},
          "execution_count": 39
        }
      ]
    },
    {
      "cell_type": "code",
      "source": [
        "X_train=ttrain\n",
        "y_train=X_train.pop('label')\n",
        "\n",
        "\n",
        "X_test=ttest\n",
        "y_test=X_test.pop('label')\n"
      ],
      "metadata": {
        "id": "eMxhoo7AfJwH"
      },
      "execution_count": null,
      "outputs": [],
      "id": "eMxhoo7AfJwH"
    },
    {
      "cell_type": "code",
      "source": [
        "ttrain"
      ],
      "metadata": {
        "colab": {
          "base_uri": "https://localhost:8080/",
          "height": 424
        },
        "id": "miJZWphhfOfZ",
        "outputId": "9a1d27fc-99a3-42ed-d0fd-f6c081049846"
      },
      "id": "miJZWphhfOfZ",
      "execution_count": null,
      "outputs": [
        {
          "output_type": "execute_result",
          "data": {
            "text/plain": [
              "         sent_id repetion_id  POS  uni_POS  morph_type  distance_head  \\\n",
              "0              0           0   11       24          74              0   \n",
              "1              0           0   12       15         100              1   \n",
              "2              0           0   11       24          74              1   \n",
              "3              0           0   12        6         100              1   \n",
              "4              0           0    0       17          41              6   \n",
              "...          ...         ...  ...      ...         ...            ...   \n",
              "7077906     7506          34   15       41          90            123   \n",
              "7077907     7506          34    4        9         100            134   \n",
              "7077908     7506          34   10       29          36            134   \n",
              "7077909     7506          34   15       42          63              4   \n",
              "7077910     7506          34    7       23          74            134   \n",
              "\n",
              "         dep_label  dep_rel  space  probbank  \n",
              "0               46        0     30         1  \n",
              "1               44     3130     30         1  \n",
              "2               25     2995     31         1  \n",
              "3               44     3130     31         1  \n",
              "4                4     9101     31         1  \n",
              "...            ...      ...    ...       ...  \n",
              "7077906          2      756     31      1238  \n",
              "7077907          9     1097     31         1  \n",
              "7077908         35     1098     31         1  \n",
              "7077909         14     7504     31      1300  \n",
              "7077910         38     1099     31         1  \n",
              "\n",
              "[1035904 rows x 10 columns]"
            ],
            "text/html": [
              "\n",
              "  <div id=\"df-5e54ef88-ad24-4561-9cb6-10cffad9a09b\">\n",
              "    <div class=\"colab-df-container\">\n",
              "      <div>\n",
              "<style scoped>\n",
              "    .dataframe tbody tr th:only-of-type {\n",
              "        vertical-align: middle;\n",
              "    }\n",
              "\n",
              "    .dataframe tbody tr th {\n",
              "        vertical-align: top;\n",
              "    }\n",
              "\n",
              "    .dataframe thead th {\n",
              "        text-align: right;\n",
              "    }\n",
              "</style>\n",
              "<table border=\"1\" class=\"dataframe\">\n",
              "  <thead>\n",
              "    <tr style=\"text-align: right;\">\n",
              "      <th></th>\n",
              "      <th>sent_id</th>\n",
              "      <th>repetion_id</th>\n",
              "      <th>POS</th>\n",
              "      <th>uni_POS</th>\n",
              "      <th>morph_type</th>\n",
              "      <th>distance_head</th>\n",
              "      <th>dep_label</th>\n",
              "      <th>dep_rel</th>\n",
              "      <th>space</th>\n",
              "      <th>probbank</th>\n",
              "    </tr>\n",
              "  </thead>\n",
              "  <tbody>\n",
              "    <tr>\n",
              "      <th>0</th>\n",
              "      <td>0</td>\n",
              "      <td>0</td>\n",
              "      <td>11</td>\n",
              "      <td>24</td>\n",
              "      <td>74</td>\n",
              "      <td>0</td>\n",
              "      <td>46</td>\n",
              "      <td>0</td>\n",
              "      <td>30</td>\n",
              "      <td>1</td>\n",
              "    </tr>\n",
              "    <tr>\n",
              "      <th>1</th>\n",
              "      <td>0</td>\n",
              "      <td>0</td>\n",
              "      <td>12</td>\n",
              "      <td>15</td>\n",
              "      <td>100</td>\n",
              "      <td>1</td>\n",
              "      <td>44</td>\n",
              "      <td>3130</td>\n",
              "      <td>30</td>\n",
              "      <td>1</td>\n",
              "    </tr>\n",
              "    <tr>\n",
              "      <th>2</th>\n",
              "      <td>0</td>\n",
              "      <td>0</td>\n",
              "      <td>11</td>\n",
              "      <td>24</td>\n",
              "      <td>74</td>\n",
              "      <td>1</td>\n",
              "      <td>25</td>\n",
              "      <td>2995</td>\n",
              "      <td>31</td>\n",
              "      <td>1</td>\n",
              "    </tr>\n",
              "    <tr>\n",
              "      <th>3</th>\n",
              "      <td>0</td>\n",
              "      <td>0</td>\n",
              "      <td>12</td>\n",
              "      <td>6</td>\n",
              "      <td>100</td>\n",
              "      <td>1</td>\n",
              "      <td>44</td>\n",
              "      <td>3130</td>\n",
              "      <td>31</td>\n",
              "      <td>1</td>\n",
              "    </tr>\n",
              "    <tr>\n",
              "      <th>4</th>\n",
              "      <td>0</td>\n",
              "      <td>0</td>\n",
              "      <td>0</td>\n",
              "      <td>17</td>\n",
              "      <td>41</td>\n",
              "      <td>6</td>\n",
              "      <td>4</td>\n",
              "      <td>9101</td>\n",
              "      <td>31</td>\n",
              "      <td>1</td>\n",
              "    </tr>\n",
              "    <tr>\n",
              "      <th>...</th>\n",
              "      <td>...</td>\n",
              "      <td>...</td>\n",
              "      <td>...</td>\n",
              "      <td>...</td>\n",
              "      <td>...</td>\n",
              "      <td>...</td>\n",
              "      <td>...</td>\n",
              "      <td>...</td>\n",
              "      <td>...</td>\n",
              "      <td>...</td>\n",
              "    </tr>\n",
              "    <tr>\n",
              "      <th>7077906</th>\n",
              "      <td>7506</td>\n",
              "      <td>34</td>\n",
              "      <td>15</td>\n",
              "      <td>41</td>\n",
              "      <td>90</td>\n",
              "      <td>123</td>\n",
              "      <td>2</td>\n",
              "      <td>756</td>\n",
              "      <td>31</td>\n",
              "      <td>1238</td>\n",
              "    </tr>\n",
              "    <tr>\n",
              "      <th>7077907</th>\n",
              "      <td>7506</td>\n",
              "      <td>34</td>\n",
              "      <td>4</td>\n",
              "      <td>9</td>\n",
              "      <td>100</td>\n",
              "      <td>134</td>\n",
              "      <td>9</td>\n",
              "      <td>1097</td>\n",
              "      <td>31</td>\n",
              "      <td>1</td>\n",
              "    </tr>\n",
              "    <tr>\n",
              "      <th>7077908</th>\n",
              "      <td>7506</td>\n",
              "      <td>34</td>\n",
              "      <td>10</td>\n",
              "      <td>29</td>\n",
              "      <td>36</td>\n",
              "      <td>134</td>\n",
              "      <td>35</td>\n",
              "      <td>1098</td>\n",
              "      <td>31</td>\n",
              "      <td>1</td>\n",
              "    </tr>\n",
              "    <tr>\n",
              "      <th>7077909</th>\n",
              "      <td>7506</td>\n",
              "      <td>34</td>\n",
              "      <td>15</td>\n",
              "      <td>42</td>\n",
              "      <td>63</td>\n",
              "      <td>4</td>\n",
              "      <td>14</td>\n",
              "      <td>7504</td>\n",
              "      <td>31</td>\n",
              "      <td>1300</td>\n",
              "    </tr>\n",
              "    <tr>\n",
              "      <th>7077910</th>\n",
              "      <td>7506</td>\n",
              "      <td>34</td>\n",
              "      <td>7</td>\n",
              "      <td>23</td>\n",
              "      <td>74</td>\n",
              "      <td>134</td>\n",
              "      <td>38</td>\n",
              "      <td>1099</td>\n",
              "      <td>31</td>\n",
              "      <td>1</td>\n",
              "    </tr>\n",
              "  </tbody>\n",
              "</table>\n",
              "<p>1035904 rows × 10 columns</p>\n",
              "</div>\n",
              "      <button class=\"colab-df-convert\" onclick=\"convertToInteractive('df-5e54ef88-ad24-4561-9cb6-10cffad9a09b')\"\n",
              "              title=\"Convert this dataframe to an interactive table.\"\n",
              "              style=\"display:none;\">\n",
              "        \n",
              "  <svg xmlns=\"http://www.w3.org/2000/svg\" height=\"24px\"viewBox=\"0 0 24 24\"\n",
              "       width=\"24px\">\n",
              "    <path d=\"M0 0h24v24H0V0z\" fill=\"none\"/>\n",
              "    <path d=\"M18.56 5.44l.94 2.06.94-2.06 2.06-.94-2.06-.94-.94-2.06-.94 2.06-2.06.94zm-11 1L8.5 8.5l.94-2.06 2.06-.94-2.06-.94L8.5 2.5l-.94 2.06-2.06.94zm10 10l.94 2.06.94-2.06 2.06-.94-2.06-.94-.94-2.06-.94 2.06-2.06.94z\"/><path d=\"M17.41 7.96l-1.37-1.37c-.4-.4-.92-.59-1.43-.59-.52 0-1.04.2-1.43.59L10.3 9.45l-7.72 7.72c-.78.78-.78 2.05 0 2.83L4 21.41c.39.39.9.59 1.41.59.51 0 1.02-.2 1.41-.59l7.78-7.78 2.81-2.81c.8-.78.8-2.07 0-2.86zM5.41 20L4 18.59l7.72-7.72 1.47 1.35L5.41 20z\"/>\n",
              "  </svg>\n",
              "      </button>\n",
              "      \n",
              "  <style>\n",
              "    .colab-df-container {\n",
              "      display:flex;\n",
              "      flex-wrap:wrap;\n",
              "      gap: 12px;\n",
              "    }\n",
              "\n",
              "    .colab-df-convert {\n",
              "      background-color: #E8F0FE;\n",
              "      border: none;\n",
              "      border-radius: 50%;\n",
              "      cursor: pointer;\n",
              "      display: none;\n",
              "      fill: #1967D2;\n",
              "      height: 32px;\n",
              "      padding: 0 0 0 0;\n",
              "      width: 32px;\n",
              "    }\n",
              "\n",
              "    .colab-df-convert:hover {\n",
              "      background-color: #E2EBFA;\n",
              "      box-shadow: 0px 1px 2px rgba(60, 64, 67, 0.3), 0px 1px 3px 1px rgba(60, 64, 67, 0.15);\n",
              "      fill: #174EA6;\n",
              "    }\n",
              "\n",
              "    [theme=dark] .colab-df-convert {\n",
              "      background-color: #3B4455;\n",
              "      fill: #D2E3FC;\n",
              "    }\n",
              "\n",
              "    [theme=dark] .colab-df-convert:hover {\n",
              "      background-color: #434B5C;\n",
              "      box-shadow: 0px 1px 3px 1px rgba(0, 0, 0, 0.15);\n",
              "      filter: drop-shadow(0px 1px 2px rgba(0, 0, 0, 0.3));\n",
              "      fill: #FFFFFF;\n",
              "    }\n",
              "  </style>\n",
              "\n",
              "      <script>\n",
              "        const buttonEl =\n",
              "          document.querySelector('#df-5e54ef88-ad24-4561-9cb6-10cffad9a09b button.colab-df-convert');\n",
              "        buttonEl.style.display =\n",
              "          google.colab.kernel.accessAllowed ? 'block' : 'none';\n",
              "\n",
              "        async function convertToInteractive(key) {\n",
              "          const element = document.querySelector('#df-5e54ef88-ad24-4561-9cb6-10cffad9a09b');\n",
              "          const dataTable =\n",
              "            await google.colab.kernel.invokeFunction('convertToInteractive',\n",
              "                                                     [key], {});\n",
              "          if (!dataTable) return;\n",
              "\n",
              "          const docLinkHtml = 'Like what you see? Visit the ' +\n",
              "            '<a target=\"_blank\" href=https://colab.research.google.com/notebooks/data_table.ipynb>data table notebook</a>'\n",
              "            + ' to learn more about interactive tables.';\n",
              "          element.innerHTML = '';\n",
              "          dataTable['output_type'] = 'display_data';\n",
              "          await google.colab.output.renderOutput(dataTable, element);\n",
              "          const docLink = document.createElement('div');\n",
              "          docLink.innerHTML = docLinkHtml;\n",
              "          element.appendChild(docLink);\n",
              "        }\n",
              "      </script>\n",
              "    </div>\n",
              "  </div>\n",
              "  "
            ]
          },
          "metadata": {},
          "execution_count": 36
        }
      ]
    },
    {
      "cell_type": "markdown",
      "source": [
        "THE MODEL\n"
      ],
      "metadata": {
        "id": "bMTwc5n_fJwP"
      },
      "id": "bMTwc5n_fJwP"
    },
    {
      "cell_type": "code",
      "source": [
        "#instantiate the model\n",
        "log_regression = LogisticRegression(penalty='l2')\n",
        "\n",
        "#fit the model using the training data\n",
        "log_regression.fit(X_train,y_train)\n",
        "\n",
        "#use model to make predictions on test data\n",
        "y_pred = log_regression.predict(X_test)\n",
        "\n",
        "f1 = f1_score(y_test,y_pred)\n",
        "prec = precision_score(y_test,y_pred)\n",
        "print(f\"{f1=}\")\n",
        "print(f\"{prec=}\")\n"
      ],
      "metadata": {
        "colab": {
          "base_uri": "https://localhost:8080/"
        },
        "id": "WsAlu4QHfJwU",
        "outputId": "66bd48c6-1674-41ab-fe00-743d61114b00"
      },
      "execution_count": null,
      "outputs": [
        {
          "output_type": "stream",
          "name": "stderr",
          "text": [
            "/usr/local/lib/python3.8/dist-packages/sklearn/linear_model/_logistic.py:814: ConvergenceWarning: lbfgs failed to converge (status=1):\n",
            "STOP: TOTAL NO. of ITERATIONS REACHED LIMIT.\n",
            "\n",
            "Increase the number of iterations (max_iter) or scale the data as shown in:\n",
            "    https://scikit-learn.org/stable/modules/preprocessing.html\n",
            "Please also refer to the documentation for alternative solver options:\n",
            "    https://scikit-learn.org/stable/modules/linear_model.html#logistic-regression\n",
            "  n_iter_i = _check_optimize_result(\n"
          ]
        },
        {
          "output_type": "stream",
          "name": "stdout",
          "text": [
            "f1=0.0\n",
            "prec=0.0\n"
          ]
        }
      ],
      "id": "WsAlu4QHfJwU"
    },
    {
      "cell_type": "code",
      "source": [
        "y_pred.sum()"
      ],
      "metadata": {
        "colab": {
          "base_uri": "https://localhost:8080/"
        },
        "id": "jLAh4H1nfzwZ",
        "outputId": "529b8181-1ddd-4fae-a8cb-0e890c86cb2f"
      },
      "id": "jLAh4H1nfzwZ",
      "execution_count": null,
      "outputs": [
        {
          "output_type": "execute_result",
          "data": {
            "text/plain": [
              "3"
            ]
          },
          "metadata": {},
          "execution_count": 42
        }
      ]
    },
    {
      "cell_type": "code",
      "source": [],
      "metadata": {
        "id": "F94ZS3CMgwO6"
      },
      "id": "F94ZS3CMgwO6",
      "execution_count": null,
      "outputs": []
    },
    {
      "cell_type": "markdown",
      "source": [
        "##COLUMNT TRANSFORMER ATTEMPT (ignore)"
      ],
      "metadata": {
        "id": "xIjLhGYzgw35"
      },
      "id": "xIjLhGYzgw35"
    },
    {
      "cell_type": "code",
      "source": [
        "ct = ColumnTransformer([(\"token_vec\", OneHotEncoder(), [\"token\"])], remainder=\"passthrough\",sparse_threshold=0)"
      ],
      "metadata": {
        "id": "HkFZRud7Xyhy"
      },
      "id": "HkFZRud7Xyhy",
      "execution_count": null,
      "outputs": []
    },
    {
      "cell_type": "code",
      "source": [
        "dataset = ct.fit_transform(ttrain)"
      ],
      "metadata": {
        "id": "f83epUUxZ9iU"
      },
      "id": "f83epUUxZ9iU",
      "execution_count": null,
      "outputs": []
    },
    {
      "cell_type": "code",
      "source": [
        "dataset.shape"
      ],
      "metadata": {
        "colab": {
          "base_uri": "https://localhost:8080/"
        },
        "id": "Z4l3BM69a09Q",
        "outputId": "e4ef6bcf-08d3-443c-b1be-79a814a8d221"
      },
      "id": "Z4l3BM69a09Q",
      "execution_count": null,
      "outputs": [
        {
          "output_type": "execute_result",
          "data": {
            "text/plain": [
              "(103246, 4880)"
            ]
          },
          "metadata": {},
          "execution_count": 43
        }
      ]
    },
    {
      "cell_type": "code",
      "source": [
        "dataset.shape"
      ],
      "metadata": {
        "colab": {
          "base_uri": "https://localhost:8080/"
        },
        "id": "fH6ylYHRbRXh",
        "outputId": "290f214a-4763-4713-94c9-1ac8451f861f"
      },
      "id": "fH6ylYHRbRXh",
      "execution_count": null,
      "outputs": [
        {
          "output_type": "execute_result",
          "data": {
            "text/plain": [
              "(103246, 4881)"
            ]
          },
          "metadata": {},
          "execution_count": 46
        }
      ]
    }
  ],
  "metadata": {
    "kernelspec": {
      "display_name": "Python 3 (ipykernel)",
      "language": "python",
      "name": "python3"
    },
    "language_info": {
      "codemirror_mode": {
        "name": "ipython",
        "version": 3
      },
      "file_extension": ".py",
      "mimetype": "text/x-python",
      "name": "python",
      "nbconvert_exporter": "python",
      "pygments_lexer": "ipython3",
      "version": "3.10.7"
    },
    "colab": {
      "provenance": [],
      "collapsed_sections": [
        "yD24Bc6DyGL0",
        "mfOXD0kBy8C3",
        "juNJo7mIRJ4k",
        "Tz1rZ4FcXBbf",
        "dwtocEY5W47H",
        "xIjLhGYzgw35"
      ],
      "include_colab_link": true
    }
  },
  "nbformat": 4,
  "nbformat_minor": 5
}