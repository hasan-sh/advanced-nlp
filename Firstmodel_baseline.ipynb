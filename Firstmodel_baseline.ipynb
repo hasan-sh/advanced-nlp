{
  "cells": [
    {
      "cell_type": "markdown",
      "metadata": {
        "id": "view-in-github",
        "colab_type": "text"
      },
      "source": [
        "<a href=\"https://colab.research.google.com/github/hasan-sh/advanced-nlp/blob/main/Firstmodel_baseline.ipynb\" target=\"_parent\"><img src=\"https://colab.research.google.com/assets/colab-badge.svg\" alt=\"Open In Colab\"/></a>"
      ]
    },
    {
      "cell_type": "markdown",
      "source": [
        "THINGS TO DO:\n",
        "deal with NER ,\n",
        " add model1 as feature, \n",
        " use weighted average,\n",
        " morphtype (could extract feature ahhh thats what hisha, was saying)"
      ],
      "metadata": {
        "id": "u2cSMGSS7e1C"
      },
      "id": "u2cSMGSS7e1C"
    },
    {
      "cell_type": "code",
      "source": [
        "import pandas as pd\n",
        "import numpy as np\n",
        "from sklearn.feature_extraction.text import CountVectorizer\n",
        "from sklearn.preprocessing import OneHotEncoder\n",
        "from sklearn.preprocessing import LabelEncoder\n",
        "from sklearn.linear_model import LogisticRegression\n",
        "from sklearn.compose import ColumnTransformer\n",
        "from sklearn.preprocessing import OrdinalEncoder\n",
        "from sklearn.feature_extraction.text import TfidfVectorizer\n",
        "from sklearn.pipeline import Pipeline\n",
        "from sklearn.metrics import *\n",
        "import matplotlib.pyplot as plt\n",
        "import seaborn as sns\n",
        "from warnings import simplefilter\n",
        "from sklearn.exceptions import ConvergenceWarning\n",
        "simplefilter(\"ignore\", category=ConvergenceWarning)"
      ],
      "metadata": {
        "id": "EuJPshDtoHqb"
      },
      "id": "EuJPshDtoHqb",
      "execution_count": 1,
      "outputs": []
    },
    {
      "cell_type": "code",
      "source": [
        "!git clone https://github.com/hasan-sh/advanced-nlp.git"
      ],
      "metadata": {
        "colab": {
          "base_uri": "https://localhost:8080/"
        },
        "id": "WScyFUAFDrGl",
        "outputId": "95126993-d364-4b75-a35c-ee45053e0788"
      },
      "id": "WScyFUAFDrGl",
      "execution_count": 2,
      "outputs": [
        {
          "output_type": "stream",
          "name": "stdout",
          "text": [
            "fatal: destination path 'advanced-nlp' already exists and is not an empty directory.\n"
          ]
        }
      ]
    },
    {
      "cell_type": "code",
      "source": [
        "!pwd"
      ],
      "metadata": {
        "colab": {
          "base_uri": "https://localhost:8080/"
        },
        "id": "4I0iZzGdD2i6",
        "outputId": "a7206da7-1865-446b-e888-9425ac8c7cc7"
      },
      "id": "4I0iZzGdD2i6",
      "execution_count": 3,
      "outputs": [
        {
          "output_type": "stream",
          "name": "stdout",
          "text": [
            "/content\n"
          ]
        }
      ]
    },
    {
      "cell_type": "code",
      "execution_count": 4,
      "id": "4139308a-d774-4d55-adda-75aca9cd5713",
      "metadata": {
        "id": "4139308a-d774-4d55-adda-75aca9cd5713"
      },
      "outputs": [],
      "source": [
        "train_file = '/content/advanced-nlp/data/en_ewt-up-train.conllu'\n",
        "test_file = '/content/advanced-nlp/data/en_ewt-up-test.conllu'"
      ]
    },
    {
      "cell_type": "code",
      "execution_count": 5,
      "id": "11c19708-f841-4b42-8ba3-2bd7a733ba61",
      "metadata": {
        "id": "11c19708-f841-4b42-8ba3-2bd7a733ba61"
      },
      "outputs": [],
      "source": [
        "def read_data(file_path, save_to_csv=False):\n",
        "    \"\"\"\n",
        "    This function reads a CoNLL-U format file and converts it into a pandas DataFrame.\n",
        "    Each row in the DataFrame corresponds to a token in the file, and columns\n",
        "    correspond to different features of the token, such as the token itself, its lemma, \n",
        "    part-of-speech tag, and syntactic dependency information.\n",
        "    \n",
        "    Parameters:\n",
        "    file_path (str): The path to the input CoNLL-U format file.\n",
        "    save_to_csv (bool): A boolean flag indicating whether to save the resulting DataFrame \n",
        "                        to a CSV file. Default is False.\n",
        "                        \n",
        "    Returns:\n",
        "    df (pandas.DataFrame): A pandas DataFrame containing the token-level information from\n",
        "                           the input file.\n",
        "    \"\"\"\n",
        "    \n",
        "    # Open and read the input file\n",
        "    with open(file_path, 'r', encoding='utf-8') as f:\n",
        "        train_data = f.read()\n",
        "    \n",
        "    # Split the file into individual documents, each separated by a blank line\n",
        "    data = []\n",
        "    for doc_i, doc in enumerate(train_data.split('\\n\\n')):\n",
        "        doc = doc.split('\\n')\n",
        "        sentences = ''\n",
        "        for line in doc:\n",
        "            # Skip lines starting with '#' (comment lines)\n",
        "            if line and line[0] != '#':\n",
        "                line = line.split('\\t')\n",
        "                line.insert(0, str(doc_i))\n",
        "                sentences += '\\t'.join(line) + '\\n'\n",
        "        data.append(sentences)\n",
        "    \n",
        "    # Create a pandas DataFrame from the token-level data\n",
        "    train_df = pd.DataFrame([x.split('\\t') for sent in data for x in sent.split('\\n') if x])\n",
        "    \n",
        "    # Rename the columns of the DataFrame\n",
        "    train_df = train_df.rename(columns={\n",
        "        0:'sent_id', \n",
        "        1:'token_id', \n",
        "        2:'token', \n",
        "        3:'lemma', \n",
        "        4:'POS', \n",
        "        5:'uni_POS',\n",
        "        6:'morph_type', \n",
        "        7:'distance_head', \n",
        "        8:'dep_label', \n",
        "        9:'dep_rel', \n",
        "        10:'space', \n",
        "        11:'probbank'\n",
        "    })\n",
        "    \n",
        "    # Convert the DataFrame from wide to long format\n",
        "    df = train_df.melt(\n",
        "        id_vars=[i for i in train_df.columns[:12]], \n",
        "        var_name=\"notneeded\", \n",
        "        value_name=\"target\"\n",
        "    )\n",
        "    \n",
        "    # Drop the 'notneeded' column and any rows that contain missing values\n",
        "    #df[\"sent_id\"]=df['sent_id'].str.cat((df['notneeded'].astype(int)-12).astype(str) , sep=\"_\" )\n",
        "    df[\"repetion_id\"]=df[\"notneeded\"]-12\n",
        "    df.drop(['notneeded'], axis=1, inplace=True)\n",
        "    df = df[df['target'].notna()]\n",
        "    \n",
        "    # Optionally save the resulting DataFrame to a CSV file\n",
        "    if save_to_csv:\n",
        "        df.to_csv('/content/advanced-nlp/data/test.tsv', sep='\\t', index=False)\n",
        "    \n",
        "    # Return the resulting DataFrame\n",
        "\n",
        "    return df"
      ]
    },
    {
      "cell_type": "code",
      "execution_count": 6,
      "id": "d5d4a042-df70-46a3-9c3e-0fe29f747d4b",
      "metadata": {
        "id": "d5d4a042-df70-46a3-9c3e-0fe29f747d4b"
      },
      "outputs": [],
      "source": [
        "train = read_data(train_file,save_to_csv=True)\n",
        "test = read_data(test_file, save_to_csv=True)"
      ]
    },
    {
      "cell_type": "code",
      "source": [
        "def make_binary_label(df):\n",
        "  df = df.assign(label=[0 if target==\"_\" or target==\"V\" else 1 for target in df['target']])\n",
        "  #df= df.drop('target', axis=1)\n",
        "  return df\n",
        "\n",
        "\n",
        "\n",
        "\n",
        "#clean column\n",
        "def columns_cleaning(df): #political choices inside\n",
        "  \"\"\"This function perform a preprocessing steps that consists of:\n",
        "  - in removing rows with missinvg value for distance head feature\n",
        "  - cast numerical features to int \n",
        "  - drop token_id (I belive is useless)\n",
        "  \n",
        "\n",
        "  \"\"\"\n",
        "  df=df[df[\"distance_head\"]!=\"_\"]#like this\n",
        "  df[\"distance_head\"]=df[\"distance_head\"].astype(int) #WARNING IS FROM HERE\n",
        "  \n",
        "  df[\"sent_id\"]=df[\"sent_id\"].astype(int) #WARNING IS FROM HERE\n",
        "\n",
        "  df= df.drop('token_id', axis=1) #or this\n",
        "  df=df[['sent_id', 'repetion_id','token', 'lemma', 'POS', 'uni_POS', 'morph_type',\n",
        "        'distance_head', 'dep_label', 'dep_rel', 'space', 'probbank' ,'label']]\n",
        "\n",
        "  return df\n",
        "\n",
        "\n",
        "def make_NER(df):\n",
        "  return df\n",
        "\n",
        "\n",
        "\"\"\"cols_to_encode=[ 'token', 'lemma', 'POS', 'uni_POS',\n",
        "       'morph_type', 'dep_label', 'dep_rel', 'space',\n",
        "       'probbank']\"\"\"\n",
        "\n",
        "\"\"\"cols_to_encode=[ 'POS', 'uni_POS',\n",
        "       'morph_type', 'dep_label', 'dep_rel', 'space',\n",
        "       'probbank']\"\"\"\n",
        "\n",
        "\n",
        "def create_ORD_encoding(train_df,test_df,cols_to_encode):\n",
        "  \"\"\"This function creates a ordinal encoding (just assign number to every value) for all columns in the list cols_to_encode \"\"\"\n",
        "  # create a Encoder objec\n",
        "  oe = OrdinalEncoder(handle_unknown='use_encoded_value',unknown_value=-1)\n",
        "  \n",
        "  # iterate over the columns to encode\n",
        "  for col in cols_to_encode:\n",
        "      train_df[col] = oe.fit_transform(train_df[col])\n",
        "      test_df[col] = oe.transform(test_df[col])\n",
        "\n",
        "  return train_df,test_df\n",
        "\n",
        "\n",
        "\n",
        "\n",
        "def create_label_encoding(train_df,test_df,cols_to_encode):\n",
        "  \"\"\"This function creates a label encoding (just assign number to every value) for all columns in the list cols_to_encode \"\"\"\n",
        "  # create a LabelEncoder objec\n",
        "  oe = LabelEncoder()\n",
        "  #train_df = oe.fit_transform(df_train[cols_to_encode])\n",
        "  #test_df = oe.transform(df_test[cols_to_encode])\n",
        "  #print(oe.categories_)\n",
        "  # iterate over the columns to encode\n",
        "  for col in cols_to_encode:\n",
        "      train_df[col] = oe.fit_transform(train_df[col])\n",
        "      test_df[col] = oe.transform(test_df[col])\n",
        "\n",
        "  return train_df,test_df\n",
        "\n",
        "  \n",
        "\n",
        "def create_OneHot_encoding(train_df,test_df,cols_to_encode):\n",
        "  \"\"\"This function creates a label encoding (just assign number to every value) for all columns in the list cols_to_encode \"\"\"\n",
        "  # create a LabelEncoder objec\n",
        "  enc = OneHotEncoder(handle_unknown='ignore')\n",
        "  #train_df = oe.fit_transform(df_train[cols_to_encode])\n",
        "  #test_df = oe.transform(df_test[cols_to_encode])\n",
        "  #print(oe.categories_)\n",
        "  # iterate over the columns to encode\n",
        "  for col in cols_to_encode:\n",
        "      train_df[col] = enc.fit_transform(train_df[col.values])\n",
        "      test_df[col] = enc.transform(test_df[col].values)\n",
        "\n",
        "  return train_df,test_df\n",
        "\n",
        "\n",
        "\n",
        "\n",
        "def vectorize_token(tokens_train,tokens_test):\n",
        "    vectorizer = CountVectorizer()\n",
        "    X_train = vectorizer.fit_transform(tokens_train['token'])\n",
        "    X_test = vectorizer.transform(tokens_test['token'])\n",
        "    return X_train,X_test\n",
        "\n",
        "    \n",
        "def vectorize_tfidf_token(tokens_train,tokens_test):\n",
        "    vectorizer = TfidfVectorizer()\n",
        "\n",
        "    X_train = vectorizer.fit_transform(tokens_train['token'])\n",
        "    X_test = vectorizer.transform(tokens_test['token'])\n",
        "    return X_train,X_test\n",
        "\n",
        "\n",
        "N=820000\n",
        "    \n",
        "def downsample(tokens_train,N):\n",
        "  return tokens_train.drop(tokens_train[tokens_train['label']==0].sample(n=N).index)\n",
        "\n"
      ],
      "metadata": {
        "id": "T_1k9SPRri2Y"
      },
      "id": "T_1k9SPRri2Y",
      "execution_count": 7,
      "outputs": []
    },
    {
      "cell_type": "code",
      "source": [
        "def logistic_reg(X_train,X_test,y_train,y_test):\n",
        "  #instantiate the model\n",
        "  log_regression = LogisticRegression(penalty='l2')\n",
        "\n",
        "  #fit the model using the training data\n",
        "  log_regression.fit(X_train,y_train)\n",
        "\n",
        "  #use model to make predictions on test data\n",
        "  y_pred = log_regression.predict(X_test)\n",
        "  return y_pred"
      ],
      "metadata": {
        "id": "-zNTlLupFcnm"
      },
      "id": "-zNTlLupFcnm",
      "execution_count": 8,
      "outputs": []
    },
    {
      "cell_type": "code",
      "source": [
        "def confusion_mtrx(y_test,y_pred):\n",
        "\n",
        "  cm = confusion_matrix(y_test, y_pred)\n",
        "  ax= plt.subplot()\n",
        "  sns.heatmap(cm, annot=True, fmt='g', ax=ax,cmap='Blues');  #annot=True to annotate cells, ftm='g' to disable scientific notation\n",
        "  sns.color_palette(\"tab10\")\n",
        "\n",
        "  # labels, title and ticks\n",
        "  ax.set_xlabel('Predicted labels');ax.set_ylabel('True labels'); \n",
        "  ax.set_title('Confusion Matrix'); \n",
        "  ax.xaxis.set_ticklabels(['non_arg', 'arg']); ax.yaxis.set_ticklabels(['non_arg', 'arg']);\n",
        "  return 0"
      ],
      "metadata": {
        "id": "IlP1AbJ9cZQZ"
      },
      "id": "IlP1AbJ9cZQZ",
      "execution_count": 9,
      "outputs": []
    },
    {
      "cell_type": "code",
      "source": [
        "def downsampling_study(train,test,start=100000,end=900000,step=50000):\n",
        "\n",
        "  down_sample_size =  [x for x in range(start,end,step)]\n",
        "  down_sample_size.reverse() #this is because theese represents how many rows it will remove, dus to have an increasing remaining size of train test we reverse it\n",
        "\n",
        "  f1_scores=[]\n",
        "  true_predicts=[]\n",
        "  n_samples=[]\n",
        "  for x in down_sample_size:\n",
        "    print(f\"{x=}\")\n",
        "    strain=train.copy()\n",
        "    stest=test.copy()\n",
        "    strain=downsample(strain,x)\n",
        "\n",
        "    train_size=strain.shape[0]\n",
        "    n_samples.append(train_size)\n",
        "    print(f\"{train_size=}\")\n",
        "\n",
        "\n",
        "    X_train=strain\n",
        "    y_train=X_train.pop('label')\n",
        "    X_test=stest\n",
        "    y_test=X_test.pop('label')\n",
        "\n",
        "    y_pred = logistic_reg(X_train,X_test,y_train,y_test)\n",
        "    \n",
        "    npred=y_pred.sum()\n",
        "    true_predicts.append(npred)\n",
        "    print(f\"{npred=}\")\n",
        "\n",
        "    f1 = f1_score(y_test,y_pred, average='weighted')\n",
        "    f1_scores.append(f1)\n",
        "    print(f\"{f1=}\")\n",
        "    print(\"-------------------X----------------\")\n",
        "\n",
        "  return n_samples,f1_scores,true_predicts\n",
        "\n",
        "def plot_downsampling_study(n_sample,var,var_type):\n",
        "  plt.plot(n_samples,var)\n",
        "  plt.xlabel(\"Nr of instances\")\n",
        "  plt.ylabel(var_type)\n",
        "  plt.title(var_type+\" on nr of training intances\")\n",
        "  plt.xticks([x for x in range(100000,1000000, 200000)])\n",
        "  plt.rcParams['figure.figsize'] = [3.8,3.8]\n",
        "  #plt.xlim(0, 100e+4)\n",
        "\n",
        "  # set the grid on\n",
        "  plt.grid('on')\n",
        "\n",
        "  "
      ],
      "metadata": {
        "id": "C_j2_owtly4U"
      },
      "id": "C_j2_owtly4U",
      "execution_count": 10,
      "outputs": []
    },
    {
      "cell_type": "markdown",
      "source": [
        "##BASELINE ONLY TOKEN with countVectorizer\n",
        "\n",
        "\n",
        "\n"
      ],
      "metadata": {
        "id": "fdE6rrG-mgRD"
      },
      "id": "fdE6rrG-mgRD"
    },
    {
      "cell_type": "code",
      "source": [
        "def prepare_token_data(tokens_train,tokens_test):\n",
        "  vectorizer = CountVectorizer()\n",
        "  X_train = vectorizer.fit_transform(tokens_train['token'])\n",
        "  X_test = vectorizer.transform(tokens_test['token'])\n",
        "  y_train=tokens_train['label']\n",
        "  y_test=tokens_test['label']\n",
        "\n",
        "  return X_train,X_test,y_train,y_test\n"
      ],
      "metadata": {
        "id": "wiWehoZrEiV5"
      },
      "execution_count": 11,
      "outputs": [],
      "id": "wiWehoZrEiV5"
    },
    {
      "cell_type": "code",
      "source": [
        "tokens_train=train[[\"token\",\"target\"]]\n",
        "tokens_test=test[[\"token\",\"target\"]]\n",
        "tokens_train=make_binary_label(tokens_train)\n",
        "tokens_test=make_binary_label(tokens_test)\n",
        "X_train,X_test,y_train,y_test=prepare_token_data(tokens_train,tokens_test)\n",
        "y_pred=logistic_reg(X_train,X_test,y_train,y_test)\n",
        "f1 = f1_score(y_test,y_pred)\n",
        "print(f\"{f1=}\")\n"
      ],
      "metadata": {
        "id": "4PZnvYkrn43V",
        "colab": {
          "base_uri": "https://localhost:8080/"
        },
        "outputId": "f086d9a0-f18d-4bc7-ad23-48aef36ea154"
      },
      "id": "4PZnvYkrn43V",
      "execution_count": null,
      "outputs": [
        {
          "output_type": "stream",
          "name": "stdout",
          "text": [
            "f1=0.02061855670103093\n"
          ]
        },
        {
          "output_type": "stream",
          "name": "stderr",
          "text": [
            "/usr/local/lib/python3.8/dist-packages/sklearn/linear_model/_logistic.py:814: ConvergenceWarning: lbfgs failed to converge (status=1):\n",
            "STOP: TOTAL NO. of ITERATIONS REACHED LIMIT.\n",
            "\n",
            "Increase the number of iterations (max_iter) or scale the data as shown in:\n",
            "    https://scikit-learn.org/stable/modules/preprocessing.html\n",
            "Please also refer to the documentation for alternative solver options:\n",
            "    https://scikit-learn.org/stable/modules/linear_model.html#logistic-regression\n",
            "  n_iter_i = _check_optimize_result(\n"
          ]
        }
      ]
    },
    {
      "cell_type": "code",
      "source": [],
      "metadata": {
        "id": "lq3P2p9Ut-Zz"
      },
      "id": "lq3P2p9Ut-Zz",
      "execution_count": null,
      "outputs": []
    },
    {
      "cell_type": "code",
      "source": [
        "confusion_mtrx(y_test,y_pred)"
      ],
      "metadata": {
        "colab": {
          "base_uri": "https://localhost:8080/",
          "height": 312
        },
        "id": "q4aAhhootGs0",
        "outputId": "f280b5bb-4185-458e-d267-9fa07dfef519"
      },
      "id": "q4aAhhootGs0",
      "execution_count": null,
      "outputs": [
        {
          "output_type": "execute_result",
          "data": {
            "text/plain": [
              "0"
            ]
          },
          "metadata": {},
          "execution_count": 47
        },
        {
          "output_type": "display_data",
          "data": {
            "text/plain": [
              "<Figure size 432x288 with 2 Axes>"
            ],
            "image/png": "[encoded data removed]"
          },
          "metadata": {
            "needs_background": "light"
          }
        }
      ]
    },
    {
      "cell_type": "markdown",
      "source": [
        "##BASELINE ONLY TOKEN WITH ENCODED TOKENS [spoiler, it sucks]"
      ],
      "metadata": {
        "id": "NVmsD7ZFlFss"
      },
      "id": "NVmsD7ZFlFss"
    },
    {
      "cell_type": "code",
      "source": [
        "tokens_train=train[[\"token\",\"target\"]]\n",
        "tokens_test=test[[\"token\",\"target\"]]\n",
        "tokens_train=make_binary_label(tokens_train)\n",
        "tokens_test=make_binary_label(tokens_test)\n"
      ],
      "metadata": {
        "id": "UEWnGCyJyFsc"
      },
      "id": "UEWnGCyJyFsc",
      "execution_count": null,
      "outputs": []
    },
    {
      "cell_type": "code",
      "source": [
        "tokens_train = tokens_train.drop(tokens_train[tokens_train['label']==0].sample(n=820000).index)\n"
      ],
      "metadata": {
        "id": "Eh4W9eGgtBQ5"
      },
      "id": "Eh4W9eGgtBQ5",
      "execution_count": null,
      "outputs": []
    },
    {
      "cell_type": "code",
      "source": [
        "le = LabelEncoder()\n",
        "y_all = np.concatenate([tokens_train['token'], tokens_test['token']], axis=0)\n",
        "\n",
        "# Fit the label encoder to the targets\n",
        "le.fit(y_all)\n",
        "\n",
        "\n",
        "# Encode training data x & y\n",
        "X_train =pd.DataFrame( le.transform(tokens_train['token']),columns=['token'])\n",
        "X_test =pd.DataFrame(le.transform( tokens_test['token']),columns=['token'])\n",
        "y_train = tokens_train['label']\n",
        "y_test = tokens_test['label']\n"
      ],
      "metadata": {
        "id": "ye0cRXPonxMA"
      },
      "id": "ye0cRXPonxMA",
      "execution_count": null,
      "outputs": []
    },
    {
      "cell_type": "code",
      "source": [
        "pred = logistic_reg(X_train,X_test,y_train,y_test)"
      ],
      "metadata": {
        "id": "lcc2t4S5rPYd"
      },
      "id": "lcc2t4S5rPYd",
      "execution_count": null,
      "outputs": []
    },
    {
      "cell_type": "code",
      "source": [
        "f1 = f1_score(y_test,pred)\n",
        "print(f\"{f1=}\")"
      ],
      "metadata": {
        "colab": {
          "base_uri": "https://localhost:8080/"
        },
        "id": "KMR9NFTbshVQ",
        "outputId": "c0592fcf-de62-4e52-b369-42fdeae63921"
      },
      "id": "KMR9NFTbshVQ",
      "execution_count": null,
      "outputs": [
        {
          "output_type": "stream",
          "name": "stdout",
          "text": [
            "f1=0.0\n"
          ]
        }
      ]
    },
    {
      "cell_type": "code",
      "source": [
        "pred.sum()"
      ],
      "metadata": {
        "colab": {
          "base_uri": "https://localhost:8080/"
        },
        "id": "sOyeHnbtsfRA",
        "outputId": "14e67994-7964-4680-f21d-4b33f8fb0485"
      },
      "id": "sOyeHnbtsfRA",
      "execution_count": null,
      "outputs": [
        {
          "output_type": "execute_result",
          "data": {
            "text/plain": [
              "0"
            ]
          },
          "metadata": {},
          "execution_count": 286
        }
      ]
    },
    {
      "cell_type": "markdown",
      "source": [
        "##LETS DOWN SAMPLE "
      ],
      "metadata": {
        "id": "yD24Bc6DyGL0"
      },
      "id": "yD24Bc6DyGL0"
    },
    {
      "cell_type": "markdown",
      "source": [
        "first the first N rows are considered"
      ],
      "metadata": {
        "id": "h7P44KhwyQ2s"
      },
      "id": "h7P44KhwyQ2s"
    },
    {
      "cell_type": "code",
      "source": [
        "sample_size =  [x for x in range(50000,250000,10000)] +[300000,400000,500000,700000,1035928]\n",
        "sample_size"
      ],
      "metadata": {
        "colab": {
          "base_uri": "https://localhost:8080/"
        },
        "id": "lSHfOcrGykPB",
        "outputId": "77ccaa4f-15c1-4b2c-fa9b-6445cc0898b9"
      },
      "id": "lSHfOcrGykPB",
      "execution_count": null,
      "outputs": [
        {
          "output_type": "execute_result",
          "data": {
            "text/plain": [
              "[50000,\n",
              " 60000,\n",
              " 70000,\n",
              " 80000,\n",
              " 90000,\n",
              " 100000,\n",
              " 110000,\n",
              " 120000,\n",
              " 130000,\n",
              " 140000,\n",
              " 150000,\n",
              " 160000,\n",
              " 170000,\n",
              " 180000,\n",
              " 190000,\n",
              " 200000,\n",
              " 210000,\n",
              " 220000,\n",
              " 230000,\n",
              " 240000,\n",
              " 300000,\n",
              " 400000,\n",
              " 500000,\n",
              " 700000,\n",
              " 1035928]"
            ]
          },
          "metadata": {},
          "execution_count": 330
        }
      ]
    },
    {
      "cell_type": "code",
      "source": [
        "f1_scores=[]\n",
        "true_predicts=[]\n",
        "for x in sample_size:\n",
        "  print(f\"{x=}\")\n",
        "  tokens_train=train[[\"token\",\"target\"]][:x]\n",
        "  tokens_test=test[[\"token\",\"target\"]]\n",
        "  tokens_train=make_binary_label(tokens_train)\n",
        "  tokens_test=make_binary_label(tokens_test)\n",
        "  X_train,X_test,y_train,y_test=prepare_token_data(tokens_train,tokens_test)\n",
        "  y_pred=logistic_reg(X_train,X_test,y_train,y_test)\n",
        "  predicted_true=y_pred.sum()\n",
        "  true_predicts.append(predicted_true)\n",
        "  print(f\"{predicted_true=}\")\n",
        "  f1 = f1_score(y_test,y_pred)\n",
        "  f1_scores.append(f1)\n",
        "  print(f\"{f1=}\")\n",
        "  print(\"=====\\n\")"
      ],
      "metadata": {
        "colab": {
          "base_uri": "https://localhost:8080/"
        },
        "id": "KS7v7HMIyM1j",
        "outputId": "9853fb56-c470-4716-c598-5a1f00927061"
      },
      "id": "KS7v7HMIyM1j",
      "execution_count": null,
      "outputs": [
        {
          "output_type": "stream",
          "name": "stdout",
          "text": [
            "x=50000\n"
          ]
        },
        {
          "output_type": "stream",
          "name": "stderr",
          "text": [
            "/usr/local/lib/python3.8/dist-packages/sklearn/linear_model/_logistic.py:814: ConvergenceWarning: lbfgs failed to converge (status=1):\n",
            "STOP: TOTAL NO. of ITERATIONS REACHED LIMIT.\n",
            "\n",
            "Increase the number of iterations (max_iter) or scale the data as shown in:\n",
            "    https://scikit-learn.org/stable/modules/preprocessing.html\n",
            "Please also refer to the documentation for alternative solver options:\n",
            "    https://scikit-learn.org/stable/modules/linear_model.html#logistic-regression\n",
            "  n_iter_i = _check_optimize_result(\n"
          ]
        },
        {
          "output_type": "stream",
          "name": "stdout",
          "text": [
            "predicted_true=659\n",
            "f1=0.03820924893407675\n",
            "=====\n",
            "\n",
            "x=60000\n"
          ]
        },
        {
          "output_type": "stream",
          "name": "stderr",
          "text": [
            "/usr/local/lib/python3.8/dist-packages/sklearn/linear_model/_logistic.py:814: ConvergenceWarning: lbfgs failed to converge (status=1):\n",
            "STOP: TOTAL NO. of ITERATIONS REACHED LIMIT.\n",
            "\n",
            "Increase the number of iterations (max_iter) or scale the data as shown in:\n",
            "    https://scikit-learn.org/stable/modules/preprocessing.html\n",
            "Please also refer to the documentation for alternative solver options:\n",
            "    https://scikit-learn.org/stable/modules/linear_model.html#logistic-regression\n",
            "  n_iter_i = _check_optimize_result(\n"
          ]
        },
        {
          "output_type": "stream",
          "name": "stdout",
          "text": [
            "predicted_true=791\n",
            "f1=0.04558728098637249\n",
            "=====\n",
            "\n",
            "x=70000\n"
          ]
        },
        {
          "output_type": "stream",
          "name": "stderr",
          "text": [
            "/usr/local/lib/python3.8/dist-packages/sklearn/linear_model/_logistic.py:814: ConvergenceWarning: lbfgs failed to converge (status=1):\n",
            "STOP: TOTAL NO. of ITERATIONS REACHED LIMIT.\n",
            "\n",
            "Increase the number of iterations (max_iter) or scale the data as shown in:\n",
            "    https://scikit-learn.org/stable/modules/preprocessing.html\n",
            "Please also refer to the documentation for alternative solver options:\n",
            "    https://scikit-learn.org/stable/modules/linear_model.html#logistic-regression\n",
            "  n_iter_i = _check_optimize_result(\n"
          ]
        },
        {
          "output_type": "stream",
          "name": "stdout",
          "text": [
            "predicted_true=725\n",
            "f1=0.04730060349045832\n",
            "=====\n",
            "\n",
            "x=80000\n"
          ]
        },
        {
          "output_type": "stream",
          "name": "stderr",
          "text": [
            "/usr/local/lib/python3.8/dist-packages/sklearn/linear_model/_logistic.py:814: ConvergenceWarning: lbfgs failed to converge (status=1):\n",
            "STOP: TOTAL NO. of ITERATIONS REACHED LIMIT.\n",
            "\n",
            "Increase the number of iterations (max_iter) or scale the data as shown in:\n",
            "    https://scikit-learn.org/stable/modules/preprocessing.html\n",
            "Please also refer to the documentation for alternative solver options:\n",
            "    https://scikit-learn.org/stable/modules/linear_model.html#logistic-regression\n",
            "  n_iter_i = _check_optimize_result(\n"
          ]
        },
        {
          "output_type": "stream",
          "name": "stdout",
          "text": [
            "predicted_true=795\n",
            "f1=0.05108660395718457\n",
            "=====\n",
            "\n",
            "x=90000\n"
          ]
        },
        {
          "output_type": "stream",
          "name": "stderr",
          "text": [
            "/usr/local/lib/python3.8/dist-packages/sklearn/linear_model/_logistic.py:814: ConvergenceWarning: lbfgs failed to converge (status=1):\n",
            "STOP: TOTAL NO. of ITERATIONS REACHED LIMIT.\n",
            "\n",
            "Increase the number of iterations (max_iter) or scale the data as shown in:\n",
            "    https://scikit-learn.org/stable/modules/preprocessing.html\n",
            "Please also refer to the documentation for alternative solver options:\n",
            "    https://scikit-learn.org/stable/modules/linear_model.html#logistic-regression\n",
            "  n_iter_i = _check_optimize_result(\n"
          ]
        },
        {
          "output_type": "stream",
          "name": "stdout",
          "text": [
            "predicted_true=802\n",
            "f1=0.0513817975524759\n",
            "=====\n",
            "\n",
            "x=100000\n"
          ]
        },
        {
          "output_type": "stream",
          "name": "stderr",
          "text": [
            "/usr/local/lib/python3.8/dist-packages/sklearn/linear_model/_logistic.py:814: ConvergenceWarning: lbfgs failed to converge (status=1):\n",
            "STOP: TOTAL NO. of ITERATIONS REACHED LIMIT.\n",
            "\n",
            "Increase the number of iterations (max_iter) or scale the data as shown in:\n",
            "    https://scikit-learn.org/stable/modules/preprocessing.html\n",
            "Please also refer to the documentation for alternative solver options:\n",
            "    https://scikit-learn.org/stable/modules/linear_model.html#logistic-regression\n",
            "  n_iter_i = _check_optimize_result(\n"
          ]
        },
        {
          "output_type": "stream",
          "name": "stdout",
          "text": [
            "predicted_true=817\n",
            "f1=0.053100210458151206\n",
            "=====\n",
            "\n",
            "x=110000\n"
          ]
        },
        {
          "output_type": "stream",
          "name": "stderr",
          "text": [
            "/usr/local/lib/python3.8/dist-packages/sklearn/linear_model/_logistic.py:814: ConvergenceWarning: lbfgs failed to converge (status=1):\n",
            "STOP: TOTAL NO. of ITERATIONS REACHED LIMIT.\n",
            "\n",
            "Increase the number of iterations (max_iter) or scale the data as shown in:\n",
            "    https://scikit-learn.org/stable/modules/preprocessing.html\n",
            "Please also refer to the documentation for alternative solver options:\n",
            "    https://scikit-learn.org/stable/modules/linear_model.html#logistic-regression\n",
            "  n_iter_i = _check_optimize_result(\n"
          ]
        },
        {
          "output_type": "stream",
          "name": "stdout",
          "text": [
            "predicted_true=827\n",
            "f1=0.05435134260757037\n",
            "=====\n",
            "\n",
            "x=120000\n"
          ]
        },
        {
          "output_type": "stream",
          "name": "stderr",
          "text": [
            "/usr/local/lib/python3.8/dist-packages/sklearn/linear_model/_logistic.py:814: ConvergenceWarning: lbfgs failed to converge (status=1):\n",
            "STOP: TOTAL NO. of ITERATIONS REACHED LIMIT.\n",
            "\n",
            "Increase the number of iterations (max_iter) or scale the data as shown in:\n",
            "    https://scikit-learn.org/stable/modules/preprocessing.html\n",
            "Please also refer to the documentation for alternative solver options:\n",
            "    https://scikit-learn.org/stable/modules/linear_model.html#logistic-regression\n",
            "  n_iter_i = _check_optimize_result(\n"
          ]
        },
        {
          "output_type": "stream",
          "name": "stdout",
          "text": [
            "predicted_true=769\n",
            "f1=0.05103201690232407\n",
            "=====\n",
            "\n",
            "x=130000\n"
          ]
        },
        {
          "output_type": "stream",
          "name": "stderr",
          "text": [
            "/usr/local/lib/python3.8/dist-packages/sklearn/linear_model/_logistic.py:814: ConvergenceWarning: lbfgs failed to converge (status=1):\n",
            "STOP: TOTAL NO. of ITERATIONS REACHED LIMIT.\n",
            "\n",
            "Increase the number of iterations (max_iter) or scale the data as shown in:\n",
            "    https://scikit-learn.org/stable/modules/preprocessing.html\n",
            "Please also refer to the documentation for alternative solver options:\n",
            "    https://scikit-learn.org/stable/modules/linear_model.html#logistic-regression\n",
            "  n_iter_i = _check_optimize_result(\n"
          ]
        },
        {
          "output_type": "stream",
          "name": "stdout",
          "text": [
            "predicted_true=734\n",
            "f1=0.04938472822100889\n",
            "=====\n",
            "\n",
            "x=140000\n"
          ]
        },
        {
          "output_type": "stream",
          "name": "stderr",
          "text": [
            "/usr/local/lib/python3.8/dist-packages/sklearn/linear_model/_logistic.py:814: ConvergenceWarning: lbfgs failed to converge (status=1):\n",
            "STOP: TOTAL NO. of ITERATIONS REACHED LIMIT.\n",
            "\n",
            "Increase the number of iterations (max_iter) or scale the data as shown in:\n",
            "    https://scikit-learn.org/stable/modules/preprocessing.html\n",
            "Please also refer to the documentation for alternative solver options:\n",
            "    https://scikit-learn.org/stable/modules/linear_model.html#logistic-regression\n",
            "  n_iter_i = _check_optimize_result(\n"
          ]
        },
        {
          "output_type": "stream",
          "name": "stdout",
          "text": [
            "predicted_true=801\n",
            "f1=0.05008915545469282\n",
            "=====\n",
            "\n",
            "x=150000\n"
          ]
        },
        {
          "output_type": "stream",
          "name": "stderr",
          "text": [
            "/usr/local/lib/python3.8/dist-packages/sklearn/linear_model/_logistic.py:814: ConvergenceWarning: lbfgs failed to converge (status=1):\n",
            "STOP: TOTAL NO. of ITERATIONS REACHED LIMIT.\n",
            "\n",
            "Increase the number of iterations (max_iter) or scale the data as shown in:\n",
            "    https://scikit-learn.org/stable/modules/preprocessing.html\n",
            "Please also refer to the documentation for alternative solver options:\n",
            "    https://scikit-learn.org/stable/modules/linear_model.html#logistic-regression\n",
            "  n_iter_i = _check_optimize_result(\n"
          ]
        },
        {
          "output_type": "stream",
          "name": "stdout",
          "text": [
            "predicted_true=769\n",
            "f1=0.051682106289614824\n",
            "=====\n",
            "\n",
            "x=160000\n"
          ]
        },
        {
          "output_type": "stream",
          "name": "stderr",
          "text": [
            "/usr/local/lib/python3.8/dist-packages/sklearn/linear_model/_logistic.py:814: ConvergenceWarning: lbfgs failed to converge (status=1):\n",
            "STOP: TOTAL NO. of ITERATIONS REACHED LIMIT.\n",
            "\n",
            "Increase the number of iterations (max_iter) or scale the data as shown in:\n",
            "    https://scikit-learn.org/stable/modules/preprocessing.html\n",
            "Please also refer to the documentation for alternative solver options:\n",
            "    https://scikit-learn.org/stable/modules/linear_model.html#logistic-regression\n",
            "  n_iter_i = _check_optimize_result(\n"
          ]
        },
        {
          "output_type": "stream",
          "name": "stdout",
          "text": [
            "predicted_true=763\n",
            "f1=0.05138211382113821\n",
            "=====\n",
            "\n",
            "x=170000\n"
          ]
        },
        {
          "output_type": "stream",
          "name": "stderr",
          "text": [
            "/usr/local/lib/python3.8/dist-packages/sklearn/linear_model/_logistic.py:814: ConvergenceWarning: lbfgs failed to converge (status=1):\n",
            "STOP: TOTAL NO. of ITERATIONS REACHED LIMIT.\n",
            "\n",
            "Increase the number of iterations (max_iter) or scale the data as shown in:\n",
            "    https://scikit-learn.org/stable/modules/preprocessing.html\n",
            "Please also refer to the documentation for alternative solver options:\n",
            "    https://scikit-learn.org/stable/modules/linear_model.html#logistic-regression\n",
            "  n_iter_i = _check_optimize_result(\n"
          ]
        },
        {
          "output_type": "stream",
          "name": "stdout",
          "text": [
            "predicted_true=792\n",
            "f1=0.049314624057101145\n",
            "=====\n",
            "\n",
            "x=180000\n"
          ]
        },
        {
          "output_type": "stream",
          "name": "stderr",
          "text": [
            "/usr/local/lib/python3.8/dist-packages/sklearn/linear_model/_logistic.py:814: ConvergenceWarning: lbfgs failed to converge (status=1):\n",
            "STOP: TOTAL NO. of ITERATIONS REACHED LIMIT.\n",
            "\n",
            "Increase the number of iterations (max_iter) or scale the data as shown in:\n",
            "    https://scikit-learn.org/stable/modules/preprocessing.html\n",
            "Please also refer to the documentation for alternative solver options:\n",
            "    https://scikit-learn.org/stable/modules/linear_model.html#logistic-regression\n",
            "  n_iter_i = _check_optimize_result(\n"
          ]
        },
        {
          "output_type": "stream",
          "name": "stdout",
          "text": [
            "predicted_true=743\n",
            "f1=0.050814332247557\n",
            "=====\n",
            "\n",
            "x=190000\n"
          ]
        },
        {
          "output_type": "stream",
          "name": "stderr",
          "text": [
            "/usr/local/lib/python3.8/dist-packages/sklearn/linear_model/_logistic.py:814: ConvergenceWarning: lbfgs failed to converge (status=1):\n",
            "STOP: TOTAL NO. of ITERATIONS REACHED LIMIT.\n",
            "\n",
            "Increase the number of iterations (max_iter) or scale the data as shown in:\n",
            "    https://scikit-learn.org/stable/modules/preprocessing.html\n",
            "Please also refer to the documentation for alternative solver options:\n",
            "    https://scikit-learn.org/stable/modules/linear_model.html#logistic-regression\n",
            "  n_iter_i = _check_optimize_result(\n"
          ]
        },
        {
          "output_type": "stream",
          "name": "stdout",
          "text": [
            "predicted_true=718\n",
            "f1=0.04863321093431253\n",
            "=====\n",
            "\n",
            "x=200000\n"
          ]
        },
        {
          "output_type": "stream",
          "name": "stderr",
          "text": [
            "/usr/local/lib/python3.8/dist-packages/sklearn/linear_model/_logistic.py:814: ConvergenceWarning: lbfgs failed to converge (status=1):\n",
            "STOP: TOTAL NO. of ITERATIONS REACHED LIMIT.\n",
            "\n",
            "Increase the number of iterations (max_iter) or scale the data as shown in:\n",
            "    https://scikit-learn.org/stable/modules/preprocessing.html\n",
            "Please also refer to the documentation for alternative solver options:\n",
            "    https://scikit-learn.org/stable/modules/linear_model.html#logistic-regression\n",
            "  n_iter_i = _check_optimize_result(\n"
          ]
        },
        {
          "output_type": "stream",
          "name": "stdout",
          "text": [
            "predicted_true=733\n",
            "f1=0.048573757131214354\n",
            "=====\n",
            "\n",
            "x=210000\n"
          ]
        },
        {
          "output_type": "stream",
          "name": "stderr",
          "text": [
            "/usr/local/lib/python3.8/dist-packages/sklearn/linear_model/_logistic.py:814: ConvergenceWarning: lbfgs failed to converge (status=1):\n",
            "STOP: TOTAL NO. of ITERATIONS REACHED LIMIT.\n",
            "\n",
            "Increase the number of iterations (max_iter) or scale the data as shown in:\n",
            "    https://scikit-learn.org/stable/modules/preprocessing.html\n",
            "Please also refer to the documentation for alternative solver options:\n",
            "    https://scikit-learn.org/stable/modules/linear_model.html#logistic-regression\n",
            "  n_iter_i = _check_optimize_result(\n"
          ]
        },
        {
          "output_type": "stream",
          "name": "stdout",
          "text": [
            "predicted_true=605\n",
            "f1=0.043485422500411805\n",
            "=====\n",
            "\n",
            "x=220000\n"
          ]
        },
        {
          "output_type": "stream",
          "name": "stderr",
          "text": [
            "/usr/local/lib/python3.8/dist-packages/sklearn/linear_model/_logistic.py:814: ConvergenceWarning: lbfgs failed to converge (status=1):\n",
            "STOP: TOTAL NO. of ITERATIONS REACHED LIMIT.\n",
            "\n",
            "Increase the number of iterations (max_iter) or scale the data as shown in:\n",
            "    https://scikit-learn.org/stable/modules/preprocessing.html\n",
            "Please also refer to the documentation for alternative solver options:\n",
            "    https://scikit-learn.org/stable/modules/linear_model.html#logistic-regression\n",
            "  n_iter_i = _check_optimize_result(\n"
          ]
        },
        {
          "output_type": "stream",
          "name": "stdout",
          "text": [
            "predicted_true=576\n",
            "f1=0.04391975563444234\n",
            "=====\n",
            "\n",
            "x=230000\n"
          ]
        },
        {
          "output_type": "stream",
          "name": "stderr",
          "text": [
            "/usr/local/lib/python3.8/dist-packages/sklearn/linear_model/_logistic.py:814: ConvergenceWarning: lbfgs failed to converge (status=1):\n",
            "STOP: TOTAL NO. of ITERATIONS REACHED LIMIT.\n",
            "\n",
            "Increase the number of iterations (max_iter) or scale the data as shown in:\n",
            "    https://scikit-learn.org/stable/modules/preprocessing.html\n",
            "Please also refer to the documentation for alternative solver options:\n",
            "    https://scikit-learn.org/stable/modules/linear_model.html#logistic-regression\n",
            "  n_iter_i = _check_optimize_result(\n"
          ]
        },
        {
          "output_type": "stream",
          "name": "stdout",
          "text": [
            "predicted_true=638\n",
            "f1=0.04632443531827515\n",
            "=====\n",
            "\n",
            "x=240000\n"
          ]
        },
        {
          "output_type": "stream",
          "name": "stderr",
          "text": [
            "/usr/local/lib/python3.8/dist-packages/sklearn/linear_model/_logistic.py:814: ConvergenceWarning: lbfgs failed to converge (status=1):\n",
            "STOP: TOTAL NO. of ITERATIONS REACHED LIMIT.\n",
            "\n",
            "Increase the number of iterations (max_iter) or scale the data as shown in:\n",
            "    https://scikit-learn.org/stable/modules/preprocessing.html\n",
            "Please also refer to the documentation for alternative solver options:\n",
            "    https://scikit-learn.org/stable/modules/linear_model.html#logistic-regression\n",
            "  n_iter_i = _check_optimize_result(\n"
          ]
        },
        {
          "output_type": "stream",
          "name": "stdout",
          "text": [
            "predicted_true=545\n",
            "f1=0.04171494785631519\n",
            "=====\n",
            "\n",
            "x=300000\n"
          ]
        },
        {
          "output_type": "stream",
          "name": "stderr",
          "text": [
            "/usr/local/lib/python3.8/dist-packages/sklearn/linear_model/_logistic.py:814: ConvergenceWarning: lbfgs failed to converge (status=1):\n",
            "STOP: TOTAL NO. of ITERATIONS REACHED LIMIT.\n",
            "\n",
            "Increase the number of iterations (max_iter) or scale the data as shown in:\n",
            "    https://scikit-learn.org/stable/modules/preprocessing.html\n",
            "Please also refer to the documentation for alternative solver options:\n",
            "    https://scikit-learn.org/stable/modules/linear_model.html#logistic-regression\n",
            "  n_iter_i = _check_optimize_result(\n"
          ]
        },
        {
          "output_type": "stream",
          "name": "stdout",
          "text": [
            "predicted_true=308\n",
            "f1=0.029886027859856484\n",
            "=====\n",
            "\n",
            "x=400000\n"
          ]
        },
        {
          "output_type": "stream",
          "name": "stderr",
          "text": [
            "/usr/local/lib/python3.8/dist-packages/sklearn/linear_model/_logistic.py:814: ConvergenceWarning: lbfgs failed to converge (status=1):\n",
            "STOP: TOTAL NO. of ITERATIONS REACHED LIMIT.\n",
            "\n",
            "Increase the number of iterations (max_iter) or scale the data as shown in:\n",
            "    https://scikit-learn.org/stable/modules/preprocessing.html\n",
            "Please also refer to the documentation for alternative solver options:\n",
            "    https://scikit-learn.org/stable/modules/linear_model.html#logistic-regression\n",
            "  n_iter_i = _check_optimize_result(\n"
          ]
        },
        {
          "output_type": "stream",
          "name": "stdout",
          "text": [
            "predicted_true=261\n",
            "f1=0.02542803865061875\n",
            "=====\n",
            "\n",
            "x=500000\n"
          ]
        },
        {
          "output_type": "stream",
          "name": "stderr",
          "text": [
            "/usr/local/lib/python3.8/dist-packages/sklearn/linear_model/_logistic.py:814: ConvergenceWarning: lbfgs failed to converge (status=1):\n",
            "STOP: TOTAL NO. of ITERATIONS REACHED LIMIT.\n",
            "\n",
            "Increase the number of iterations (max_iter) or scale the data as shown in:\n",
            "    https://scikit-learn.org/stable/modules/preprocessing.html\n",
            "Please also refer to the documentation for alternative solver options:\n",
            "    https://scikit-learn.org/stable/modules/linear_model.html#logistic-regression\n",
            "  n_iter_i = _check_optimize_result(\n"
          ]
        },
        {
          "output_type": "stream",
          "name": "stdout",
          "text": [
            "predicted_true=246\n",
            "f1=0.024102520580497326\n",
            "=====\n",
            "\n",
            "x=700000\n"
          ]
        },
        {
          "output_type": "stream",
          "name": "stderr",
          "text": [
            "/usr/local/lib/python3.8/dist-packages/sklearn/linear_model/_logistic.py:814: ConvergenceWarning: lbfgs failed to converge (status=1):\n",
            "STOP: TOTAL NO. of ITERATIONS REACHED LIMIT.\n",
            "\n",
            "Increase the number of iterations (max_iter) or scale the data as shown in:\n",
            "    https://scikit-learn.org/stable/modules/preprocessing.html\n",
            "Please also refer to the documentation for alternative solver options:\n",
            "    https://scikit-learn.org/stable/modules/linear_model.html#logistic-regression\n",
            "  n_iter_i = _check_optimize_result(\n"
          ]
        },
        {
          "output_type": "stream",
          "name": "stdout",
          "text": [
            "predicted_true=246\n",
            "f1=0.023932784520071287\n",
            "=====\n",
            "\n",
            "x=1035928\n",
            "predicted_true=200\n",
            "f1=0.02061855670103093\n",
            "=====\n",
            "\n"
          ]
        },
        {
          "output_type": "stream",
          "name": "stderr",
          "text": [
            "/usr/local/lib/python3.8/dist-packages/sklearn/linear_model/_logistic.py:814: ConvergenceWarning: lbfgs failed to converge (status=1):\n",
            "STOP: TOTAL NO. of ITERATIONS REACHED LIMIT.\n",
            "\n",
            "Increase the number of iterations (max_iter) or scale the data as shown in:\n",
            "    https://scikit-learn.org/stable/modules/preprocessing.html\n",
            "Please also refer to the documentation for alternative solver options:\n",
            "    https://scikit-learn.org/stable/modules/linear_model.html#logistic-regression\n",
            "  n_iter_i = _check_optimize_result(\n"
          ]
        }
      ]
    },
    {
      "cell_type": "code",
      "source": [
        "sample_size,f1_scores,true_predicts"
      ],
      "metadata": {
        "colab": {
          "base_uri": "https://localhost:8080/"
        },
        "id": "dlZw8yNDy6en",
        "outputId": "a025288a-b60c-4619-c0aa-7160e4dd0536"
      },
      "id": "dlZw8yNDy6en",
      "execution_count": null,
      "outputs": [
        {
          "output_type": "execute_result",
          "data": {
            "text/plain": [
              "([50000,\n",
              "  60000,\n",
              "  70000,\n",
              "  80000,\n",
              "  90000,\n",
              "  100000,\n",
              "  110000,\n",
              "  120000,\n",
              "  130000,\n",
              "  140000,\n",
              "  150000,\n",
              "  160000,\n",
              "  170000,\n",
              "  180000,\n",
              "  190000,\n",
              "  200000,\n",
              "  210000,\n",
              "  220000,\n",
              "  230000,\n",
              "  240000,\n",
              "  300000,\n",
              "  400000,\n",
              "  500000,\n",
              "  700000,\n",
              "  1035928],\n",
              " [0.03820924893407675,\n",
              "  0.04558728098637249,\n",
              "  0.04730060349045832,\n",
              "  0.05108660395718457,\n",
              "  0.0513817975524759,\n",
              "  0.053100210458151206,\n",
              "  0.05435134260757037,\n",
              "  0.05103201690232407,\n",
              "  0.04938472822100889,\n",
              "  0.05008915545469282,\n",
              "  0.051682106289614824,\n",
              "  0.05138211382113821,\n",
              "  0.049314624057101145,\n",
              "  0.050814332247557,\n",
              "  0.04863321093431253,\n",
              "  0.048573757131214354,\n",
              "  0.043485422500411805,\n",
              "  0.04391975563444234,\n",
              "  0.04632443531827515,\n",
              "  0.04171494785631519,\n",
              "  0.029886027859856484,\n",
              "  0.02542803865061875,\n",
              "  0.024102520580497326,\n",
              "  0.023932784520071287,\n",
              "  0.02061855670103093],\n",
              " [659,\n",
              "  791,\n",
              "  725,\n",
              "  795,\n",
              "  802,\n",
              "  817,\n",
              "  827,\n",
              "  769,\n",
              "  734,\n",
              "  801,\n",
              "  769,\n",
              "  763,\n",
              "  792,\n",
              "  743,\n",
              "  718,\n",
              "  733,\n",
              "  605,\n",
              "  576,\n",
              "  638,\n",
              "  545,\n",
              "  308,\n",
              "  261,\n",
              "  246,\n",
              "  246,\n",
              "  200])"
            ]
          },
          "metadata": {},
          "execution_count": 335
        }
      ]
    },
    {
      "cell_type": "code",
      "source": [
        "plt.plot(sample_size,f1_scores)\n",
        "# set the basic properties\n",
        "plt.xlabel(\"nr of instances\")\n",
        "plt.ylabel(\"F1 score\")\n",
        "plt.title(\"F1 score on nr of training intances\")\n",
        "plt.xticks([100000,250000, 400000,600000,800000,1035928])\n",
        "plt.rcParams['figure.figsize'] = [3.8,3.8]\n",
        "#plt.xlim(0, 100e+4)\n",
        "\n",
        "# set the grid on\n",
        "plt.grid('on')\n"
      ],
      "metadata": {
        "colab": {
          "base_uri": "https://localhost:8080/",
          "height": 284
        },
        "id": "--5foGhh2YSL",
        "outputId": "204062cc-636d-42d8-9cee-97773abdb2b4"
      },
      "id": "--5foGhh2YSL",
      "execution_count": null,
      "outputs": [
        {
          "output_type": "display_data",
          "data": {
            "text/plain": [
              "<Figure size 273.6x273.6 with 1 Axes>"
            ],
            "image/png": "[encoded data removed]"
          },
          "metadata": {
            "needs_background": "light"
          }
        }
      ]
    },
    {
      "cell_type": "code",
      "source": [
        "plt.plot(sample_size,true_predicts)\n",
        "plt.xlabel(\"nr of instances\")\n",
        "plt.ylabel(\"arg predicted\")\n",
        "plt.title(\"Arg predicted on nr of training intances\")\n",
        "plt.xticks([100000,250000, 400000,600000,800000,1035928])\n",
        "plt.rcParams['figure.figsize'] = [3.8,3.8]\n",
        "#plt.xlim(0, 100e+4)\n",
        "\n",
        "# set the grid on\n",
        "plt.grid('on')\n",
        "\n"
      ],
      "metadata": {
        "colab": {
          "base_uri": "https://localhost:8080/",
          "height": 284
        },
        "id": "E15iCNd2y6iO",
        "outputId": "f7d2837d-46b1-476d-967a-e93692b5d37d"
      },
      "id": "E15iCNd2y6iO",
      "execution_count": null,
      "outputs": [
        {
          "output_type": "display_data",
          "data": {
            "text/plain": [
              "<Figure size 273.6x273.6 with 1 Axes>"
            ],
            "image/png": "[encoded data removed]"
          },
          "metadata": {
            "needs_background": "light"
          }
        }
      ]
    },
    {
      "cell_type": "markdown",
      "source": [
        "##Now lets down sample the negative class only"
      ],
      "metadata": {
        "id": "mfOXD0kBy8C3"
      },
      "id": "mfOXD0kBy8C3"
    },
    {
      "cell_type": "code",
      "source": [
        "down_sample_size =  [x for x in range(500000,900000,10000)] \n",
        "\n",
        "down_sample_size"
      ],
      "metadata": {
        "colab": {
          "base_uri": "https://localhost:8080/"
        },
        "id": "1p8Yi_myzFY_",
        "outputId": "ad5e23e1-c440-43d8-917b-b6a70d0e85f5"
      },
      "execution_count": null,
      "outputs": [
        {
          "output_type": "execute_result",
          "data": {
            "text/plain": [
              "[500000,\n",
              " 510000,\n",
              " 520000,\n",
              " 530000,\n",
              " 540000,\n",
              " 550000,\n",
              " 560000,\n",
              " 570000,\n",
              " 580000,\n",
              " 590000,\n",
              " 600000,\n",
              " 610000,\n",
              " 620000,\n",
              " 630000,\n",
              " 640000,\n",
              " 650000,\n",
              " 660000,\n",
              " 670000,\n",
              " 680000,\n",
              " 690000,\n",
              " 700000,\n",
              " 710000,\n",
              " 720000,\n",
              " 730000,\n",
              " 740000,\n",
              " 750000,\n",
              " 760000,\n",
              " 770000,\n",
              " 780000,\n",
              " 790000,\n",
              " 800000,\n",
              " 810000,\n",
              " 820000,\n",
              " 830000,\n",
              " 840000,\n",
              " 850000,\n",
              " 860000,\n",
              " 870000,\n",
              " 880000,\n",
              " 890000]"
            ]
          },
          "metadata": {},
          "execution_count": 400
        }
      ],
      "id": "1p8Yi_myzFY_"
    },
    {
      "cell_type": "code",
      "source": [
        "f1_scores=[]\n",
        "true_predicts=[]\n",
        "n_samples=[]\n",
        "for x in down_sample_size:\n",
        "  print(f\"{x=}\")\n",
        "  tokens_train=train[[\"token\",\"target\"]]\n",
        "  tokens_test=test[[\"token\",\"target\"]]\n",
        "  tokens_train=make_binary_label(tokens_train)\n",
        "  tokens_test=make_binary_label(tokens_test)\n",
        "\n",
        "  tokens_train = tokens_train.drop(tokens_train[tokens_train['label']==0].sample(n=x).index)\n",
        "  n_samples.append(tokens_train.shape[0])\n",
        "  print(tokens_train.shape[0])\n",
        "  X_train,X_test,y_train,y_test=prepare_token_data(tokens_train,tokens_test)\n",
        "  y_pred=logistic_reg(X_train,X_test,y_train,y_test)\n",
        "  \n",
        "  predicted_true=y_pred.sum()\n",
        "  true_predicts.append(predicted_true)\n",
        "  print(f\"{predicted_true=}\")\n",
        "\n",
        "  f1 = f1_score(y_test,y_pred, average='eighted')\n",
        "  f1_scores.append(f1)\n",
        "  print(f\"{f1=}\")\n",
        "  print(\"=====\\n\")"
      ],
      "metadata": {
        "id": "pShOZGOizFZA"
      },
      "execution_count": null,
      "outputs": [],
      "id": "pShOZGOizFZA"
    },
    {
      "cell_type": "code",
      "source": [],
      "metadata": {
        "id": "-BMKkw1kLxVA"
      },
      "id": "-BMKkw1kLxVA",
      "execution_count": null,
      "outputs": []
    },
    {
      "cell_type": "markdown",
      "source": [
        "## PREPARE RESULTS baseline1  to give to baseline2 "
      ],
      "metadata": {
        "id": "Tz1rZ4FcXBbf"
      },
      "id": "Tz1rZ4FcXBbf"
    },
    {
      "cell_type": "code",
      "source": [
        "tokens_train=train[[\"token\",\"target\"]]\n",
        "tokens_test=test[[\"token\",\"target\"]]\n",
        "\n",
        "tokens_train=make_binary_label(tokens_train)\n",
        "tokens_test=make_binary_label(tokens_test)\n"
      ],
      "metadata": {
        "id": "JJwfBMX4XMaH"
      },
      "id": "JJwfBMX4XMaH",
      "execution_count": null,
      "outputs": []
    },
    {
      "cell_type": "code",
      "source": [
        "#x=820000\n",
        "tokens_train = tokens_train.drop(tokens_train[tokens_train['label']==0].sample(n=820000).index)\n"
      ],
      "metadata": {
        "id": "osh_yhIlXulp"
      },
      "id": "osh_yhIlXulp",
      "execution_count": null,
      "outputs": []
    },
    {
      "cell_type": "code",
      "source": [
        "X_train,X_test,y_train,y_test=prepare_token_data(tokens_train,tokens_test)"
      ],
      "metadata": {
        "id": "CN2Rxp8DX-zi"
      },
      "id": "CN2Rxp8DX-zi",
      "execution_count": null,
      "outputs": []
    },
    {
      "cell_type": "code",
      "source": [
        "log_regression = LogisticRegression(penalty='l2')\n",
        "\n",
        "#fit the model using the training data\n",
        "log_regression.fit(X_train,y_train)\n",
        "\n",
        "#use model to make predictions on test data\n",
        "y_train_pred = log_regression.predict(X_train)"
      ],
      "metadata": {
        "colab": {
          "base_uri": "https://localhost:8080/"
        },
        "id": "fGl7LVDPY1ub",
        "outputId": "9b7d95bf-fc76-41b2-f1c6-e5a9e322b150"
      },
      "id": "fGl7LVDPY1ub",
      "execution_count": null,
      "outputs": [
        {
          "output_type": "stream",
          "name": "stderr",
          "text": [
            "/usr/local/lib/python3.8/dist-packages/sklearn/linear_model/_logistic.py:814: ConvergenceWarning: lbfgs failed to converge (status=1):\n",
            "STOP: TOTAL NO. of ITERATIONS REACHED LIMIT.\n",
            "\n",
            "Increase the number of iterations (max_iter) or scale the data as shown in:\n",
            "    https://scikit-learn.org/stable/modules/preprocessing.html\n",
            "Please also refer to the documentation for alternative solver options:\n",
            "    https://scikit-learn.org/stable/modules/linear_model.html#logistic-regression\n",
            "  n_iter_i = _check_optimize_result(\n"
          ]
        }
      ]
    },
    {
      "cell_type": "code",
      "source": [
        "clean_train=pd.concat([tokens_train['token'].reset_index(drop=True),tokens_train['target'].reset_index(drop=True),pd.DataFrame(data=y_train_pred,columns=['predictions'])],axis=1)"
      ],
      "metadata": {
        "id": "3G6EbzBFZPmK"
      },
      "id": "3G6EbzBFZPmK",
      "execution_count": null,
      "outputs": []
    },
    {
      "cell_type": "code",
      "source": [
        "y_pred = log_regression.predict(X_test)"
      ],
      "metadata": {
        "id": "gKj5kVMD7gKv"
      },
      "id": "gKj5kVMD7gKv",
      "execution_count": null,
      "outputs": []
    },
    {
      "cell_type": "code",
      "source": [
        "confusion_mtrx(y_test,y_pred)"
      ],
      "metadata": {
        "colab": {
          "base_uri": "https://localhost:8080/",
          "height": 301
        },
        "id": "ghQYbQgzM6A2",
        "outputId": "7fcbf96f-021a-4f5d-89d4-72f444a56b41"
      },
      "id": "ghQYbQgzM6A2",
      "execution_count": null,
      "outputs": [
        {
          "output_type": "execute_result",
          "data": {
            "text/plain": [
              "0"
            ]
          },
          "metadata": {},
          "execution_count": 416
        },
        {
          "output_type": "display_data",
          "data": {
            "text/plain": [
              "<Figure size 273.6x273.6 with 2 Axes>"
            ],
            "image/png": "[encoded data removed]"
          },
          "metadata": {
            "needs_background": "light"
          }
        }
      ]
    },
    {
      "cell_type": "code",
      "source": [
        "f1_score(y_test,y_pred)"
      ],
      "metadata": {
        "colab": {
          "base_uri": "https://localhost:8080/"
        },
        "id": "bYSlva9DNEzs",
        "outputId": "b1c0f3d7-ef6c-4143-856a-8badb8c1f2d6"
      },
      "id": "bYSlva9DNEzs",
      "execution_count": null,
      "outputs": [
        {
          "output_type": "execute_result",
          "data": {
            "text/plain": [
              "0.3139935275080906"
            ]
          },
          "metadata": {},
          "execution_count": 417
        }
      ]
    },
    {
      "cell_type": "code",
      "source": [],
      "metadata": {
        "id": "IlbZGO4tRcii"
      },
      "id": "IlbZGO4tRcii",
      "execution_count": null,
      "outputs": []
    },
    {
      "cell_type": "markdown",
      "source": [
        "##----------------------------------"
      ],
      "metadata": {
        "id": "dw-3Uc-wRdbE"
      },
      "id": "dw-3Uc-wRdbE"
    },
    {
      "cell_type": "markdown",
      "source": [
        "##ONLY SOME CATHEGORICAL and numreical FEATURES"
      ],
      "metadata": {
        "id": "dwtocEY5W47H"
      },
      "id": "dwtocEY5W47H"
    },
    {
      "cell_type": "markdown",
      "source": [
        "WHAT I am doing is trying fist the downsample study on these featurees and then try to add the tokens\n"
      ],
      "metadata": {
        "id": "q3RV8-g4eQFT"
      },
      "id": "q3RV8-g4eQFT"
    },
    {
      "cell_type": "code",
      "source": [],
      "metadata": {
        "id": "MQTC_2m0eOuj"
      },
      "id": "MQTC_2m0eOuj",
      "execution_count": null,
      "outputs": []
    },
    {
      "cell_type": "markdown",
      "source": [
        "It is fair to assume that the more feature there are the less the model is biased by the unbalanced distribution of classes! Thus heavy downsamples for baseline and less and less for more features.. but it would be appropriate to check for every combination of features."
      ],
      "metadata": {
        "id": "p8Qafc7Zr_wD"
      },
      "id": "p8Qafc7Zr_wD"
    },
    {
      "cell_type": "code",
      "source": [
        "def create_label_encoding(train_df,test_df,cols_to_encode):\n",
        "  \"\"\"This function creates a label encoding (just assign number to every value) for all columns in the list cols_to_encode \"\"\"\n",
        "  # create a LabelEncoder objec\n",
        "  le = LabelEncoder()\n",
        "  #train_df = oe.fit_transform(df_train[cols_to_encode])\n",
        "  #test_df = oe.transform(df_test[cols_to_encode])\n",
        "  #print(oe.categories_)\n",
        "  # iterate over the columns to encode\n",
        "  for col in cols_to_encode:\n",
        "    #print(col)\n",
        "    train_df[col] = le.fit_transform(train_df[col])\n",
        "    test_df[col] = le.transform(test_df[col])\n",
        "\n",
        "  return train_df,test_df\n",
        "\n",
        "\n",
        "def columns_cleaning(df): #political choices inside\n",
        "  df=df[df[\"distance_head\"]!=\"_\"]#like this\n",
        "  df[\"distance_head\"]=df[\"distance_head\"].astype(int) #WARNING IS FROM HERE\n",
        "  \n",
        "  df[\"sent_id\"]=df[\"sent_id\"].astype(int) #WARNING IS FROM HERE\n",
        "\n",
        "  df= df.drop('token_id', axis=1) #or this\n",
        "  \"\"\"df=df[['sent_id', 'repetion_id','POS', 'uni_POS', \n",
        "        'distance_head', 'dep_label','dep_rel','space','morph_type', 'probbank', 'label']]\"\"\"\n",
        "\n",
        "  return df"
      ],
      "metadata": {
        "id": "icUC8efT2o6N"
      },
      "id": "icUC8efT2o6N",
      "execution_count": 250,
      "outputs": []
    },
    {
      "cell_type": "code",
      "source": [
        "cols=['sent_id', 'token_id', 'POS', 'uni_POS', #CHANGE THIS BASED ON EXPERIMENT\n",
        "       'distance_head', 'dep_label', 'target',\n",
        "       'repetion_id']\n",
        "ttrain=train[cols]\n",
        "ttest=test[cols]\n",
        "\n",
        "ttrain=make_binary_label(ttrain)\n",
        "ttest=make_binary_label(ttest)\n",
        "train_targets=ttrain.pop('target') #WE KEEPP THE TARGETS FOR THE NEXT MODEL, BUT WE DROP THEM FOR THE TEST\n",
        "ttest= ttest.drop('target', axis=1)\n",
        "\n",
        "#ttrain=downsample(ttrain,N)\n",
        "ttrain=columns_cleaning(ttrain)\n",
        "ttest=columns_cleaning(ttest)\n",
        "\n",
        "cols=[ 'POS', 'uni_POS','dep_label']\n",
        "ttrain,ttest = create_label_encoding(ttrain,ttest,cols)"
      ],
      "metadata": {
        "id": "R-7fIPCqXCr4",
        "colab": {
          "base_uri": "https://localhost:8080/"
        },
        "outputId": "77b05b6c-bc1f-48a5-d1c5-e94bfa013f58"
      },
      "id": "R-7fIPCqXCr4",
      "execution_count": 333,
      "outputs": [
        {
          "output_type": "stream",
          "name": "stderr",
          "text": [
            "<ipython-input-250-309f27169f89>:19: SettingWithCopyWarning: \n",
            "A value is trying to be set on a copy of a slice from a DataFrame.\n",
            "Try using .loc[row_indexer,col_indexer] = value instead\n",
            "\n",
            "See the caveats in the documentation: https://pandas.pydata.org/pandas-docs/stable/user_guide/indexing.html#returning-a-view-versus-a-copy\n",
            "  df[\"distance_head\"]=df[\"distance_head\"].astype(int) #WARNING IS FROM HERE\n",
            "<ipython-input-250-309f27169f89>:21: SettingWithCopyWarning: \n",
            "A value is trying to be set on a copy of a slice from a DataFrame.\n",
            "Try using .loc[row_indexer,col_indexer] = value instead\n",
            "\n",
            "See the caveats in the documentation: https://pandas.pydata.org/pandas-docs/stable/user_guide/indexing.html#returning-a-view-versus-a-copy\n",
            "  df[\"sent_id\"]=df[\"sent_id\"].astype(int) #WARNING IS FROM HERE\n"
          ]
        }
      ]
    },
    {
      "cell_type": "code",
      "source": [
        "ttest.label.sum()"
      ],
      "metadata": {
        "colab": {
          "base_uri": "https://localhost:8080/"
        },
        "id": "E_WtKs0KeaBr",
        "outputId": "36d91e9f-ac86-4156-9adb-80c0c4d81500"
      },
      "id": "E_WtKs0KeaBr",
      "execution_count": 335,
      "outputs": [
        {
          "output_type": "execute_result",
          "data": {
            "text/plain": [
              "11536"
            ]
          },
          "metadata": {},
          "execution_count": 335
        }
      ]
    },
    {
      "cell_type": "code",
      "source": [
        "n_samples,f1_scores,true_predicts=downsampling_study(ttrain,ttest)"
      ],
      "metadata": {
        "id": "ljO7yKWqmlG6"
      },
      "id": "ljO7yKWqmlG6",
      "execution_count": null,
      "outputs": []
    },
    {
      "cell_type": "markdown",
      "source": [
        "with weighted average the score is less indicative becuse we are taking into consideration also the Non args which raises the score.\n",
        "Before, with f1 set on the arg class (default), you would have seen a decrease of score with many instance"
      ],
      "metadata": {
        "id": "tOwq98zOKtRF"
      },
      "id": "tOwq98zOKtRF"
    },
    {
      "cell_type": "code",
      "source": [
        "plot_downsampling_study(n_samples,f1_scores,\"F1\") #THIS IS F1 with weighted average!! "
      ],
      "metadata": {
        "colab": {
          "base_uri": "https://localhost:8080/",
          "height": 284
        },
        "id": "jLAh4H1nfzwZ",
        "outputId": "7da2de02-37a9-49c7-96e9-f119ffe7349e"
      },
      "id": "jLAh4H1nfzwZ",
      "execution_count": 331,
      "outputs": [
        {
          "output_type": "display_data",
          "data": {
            "text/plain": [
              "<Figure size 273.6x273.6 with 1 Axes>"
            ],
            "image/png": "[encoded data removed]"
          },
          "metadata": {
            "needs_background": "light"
          }
        }
      ]
    },
    {
      "cell_type": "code",
      "source": [
        "plot_downsampling_study(n_samples,true_predicts,\"Args \")"
      ],
      "metadata": {
        "colab": {
          "base_uri": "https://localhost:8080/",
          "height": 284
        },
        "id": "_x-WlUJrlkQJ",
        "outputId": "97e301d3-0071-4135-c44f-d03468f29882"
      },
      "id": "_x-WlUJrlkQJ",
      "execution_count": 332,
      "outputs": [
        {
          "output_type": "display_data",
          "data": {
            "text/plain": [
              "<Figure size 273.6x273.6 with 1 Axes>"
            ],
            "image/png": "[encoded data removed]"
          },
          "metadata": {
            "needs_background": "light"
          }
        }
      ]
    },
    {
      "cell_type": "code",
      "source": [
        "confusion_mtrx(y_pred,y_test)"
      ],
      "metadata": {
        "id": "F94ZS3CMgwO6",
        "colab": {
          "base_uri": "https://localhost:8080/",
          "height": 312
        },
        "outputId": "9a8b8961-1526-46fa-b270-eda0bad03c50"
      },
      "id": "F94ZS3CMgwO6",
      "execution_count": 191,
      "outputs": [
        {
          "output_type": "execute_result",
          "data": {
            "text/plain": [
              "0"
            ]
          },
          "metadata": {},
          "execution_count": 191
        },
        {
          "output_type": "display_data",
          "data": {
            "text/plain": [
              "<Figure size 432x288 with 2 Axes>"
            ],
            "image/png": "[encoded data removed]"
          },
          "metadata": {
            "needs_background": "light"
          }
        }
      ]
    },
    {
      "cell_type": "markdown",
      "source": [
        "##TRYING TO MERGE TOKENS AND SOME CATHEGORICAL AND **NUMERICL**"
      ],
      "metadata": {
        "id": "kHKWgXo7j3cW"
      },
      "id": "kHKWgXo7j3cW"
    },
    {
      "cell_type": "code",
      "source": [
        "\n",
        "def columns_cleaning(df): #political choices inside\n",
        "  df=df[df[\"distance_head\"]!=\"_\"]#like this\n",
        "  df[\"distance_head\"]=df[\"distance_head\"].astype(int) #WARNING IS FROM HERE\n",
        "  \n",
        "  df[\"sent_id\"]=df[\"sent_id\"].astype(int) #WARNING IS FROM HERE\n",
        "\n",
        "  df= df.drop('token_id', axis=1) #or this\n",
        "  \"\"\"df=df[['sent_id', 'repetion_id','POS', 'uni_POS', \n",
        "        'distance_head', 'dep_label','dep_rel','space','morph_type', 'probbank', 'label']]\"\"\"\n",
        "\n",
        "  return df"
      ],
      "metadata": {
        "id": "wOYTaaS__KfJ"
      },
      "id": "wOYTaaS__KfJ",
      "execution_count": 18,
      "outputs": []
    },
    {
      "cell_type": "code",
      "source": [
        "cols=['token','sent_id', 'token_id', 'POS', 'uni_POS', #CHANGE THIS BASED ON EXPERIMENT\n",
        "       'distance_head', 'dep_label', 'target',\n",
        "       'repetion_id']\n",
        "ttrain=train[cols].copy()\n",
        "ttest=test[cols].copy()\n",
        "\n",
        "ttrain=make_binary_label(ttrain)\n",
        "ttest=make_binary_label(ttest)\n",
        "train_targets=ttrain.pop('target') #WE KEEPP THE TARGETS FOR THE NEXT MODEL, BUT WE DROP THEM FOR THE TEST\n",
        "ttest= ttest.drop('target', axis=1)\n",
        "\n",
        "train=downsample(ttrain,N)\n",
        "ttrain=columns_cleaning(ttrain)\n",
        "ttest=columns_cleaning(ttest)\n",
        "\n",
        "cols=[ 'POS', 'uni_POS','dep_label']\n",
        "ttrain,ttest = create_label_encoding(ttrain,ttest,cols)"
      ],
      "metadata": {
        "colab": {
          "base_uri": "https://localhost:8080/"
        },
        "id": "a-itY4iLj8nA",
        "outputId": "0a58156d-9573-410d-bb7e-95710cd49460"
      },
      "id": "a-itY4iLj8nA",
      "execution_count": 19,
      "outputs": [
        {
          "output_type": "stream",
          "name": "stderr",
          "text": [
            "<ipython-input-18-11a34d94d6c5>:3: SettingWithCopyWarning: \n",
            "A value is trying to be set on a copy of a slice from a DataFrame.\n",
            "Try using .loc[row_indexer,col_indexer] = value instead\n",
            "\n",
            "See the caveats in the documentation: https://pandas.pydata.org/pandas-docs/stable/user_guide/indexing.html#returning-a-view-versus-a-copy\n",
            "  df[\"distance_head\"]=df[\"distance_head\"].astype(int) #WARNING IS FROM HERE\n",
            "<ipython-input-18-11a34d94d6c5>:5: SettingWithCopyWarning: \n",
            "A value is trying to be set on a copy of a slice from a DataFrame.\n",
            "Try using .loc[row_indexer,col_indexer] = value instead\n",
            "\n",
            "See the caveats in the documentation: https://pandas.pydata.org/pandas-docs/stable/user_guide/indexing.html#returning-a-view-versus-a-copy\n",
            "  df[\"sent_id\"]=df[\"sent_id\"].astype(int) #WARNING IS FROM HERE\n"
          ]
        }
      ]
    },
    {
      "cell_type": "code",
      "source": [
        "totrain,totest = vectorize_tfidf_token(ttrain,ttest)"
      ],
      "metadata": {
        "id": "YjiVpk3Ij8pe"
      },
      "id": "YjiVpk3Ij8pe",
      "execution_count": 20,
      "outputs": []
    },
    {
      "cell_type": "code",
      "source": [
        "totrain.shape"
      ],
      "metadata": {
        "colab": {
          "base_uri": "https://localhost:8080/"
        },
        "id": "ud1eLqgOJVVG",
        "outputId": "9ecfa1fc-5acc-457b-c292-a3f4496a7385"
      },
      "id": "ud1eLqgOJVVG",
      "execution_count": 21,
      "outputs": [
        {
          "output_type": "execute_result",
          "data": {
            "text/plain": [
              "(1035904, 15936)"
            ]
          },
          "metadata": {},
          "execution_count": 21
        }
      ]
    },
    {
      "cell_type": "code",
      "source": [
        "totrain=totrain.toarray()\n",
        "totest=totest.toarray()\n"
      ],
      "metadata": {
        "id": "FovPWG4s_9bJ"
      },
      "id": "FovPWG4s_9bJ",
      "execution_count": 22,
      "outputs": []
    },
    {
      "cell_type": "code",
      "source": [
        "col1=np.array(ttrain['POS'].values).reshape(-1,1)\n",
        "col1.shape"
      ],
      "metadata": {
        "colab": {
          "base_uri": "https://localhost:8080/"
        },
        "id": "N3yAanYzGfQZ",
        "outputId": "91c5cf01-9269-40a3-ddc8-fbd464d75b08"
      },
      "id": "N3yAanYzGfQZ",
      "execution_count": 23,
      "outputs": [
        {
          "output_type": "execute_result",
          "data": {
            "text/plain": [
              "(1035904, 1)"
            ]
          },
          "metadata": {},
          "execution_count": 23
        }
      ]
    },
    {
      "cell_type": "code",
      "source": [
        "totrain.shape"
      ],
      "metadata": {
        "colab": {
          "base_uri": "https://localhost:8080/"
        },
        "id": "lJizEcBAGt-J",
        "outputId": "5d2a76ca-5bba-49ef-ebc3-d078e881efa1"
      },
      "id": "lJizEcBAGt-J",
      "execution_count": 24,
      "outputs": [
        {
          "output_type": "execute_result",
          "data": {
            "text/plain": [
              "(1035904, 15936)"
            ]
          },
          "metadata": {},
          "execution_count": 24
        }
      ]
    },
    {
      "cell_type": "code",
      "source": [
        "totrain=np.concatenate((totrain,col1),axis=1)"
      ],
      "metadata": {
        "id": "ThMDej1yGykq"
      },
      "id": "ThMDej1yGykq",
      "execution_count": null,
      "outputs": []
    },
    {
      "cell_type": "code",
      "source": [],
      "metadata": {
        "id": "WhYts39BGym_"
      },
      "id": "WhYts39BGym_",
      "execution_count": null,
      "outputs": []
    },
    {
      "cell_type": "code",
      "source": [],
      "metadata": {
        "id": "BUi8hniSGypp"
      },
      "id": "BUi8hniSGypp",
      "execution_count": null,
      "outputs": []
    },
    {
      "cell_type": "code",
      "source": [
        "tokdf=pd.DataFrame(toktraindense)"
      ],
      "metadata": {
        "id": "beTgseDHAOvS"
      },
      "id": "beTgseDHAOvS",
      "execution_count": 15,
      "outputs": []
    },
    {
      "cell_type": "code",
      "source": [
        "#complete=pd.concat([tokdf,ttrain['POS']])"
      ],
      "metadata": {
        "id": "eGUHUWNLAn0_"
      },
      "id": "eGUHUWNLAn0_",
      "execution_count": 16,
      "outputs": []
    },
    {
      "cell_type": "code",
      "source": [
        "tokdf['POS']=ttrain['POS']\n",
        "tokdf['uni_POS']=ttrain['uni_POS']\n",
        "tokdf['dep_label']=ttrain['dep_label']"
      ],
      "metadata": {
        "id": "9mvVi7kxj8vF"
      },
      "id": "9mvVi7kxj8vF",
      "execution_count": 17,
      "outputs": []
    },
    {
      "cell_type": "code",
      "source": [
        "toktestdense=totest.toarray()\n",
        "tokdf_test=pd.DataFrame(toktestdense)"
      ],
      "metadata": {
        "id": "rgiQAL9eB6cT"
      },
      "id": "rgiQAL9eB6cT",
      "execution_count": 20,
      "outputs": []
    },
    {
      "cell_type": "code",
      "source": [
        "tokdf_test['POS']=ttest['POS']\n",
        "tokdf_test['uni_POS']=ttest['uni_POS']\n",
        "tokdf_test['dep_label']=ttest['dep_label']"
      ],
      "metadata": {
        "id": "QLwQLcqpCHet"
      },
      "id": "QLwQLcqpCHet",
      "execution_count": 22,
      "outputs": []
    },
    {
      "cell_type": "code",
      "source": [
        "X_train=tokdf\n",
        "y_train=ttrain['label']\n",
        "X_test=tokdf_test\n",
        "y_test=ttest['label']"
      ],
      "metadata": {
        "id": "S5ba5jAHDXp2"
      },
      "id": "S5ba5jAHDXp2",
      "execution_count": 28,
      "outputs": []
    },
    {
      "cell_type": "code",
      "source": [
        "y_pred=logistic_reg(X_train,X_test,y_train,y_test)"
      ],
      "metadata": {
        "colab": {
          "base_uri": "https://localhost:8080/"
        },
        "id": "Db_KjnhkD7HR",
        "outputId": "448d19a2-c546-4f8c-efa9-8f3937e6830b"
      },
      "id": "Db_KjnhkD7HR",
      "execution_count": null,
      "outputs": [
        {
          "output_type": "stream",
          "name": "stderr",
          "text": [
            "/usr/local/lib/python3.8/dist-packages/sklearn/utils/validation.py:1688: FutureWarning: Feature names only support names that are all strings. Got feature names with dtypes: ['int', 'str']. An error will be raised in 1.2.\n",
            "  warnings.warn(\n"
          ]
        }
      ]
    },
    {
      "cell_type": "code",
      "source": [
        "f1 = f1_score(y_test,y_pred)\n"
      ],
      "metadata": {
        "id": "nofH583TETGr"
      },
      "id": "nofH583TETGr",
      "execution_count": null,
      "outputs": []
    },
    {
      "cell_type": "markdown",
      "source": [
        "##COLUMNT TRANSFORMER ATTEMPT (ignore)"
      ],
      "metadata": {
        "id": "xIjLhGYzgw35"
      },
      "id": "xIjLhGYzgw35"
    },
    {
      "cell_type": "code",
      "source": [
        "cols=['token','POS','target']\n",
        "\n",
        "\n",
        "ctest=test[cols]\n",
        "ctrain=train[cols]\n",
        "\n",
        "ctrain=make_binary_label(ctrain)\n",
        "ctest=make_binary_label(ctest)\n",
        "\n",
        "ctrain=downsample(ctrain,N)\n",
        "\n",
        "\n"
      ],
      "metadata": {
        "id": "HkFZRud7Xyhy"
      },
      "id": "HkFZRud7Xyhy",
      "execution_count": 22,
      "outputs": []
    },
    {
      "cell_type": "code",
      "source": [
        "ctrain"
      ],
      "metadata": {
        "colab": {
          "base_uri": "https://localhost:8080/",
          "height": 424
        },
        "id": "VMSDSieT70-o",
        "outputId": "b2b4d75c-eb0b-4ee6-c344-6ff89eab78d2"
      },
      "id": "VMSDSieT70-o",
      "execution_count": 23,
      "outputs": [
        {
          "output_type": "execute_result",
          "data": {
            "text/plain": [
              "             token    POS    target  label\n",
              "5           forces   NOUN      ARG0      1\n",
              "7           Shaikh  PROPN      ARG1      1\n",
              "17          mosque   NOUN  ARGM-LOC      1\n",
              "23               ,  PUNCT         _      0\n",
              "26          Syrian    ADJ         _      0\n",
              "...            ...    ...       ...    ...\n",
              "7077903      since  SCONJ         _      0\n",
              "7077905       have    AUX         _      0\n",
              "7077906  graduated   VERB         _      0\n",
              "7077908          i   PRON      ARG0      1\n",
              "7077910      drama   NOUN      ARG1      1\n",
              "\n",
              "[215928 rows x 4 columns]"
            ],
            "text/html": [
              "\n",
              "  <div id=\"df-b0aedd92-e405-4a1d-99a1-7dac7fdd71bc\">\n",
              "    <div class=\"colab-df-container\">\n",
              "      <div>\n",
              "<style scoped>\n",
              "    .dataframe tbody tr th:only-of-type {\n",
              "        vertical-align: middle;\n",
              "    }\n",
              "\n",
              "    .dataframe tbody tr th {\n",
              "        vertical-align: top;\n",
              "    }\n",
              "\n",
              "    .dataframe thead th {\n",
              "        text-align: right;\n",
              "    }\n",
              "</style>\n",
              "<table border=\"1\" class=\"dataframe\">\n",
              "  <thead>\n",
              "    <tr style=\"text-align: right;\">\n",
              "      <th></th>\n",
              "      <th>token</th>\n",
              "      <th>POS</th>\n",
              "      <th>target</th>\n",
              "      <th>label</th>\n",
              "    </tr>\n",
              "  </thead>\n",
              "  <tbody>\n",
              "    <tr>\n",
              "      <th>5</th>\n",
              "      <td>forces</td>\n",
              "      <td>NOUN</td>\n",
              "      <td>ARG0</td>\n",
              "      <td>1</td>\n",
              "    </tr>\n",
              "    <tr>\n",
              "      <th>7</th>\n",
              "      <td>Shaikh</td>\n",
              "      <td>PROPN</td>\n",
              "      <td>ARG1</td>\n",
              "      <td>1</td>\n",
              "    </tr>\n",
              "    <tr>\n",
              "      <th>17</th>\n",
              "      <td>mosque</td>\n",
              "      <td>NOUN</td>\n",
              "      <td>ARGM-LOC</td>\n",
              "      <td>1</td>\n",
              "    </tr>\n",
              "    <tr>\n",
              "      <th>23</th>\n",
              "      <td>,</td>\n",
              "      <td>PUNCT</td>\n",
              "      <td>_</td>\n",
              "      <td>0</td>\n",
              "    </tr>\n",
              "    <tr>\n",
              "      <th>26</th>\n",
              "      <td>Syrian</td>\n",
              "      <td>ADJ</td>\n",
              "      <td>_</td>\n",
              "      <td>0</td>\n",
              "    </tr>\n",
              "    <tr>\n",
              "      <th>...</th>\n",
              "      <td>...</td>\n",
              "      <td>...</td>\n",
              "      <td>...</td>\n",
              "      <td>...</td>\n",
              "    </tr>\n",
              "    <tr>\n",
              "      <th>7077903</th>\n",
              "      <td>since</td>\n",
              "      <td>SCONJ</td>\n",
              "      <td>_</td>\n",
              "      <td>0</td>\n",
              "    </tr>\n",
              "    <tr>\n",
              "      <th>7077905</th>\n",
              "      <td>have</td>\n",
              "      <td>AUX</td>\n",
              "      <td>_</td>\n",
              "      <td>0</td>\n",
              "    </tr>\n",
              "    <tr>\n",
              "      <th>7077906</th>\n",
              "      <td>graduated</td>\n",
              "      <td>VERB</td>\n",
              "      <td>_</td>\n",
              "      <td>0</td>\n",
              "    </tr>\n",
              "    <tr>\n",
              "      <th>7077908</th>\n",
              "      <td>i</td>\n",
              "      <td>PRON</td>\n",
              "      <td>ARG0</td>\n",
              "      <td>1</td>\n",
              "    </tr>\n",
              "    <tr>\n",
              "      <th>7077910</th>\n",
              "      <td>drama</td>\n",
              "      <td>NOUN</td>\n",
              "      <td>ARG1</td>\n",
              "      <td>1</td>\n",
              "    </tr>\n",
              "  </tbody>\n",
              "</table>\n",
              "<p>215928 rows × 4 columns</p>\n",
              "</div>\n",
              "      <button class=\"colab-df-convert\" onclick=\"convertToInteractive('df-b0aedd92-e405-4a1d-99a1-7dac7fdd71bc')\"\n",
              "              title=\"Convert this dataframe to an interactive table.\"\n",
              "              style=\"display:none;\">\n",
              "        \n",
              "  <svg xmlns=\"http://www.w3.org/2000/svg\" height=\"24px\"viewBox=\"0 0 24 24\"\n",
              "       width=\"24px\">\n",
              "    <path d=\"M0 0h24v24H0V0z\" fill=\"none\"/>\n",
              "    <path d=\"M18.56 5.44l.94 2.06.94-2.06 2.06-.94-2.06-.94-.94-2.06-.94 2.06-2.06.94zm-11 1L8.5 8.5l.94-2.06 2.06-.94-2.06-.94L8.5 2.5l-.94 2.06-2.06.94zm10 10l.94 2.06.94-2.06 2.06-.94-2.06-.94-.94-2.06-.94 2.06-2.06.94z\"/><path d=\"M17.41 7.96l-1.37-1.37c-.4-.4-.92-.59-1.43-.59-.52 0-1.04.2-1.43.59L10.3 9.45l-7.72 7.72c-.78.78-.78 2.05 0 2.83L4 21.41c.39.39.9.59 1.41.59.51 0 1.02-.2 1.41-.59l7.78-7.78 2.81-2.81c.8-.78.8-2.07 0-2.86zM5.41 20L4 18.59l7.72-7.72 1.47 1.35L5.41 20z\"/>\n",
              "  </svg>\n",
              "      </button>\n",
              "      \n",
              "  <style>\n",
              "    .colab-df-container {\n",
              "      display:flex;\n",
              "      flex-wrap:wrap;\n",
              "      gap: 12px;\n",
              "    }\n",
              "\n",
              "    .colab-df-convert {\n",
              "      background-color: #E8F0FE;\n",
              "      border: none;\n",
              "      border-radius: 50%;\n",
              "      cursor: pointer;\n",
              "      display: none;\n",
              "      fill: #1967D2;\n",
              "      height: 32px;\n",
              "      padding: 0 0 0 0;\n",
              "      width: 32px;\n",
              "    }\n",
              "\n",
              "    .colab-df-convert:hover {\n",
              "      background-color: #E2EBFA;\n",
              "      box-shadow: 0px 1px 2px rgba(60, 64, 67, 0.3), 0px 1px 3px 1px rgba(60, 64, 67, 0.15);\n",
              "      fill: #174EA6;\n",
              "    }\n",
              "\n",
              "    [theme=dark] .colab-df-convert {\n",
              "      background-color: #3B4455;\n",
              "      fill: #D2E3FC;\n",
              "    }\n",
              "\n",
              "    [theme=dark] .colab-df-convert:hover {\n",
              "      background-color: #434B5C;\n",
              "      box-shadow: 0px 1px 3px 1px rgba(0, 0, 0, 0.15);\n",
              "      filter: drop-shadow(0px 1px 2px rgba(0, 0, 0, 0.3));\n",
              "      fill: #FFFFFF;\n",
              "    }\n",
              "  </style>\n",
              "\n",
              "      <script>\n",
              "        const buttonEl =\n",
              "          document.querySelector('#df-b0aedd92-e405-4a1d-99a1-7dac7fdd71bc button.colab-df-convert');\n",
              "        buttonEl.style.display =\n",
              "          google.colab.kernel.accessAllowed ? 'block' : 'none';\n",
              "\n",
              "        async function convertToInteractive(key) {\n",
              "          const element = document.querySelector('#df-b0aedd92-e405-4a1d-99a1-7dac7fdd71bc');\n",
              "          const dataTable =\n",
              "            await google.colab.kernel.invokeFunction('convertToInteractive',\n",
              "                                                     [key], {});\n",
              "          if (!dataTable) return;\n",
              "\n",
              "          const docLinkHtml = 'Like what you see? Visit the ' +\n",
              "            '<a target=\"_blank\" href=https://colab.research.google.com/notebooks/data_table.ipynb>data table notebook</a>'\n",
              "            + ' to learn more about interactive tables.';\n",
              "          element.innerHTML = '';\n",
              "          dataTable['output_type'] = 'display_data';\n",
              "          await google.colab.output.renderOutput(dataTable, element);\n",
              "          const docLink = document.createElement('div');\n",
              "          docLink.innerHTML = docLinkHtml;\n",
              "          element.appendChild(docLink);\n",
              "        }\n",
              "      </script>\n",
              "    </div>\n",
              "  </div>\n",
              "  "
            ]
          },
          "metadata": {},
          "execution_count": 23
        }
      ]
    },
    {
      "cell_type": "code",
      "source": [
        "ctest=ctest.values"
      ],
      "metadata": {
        "id": "IBIJ52G-78XR"
      },
      "id": "IBIJ52G-78XR",
      "execution_count": 24,
      "outputs": []
    },
    {
      "cell_type": "code",
      "source": [
        "ctrain=ctrain.values"
      ],
      "metadata": {
        "id": "u4cucoUk8B08"
      },
      "id": "u4cucoUk8B08",
      "execution_count": 27,
      "outputs": []
    },
    {
      "cell_type": "code",
      "source": [
        "ct = ColumnTransformer([(\"token_vec\", CountVectorizer(), 0)], remainder=\"passthrough\",sparse_threshold=0)\n",
        "\n",
        "totest=ct.fit_transform(ctest)"
      ],
      "metadata": {
        "id": "xmwIBsGC6too"
      },
      "id": "xmwIBsGC6too",
      "execution_count": 25,
      "outputs": []
    },
    {
      "cell_type": "code",
      "source": [
        "totrain=ct.fit_transform(ctrain)"
      ],
      "metadata": {
        "id": "AWBEw8O_6oQ5"
      },
      "id": "AWBEw8O_6oQ5",
      "execution_count": null,
      "outputs": []
    },
    {
      "cell_type": "code",
      "source": [
        "t=totrain.toarray()"
      ],
      "metadata": {
        "id": "y47FKmzh22dE"
      },
      "id": "y47FKmzh22dE",
      "execution_count": 350,
      "outputs": []
    },
    {
      "cell_type": "markdown",
      "source": [],
      "metadata": {
        "id": "vl89JswO8wXR"
      },
      "id": "vl89JswO8wXR"
    },
    {
      "cell_type": "code",
      "source": [
        "t.shape"
      ],
      "metadata": {
        "colab": {
          "base_uri": "https://localhost:8080/"
        },
        "id": "auMj6ZcA28Ca",
        "outputId": "4abf2d32-020c-47aa-fc63-b500d978d11e"
      },
      "id": "auMj6ZcA28Ca",
      "execution_count": 351,
      "outputs": [
        {
          "output_type": "execute_result",
          "data": {
            "text/plain": [
              "(1035928, 15936)"
            ]
          },
          "metadata": {},
          "execution_count": 351
        }
      ]
    },
    {
      "cell_type": "code",
      "source": [
        "# wrap in ColumnTransformer\n",
        "ct = ColumnTransformer([(\"token_vec\", CountVectorizer(), [\"token\"])], remainder=\"passthrough\",sparse_threshold=0)\n",
        "\n",
        "# second pipeline\n",
        "pipeline = Pipeline(steps=[('ct', ct)])\n",
        "\n",
        "X_test = pipeline.fit_transform(ctest)"
      ],
      "metadata": {
        "colab": {
          "base_uri": "https://localhost:8080/",
          "height": 276
        },
        "id": "dVt3y2Lszy0_",
        "outputId": "744c3922-abe5-4feb-c368-9529897fe5bf"
      },
      "id": "dVt3y2Lszy0_",
      "execution_count": 348,
      "outputs": [
        {
          "output_type": "error",
          "ename": "ValueError",
          "evalue": "ignored",
          "traceback": [
            "\u001b[0;31m---------------------------------------------------------------------------\u001b[0m",
            "\u001b[0;31mValueError\u001b[0m                                Traceback (most recent call last)",
            "\u001b[0;32m<ipython-input-348-c30cd6aff9ca>\u001b[0m in \u001b[0;36m<module>\u001b[0;34m\u001b[0m\n\u001b[1;32m      5\u001b[0m \u001b[0mpipeline\u001b[0m \u001b[0;34m=\u001b[0m \u001b[0mPipeline\u001b[0m\u001b[0;34m(\u001b[0m\u001b[0msteps\u001b[0m\u001b[0;34m=\u001b[0m\u001b[0;34m[\u001b[0m\u001b[0;34m(\u001b[0m\u001b[0;34m'ct'\u001b[0m\u001b[0;34m,\u001b[0m \u001b[0mct\u001b[0m\u001b[0;34m)\u001b[0m\u001b[0;34m]\u001b[0m\u001b[0;34m)\u001b[0m\u001b[0;34m\u001b[0m\u001b[0;34m\u001b[0m\u001b[0m\n\u001b[1;32m      6\u001b[0m \u001b[0;34m\u001b[0m\u001b[0m\n\u001b[0;32m----> 7\u001b[0;31m \u001b[0mX_test\u001b[0m \u001b[0;34m=\u001b[0m \u001b[0mpipeline\u001b[0m\u001b[0;34m.\u001b[0m\u001b[0mfit_transform\u001b[0m\u001b[0;34m(\u001b[0m\u001b[0mctest\u001b[0m\u001b[0;34m)\u001b[0m\u001b[0;34m\u001b[0m\u001b[0;34m\u001b[0m\u001b[0m\n\u001b[0m",
            "\u001b[0;32m/usr/local/lib/python3.8/dist-packages/sklearn/pipeline.py\u001b[0m in \u001b[0;36mfit_transform\u001b[0;34m(self, X, y, **fit_params)\u001b[0m\n\u001b[1;32m    432\u001b[0m             \u001b[0mfit_params_last_step\u001b[0m \u001b[0;34m=\u001b[0m \u001b[0mfit_params_steps\u001b[0m\u001b[0;34m[\u001b[0m\u001b[0mself\u001b[0m\u001b[0;34m.\u001b[0m\u001b[0msteps\u001b[0m\u001b[0;34m[\u001b[0m\u001b[0;34m-\u001b[0m\u001b[0;36m1\u001b[0m\u001b[0;34m]\u001b[0m\u001b[0;34m[\u001b[0m\u001b[0;36m0\u001b[0m\u001b[0;34m]\u001b[0m\u001b[0;34m]\u001b[0m\u001b[0;34m\u001b[0m\u001b[0;34m\u001b[0m\u001b[0m\n\u001b[1;32m    433\u001b[0m             \u001b[0;32mif\u001b[0m \u001b[0mhasattr\u001b[0m\u001b[0;34m(\u001b[0m\u001b[0mlast_step\u001b[0m\u001b[0;34m,\u001b[0m \u001b[0;34m\"fit_transform\"\u001b[0m\u001b[0;34m)\u001b[0m\u001b[0;34m:\u001b[0m\u001b[0;34m\u001b[0m\u001b[0;34m\u001b[0m\u001b[0m\n\u001b[0;32m--> 434\u001b[0;31m                 \u001b[0;32mreturn\u001b[0m \u001b[0mlast_step\u001b[0m\u001b[0;34m.\u001b[0m\u001b[0mfit_transform\u001b[0m\u001b[0;34m(\u001b[0m\u001b[0mXt\u001b[0m\u001b[0;34m,\u001b[0m \u001b[0my\u001b[0m\u001b[0;34m,\u001b[0m \u001b[0;34m**\u001b[0m\u001b[0mfit_params_last_step\u001b[0m\u001b[0;34m)\u001b[0m\u001b[0;34m\u001b[0m\u001b[0;34m\u001b[0m\u001b[0m\n\u001b[0m\u001b[1;32m    435\u001b[0m             \u001b[0;32melse\u001b[0m\u001b[0;34m:\u001b[0m\u001b[0;34m\u001b[0m\u001b[0;34m\u001b[0m\u001b[0m\n\u001b[1;32m    436\u001b[0m                 \u001b[0;32mreturn\u001b[0m \u001b[0mlast_step\u001b[0m\u001b[0;34m.\u001b[0m\u001b[0mfit\u001b[0m\u001b[0;34m(\u001b[0m\u001b[0mXt\u001b[0m\u001b[0;34m,\u001b[0m \u001b[0my\u001b[0m\u001b[0;34m,\u001b[0m \u001b[0;34m**\u001b[0m\u001b[0mfit_params_last_step\u001b[0m\u001b[0;34m)\u001b[0m\u001b[0;34m.\u001b[0m\u001b[0mtransform\u001b[0m\u001b[0;34m(\u001b[0m\u001b[0mXt\u001b[0m\u001b[0;34m)\u001b[0m\u001b[0;34m\u001b[0m\u001b[0;34m\u001b[0m\u001b[0m\n",
            "\u001b[0;32m/usr/local/lib/python3.8/dist-packages/sklearn/compose/_column_transformer.py\u001b[0m in \u001b[0;36mfit_transform\u001b[0;34m(self, X, y)\u001b[0m\n\u001b[1;32m    697\u001b[0m         \u001b[0mself\u001b[0m\u001b[0;34m.\u001b[0m\u001b[0m_record_output_indices\u001b[0m\u001b[0;34m(\u001b[0m\u001b[0mXs\u001b[0m\u001b[0;34m)\u001b[0m\u001b[0;34m\u001b[0m\u001b[0;34m\u001b[0m\u001b[0m\n\u001b[1;32m    698\u001b[0m \u001b[0;34m\u001b[0m\u001b[0m\n\u001b[0;32m--> 699\u001b[0;31m         \u001b[0;32mreturn\u001b[0m \u001b[0mself\u001b[0m\u001b[0;34m.\u001b[0m\u001b[0m_hstack\u001b[0m\u001b[0;34m(\u001b[0m\u001b[0mlist\u001b[0m\u001b[0;34m(\u001b[0m\u001b[0mXs\u001b[0m\u001b[0;34m)\u001b[0m\u001b[0;34m)\u001b[0m\u001b[0;34m\u001b[0m\u001b[0;34m\u001b[0m\u001b[0m\n\u001b[0m\u001b[1;32m    700\u001b[0m \u001b[0;34m\u001b[0m\u001b[0m\n\u001b[1;32m    701\u001b[0m     \u001b[0;32mdef\u001b[0m \u001b[0mtransform\u001b[0m\u001b[0;34m(\u001b[0m\u001b[0mself\u001b[0m\u001b[0;34m,\u001b[0m \u001b[0mX\u001b[0m\u001b[0;34m)\u001b[0m\u001b[0;34m:\u001b[0m\u001b[0;34m\u001b[0m\u001b[0;34m\u001b[0m\u001b[0m\n",
            "\u001b[0;32m/usr/local/lib/python3.8/dist-packages/sklearn/compose/_column_transformer.py\u001b[0m in \u001b[0;36m_hstack\u001b[0;34m(self, Xs)\u001b[0m\n\u001b[1;32m    789\u001b[0m         \u001b[0;32melse\u001b[0m\u001b[0;34m:\u001b[0m\u001b[0;34m\u001b[0m\u001b[0;34m\u001b[0m\u001b[0m\n\u001b[1;32m    790\u001b[0m             \u001b[0mXs\u001b[0m \u001b[0;34m=\u001b[0m \u001b[0;34m[\u001b[0m\u001b[0mf\u001b[0m\u001b[0;34m.\u001b[0m\u001b[0mtoarray\u001b[0m\u001b[0;34m(\u001b[0m\u001b[0;34m)\u001b[0m \u001b[0;32mif\u001b[0m \u001b[0msparse\u001b[0m\u001b[0;34m.\u001b[0m\u001b[0missparse\u001b[0m\u001b[0;34m(\u001b[0m\u001b[0mf\u001b[0m\u001b[0;34m)\u001b[0m \u001b[0;32melse\u001b[0m \u001b[0mf\u001b[0m \u001b[0;32mfor\u001b[0m \u001b[0mf\u001b[0m \u001b[0;32min\u001b[0m \u001b[0mXs\u001b[0m\u001b[0;34m]\u001b[0m\u001b[0;34m\u001b[0m\u001b[0;34m\u001b[0m\u001b[0m\n\u001b[0;32m--> 791\u001b[0;31m             \u001b[0;32mreturn\u001b[0m \u001b[0mnp\u001b[0m\u001b[0;34m.\u001b[0m\u001b[0mhstack\u001b[0m\u001b[0;34m(\u001b[0m\u001b[0mXs\u001b[0m\u001b[0;34m)\u001b[0m\u001b[0;34m\u001b[0m\u001b[0;34m\u001b[0m\u001b[0m\n\u001b[0m\u001b[1;32m    792\u001b[0m \u001b[0;34m\u001b[0m\u001b[0m\n\u001b[1;32m    793\u001b[0m     \u001b[0;32mdef\u001b[0m \u001b[0m_sk_visual_block_\u001b[0m\u001b[0;34m(\u001b[0m\u001b[0mself\u001b[0m\u001b[0;34m)\u001b[0m\u001b[0;34m:\u001b[0m\u001b[0;34m\u001b[0m\u001b[0;34m\u001b[0m\u001b[0m\n",
            "\u001b[0;32m/usr/local/lib/python3.8/dist-packages/numpy/core/overrides.py\u001b[0m in \u001b[0;36mhstack\u001b[0;34m(*args, **kwargs)\u001b[0m\n",
            "\u001b[0;32m/usr/local/lib/python3.8/dist-packages/numpy/core/shape_base.py\u001b[0m in \u001b[0;36mhstack\u001b[0;34m(tup)\u001b[0m\n\u001b[1;32m    343\u001b[0m         \u001b[0;32mreturn\u001b[0m \u001b[0m_nx\u001b[0m\u001b[0;34m.\u001b[0m\u001b[0mconcatenate\u001b[0m\u001b[0;34m(\u001b[0m\u001b[0marrs\u001b[0m\u001b[0;34m,\u001b[0m \u001b[0;36m0\u001b[0m\u001b[0;34m)\u001b[0m\u001b[0;34m\u001b[0m\u001b[0;34m\u001b[0m\u001b[0m\n\u001b[1;32m    344\u001b[0m     \u001b[0;32melse\u001b[0m\u001b[0;34m:\u001b[0m\u001b[0;34m\u001b[0m\u001b[0;34m\u001b[0m\u001b[0m\n\u001b[0;32m--> 345\u001b[0;31m         \u001b[0;32mreturn\u001b[0m \u001b[0m_nx\u001b[0m\u001b[0;34m.\u001b[0m\u001b[0mconcatenate\u001b[0m\u001b[0;34m(\u001b[0m\u001b[0marrs\u001b[0m\u001b[0;34m,\u001b[0m \u001b[0;36m1\u001b[0m\u001b[0;34m)\u001b[0m\u001b[0;34m\u001b[0m\u001b[0;34m\u001b[0m\u001b[0m\n\u001b[0m\u001b[1;32m    346\u001b[0m \u001b[0;34m\u001b[0m\u001b[0m\n\u001b[1;32m    347\u001b[0m \u001b[0;34m\u001b[0m\u001b[0m\n",
            "\u001b[0;32m/usr/local/lib/python3.8/dist-packages/numpy/core/overrides.py\u001b[0m in \u001b[0;36mconcatenate\u001b[0;34m(*args, **kwargs)\u001b[0m\n",
            "\u001b[0;31mValueError\u001b[0m: all the input array dimensions for the concatenation axis must match exactly, but along dimension 0, the array at index 0 has size 1 and the array at index 1 has size 103246"
          ]
        }
      ]
    },
    {
      "cell_type": "code",
      "source": [],
      "metadata": {
        "id": "H5TQBUDX27dq"
      },
      "id": "H5TQBUDX27dq",
      "execution_count": null,
      "outputs": []
    },
    {
      "cell_type": "code",
      "source": [
        "ctest = ct.fit_transform(test)"
      ],
      "metadata": {
        "id": "f83epUUxZ9iU",
        "colab": {
          "base_uri": "https://localhost:8080/",
          "height": 241
        },
        "outputId": "5e07402a-4cef-4be4-c243-af25f22c225c"
      },
      "id": "f83epUUxZ9iU",
      "execution_count": 337,
      "outputs": [
        {
          "output_type": "error",
          "ename": "ValueError",
          "evalue": "ignored",
          "traceback": [
            "\u001b[0;31m---------------------------------------------------------------------------\u001b[0m",
            "\u001b[0;31mValueError\u001b[0m                                Traceback (most recent call last)",
            "\u001b[0;32m<ipython-input-337-7eb3c1b175f2>\u001b[0m in \u001b[0;36m<module>\u001b[0;34m\u001b[0m\n\u001b[0;32m----> 1\u001b[0;31m \u001b[0mctest\u001b[0m \u001b[0;34m=\u001b[0m \u001b[0mct\u001b[0m\u001b[0;34m.\u001b[0m\u001b[0mfit_transform\u001b[0m\u001b[0;34m(\u001b[0m\u001b[0mtest\u001b[0m\u001b[0;34m)\u001b[0m\u001b[0;34m\u001b[0m\u001b[0;34m\u001b[0m\u001b[0m\n\u001b[0m",
            "\u001b[0;32m/usr/local/lib/python3.8/dist-packages/sklearn/compose/_column_transformer.py\u001b[0m in \u001b[0;36mfit_transform\u001b[0;34m(self, X, y)\u001b[0m\n\u001b[1;32m    697\u001b[0m         \u001b[0mself\u001b[0m\u001b[0;34m.\u001b[0m\u001b[0m_record_output_indices\u001b[0m\u001b[0;34m(\u001b[0m\u001b[0mXs\u001b[0m\u001b[0;34m)\u001b[0m\u001b[0;34m\u001b[0m\u001b[0;34m\u001b[0m\u001b[0m\n\u001b[1;32m    698\u001b[0m \u001b[0;34m\u001b[0m\u001b[0m\n\u001b[0;32m--> 699\u001b[0;31m         \u001b[0;32mreturn\u001b[0m \u001b[0mself\u001b[0m\u001b[0;34m.\u001b[0m\u001b[0m_hstack\u001b[0m\u001b[0;34m(\u001b[0m\u001b[0mlist\u001b[0m\u001b[0;34m(\u001b[0m\u001b[0mXs\u001b[0m\u001b[0;34m)\u001b[0m\u001b[0;34m)\u001b[0m\u001b[0;34m\u001b[0m\u001b[0;34m\u001b[0m\u001b[0m\n\u001b[0m\u001b[1;32m    700\u001b[0m \u001b[0;34m\u001b[0m\u001b[0m\n\u001b[1;32m    701\u001b[0m     \u001b[0;32mdef\u001b[0m \u001b[0mtransform\u001b[0m\u001b[0;34m(\u001b[0m\u001b[0mself\u001b[0m\u001b[0;34m,\u001b[0m \u001b[0mX\u001b[0m\u001b[0;34m)\u001b[0m\u001b[0;34m:\u001b[0m\u001b[0;34m\u001b[0m\u001b[0;34m\u001b[0m\u001b[0m\n",
            "\u001b[0;32m/usr/local/lib/python3.8/dist-packages/sklearn/compose/_column_transformer.py\u001b[0m in \u001b[0;36m_hstack\u001b[0;34m(self, Xs)\u001b[0m\n\u001b[1;32m    789\u001b[0m         \u001b[0;32melse\u001b[0m\u001b[0;34m:\u001b[0m\u001b[0;34m\u001b[0m\u001b[0;34m\u001b[0m\u001b[0m\n\u001b[1;32m    790\u001b[0m             \u001b[0mXs\u001b[0m \u001b[0;34m=\u001b[0m \u001b[0;34m[\u001b[0m\u001b[0mf\u001b[0m\u001b[0;34m.\u001b[0m\u001b[0mtoarray\u001b[0m\u001b[0;34m(\u001b[0m\u001b[0;34m)\u001b[0m \u001b[0;32mif\u001b[0m \u001b[0msparse\u001b[0m\u001b[0;34m.\u001b[0m\u001b[0missparse\u001b[0m\u001b[0;34m(\u001b[0m\u001b[0mf\u001b[0m\u001b[0;34m)\u001b[0m \u001b[0;32melse\u001b[0m \u001b[0mf\u001b[0m \u001b[0;32mfor\u001b[0m \u001b[0mf\u001b[0m \u001b[0;32min\u001b[0m \u001b[0mXs\u001b[0m\u001b[0;34m]\u001b[0m\u001b[0;34m\u001b[0m\u001b[0;34m\u001b[0m\u001b[0m\n\u001b[0;32m--> 791\u001b[0;31m             \u001b[0;32mreturn\u001b[0m \u001b[0mnp\u001b[0m\u001b[0;34m.\u001b[0m\u001b[0mhstack\u001b[0m\u001b[0;34m(\u001b[0m\u001b[0mXs\u001b[0m\u001b[0;34m)\u001b[0m\u001b[0;34m\u001b[0m\u001b[0;34m\u001b[0m\u001b[0m\n\u001b[0m\u001b[1;32m    792\u001b[0m \u001b[0;34m\u001b[0m\u001b[0m\n\u001b[1;32m    793\u001b[0m     \u001b[0;32mdef\u001b[0m \u001b[0m_sk_visual_block_\u001b[0m\u001b[0;34m(\u001b[0m\u001b[0mself\u001b[0m\u001b[0;34m)\u001b[0m\u001b[0;34m:\u001b[0m\u001b[0;34m\u001b[0m\u001b[0;34m\u001b[0m\u001b[0m\n",
            "\u001b[0;32m/usr/local/lib/python3.8/dist-packages/numpy/core/overrides.py\u001b[0m in \u001b[0;36mhstack\u001b[0;34m(*args, **kwargs)\u001b[0m\n",
            "\u001b[0;32m/usr/local/lib/python3.8/dist-packages/numpy/core/shape_base.py\u001b[0m in \u001b[0;36mhstack\u001b[0;34m(tup)\u001b[0m\n\u001b[1;32m    343\u001b[0m         \u001b[0;32mreturn\u001b[0m \u001b[0m_nx\u001b[0m\u001b[0;34m.\u001b[0m\u001b[0mconcatenate\u001b[0m\u001b[0;34m(\u001b[0m\u001b[0marrs\u001b[0m\u001b[0;34m,\u001b[0m \u001b[0;36m0\u001b[0m\u001b[0;34m)\u001b[0m\u001b[0;34m\u001b[0m\u001b[0;34m\u001b[0m\u001b[0m\n\u001b[1;32m    344\u001b[0m     \u001b[0;32melse\u001b[0m\u001b[0;34m:\u001b[0m\u001b[0;34m\u001b[0m\u001b[0;34m\u001b[0m\u001b[0m\n\u001b[0;32m--> 345\u001b[0;31m         \u001b[0;32mreturn\u001b[0m \u001b[0m_nx\u001b[0m\u001b[0;34m.\u001b[0m\u001b[0mconcatenate\u001b[0m\u001b[0;34m(\u001b[0m\u001b[0marrs\u001b[0m\u001b[0;34m,\u001b[0m \u001b[0;36m1\u001b[0m\u001b[0;34m)\u001b[0m\u001b[0;34m\u001b[0m\u001b[0;34m\u001b[0m\u001b[0m\n\u001b[0m\u001b[1;32m    346\u001b[0m \u001b[0;34m\u001b[0m\u001b[0m\n\u001b[1;32m    347\u001b[0m \u001b[0;34m\u001b[0m\u001b[0m\n",
            "\u001b[0;32m/usr/local/lib/python3.8/dist-packages/numpy/core/overrides.py\u001b[0m in \u001b[0;36mconcatenate\u001b[0;34m(*args, **kwargs)\u001b[0m\n",
            "\u001b[0;31mValueError\u001b[0m: all the input array dimensions for the concatenation axis must match exactly, but along dimension 0, the array at index 0 has size 1 and the array at index 1 has size 103246"
          ]
        }
      ]
    },
    {
      "cell_type": "code",
      "source": [],
      "metadata": {
        "id": "R-RyVmaXzx9Q"
      },
      "id": "R-RyVmaXzx9Q",
      "execution_count": null,
      "outputs": []
    },
    {
      "cell_type": "code",
      "source": [
        "test"
      ],
      "metadata": {
        "colab": {
          "base_uri": "https://localhost:8080/",
          "height": 424
        },
        "id": "Z4l3BM69a09Q",
        "outputId": "299c6357-9159-4736-f20d-d2587cb7bedb"
      },
      "id": "Z4l3BM69a09Q",
      "execution_count": 329,
      "outputs": [
        {
          "output_type": "execute_result",
          "data": {
            "text/plain": [
              "           token sent_id token_id    POS uni_POS distance_head dep_label  \\\n",
              "0           What       0        1   PRON      WP             0      root   \n",
              "1             if       0        2  SCONJ      IN             4      mark   \n",
              "2         Google       0        3  PROPN     NNP             4     nsubj   \n",
              "3        Morphed       0        4   VERB     VBD             1     advcl   \n",
              "4           Into       0        5    ADP      IN             6      case   \n",
              "...          ...     ...      ...    ...     ...           ...       ...   \n",
              "445063  attended    1463       61   VERB     VBN            58     xcomp   \n",
              "445064        to    1463       62    ADP      IN            61       obl   \n",
              "445065     RIGHT    1463       63    ADV      RB            64    advmod   \n",
              "445066      AWAY    1463       64    ADV      RB            61    advmod   \n",
              "445067       !!!    1463       65  PUNCT       .            24     punct   \n",
              "\n",
              "          target repetion_id  \n",
              "0              _           0  \n",
              "1              _           0  \n",
              "2           ARG1           0  \n",
              "3              V           0  \n",
              "4              _           0  \n",
              "...          ...         ...  \n",
              "445063         V          17  \n",
              "445064    C-ARG1          17  \n",
              "445065         _          17  \n",
              "445066  ARGM-TMP          17  \n",
              "445067         _          17  \n",
              "\n",
              "[103246 rows x 9 columns]"
            ],
            "text/html": [
              "\n",
              "  <div id=\"df-7e847357-588c-4c49-bfef-25db48561819\">\n",
              "    <div class=\"colab-df-container\">\n",
              "      <div>\n",
              "<style scoped>\n",
              "    .dataframe tbody tr th:only-of-type {\n",
              "        vertical-align: middle;\n",
              "    }\n",
              "\n",
              "    .dataframe tbody tr th {\n",
              "        vertical-align: top;\n",
              "    }\n",
              "\n",
              "    .dataframe thead th {\n",
              "        text-align: right;\n",
              "    }\n",
              "</style>\n",
              "<table border=\"1\" class=\"dataframe\">\n",
              "  <thead>\n",
              "    <tr style=\"text-align: right;\">\n",
              "      <th></th>\n",
              "      <th>token</th>\n",
              "      <th>sent_id</th>\n",
              "      <th>token_id</th>\n",
              "      <th>POS</th>\n",
              "      <th>uni_POS</th>\n",
              "      <th>distance_head</th>\n",
              "      <th>dep_label</th>\n",
              "      <th>target</th>\n",
              "      <th>repetion_id</th>\n",
              "    </tr>\n",
              "  </thead>\n",
              "  <tbody>\n",
              "    <tr>\n",
              "      <th>0</th>\n",
              "      <td>What</td>\n",
              "      <td>0</td>\n",
              "      <td>1</td>\n",
              "      <td>PRON</td>\n",
              "      <td>WP</td>\n",
              "      <td>0</td>\n",
              "      <td>root</td>\n",
              "      <td>_</td>\n",
              "      <td>0</td>\n",
              "    </tr>\n",
              "    <tr>\n",
              "      <th>1</th>\n",
              "      <td>if</td>\n",
              "      <td>0</td>\n",
              "      <td>2</td>\n",
              "      <td>SCONJ</td>\n",
              "      <td>IN</td>\n",
              "      <td>4</td>\n",
              "      <td>mark</td>\n",
              "      <td>_</td>\n",
              "      <td>0</td>\n",
              "    </tr>\n",
              "    <tr>\n",
              "      <th>2</th>\n",
              "      <td>Google</td>\n",
              "      <td>0</td>\n",
              "      <td>3</td>\n",
              "      <td>PROPN</td>\n",
              "      <td>NNP</td>\n",
              "      <td>4</td>\n",
              "      <td>nsubj</td>\n",
              "      <td>ARG1</td>\n",
              "      <td>0</td>\n",
              "    </tr>\n",
              "    <tr>\n",
              "      <th>3</th>\n",
              "      <td>Morphed</td>\n",
              "      <td>0</td>\n",
              "      <td>4</td>\n",
              "      <td>VERB</td>\n",
              "      <td>VBD</td>\n",
              "      <td>1</td>\n",
              "      <td>advcl</td>\n",
              "      <td>V</td>\n",
              "      <td>0</td>\n",
              "    </tr>\n",
              "    <tr>\n",
              "      <th>4</th>\n",
              "      <td>Into</td>\n",
              "      <td>0</td>\n",
              "      <td>5</td>\n",
              "      <td>ADP</td>\n",
              "      <td>IN</td>\n",
              "      <td>6</td>\n",
              "      <td>case</td>\n",
              "      <td>_</td>\n",
              "      <td>0</td>\n",
              "    </tr>\n",
              "    <tr>\n",
              "      <th>...</th>\n",
              "      <td>...</td>\n",
              "      <td>...</td>\n",
              "      <td>...</td>\n",
              "      <td>...</td>\n",
              "      <td>...</td>\n",
              "      <td>...</td>\n",
              "      <td>...</td>\n",
              "      <td>...</td>\n",
              "      <td>...</td>\n",
              "    </tr>\n",
              "    <tr>\n",
              "      <th>445063</th>\n",
              "      <td>attended</td>\n",
              "      <td>1463</td>\n",
              "      <td>61</td>\n",
              "      <td>VERB</td>\n",
              "      <td>VBN</td>\n",
              "      <td>58</td>\n",
              "      <td>xcomp</td>\n",
              "      <td>V</td>\n",
              "      <td>17</td>\n",
              "    </tr>\n",
              "    <tr>\n",
              "      <th>445064</th>\n",
              "      <td>to</td>\n",
              "      <td>1463</td>\n",
              "      <td>62</td>\n",
              "      <td>ADP</td>\n",
              "      <td>IN</td>\n",
              "      <td>61</td>\n",
              "      <td>obl</td>\n",
              "      <td>C-ARG1</td>\n",
              "      <td>17</td>\n",
              "    </tr>\n",
              "    <tr>\n",
              "      <th>445065</th>\n",
              "      <td>RIGHT</td>\n",
              "      <td>1463</td>\n",
              "      <td>63</td>\n",
              "      <td>ADV</td>\n",
              "      <td>RB</td>\n",
              "      <td>64</td>\n",
              "      <td>advmod</td>\n",
              "      <td>_</td>\n",
              "      <td>17</td>\n",
              "    </tr>\n",
              "    <tr>\n",
              "      <th>445066</th>\n",
              "      <td>AWAY</td>\n",
              "      <td>1463</td>\n",
              "      <td>64</td>\n",
              "      <td>ADV</td>\n",
              "      <td>RB</td>\n",
              "      <td>61</td>\n",
              "      <td>advmod</td>\n",
              "      <td>ARGM-TMP</td>\n",
              "      <td>17</td>\n",
              "    </tr>\n",
              "    <tr>\n",
              "      <th>445067</th>\n",
              "      <td>!!!</td>\n",
              "      <td>1463</td>\n",
              "      <td>65</td>\n",
              "      <td>PUNCT</td>\n",
              "      <td>.</td>\n",
              "      <td>24</td>\n",
              "      <td>punct</td>\n",
              "      <td>_</td>\n",
              "      <td>17</td>\n",
              "    </tr>\n",
              "  </tbody>\n",
              "</table>\n",
              "<p>103246 rows × 9 columns</p>\n",
              "</div>\n",
              "      <button class=\"colab-df-convert\" onclick=\"convertToInteractive('df-7e847357-588c-4c49-bfef-25db48561819')\"\n",
              "              title=\"Convert this dataframe to an interactive table.\"\n",
              "              style=\"display:none;\">\n",
              "        \n",
              "  <svg xmlns=\"http://www.w3.org/2000/svg\" height=\"24px\"viewBox=\"0 0 24 24\"\n",
              "       width=\"24px\">\n",
              "    <path d=\"M0 0h24v24H0V0z\" fill=\"none\"/>\n",
              "    <path d=\"M18.56 5.44l.94 2.06.94-2.06 2.06-.94-2.06-.94-.94-2.06-.94 2.06-2.06.94zm-11 1L8.5 8.5l.94-2.06 2.06-.94-2.06-.94L8.5 2.5l-.94 2.06-2.06.94zm10 10l.94 2.06.94-2.06 2.06-.94-2.06-.94-.94-2.06-.94 2.06-2.06.94z\"/><path d=\"M17.41 7.96l-1.37-1.37c-.4-.4-.92-.59-1.43-.59-.52 0-1.04.2-1.43.59L10.3 9.45l-7.72 7.72c-.78.78-.78 2.05 0 2.83L4 21.41c.39.39.9.59 1.41.59.51 0 1.02-.2 1.41-.59l7.78-7.78 2.81-2.81c.8-.78.8-2.07 0-2.86zM5.41 20L4 18.59l7.72-7.72 1.47 1.35L5.41 20z\"/>\n",
              "  </svg>\n",
              "      </button>\n",
              "      \n",
              "  <style>\n",
              "    .colab-df-container {\n",
              "      display:flex;\n",
              "      flex-wrap:wrap;\n",
              "      gap: 12px;\n",
              "    }\n",
              "\n",
              "    .colab-df-convert {\n",
              "      background-color: #E8F0FE;\n",
              "      border: none;\n",
              "      border-radius: 50%;\n",
              "      cursor: pointer;\n",
              "      display: none;\n",
              "      fill: #1967D2;\n",
              "      height: 32px;\n",
              "      padding: 0 0 0 0;\n",
              "      width: 32px;\n",
              "    }\n",
              "\n",
              "    .colab-df-convert:hover {\n",
              "      background-color: #E2EBFA;\n",
              "      box-shadow: 0px 1px 2px rgba(60, 64, 67, 0.3), 0px 1px 3px 1px rgba(60, 64, 67, 0.15);\n",
              "      fill: #174EA6;\n",
              "    }\n",
              "\n",
              "    [theme=dark] .colab-df-convert {\n",
              "      background-color: #3B4455;\n",
              "      fill: #D2E3FC;\n",
              "    }\n",
              "\n",
              "    [theme=dark] .colab-df-convert:hover {\n",
              "      background-color: #434B5C;\n",
              "      box-shadow: 0px 1px 3px 1px rgba(0, 0, 0, 0.15);\n",
              "      filter: drop-shadow(0px 1px 2px rgba(0, 0, 0, 0.3));\n",
              "      fill: #FFFFFF;\n",
              "    }\n",
              "  </style>\n",
              "\n",
              "      <script>\n",
              "        const buttonEl =\n",
              "          document.querySelector('#df-7e847357-588c-4c49-bfef-25db48561819 button.colab-df-convert');\n",
              "        buttonEl.style.display =\n",
              "          google.colab.kernel.accessAllowed ? 'block' : 'none';\n",
              "\n",
              "        async function convertToInteractive(key) {\n",
              "          const element = document.querySelector('#df-7e847357-588c-4c49-bfef-25db48561819');\n",
              "          const dataTable =\n",
              "            await google.colab.kernel.invokeFunction('convertToInteractive',\n",
              "                                                     [key], {});\n",
              "          if (!dataTable) return;\n",
              "\n",
              "          const docLinkHtml = 'Like what you see? Visit the ' +\n",
              "            '<a target=\"_blank\" href=https://colab.research.google.com/notebooks/data_table.ipynb>data table notebook</a>'\n",
              "            + ' to learn more about interactive tables.';\n",
              "          element.innerHTML = '';\n",
              "          dataTable['output_type'] = 'display_data';\n",
              "          await google.colab.output.renderOutput(dataTable, element);\n",
              "          const docLink = document.createElement('div');\n",
              "          docLink.innerHTML = docLinkHtml;\n",
              "          element.appendChild(docLink);\n",
              "        }\n",
              "      </script>\n",
              "    </div>\n",
              "  </div>\n",
              "  "
            ]
          },
          "metadata": {},
          "execution_count": 329
        }
      ]
    },
    {
      "cell_type": "code",
      "source": [
        "dataset.shape"
      ],
      "metadata": {
        "colab": {
          "base_uri": "https://localhost:8080/"
        },
        "id": "fH6ylYHRbRXh",
        "outputId": "290f214a-4763-4713-94c9-1ac8451f861f"
      },
      "id": "fH6ylYHRbRXh",
      "execution_count": null,
      "outputs": [
        {
          "output_type": "execute_result",
          "data": {
            "text/plain": [
              "(103246, 4881)"
            ]
          },
          "metadata": {},
          "execution_count": 46
        }
      ]
    },
    {
      "cell_type": "markdown",
      "source": [
        "## DICT VECTORIZER\n"
      ],
      "metadata": {
        "id": "QwwK4Sda8xSD"
      },
      "id": "QwwK4Sda8xSD"
    },
    {
      "cell_type": "code",
      "source": [],
      "metadata": {
        "id": "Udnch6208ytS"
      },
      "id": "Udnch6208ytS",
      "execution_count": null,
      "outputs": []
    }
  ],
  "metadata": {
    "kernelspec": {
      "display_name": "Python 3 (ipykernel)",
      "language": "python",
      "name": "python3"
    },
    "language_info": {
      "codemirror_mode": {
        "name": "ipython",
        "version": 3
      },
      "file_extension": ".py",
      "mimetype": "text/x-python",
      "name": "python",
      "nbconvert_exporter": "python",
      "pygments_lexer": "ipython3",
      "version": "3.10.7"
    },
    "colab": {
      "provenance": [],
      "collapsed_sections": [
        "fdE6rrG-mgRD",
        "NVmsD7ZFlFss",
        "yD24Bc6DyGL0",
        "mfOXD0kBy8C3",
        "Tz1rZ4FcXBbf",
        "xIjLhGYzgw35"
      ],
      "include_colab_link": true
    }
  },
  "nbformat": 4,
  "nbformat_minor": 5
}